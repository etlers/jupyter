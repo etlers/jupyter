{
 "cells": [
  {
   "cell_type": "code",
   "execution_count": 1,
   "id": "d800969a-2579-46b2-bf20-b518a1f2c182",
   "metadata": {},
   "outputs": [],
   "source": [
    "import datetime"
   ]
  },
  {
   "cell_type": "code",
   "execution_count": 2,
   "id": "e869c85d-a234-4433-998f-f42b87b4a203",
   "metadata": {},
   "outputs": [
    {
     "data": {
      "text/plain": [
       "datetime.date(2020, 12, 14)"
      ]
     },
     "execution_count": 2,
     "metadata": {},
     "output_type": "execute_result"
    }
   ],
   "source": [
    "day1 = datetime.date(2020, 12, 14)\n",
    "day1"
   ]
  },
  {
   "cell_type": "code",
   "execution_count": 6,
   "id": "a3b6e690-5858-4308-a4a3-95b885f39c83",
   "metadata": {},
   "outputs": [
    {
     "data": {
      "text/plain": [
       "datetime.date(1995, 6, 5)"
      ]
     },
     "execution_count": 6,
     "metadata": {},
     "output_type": "execute_result"
    }
   ],
   "source": [
    "day2 = datetime.date(1995, 6, 5)\n",
    "day2"
   ]
  },
  {
   "cell_type": "code",
   "execution_count": 7,
   "id": "f31ba34f-6a5c-430b-ba2b-b7d2d48ebde8",
   "metadata": {},
   "outputs": [
    {
     "data": {
      "text/plain": [
       "datetime.timedelta(days=9324)"
      ]
     },
     "execution_count": 7,
     "metadata": {},
     "output_type": "execute_result"
    }
   ],
   "source": [
    "diff = day1 - day2\n",
    "diff"
   ]
  },
  {
   "cell_type": "code",
   "execution_count": 9,
   "id": "f0970204-04eb-4f86-9d87-f987abb3de5e",
   "metadata": {},
   "outputs": [],
   "source": [
    "day3 = datetime.datetime(2020, 12, 14, 14, 10, 50)"
   ]
  },
  {
   "cell_type": "code",
   "execution_count": 10,
   "id": "9de63ef8-89d8-455d-8d52-0d133568c4ab",
   "metadata": {},
   "outputs": [
    {
     "data": {
      "text/plain": [
       "14"
      ]
     },
     "execution_count": 10,
     "metadata": {},
     "output_type": "execute_result"
    }
   ],
   "source": [
    "day3.hour"
   ]
  },
  {
   "cell_type": "code",
   "execution_count": 11,
   "id": "009d5ce0-417e-4741-b18f-0d614293ce77",
   "metadata": {},
   "outputs": [
    {
     "data": {
      "text/plain": [
       "10"
      ]
     },
     "execution_count": 11,
     "metadata": {},
     "output_type": "execute_result"
    }
   ],
   "source": [
    "day3.minute"
   ]
  },
  {
   "cell_type": "code",
   "execution_count": 12,
   "id": "5b911d31-944d-446f-bd3e-8d8f5b60bca1",
   "metadata": {},
   "outputs": [
    {
     "data": {
      "text/plain": [
       "50"
      ]
     },
     "execution_count": 12,
     "metadata": {},
     "output_type": "execute_result"
    }
   ],
   "source": [
    "day3.second"
   ]
  },
  {
   "cell_type": "code",
   "execution_count": 13,
   "id": "70bda51a-0dec-4c4a-8e01-6e38f35ba585",
   "metadata": {},
   "outputs": [
    {
     "data": {
      "text/plain": [
       "datetime.datetime(2020, 12, 14, 10, 14, 50)"
      ]
     },
     "execution_count": 13,
     "metadata": {},
     "output_type": "execute_result"
    }
   ],
   "source": [
    "day = datetime.date(2020, 12, 14)\n",
    "time = datetime.time(10, 14, 50)\n",
    "dt = datetime.datetime.combine(day, time)\n",
    "dt"
   ]
  },
  {
   "cell_type": "code",
   "execution_count": 16,
   "id": "00a78da2-58f1-490a-977c-8253f05fcc63",
   "metadata": {},
   "outputs": [
    {
     "data": {
      "text/plain": [
       "0"
      ]
     },
     "execution_count": 16,
     "metadata": {},
     "output_type": "execute_result"
    }
   ],
   "source": [
    "# 0은 월요일을 의미한다. 차례대로 1은 화요일, 2는 수요일, 6은 일요일\n",
    "day.weekday()"
   ]
  },
  {
   "cell_type": "code",
   "execution_count": 17,
   "id": "2695f43f-ab70-4d25-99ee-3e0b9aa39762",
   "metadata": {},
   "outputs": [
    {
     "data": {
      "text/plain": [
       "1"
      ]
     },
     "execution_count": 17,
     "metadata": {},
     "output_type": "execute_result"
    }
   ],
   "source": [
    "# 월요일은 1, 화요일은 2, ..., 일요일은 7을 리턴\n",
    "day.isoweekday()"
   ]
  },
  {
   "cell_type": "code",
   "execution_count": 18,
   "id": "e4877071-442b-4f4e-ac83-774f5a409712",
   "metadata": {},
   "outputs": [
    {
     "data": {
      "text/plain": [
       "datetime.date(2022, 1, 8)"
      ]
     },
     "execution_count": 18,
     "metadata": {},
     "output_type": "execute_result"
    }
   ],
   "source": [
    "today = datetime.date.today()\n",
    "today"
   ]
  },
  {
   "cell_type": "code",
   "execution_count": 20,
   "id": "a77bf5ed-fa95-49d2-9639-d0c17af92fc1",
   "metadata": {},
   "outputs": [
    {
     "data": {
      "text/plain": [
       "datetime.timedelta(days=50)"
      ]
     },
     "execution_count": 20,
     "metadata": {},
     "output_type": "execute_result"
    }
   ],
   "source": [
    "diff_days = datetime.timedelta(days=50)\n",
    "diff_days"
   ]
  },
  {
   "cell_type": "code",
   "execution_count": 21,
   "id": "69ca11b8-2f17-405a-843a-357a7f24fa6e",
   "metadata": {},
   "outputs": [
    {
     "data": {
      "text/plain": [
       "datetime.date(2022, 2, 27)"
      ]
     },
     "execution_count": 21,
     "metadata": {},
     "output_type": "execute_result"
    }
   ],
   "source": [
    "today + diff_days"
   ]
  },
  {
   "cell_type": "code",
   "execution_count": 22,
   "id": "097bbece-41e0-4397-b7b1-8060240f097a",
   "metadata": {},
   "outputs": [
    {
     "data": {
      "text/plain": [
       "datetime.date(2021, 11, 19)"
      ]
     },
     "execution_count": 22,
     "metadata": {},
     "output_type": "execute_result"
    }
   ],
   "source": [
    "today - diff_days"
   ]
  },
  {
   "cell_type": "code",
   "execution_count": 23,
   "id": "87e626dd-f7a3-48a3-a0f1-44c13fcd112f",
   "metadata": {},
   "outputs": [],
   "source": [
    "# 윤년\n",
    "import calendar"
   ]
  },
  {
   "cell_type": "code",
   "execution_count": 24,
   "id": "0b036791-acf2-4c69-a305-35fa3d3d19a3",
   "metadata": {},
   "outputs": [
    {
     "data": {
      "text/plain": [
       "True"
      ]
     },
     "execution_count": 24,
     "metadata": {},
     "output_type": "execute_result"
    }
   ],
   "source": [
    "calendar.isleap(0)"
   ]
  },
  {
   "cell_type": "code",
   "execution_count": 25,
   "id": "69f18aa4-e49b-412e-b99e-56a2c1586d8d",
   "metadata": {},
   "outputs": [
    {
     "data": {
      "text/plain": [
       "False"
      ]
     },
     "execution_count": 25,
     "metadata": {},
     "output_type": "execute_result"
    }
   ],
   "source": [
    "calendar.isleap(1)"
   ]
  },
  {
   "cell_type": "markdown",
   "id": "d608e57d-bced-446d-aaa9-e4aeaccabcff",
   "metadata": {},
   "source": [
    "# deque - 데크"
   ]
  },
  {
   "cell_type": "code",
   "execution_count": 27,
   "id": "eaa253b8-ba4d-4a4a-a02f-12a1821f23b2",
   "metadata": {},
   "outputs": [],
   "source": [
    "from collections import deque"
   ]
  },
  {
   "cell_type": "code",
   "execution_count": 31,
   "id": "4a1a1834-38c5-4c02-aa84-309c0e06afe6",
   "metadata": {},
   "outputs": [
    {
     "data": {
      "text/plain": [
       "[4, 5, 1, 2, 3]"
      ]
     },
     "execution_count": 31,
     "metadata": {},
     "output_type": "execute_result"
    }
   ],
   "source": [
    "a = [1, 2, 3, 4, 5]\n",
    "q = deque(a)\n",
    "# 우측으로 2칸 이동. 좌측은 -2\n",
    "q.rotate(2)\n",
    "result = list(q)\n",
    "result"
   ]
  },
  {
   "cell_type": "code",
   "execution_count": 33,
   "id": "69a72297-823f-4f9a-9081-4a35754d58e9",
   "metadata": {},
   "outputs": [],
   "source": [
    "a = [1, 2, 3, 4, 5]\n",
    "d = deque(a)"
   ]
  },
  {
   "cell_type": "code",
   "execution_count": 34,
   "id": "987b44a7-4db6-42ea-9920-8d5df8c17878",
   "metadata": {},
   "outputs": [
    {
     "data": {
      "text/plain": [
       "deque([1, 2, 3, 4, 5, 6])"
      ]
     },
     "execution_count": 34,
     "metadata": {},
     "output_type": "execute_result"
    }
   ],
   "source": [
    "d.append(6)\n",
    "d"
   ]
  },
  {
   "cell_type": "code",
   "execution_count": 35,
   "id": "49d0f1f1-9ddc-46a1-baff-173e7ac642f4",
   "metadata": {},
   "outputs": [
    {
     "data": {
      "text/plain": [
       "deque([0, 1, 2, 3, 4, 5, 6])"
      ]
     },
     "execution_count": 35,
     "metadata": {},
     "output_type": "execute_result"
    }
   ],
   "source": [
    "d.appendleft(0)\n",
    "d"
   ]
  },
  {
   "cell_type": "code",
   "execution_count": 36,
   "id": "fb627189-a5ba-48c7-b4ed-bf67872f91bc",
   "metadata": {},
   "outputs": [
    {
     "data": {
      "text/plain": [
       "deque([0, 1, 2, 3, 4, 5])"
      ]
     },
     "execution_count": 36,
     "metadata": {},
     "output_type": "execute_result"
    }
   ],
   "source": [
    "d.pop()\n",
    "d"
   ]
  },
  {
   "cell_type": "code",
   "execution_count": 37,
   "id": "f84ea1d6-0f12-46ca-8361-2753997b5c1d",
   "metadata": {},
   "outputs": [
    {
     "data": {
      "text/plain": [
       "deque([1, 2, 3, 4, 5])"
      ]
     },
     "execution_count": 37,
     "metadata": {},
     "output_type": "execute_result"
    }
   ],
   "source": [
    "d.popleft()\n",
    "d"
   ]
  },
  {
   "cell_type": "markdown",
   "id": "b2a0cb40-9940-4bef-b7c1-a1bf39b26093",
   "metadata": {},
   "source": [
    "# collections.namedtuple - 키값이 있는 튜플"
   ]
  },
  {
   "cell_type": "code",
   "execution_count": 1,
   "id": "f4750d54-18bd-4ca0-ade6-8892d285e79d",
   "metadata": {},
   "outputs": [],
   "source": [
    "from collections import namedtuple"
   ]
  },
  {
   "cell_type": "code",
   "execution_count": 2,
   "id": "e9a71c95-eea4-489e-9b59-73d67c45f230",
   "metadata": {},
   "outputs": [
    {
     "data": {
      "text/plain": [
       "[('홍길동', 23, '01099990001'),\n",
       " ('김철수', 31, '01099991002'),\n",
       " ('이영희', 29, '01099992003')]"
      ]
     },
     "execution_count": 2,
     "metadata": {},
     "output_type": "execute_result"
    }
   ],
   "source": [
    "data = [\n",
    "    ('홍길동', 23, '01099990001'),\n",
    "    ('김철수', 31, '01099991002'),\n",
    "    ('이영희', 29, '01099992003'),\n",
    "]\n",
    "data"
   ]
  },
  {
   "cell_type": "code",
   "execution_count": 3,
   "id": "36425e78-8891-4bc8-8870-7e1c4baddee9",
   "metadata": {},
   "outputs": [
    {
     "data": {
      "text/plain": [
       "__main__.Employee"
      ]
     },
     "execution_count": 3,
     "metadata": {},
     "output_type": "execute_result"
    }
   ],
   "source": [
    "employee = namedtuple('Employee', 'name, age, cellphone')\n",
    "employee"
   ]
  },
  {
   "cell_type": "code",
   "execution_count": 6,
   "id": "41f67ece-6138-46a7-9ba4-feb685073960",
   "metadata": {},
   "outputs": [
    {
     "data": {
      "text/plain": [
       "[Employee(name='홍길동', age=23, cellphone='01099990001'),\n",
       " Employee(name='김철수', age=31, cellphone='01099991002'),\n",
       " Employee(name='이영희', age=29, cellphone='01099992003')]"
      ]
     },
     "execution_count": 6,
     "metadata": {},
     "output_type": "execute_result"
    }
   ],
   "source": [
    "data = [employee(emp[0], emp[1], emp[2]) for emp in data]\n",
    "data"
   ]
  },
  {
   "cell_type": "code",
   "execution_count": 8,
   "id": "03555e39-60f7-48e1-9526-edb3cefa9c80",
   "metadata": {},
   "outputs": [
    {
     "data": {
      "text/plain": [
       "[Employee(name='홍길동', age=23, cellphone='01099990001'),\n",
       " Employee(name='김철수', age=31, cellphone='01099991002'),\n",
       " Employee(name='이영희', age=29, cellphone='01099992003')]"
      ]
     },
     "execution_count": 8,
     "metadata": {},
     "output_type": "execute_result"
    }
   ],
   "source": [
    "data = [employee._make(emp) for emp in data]\n",
    "data"
   ]
  },
  {
   "cell_type": "code",
   "execution_count": 9,
   "id": "a47014cd-8c4a-4e72-bfa4-84693b0325cb",
   "metadata": {},
   "outputs": [],
   "source": [
    "emp = data[0]"
   ]
  },
  {
   "cell_type": "code",
   "execution_count": 10,
   "id": "556be7e4-a556-4af0-925c-f34afaa85ca7",
   "metadata": {},
   "outputs": [
    {
     "data": {
      "text/plain": [
       "'홍길동'"
      ]
     },
     "execution_count": 10,
     "metadata": {},
     "output_type": "execute_result"
    }
   ],
   "source": [
    "emp.name"
   ]
  },
  {
   "cell_type": "code",
   "execution_count": 11,
   "id": "754b1202-4f06-4b4a-ba63-48a7f903e582",
   "metadata": {},
   "outputs": [
    {
     "data": {
      "text/plain": [
       "23"
      ]
     },
     "execution_count": 11,
     "metadata": {},
     "output_type": "execute_result"
    }
   ],
   "source": [
    "emp.age"
   ]
  },
  {
   "cell_type": "code",
   "execution_count": 12,
   "id": "f81683d0-7620-47da-a8bd-8699e435c439",
   "metadata": {},
   "outputs": [
    {
     "data": {
      "text/plain": [
       "'01099990001'"
      ]
     },
     "execution_count": 12,
     "metadata": {},
     "output_type": "execute_result"
    }
   ],
   "source": [
    "emp.cellphone"
   ]
  },
  {
   "cell_type": "code",
   "execution_count": 13,
   "id": "9e79019b-18a6-4176-b272-84d4cef56edb",
   "metadata": {},
   "outputs": [
    {
     "data": {
      "text/plain": [
       "{'name': '홍길동', 'age': 23, 'cellphone': '01099990001'}"
      ]
     },
     "execution_count": 13,
     "metadata": {},
     "output_type": "execute_result"
    }
   ],
   "source": [
    "emp._asdict()"
   ]
  },
  {
   "cell_type": "code",
   "execution_count": 14,
   "id": "a4f0b8a7-6b99-49bb-8fa5-39df2a1f0cee",
   "metadata": {},
   "outputs": [
    {
     "data": {
      "text/plain": [
       "'홍길동'"
      ]
     },
     "execution_count": 14,
     "metadata": {},
     "output_type": "execute_result"
    }
   ],
   "source": [
    "emp[0]"
   ]
  },
  {
   "cell_type": "code",
   "execution_count": 15,
   "id": "7ac89254-e9be-4371-a657-f724cfae699c",
   "metadata": {},
   "outputs": [
    {
     "data": {
      "text/plain": [
       "23"
      ]
     },
     "execution_count": 15,
     "metadata": {},
     "output_type": "execute_result"
    }
   ],
   "source": [
    "emp[1]"
   ]
  },
  {
   "cell_type": "code",
   "execution_count": 16,
   "id": "3b30e490-ba89-43e1-8e23-5b3e7398a6a0",
   "metadata": {},
   "outputs": [
    {
     "data": {
      "text/plain": [
       "'01099990001'"
      ]
     },
     "execution_count": 16,
     "metadata": {},
     "output_type": "execute_result"
    }
   ],
   "source": [
    "emp[2]"
   ]
  },
  {
   "cell_type": "code",
   "execution_count": 17,
   "id": "12ef28b2-4f27-4187-88df-0528ad47f2b1",
   "metadata": {},
   "outputs": [
    {
     "ename": "AttributeError",
     "evalue": "can't set attribute",
     "output_type": "error",
     "traceback": [
      "\u001b[0;31m---------------------------------------------------------------------------\u001b[0m",
      "\u001b[0;31mAttributeError\u001b[0m                            Traceback (most recent call last)",
      "\u001b[0;32m/var/folders/l2/31k7fcdd2xb41np3rpzw20lh0000gn/T/ipykernel_1096/244108528.py\u001b[0m in \u001b[0;36m<module>\u001b[0;34m\u001b[0m\n\u001b[1;32m      1\u001b[0m \u001b[0;31m# 네임드튜플은 튜플의 값을 변경할 수 없는(immutable) 특징을 그대로 가지고 있기 때문에 속성 값을 변경하려고 하면 다음과 같은 오류가 발생한다.\u001b[0m\u001b[0;34m\u001b[0m\u001b[0;34m\u001b[0m\u001b[0m\n\u001b[0;32m----> 2\u001b[0;31m \u001b[0memp\u001b[0m\u001b[0;34m.\u001b[0m\u001b[0mname\u001b[0m \u001b[0;34m=\u001b[0m \u001b[0;34m\"etlers\"\u001b[0m\u001b[0;34m\u001b[0m\u001b[0;34m\u001b[0m\u001b[0m\n\u001b[0m",
      "\u001b[0;31mAttributeError\u001b[0m: can't set attribute"
     ]
    }
   ],
   "source": [
    "# 네임드튜플은 튜플의 값을 변경할 수 없는(immutable) 특징을 그대로 가지고 있기 때문에 속성 값을 변경하려고 하면 다음과 같은 오류가 발생한다.\n",
    "emp.name = \"etlers\""
   ]
  },
  {
   "cell_type": "code",
   "execution_count": 19,
   "id": "f1d45a01-da85-4a4e-a650-5718e7ac294e",
   "metadata": {},
   "outputs": [
    {
     "data": {
      "text/plain": [
       "Employee(name='etlers', age=23, cellphone='01099990001')"
      ]
     },
     "execution_count": 19,
     "metadata": {},
     "output_type": "execute_result"
    }
   ],
   "source": [
    "# 값을 변경하려면 다음처럼 _replace 함수를 통해서만 가능\n",
    "# _replace 함수는 해당 객체를 직접 변경하는 것은 아니고 변경된 새로운 객체를 만들어서 리턴해 준다\n",
    "new_emp = emp._replace(name=\"etlers\")\n",
    "new_emp"
   ]
  },
  {
   "cell_type": "markdown",
   "id": "9f2bd5bf-7bd5-43e7-8635-f2d9a3943804",
   "metadata": {},
   "source": [
    "# collections.Counter - 동일한 요소의 갯수"
   ]
  },
  {
   "cell_type": "code",
   "execution_count": 21,
   "id": "a7674c25-18d7-454c-b968-9937fb556ffa",
   "metadata": {},
   "outputs": [
    {
     "name": "stdout",
     "output_type": "stream",
     "text": [
      "\n",
      "산에는 꽃 피네.\n",
      "꽃이 피네.\n",
      "갈 봄 여름없이\n",
      "꽃이 피네.\n",
      "\n",
      "산에\n",
      "산에\n",
      "피는 꽃은\n",
      "저만치 혼자서 피어있네.\n",
      "\n",
      "산에서 우는 새여\n",
      "꽃이 좋아\n",
      "산에서\n",
      "사노라네.\n",
      "\n",
      "산에는 꽃지네\n",
      "꽃이 지네.\n",
      "갈 봄 여름 없이\n",
      "꽃이 지네.\n",
      "\n"
     ]
    }
   ],
   "source": [
    "from collections import Counter\n",
    "import re\n",
    "\n",
    "data = \"\"\"\n",
    "산에는 꽃 피네.\n",
    "꽃이 피네.\n",
    "갈 봄 여름없이\n",
    "꽃이 피네.\n",
    "\n",
    "산에\n",
    "산에\n",
    "피는 꽃은\n",
    "저만치 혼자서 피어있네.\n",
    "\n",
    "산에서 우는 새여\n",
    "꽃이 좋아\n",
    "산에서\n",
    "사노라네.\n",
    "\n",
    "산에는 꽃지네\n",
    "꽃이 지네.\n",
    "갈 봄 여름 없이\n",
    "꽃이 지네.\n",
    "\"\"\"\n",
    "\n",
    "print(data)"
   ]
  },
  {
   "cell_type": "code",
   "execution_count": 26,
   "id": "f60cbb4f-0cdf-42a2-9dc3-da067654d07d",
   "metadata": {},
   "outputs": [
    {
     "name": "stdout",
     "output_type": "stream",
     "text": [
      "Counter({'꽃이': 5, '피네': 3, '산에는': 2, '갈': 2, '봄': 2, '산에': 2, '산에서': 2, '지네': 2, '꽃': 1, '여름없이': 1, '피는': 1, '꽃은': 1, '저만치': 1, '혼자서': 1, '피어있네': 1, '우는': 1, '새여': 1, '좋아': 1, '사노라네': 1, '꽃지네': 1, '여름': 1, '없이': 1})\n"
     ]
    }
   ],
   "source": [
    "# 문장을 단어(\\w+)별로 나누기 위해 다음처럼 re 모듈을 사용\n",
    "words = re.findall(r'\\w+', data)\n",
    "counter = Counter(words)\n",
    "print(counter)"
   ]
  },
  {
   "cell_type": "code",
   "execution_count": 27,
   "id": "d59a10f8-af0f-4cbb-b7ba-8d093522336a",
   "metadata": {},
   "outputs": [
    {
     "name": "stdout",
     "output_type": "stream",
     "text": [
      "[('꽃이', 5)]\n"
     ]
    }
   ],
   "source": [
    "# 가장 빈도수가 높은 단어\n",
    "print(counter.most_common(1))"
   ]
  },
  {
   "cell_type": "code",
   "execution_count": 28,
   "id": "7508780f-6ecc-4620-959a-375f29015bb1",
   "metadata": {},
   "outputs": [
    {
     "name": "stdout",
     "output_type": "stream",
     "text": [
      "[('꽃이', 5), ('피네', 3)]\n"
     ]
    }
   ],
   "source": [
    "# 두번째로 빈도수가 높은 단어\n",
    "print(counter.most_common(2))"
   ]
  },
  {
   "cell_type": "markdown",
   "id": "bc7c3d48-5de7-48f4-a953-dab16ef34978",
   "metadata": {},
   "source": [
    "# collections.defaultdict - 딕셔너리의 초깃값"
   ]
  },
  {
   "cell_type": "code",
   "execution_count": 31,
   "id": "f98ce6fe-4099-4907-8436-d36665fbd138",
   "metadata": {},
   "outputs": [
    {
     "name": "stdout",
     "output_type": "stream",
     "text": [
      "{'L': 1, 'i': 2, 'f': 1, 'e': 3, ' ': 6, 's': 2, 't': 3, 'o': 5, 'h': 2, 'r': 1, ',': 1, 'Y': 1, 'u': 1, 'n': 2, 'd': 1, 'p': 1, 'y': 1, '.': 1}\n"
     ]
    }
   ],
   "source": [
    "# 딕셔너리로 위와 같이 집계를 위한 코드를 작성할 경우에 초깃값은 항상 신경써야 하는 부분이다.\n",
    "# 하지만 collections의 defaultdict를 사용하면 이러한 불편함을 없앨수 있다.\n",
    "from collections import defaultdict\n",
    "\n",
    "text = \"Life is too short, You need python.\"\n",
    "\n",
    "d = defaultdict(int)\n",
    "for c in text:\n",
    "    d[c] += 1\n",
    "    \n",
    "print(dict(d))"
   ]
  },
  {
   "cell_type": "code",
   "execution_count": 34,
   "id": "027a6d69-ae56-4903-89a6-9efe3b0907ff",
   "metadata": {},
   "outputs": [
    {
     "data": {
      "text/plain": [
       "[('blue', [2, 4]), ('red', [1]), ('yellow', [1, 3])]"
      ]
     },
     "execution_count": 34,
     "metadata": {},
     "output_type": "execute_result"
    }
   ],
   "source": [
    "# list를 default_factory로 사용하면, 키-값 쌍의 시퀀스를 리스트의 딕셔너리로 쉽게 그룹화 \n",
    "s = [('yellow', 1), ('blue', 2), ('yellow', 3), ('blue', 4), ('red', 1)]\n",
    "d = defaultdict(list)\n",
    "for k, v in s:\n",
    "    d[k].append(v)\n",
    "\n",
    "sorted(d.items())"
   ]
  },
  {
   "cell_type": "markdown",
   "id": "089cf51c-0a5e-4078-a981-d89c332915ad",
   "metadata": {},
   "source": [
    "# heapq - 우선 순위 큐"
   ]
  },
  {
   "cell_type": "code",
   "execution_count": 41,
   "id": "4700541e-f39e-4ce9-82f8-5d6bd7b21f9b",
   "metadata": {},
   "outputs": [
    {
     "data": {
      "text/plain": [
       "[(12.23, '강보람'),\n",
       " (12.31, '김지원'),\n",
       " (11.98, '박시우'),\n",
       " (11.99, '장준혁'),\n",
       " (11.67, '차정웅'),\n",
       " (12.02, '박중수'),\n",
       " (11.57, '차동현'),\n",
       " (12.04, '고미숙'),\n",
       " (11.92, '한시우'),\n",
       " (12.22, '이민석')]"
      ]
     },
     "execution_count": 41,
     "metadata": {},
     "output_type": "execute_result"
    }
   ],
   "source": [
    "import heapq\n",
    "\n",
    "# heapush로 튜플을 추가할때는 데이터의 우선 순위를 나타내는 항목을 반드시 첫번째로 위치해야 한다.\n",
    "# 따라서 기록과 이름을 쌍으로 갖는 튜플은 (이름, 기록) 구성이 아닌 (기록, 이름) 으로 구성해야 한다.\n",
    "data = [\n",
    "    (12.23, \"강보람\"),\n",
    "    (12.31, \"김지원\"),\n",
    "    (11.98, \"박시우\"),\n",
    "    (11.99, \"장준혁\"),\n",
    "    (11.67, \"차정웅\"),\n",
    "    (12.02, \"박중수\"),\n",
    "    (11.57, \"차동현\"),\n",
    "    (12.04, \"고미숙\"),\n",
    "    (11.92, \"한시우\"),\n",
    "    (12.22, \"이민석\"),\n",
    "]\n",
    "\n",
    "data"
   ]
  },
  {
   "cell_type": "code",
   "execution_count": 42,
   "id": "fe1be035-e411-49ed-a50e-77215b36fd25",
   "metadata": {},
   "outputs": [
    {
     "name": "stdout",
     "output_type": "stream",
     "text": [
      "(11.57, '차동현')\n",
      "(11.67, '차정웅')\n",
      "(11.92, '한시우')\n"
     ]
    }
   ],
   "source": [
    "# 힙 생성\n",
    "h = []\n",
    "for score in data:\n",
    "    # 힙에 데이터 저장\n",
    "    heapq.heappush(h, score)\n",
    "    \n",
    "for i in range(3):\n",
    "    # 최소값부터 힙 반환\n",
    "    print(heapq.heappop(h))"
   ]
  },
  {
   "cell_type": "code",
   "execution_count": 43,
   "id": "28e49d08-a52e-48fa-8a5e-ae9fcda440d5",
   "metadata": {},
   "outputs": [
    {
     "name": "stdout",
     "output_type": "stream",
     "text": [
      "(11.57, '차동현')\n",
      "(11.67, '차정웅')\n",
      "(11.92, '한시우')\n"
     ]
    }
   ],
   "source": [
    "# 힙 데이터를 생성하는 부분은 다음과 같이 heapify 함수를 사용하여 간략화\n",
    "heapq.heapify(data)\n",
    "\n",
    "for i in range(3):\n",
    "    print(heapq.heappop(data))"
   ]
  },
  {
   "cell_type": "code",
   "execution_count": 44,
   "id": "82a38019-ebff-48ac-b209-a11d893c5a68",
   "metadata": {},
   "outputs": [
    {
     "name": "stdout",
     "output_type": "stream",
     "text": [
      "[(11.98, '박시우'), (11.99, '장준혁'), (12.02, '박중수')]\n"
     ]
    }
   ],
   "source": [
    "print(heapq.nsmallest(3, data))"
   ]
  },
  {
   "cell_type": "code",
   "execution_count": 45,
   "id": "009cd256-f79e-4384-8315-8755c57ac21f",
   "metadata": {},
   "outputs": [],
   "source": [
    "# 꼴찌부터 순위를 매긴다면 heapq.nlargest(3, data) 를 사용할 수 있다."
   ]
  },
  {
   "cell_type": "code",
   "execution_count": 46,
   "id": "3afb7a04-55f2-47b9-bdb4-fadb51c6a681",
   "metadata": {},
   "outputs": [
    {
     "name": "stdout",
     "output_type": "stream",
     "text": [
      "[(12.31, '김지원'), (12.23, '강보람'), (12.22, '이민석')]\n"
     ]
    }
   ],
   "source": [
    "print(heapq.nlargest(3, data))"
   ]
  },
  {
   "cell_type": "markdown",
   "id": "aac5413a-2d61-4a20-b518-ef4feea8bfff",
   "metadata": {},
   "source": [
    "# bisect - 이진 탐색"
   ]
  },
  {
   "cell_type": "code",
   "execution_count": 47,
   "id": "4e31c41e-c05d-4509-9099-8f01d588d2a3",
   "metadata": {},
   "outputs": [],
   "source": [
    "import bisect"
   ]
  },
  {
   "cell_type": "code",
   "execution_count": 48,
   "id": "ae51b02b-e091-45de-bcf4-0bce762dcb93",
   "metadata": {},
   "outputs": [
    {
     "name": "stdout",
     "output_type": "stream",
     "text": [
      "['F', 'A', 'C', 'C', 'B', 'A', 'A']\n"
     ]
    }
   ],
   "source": [
    "result = []\n",
    "for score in [33, 99, 77, 70, 89, 90, 100]:\n",
    "    # 70점과 90점과 같이 학점을 구분하는 점수와 동일한 경우 bisect 함수는 좌측이 아닌 우측으로 삽입되는 인덱스를 반환\n",
    "    pos = bisect.bisect([60, 70, 80, 90], score)\n",
    "    grade = 'FDCBA'[pos]\n",
    "    result.append(grade)\n",
    "    \n",
    "print(result)"
   ]
  },
  {
   "cell_type": "code",
   "execution_count": 50,
   "id": "beac699e-8802-4842-aeb0-5da2a2e96d28",
   "metadata": {},
   "outputs": [
    {
     "name": "stdout",
     "output_type": "stream",
     "text": [
      "['F', 'A', 'C', 'D', 'B', 'B', 'A']\n"
     ]
    }
   ],
   "source": [
    "# 초과로 변경되는 경우 bisect_left 적용\n",
    "result = []\n",
    "for score in [33, 99, 77, 70, 89, 90, 100]:\n",
    "    # 70점과 90점과 같이 학점을 구분하는 점수와 동일한 경우 bisect 함수는 좌측이 아닌 우측으로 삽입되는 인덱스를 반환\n",
    "    pos = bisect.bisect_left([60, 70, 80, 90], score)\n",
    "    grade = 'FDCBA'[pos]\n",
    "    result.append(grade)\n",
    "    \n",
    "print(result)"
   ]
  },
  {
   "cell_type": "code",
   "execution_count": 51,
   "id": "f3cd5d7a-c47d-4b4e-8366-b992839062be",
   "metadata": {},
   "outputs": [
    {
     "data": {
      "text/plain": [
       "[60, 70, 80, 85, 90]"
      ]
     },
     "execution_count": 51,
     "metadata": {},
     "output_type": "execute_result"
    }
   ],
   "source": [
    "a = [60, 70, 80, 90]\n",
    "bisect.insort(a, 85)\n",
    "a"
   ]
  },
  {
   "cell_type": "markdown",
   "id": "5b0b4667-1795-434e-a532-ec6365d38012",
   "metadata": {},
   "source": [
    "# enum - 상수 집합"
   ]
  },
  {
   "cell_type": "code",
   "execution_count": 2,
   "id": "d5559098-474a-4cba-b9ad-6ff193d0675e",
   "metadata": {},
   "outputs": [],
   "source": [
    "from datetime import date\n",
    "from enum import IntEnum"
   ]
  },
  {
   "cell_type": "code",
   "execution_count": 6,
   "id": "57d34ee0-202b-4dfa-82a1-8e45dc29d9f3",
   "metadata": {},
   "outputs": [
    {
     "name": "stdout",
     "output_type": "stream",
     "text": [
      "건빵\n",
      "갈비탕\n"
     ]
    }
   ],
   "source": [
    "class Week(IntEnum):\n",
    "    MONDAY = 1\n",
    "    TUESDAY = 2\n",
    "    WEDNESDAY = 3\n",
    "    THURSDAY = 4\n",
    "    FRIDAY = 5\n",
    "    SATURDAY = 6\n",
    "    SUNDAY = 7\n",
    "    \n",
    "def get_menu(input_date):\n",
    "    menu = {\n",
    "        Week.MONDAY: \"김치찌개\",\n",
    "        Week.TUESDAY: \"비빔밥\",\n",
    "        Week.WEDNESDAY: \"된장찌개\",\n",
    "        Week.THURSDAY: \"불고기\",\n",
    "        Week.FRIDAY: \"갈비탕\",\n",
    "        Week.SATURDAY: \"라면\",\n",
    "        Week.SUNDAY: \"건빵\",\n",
    "    }\n",
    "    \n",
    "    return menu[input_date.isoweekday()]\n",
    "\n",
    "print(get_menu(date(2020, 12, 6)))\n",
    "print(get_menu(date(2020, 12, 18)))"
   ]
  },
  {
   "cell_type": "code",
   "execution_count": 7,
   "id": "4cbf0e4d-6caf-4d66-8a38-542f59b7acb1",
   "metadata": {},
   "outputs": [
    {
     "data": {
      "text/plain": [
       "'MONDAY'"
      ]
     },
     "execution_count": 7,
     "metadata": {},
     "output_type": "execute_result"
    }
   ],
   "source": [
    "Week.MONDAY.name"
   ]
  },
  {
   "cell_type": "code",
   "execution_count": 8,
   "id": "04a970de-41fd-4874-9ad7-b1e4a3ec12e6",
   "metadata": {},
   "outputs": [
    {
     "data": {
      "text/plain": [
       "1"
      ]
     },
     "execution_count": 8,
     "metadata": {},
     "output_type": "execute_result"
    }
   ],
   "source": [
    "Week.MONDAY.value"
   ]
  },
  {
   "cell_type": "code",
   "execution_count": 10,
   "id": "a90404d3-f9a8-459b-a78c-61587288ea03",
   "metadata": {},
   "outputs": [
    {
     "name": "stdout",
     "output_type": "stream",
     "text": [
      "MONDAY:1\n",
      "TUESDAY:2\n",
      "WEDNESDAY:3\n",
      "THURSDAY:4\n",
      "FRIDAY:5\n",
      "SATURDAY:6\n",
      "SUNDAY:7\n"
     ]
    }
   ],
   "source": [
    "for week in Week:\n",
    "    print(\"{}:{}\".format(week.name, week.value))"
   ]
  },
  {
   "cell_type": "code",
   "execution_count": null,
   "id": "e5dccbfe-28da-46bd-938b-8e8814fa5687",
   "metadata": {},
   "outputs": [],
   "source": []
  }
 ],
 "metadata": {
  "kernelspec": {
   "display_name": "Python 3 (ipykernel)",
   "language": "python",
   "name": "python3"
  },
  "language_info": {
   "codemirror_mode": {
    "name": "ipython",
    "version": 3
   },
   "file_extension": ".py",
   "mimetype": "text/x-python",
   "name": "python",
   "nbconvert_exporter": "python",
   "pygments_lexer": "ipython3",
   "version": "3.9.7"
  }
 },
 "nbformat": 4,
 "nbformat_minor": 5
}
