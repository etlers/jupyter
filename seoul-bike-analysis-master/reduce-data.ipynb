{
 "cells": [
  {
   "cell_type": "markdown",
   "metadata": {},
   "source": [
    "## 서울시 자전거 따릉이 데이터 전처리\n",
    "* 데이터 출처 : [데이터셋> 데이터 이용하기 | 서울열린데이터광장](http://data.seoul.go.kr/dataList/datasetView.do?infId=OA-15182&srvType=F&serviceKind=1&currentPageNo=1)\n",
    "* 전체 데이터를 가져와서 연도별로 병합(concat)을 해주면 1G가 넘는 용량으로 파일이 만들어 집니다.\n",
    "* 1G가 넘는 파일을 불러와서 작업을 하려면 장비에 부담이 되기 때문에 데이터를 줄여줍니다."
   ]
  },
  {
   "cell_type": "code",
   "execution_count": 1,
   "metadata": {},
   "outputs": [],
   "source": [
    "import pandas as pd"
   ]
  },
  {
   "cell_type": "code",
   "execution_count": 2,
   "metadata": {},
   "outputs": [
    {
     "name": "stdout",
     "output_type": "stream",
     "text": [
      "data/seoul-bike-2016-reduce.csv  data/seoul-bike-2018-reduce.csv\r\n",
      "data/seoul-bike-2016.csv         data/seoul-bike-2018.csv\r\n",
      "data/seoul-bike-2017-reduce.csv  data/seoul-bike-2019-reduce.csv\r\n",
      "data/seoul-bike-2017.csv         data/seoul-bike-2019.csv\r\n"
     ]
    }
   ],
   "source": [
    "%ls data/seoul-bike-*"
   ]
  },
  {
   "cell_type": "code",
   "execution_count": 3,
   "metadata": {},
   "outputs": [],
   "source": [
    "year = 2019"
   ]
  },
  {
   "cell_type": "code",
   "execution_count": 4,
   "metadata": {},
   "outputs": [
    {
     "name": "stdout",
     "output_type": "stream",
     "text": [
      "CPU times: user 19.1 s, sys: 2.81 s, total: 21.9 s\n",
      "Wall time: 23.5 s\n"
     ]
    },
    {
     "data": {
      "text/plain": [
       "(5471294, 11)"
      ]
     },
     "execution_count": 4,
     "metadata": {},
     "output_type": "execute_result"
    }
   ],
   "source": [
    "%time df = pd.read_csv(f\"data/seoul-bike-{year}.csv\", low_memory=False)\n",
    "df.shape"
   ]
  },
  {
   "cell_type": "code",
   "execution_count": 5,
   "metadata": {},
   "outputs": [
    {
     "data": {
      "text/plain": [
       "Index(['자전거번호', '대여일시', '대여대여소번호', '대여대여소명', '대여거치대', '반납일시', '반납대여소번호',\n",
       "       '반납대여소명', '반납거치대', '이용시간(분)', '이용거리(M)'],\n",
       "      dtype='object')"
      ]
     },
     "execution_count": 5,
     "metadata": {},
     "output_type": "execute_result"
    }
   ],
   "source": [
    "df.columns"
   ]
  },
  {
   "cell_type": "code",
   "execution_count": null,
   "metadata": {},
   "outputs": [],
   "source": [
    "%time df[\"자전거번호SPB\"] = df[\"자전거번호\"].apply(lambda x : x.split(\"-\")[1])"
   ]
  },
  {
   "cell_type": "code",
   "execution_count": null,
   "metadata": {},
   "outputs": [],
   "source": [
    "df.info()"
   ]
  },
  {
   "cell_type": "code",
   "execution_count": 12,
   "metadata": {},
   "outputs": [
    {
     "data": {
      "text/html": [
       "<div>\n",
       "<style scoped>\n",
       "    .dataframe tbody tr th:only-of-type {\n",
       "        vertical-align: middle;\n",
       "    }\n",
       "\n",
       "    .dataframe tbody tr th {\n",
       "        vertical-align: top;\n",
       "    }\n",
       "\n",
       "    .dataframe thead th {\n",
       "        text-align: right;\n",
       "    }\n",
       "</style>\n",
       "<table border=\"1\" class=\"dataframe\">\n",
       "  <thead>\n",
       "    <tr style=\"text-align: right;\">\n",
       "      <th></th>\n",
       "      <th>자전거번호</th>\n",
       "      <th>대여일시</th>\n",
       "      <th>대여대여소번호</th>\n",
       "      <th>대여대여소명</th>\n",
       "      <th>대여거치대</th>\n",
       "      <th>반납일시</th>\n",
       "      <th>반납대여소번호</th>\n",
       "      <th>반납대여소명</th>\n",
       "      <th>반납거치대</th>\n",
       "      <th>이용시간(분)</th>\n",
       "      <th>이용거리(M)</th>\n",
       "    </tr>\n",
       "  </thead>\n",
       "  <tbody>\n",
       "    <tr>\n",
       "      <th>0</th>\n",
       "      <td>SPB-10957</td>\n",
       "      <td>2019-01-01 00:02:16</td>\n",
       "      <td>1408</td>\n",
       "      <td>1408. 먹골역 6번출구 앞</td>\n",
       "      <td>3</td>\n",
       "      <td>2019-01-01 00:07:07</td>\n",
       "      <td>1433</td>\n",
       "      <td>1408. 먹골역 6번출구 앞</td>\n",
       "      <td>4</td>\n",
       "      <td>4</td>\n",
       "      <td>1020.0</td>\n",
       "    </tr>\n",
       "    <tr>\n",
       "      <th>1</th>\n",
       "      <td>SPB-17170</td>\n",
       "      <td>2019-01-01 00:03:09</td>\n",
       "      <td>615</td>\n",
       "      <td>615. 용두동 레미안허브리츠아파트 앞</td>\n",
       "      <td>4</td>\n",
       "      <td>2019-01-01 00:07:27</td>\n",
       "      <td>612</td>\n",
       "      <td>615. 용두동 레미안허브리츠아파트 앞</td>\n",
       "      <td>14</td>\n",
       "      <td>3</td>\n",
       "      <td>700.0</td>\n",
       "    </tr>\n",
       "    <tr>\n",
       "      <th>2</th>\n",
       "      <td>SPB-14130</td>\n",
       "      <td>2019-01-01 00:01:44</td>\n",
       "      <td>1177</td>\n",
       "      <td>1177. 수명중?고교</td>\n",
       "      <td>7</td>\n",
       "      <td>2019-01-01 00:08:09</td>\n",
       "      <td>1152</td>\n",
       "      <td>1177. 수명중?고교</td>\n",
       "      <td>1</td>\n",
       "      <td>5</td>\n",
       "      <td>1090.0</td>\n",
       "    </tr>\n",
       "    <tr>\n",
       "      <th>3</th>\n",
       "      <td>SPB-15414</td>\n",
       "      <td>2019-01-01 00:02:28</td>\n",
       "      <td>646</td>\n",
       "      <td>646. 장한평역 1번출구 (국민은행앞)</td>\n",
       "      <td>3</td>\n",
       "      <td>2019-01-01 00:08:30</td>\n",
       "      <td>648</td>\n",
       "      <td>646. 장한평역 1번출구 (국민은행앞)</td>\n",
       "      <td>2</td>\n",
       "      <td>5</td>\n",
       "      <td>1120.0</td>\n",
       "    </tr>\n",
       "    <tr>\n",
       "      <th>4</th>\n",
       "      <td>SPB-08668</td>\n",
       "      <td>2019-01-01 00:04:14</td>\n",
       "      <td>2273</td>\n",
       "      <td>2273. 일동제약 사거리</td>\n",
       "      <td>5</td>\n",
       "      <td>2019-01-01 00:08:54</td>\n",
       "      <td>2255</td>\n",
       "      <td>2273. 일동제약 사거리</td>\n",
       "      <td>25</td>\n",
       "      <td>4</td>\n",
       "      <td>930.0</td>\n",
       "    </tr>\n",
       "  </tbody>\n",
       "</table>\n",
       "</div>"
      ],
      "text/plain": [
       "       자전거번호                 대여일시  대여대여소번호                  대여대여소명  대여거치대  \\\n",
       "0  SPB-10957  2019-01-01 00:02:16     1408        1408. 먹골역 6번출구 앞      3   \n",
       "1  SPB-17170  2019-01-01 00:03:09      615   615. 용두동 레미안허브리츠아파트 앞      4   \n",
       "2  SPB-14130  2019-01-01 00:01:44     1177            1177. 수명중?고교      7   \n",
       "3  SPB-15414  2019-01-01 00:02:28      646  646. 장한평역 1번출구 (국민은행앞)      3   \n",
       "4  SPB-08668  2019-01-01 00:04:14     2273          2273. 일동제약 사거리      5   \n",
       "\n",
       "                  반납일시  반납대여소번호                  반납대여소명  반납거치대  이용시간(분)  \\\n",
       "0  2019-01-01 00:07:07     1433        1408. 먹골역 6번출구 앞      4        4   \n",
       "1  2019-01-01 00:07:27      612   615. 용두동 레미안허브리츠아파트 앞     14        3   \n",
       "2  2019-01-01 00:08:09     1152            1177. 수명중?고교      1        5   \n",
       "3  2019-01-01 00:08:30      648  646. 장한평역 1번출구 (국민은행앞)      2        5   \n",
       "4  2019-01-01 00:08:54     2255          2273. 일동제약 사거리     25        4   \n",
       "\n",
       "   이용거리(M)  \n",
       "0   1020.0  \n",
       "1    700.0  \n",
       "2   1090.0  \n",
       "3   1120.0  \n",
       "4    930.0  "
      ]
     },
     "execution_count": 12,
     "metadata": {},
     "output_type": "execute_result"
    }
   ],
   "source": [
    "# 반납대여소번호와 반납대여소명은 다르게 입력된 데이터가 많이 있다.(데이터 제공부서에 문의가 필요하다.)\n",
    "# 분석할 때는 대여소번호를 기준으로 분석하도록 한다.\n",
    "df.head()"
   ]
  },
  {
   "cell_type": "code",
   "execution_count": 9,
   "metadata": {},
   "outputs": [
    {
     "data": {
      "text/html": [
       "<div>\n",
       "<style scoped>\n",
       "    .dataframe tbody tr th:only-of-type {\n",
       "        vertical-align: middle;\n",
       "    }\n",
       "\n",
       "    .dataframe tbody tr th {\n",
       "        vertical-align: top;\n",
       "    }\n",
       "\n",
       "    .dataframe thead th {\n",
       "        text-align: right;\n",
       "    }\n",
       "</style>\n",
       "<table border=\"1\" class=\"dataframe\">\n",
       "  <thead>\n",
       "    <tr style=\"text-align: right;\">\n",
       "      <th></th>\n",
       "      <th>자전거번호</th>\n",
       "      <th>대여일시</th>\n",
       "      <th>대여대여소번호</th>\n",
       "      <th>대여대여소명</th>\n",
       "      <th>대여거치대</th>\n",
       "      <th>반납일시</th>\n",
       "      <th>반납대여소번호</th>\n",
       "      <th>반납대여소명</th>\n",
       "      <th>반납거치대</th>\n",
       "      <th>이용시간(분)</th>\n",
       "      <th>이용거리(M)</th>\n",
       "    </tr>\n",
       "  </thead>\n",
       "  <tbody>\n",
       "    <tr>\n",
       "      <th>5471289</th>\n",
       "      <td>SPB-16314</td>\n",
       "      <td>2019-05-31 23:25:34</td>\n",
       "      <td>2217</td>\n",
       "      <td>아크로리버뷰 부지 앞</td>\n",
       "      <td>14</td>\n",
       "      <td>2019-06-01 08:49:59</td>\n",
       "      <td>2289</td>\n",
       "      <td>남태령역 2번출구</td>\n",
       "      <td>4</td>\n",
       "      <td>564</td>\n",
       "      <td>5060.0</td>\n",
       "    </tr>\n",
       "    <tr>\n",
       "      <th>5471290</th>\n",
       "      <td>SPB-05369</td>\n",
       "      <td>2019-05-31 22:12:06</td>\n",
       "      <td>722</td>\n",
       "      <td>LG전자베스트샵 신정점</td>\n",
       "      <td>1</td>\n",
       "      <td>2019-06-01 09:37:07</td>\n",
       "      <td>1140</td>\n",
       "      <td>목동사거리 버스정류장</td>\n",
       "      <td>2</td>\n",
       "      <td>684</td>\n",
       "      <td>1790.0</td>\n",
       "    </tr>\n",
       "    <tr>\n",
       "      <th>5471291</th>\n",
       "      <td>SPB-14277</td>\n",
       "      <td>2019-05-31 21:48:05</td>\n",
       "      <td>1814</td>\n",
       "      <td>두산위브아파트 옆 상가건물 앞</td>\n",
       "      <td>8</td>\n",
       "      <td>2019-06-01 09:57:32</td>\n",
       "      <td>1849</td>\n",
       "      <td>대륭포스트타워5차</td>\n",
       "      <td>1</td>\n",
       "      <td>729</td>\n",
       "      <td>1580.0</td>\n",
       "    </tr>\n",
       "    <tr>\n",
       "      <th>5471292</th>\n",
       "      <td>SPB-10222</td>\n",
       "      <td>2019-05-31 21:19:40</td>\n",
       "      <td>1295</td>\n",
       "      <td>잠실역 8번출구</td>\n",
       "      <td>20</td>\n",
       "      <td>2019-06-01 10:04:11</td>\n",
       "      <td>626</td>\n",
       "      <td>군자교 서측 녹지대</td>\n",
       "      <td>7</td>\n",
       "      <td>253</td>\n",
       "      <td>6980.0</td>\n",
       "    </tr>\n",
       "    <tr>\n",
       "      <th>5471293</th>\n",
       "      <td>SPB-12224</td>\n",
       "      <td>2019-05-31 09:19:29</td>\n",
       "      <td>567</td>\n",
       "      <td>성수역 2번출구 앞</td>\n",
       "      <td>7</td>\n",
       "      <td>2019-06-01 12:38:00</td>\n",
       "      <td>567</td>\n",
       "      <td>성수역 2번출구 앞</td>\n",
       "      <td>7</td>\n",
       "      <td>235</td>\n",
       "      <td>760.0</td>\n",
       "    </tr>\n",
       "  </tbody>\n",
       "</table>\n",
       "</div>"
      ],
      "text/plain": [
       "             자전거번호                 대여일시  대여대여소번호            대여대여소명  대여거치대  \\\n",
       "5471289  SPB-16314  2019-05-31 23:25:34     2217       아크로리버뷰 부지 앞     14   \n",
       "5471290  SPB-05369  2019-05-31 22:12:06      722      LG전자베스트샵 신정점      1   \n",
       "5471291  SPB-14277  2019-05-31 21:48:05     1814  두산위브아파트 옆 상가건물 앞      8   \n",
       "5471292  SPB-10222  2019-05-31 21:19:40     1295          잠실역 8번출구     20   \n",
       "5471293  SPB-12224  2019-05-31 09:19:29      567        성수역 2번출구 앞      7   \n",
       "\n",
       "                        반납일시  반납대여소번호       반납대여소명  반납거치대  이용시간(분)  이용거리(M)  \n",
       "5471289  2019-06-01 08:49:59     2289    남태령역 2번출구      4      564   5060.0  \n",
       "5471290  2019-06-01 09:37:07     1140  목동사거리 버스정류장      2      684   1790.0  \n",
       "5471291  2019-06-01 09:57:32     1849    대륭포스트타워5차      1      729   1580.0  \n",
       "5471292  2019-06-01 10:04:11      626   군자교 서측 녹지대      7      253   6980.0  \n",
       "5471293  2019-06-01 12:38:00      567   성수역 2번출구 앞      7      235    760.0  "
      ]
     },
     "execution_count": 9,
     "metadata": {},
     "output_type": "execute_result"
    }
   ],
   "source": [
    "df.tail()"
   ]
  },
  {
   "cell_type": "code",
   "execution_count": null,
   "metadata": {},
   "outputs": [],
   "source": [
    "# 데이터가 너무 커서 로드하는데 시간이 오래 걸리거나 전처리에 시간이 오래 걸린다.\n",
    "# 자원을 효율적으로 사용하기 위해 용량이 큰 텍스트 데이터를 빼주고 나중에 join이나 merge를 통해 불러오도록 한다.\n",
    "df_reduce = df[['자전거번호SPB', '대여일시', '대여대여소번호', '반납일시', '반납대여소번호',\n",
    "       '이용시간(분)', '이용거리(M)']]\n",
    "df_reduce.shape"
   ]
  },
  {
   "cell_type": "code",
   "execution_count": null,
   "metadata": {},
   "outputs": [],
   "source": [
    "df_reduce.head()"
   ]
  },
  {
   "cell_type": "code",
   "execution_count": null,
   "metadata": {},
   "outputs": [],
   "source": [
    "%time df_reduce.to_csv(f\"data/seoul-bike-{year}-reduce.csv\", index=False)"
   ]
  },
  {
   "cell_type": "code",
   "execution_count": null,
   "metadata": {},
   "outputs": [],
   "source": [
    "%time df_reduce_file = pd.read_csv(f\"data/seoul-bike-{year}-reduce.csv\", low_memory=False)\n",
    "df_reduce_file.shape"
   ]
  },
  {
   "cell_type": "code",
   "execution_count": null,
   "metadata": {
    "scrolled": true
   },
   "outputs": [],
   "source": [
    "# 용량이 절반정도 줄어 들었다.\n",
    "%ls -lah data/seoul-bike-*"
   ]
  },
  {
   "cell_type": "markdown",
   "metadata": {},
   "source": [
    "## 대여소 정보를 별도의 CSV 파일로 만들기\n",
    "* 파일 용량을 위해 대여소 정보를 제외했다.\n",
    "* 크롤링으로 가져온 대여소 정보도 있지만 여기에 있는 정보로 대여소 파일을 간단하게 만들어 본다."
   ]
  },
  {
   "cell_type": "code",
   "execution_count": null,
   "metadata": {},
   "outputs": [],
   "source": [
    "df[\"대여소명\"] = df[\"대여대여소명\"].apply(lambda x : x.split(\".\")[-1].strip())"
   ]
  },
  {
   "cell_type": "code",
   "execution_count": null,
   "metadata": {},
   "outputs": [],
   "source": [
    "df_station = df.drop_duplicates([\"대여대여소번호\", \"대여소명\"]\n",
    "    keep='last').sort_values(by=\"대여대여소번호\")\n",
    "df_station.columns = [\"대여소번호\", \"대여소명\"]\n",
    "print(df_station.shape)\n",
    "df_station.head()"
   ]
  },
  {
   "cell_type": "code",
   "execution_count": null,
   "metadata": {},
   "outputs": [],
   "source": [
    "# 중복된 대여소가 있는지 확인한다. \n",
    "df_station[\"대여소번호\"].value_counts().head()"
   ]
  },
  {
   "cell_type": "code",
   "execution_count": null,
   "metadata": {},
   "outputs": [],
   "source": [
    "# 제대로 제거가 되었는지 확인\n",
    "df_station[df_station[\"대여소번호\"] == 1042]"
   ]
  },
  {
   "cell_type": "code",
   "execution_count": null,
   "metadata": {},
   "outputs": [],
   "source": [
    "print(df_station.shape)\n",
    "df_station.drop_duplicates([\"대여소번호\"], keep='last', inplace=True)\n",
    "print(df_station.shape)"
   ]
  },
  {
   "cell_type": "code",
   "execution_count": null,
   "metadata": {},
   "outputs": [],
   "source": [
    "df_station = df_station[[\"대여소번호\", \"대여소명\"]].reset_index(drop=True)"
   ]
  },
  {
   "cell_type": "code",
   "execution_count": null,
   "metadata": {},
   "outputs": [],
   "source": [
    "# 제대로 제거가 되었는지 확인\n",
    "df_station[df_station[\"대여소번호\"] == 1042]"
   ]
  },
  {
   "cell_type": "code",
   "execution_count": null,
   "metadata": {},
   "outputs": [],
   "source": [
    "# csv 파일로 저장\n",
    "df_station.to_csv(\"data/bike-station-no-name.csv\", index=False)"
   ]
  },
  {
   "cell_type": "code",
   "execution_count": null,
   "metadata": {},
   "outputs": [],
   "source": [
    "# csv 파일이 제대로 저장되었는지 확인\n",
    "pd.read_csv(\"data/bike-station-no-name.csv\").head()"
   ]
  },
  {
   "cell_type": "code",
   "execution_count": null,
   "metadata": {},
   "outputs": [],
   "source": []
  }
 ],
 "metadata": {
  "kernelspec": {
   "display_name": "Python 3",
   "language": "python",
   "name": "python3"
  },
  "language_info": {
   "codemirror_mode": {
    "name": "ipython",
    "version": 3
   },
   "file_extension": ".py",
   "mimetype": "text/x-python",
   "name": "python",
   "nbconvert_exporter": "python",
   "pygments_lexer": "ipython3",
   "version": "3.6.1"
  },
  "varInspector": {
   "cols": {
    "lenName": 16,
    "lenType": 16,
    "lenVar": 40
   },
   "kernels_config": {
    "python": {
     "delete_cmd_postfix": "",
     "delete_cmd_prefix": "del ",
     "library": "var_list.py",
     "varRefreshCmd": "print(var_dic_list())"
    },
    "r": {
     "delete_cmd_postfix": ") ",
     "delete_cmd_prefix": "rm(",
     "library": "var_list.r",
     "varRefreshCmd": "cat(var_dic_list()) "
    }
   },
   "types_to_exclude": [
    "module",
    "function",
    "builtin_function_or_method",
    "instance",
    "_Feature"
   ],
   "window_display": false
  }
 },
 "nbformat": 4,
 "nbformat_minor": 2
}
