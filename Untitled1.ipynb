{
 "cells": [
  {
   "cell_type": "code",
   "execution_count": 9,
   "metadata": {},
   "outputs": [
    {
     "name": "stdout",
     "output_type": "stream",
     "text": [
      "['네, 안녕하세요.', '반갑습니다.']\n",
      "[('오류', 'NNG'),\n",
      " ('보고', 'NNG'),\n",
      " ('는', 'JX'),\n",
      " ('실행', 'NNG'),\n",
      " ('환경', 'NNG'),\n",
      " (',', 'SP'),\n",
      " ('에러', 'NNG'),\n",
      " ('메세지', 'NNG'),\n",
      " ('와', 'JKM'),\n",
      " ('함께', 'MAG'),\n",
      " ('설명', 'NNG'),\n",
      " ('을', 'JKO'),\n",
      " ('최대한', 'NNG'),\n",
      " ('상세히', 'MAG'),\n",
      " ('!', 'SF'),\n",
      " ('^^', 'EMO')]\n"
     ]
    }
   ],
   "source": [
    "from konlpy.tag import Kkma\n",
    "from konlpy.utils import pprint\n",
    "kkma = Kkma()\n",
    "pprint(kkma.sentences(u'네, 안녕하세요. 반갑습니다.'))\n",
    "pprint(kkma.pos(u'오류보고는 실행환경, 에러메세지와함께 설명을 최대한상세히!^^'))"
   ]
  },
  {
   "cell_type": "code",
   "execution_count": 7,
   "metadata": {},
   "outputs": [],
   "source": [
    "import requests\n",
    "import pandas as pd\n",
    "\n",
    "url = \"https://finance.naver.com/news/mainnews.naver\"\n",
    "headers = {\n",
    "    \"referer\" : url,    \n",
    "    \"user-agent\" : \"Mozilla/5.0 (Windows NT 10.0; Win64; x64) AppleWebKit/537.36 (KHTML, like Gecko) Chrome/97.0.4692.71 Safari/537.36\" \n",
    "}\n",
    "url = url\n",
    "res = requests.get(url=url, headers=headers)\n",
    "df_data = pd.read_html(res.text)"
   ]
  },
  {
   "cell_type": "code",
   "execution_count": 8,
   "metadata": {},
   "outputs": [
    {
     "data": {
      "text/plain": [
       "[   0\n",
       " 0  1,\n",
       "     0       1       2   3\n",
       " 0 NaN    삼성전자   64800 NaN\n",
       " 1 NaN    펄어비스   67000 NaN\n",
       " 2 NaN   케이엔제이   14150 NaN\n",
       " 3 NaN   제이브이엠   18550 NaN\n",
       " 4 NaN  SK하이닉스  109500 NaN]"
      ]
     },
     "execution_count": 8,
     "metadata": {},
     "output_type": "execute_result"
    }
   ],
   "source": [
    "df_data"
   ]
  },
  {
   "cell_type": "code",
   "execution_count": null,
   "metadata": {},
   "outputs": [],
   "source": []
  }
 ],
 "metadata": {
  "kernelspec": {
   "display_name": "Python 3 (ipykernel)",
   "language": "python",
   "name": "python3"
  },
  "language_info": {
   "codemirror_mode": {
    "name": "ipython",
    "version": 3
   },
   "file_extension": ".py",
   "mimetype": "text/x-python",
   "name": "python",
   "nbconvert_exporter": "python",
   "pygments_lexer": "ipython3",
   "version": "3.9.7"
  }
 },
 "nbformat": 4,
 "nbformat_minor": 4
}
