{
 "cells": [
  {
   "cell_type": "markdown",
   "id": "034ccf9b-e61f-481e-9abd-0e2b37462008",
   "metadata": {},
   "source": [
    "# 함수형 프로그래밍 모듈\n",
    "\n",
    "함수형 프로그래밍(Functional Programming)은 자료 처리를 수학적 함수의 계산으로 취급하고 상태와 가변 데이터를 멀리하는 프로그래밍 패러다임의 하나이다.\n",
    "Functional Programming is programming without assignment satements"
   ]
  },
  {
   "cell_type": "markdown",
   "id": "9dba2d0b-1552-4143-baa1-b144666be616",
   "metadata": {},
   "source": [
    "# itertools.cycle - 무한 반복자"
   ]
  },
  {
   "cell_type": "code",
   "execution_count": 2,
   "id": "6a68049a-52e5-4311-ac06-f83d9208fc66",
   "metadata": {},
   "outputs": [],
   "source": [
    "import itertools"
   ]
  },
  {
   "cell_type": "code",
   "execution_count": 12,
   "id": "badf19fb-73bb-446f-bd63-1216f2795501",
   "metadata": {},
   "outputs": [],
   "source": [
    "# 상담원을 요청할때마다 순서대로 상담원을 리턴하는 프로그램을 작성하시오.\n",
    "emp_pool = itertools.cycle(['김은경', '이명자', '이성진'])"
   ]
  },
  {
   "cell_type": "code",
   "execution_count": 13,
   "id": "a217f868-eb8e-424e-a3ac-ccdcf914ef0c",
   "metadata": {},
   "outputs": [
    {
     "data": {
      "text/plain": [
       "'김은경'"
      ]
     },
     "execution_count": 13,
     "metadata": {},
     "output_type": "execute_result"
    }
   ],
   "source": [
    "# 이터레이터의 다음 요소를 리턴하는 함수이다.\n",
    "next(emp_pool)"
   ]
  },
  {
   "cell_type": "code",
   "execution_count": 14,
   "id": "a3917b79-239d-4b99-a392-5321c1ea1252",
   "metadata": {},
   "outputs": [
    {
     "data": {
      "text/plain": [
       "'이명자'"
      ]
     },
     "execution_count": 14,
     "metadata": {},
     "output_type": "execute_result"
    }
   ],
   "source": [
    "next(emp_pool)"
   ]
  },
  {
   "cell_type": "code",
   "execution_count": 15,
   "id": "c92f7b42-5e60-465e-a805-6f9b4511c846",
   "metadata": {},
   "outputs": [
    {
     "data": {
      "text/plain": [
       "'이성진'"
      ]
     },
     "execution_count": 15,
     "metadata": {},
     "output_type": "execute_result"
    }
   ],
   "source": [
    "next(emp_pool)"
   ]
  },
  {
   "cell_type": "code",
   "execution_count": 16,
   "id": "47b1b3df-c0ca-4790-a176-b5ce8e100c2c",
   "metadata": {},
   "outputs": [
    {
     "data": {
      "text/plain": [
       "'김은경'"
      ]
     },
     "execution_count": 16,
     "metadata": {},
     "output_type": "execute_result"
    }
   ],
   "source": [
    "next(emp_pool)"
   ]
  },
  {
   "cell_type": "code",
   "execution_count": 17,
   "id": "bffcfec5-b88d-4e55-b72d-a42c1613675e",
   "metadata": {},
   "outputs": [
    {
     "data": {
      "text/plain": [
       "'이명자'"
      ]
     },
     "execution_count": 17,
     "metadata": {},
     "output_type": "execute_result"
    }
   ],
   "source": [
    "next(emp_pool)"
   ]
  },
  {
   "cell_type": "code",
   "execution_count": 18,
   "id": "b4ac49ca-4807-4d0e-a113-96b785b2c133",
   "metadata": {},
   "outputs": [
    {
     "data": {
      "text/plain": [
       "'이성진'"
      ]
     },
     "execution_count": 18,
     "metadata": {},
     "output_type": "execute_result"
    }
   ],
   "source": [
    "next(emp_pool)"
   ]
  },
  {
   "cell_type": "code",
   "execution_count": 19,
   "id": "95cd0c8e-2a7c-4363-9834-bb9e0b6b971c",
   "metadata": {},
   "outputs": [
    {
     "name": "stdout",
     "output_type": "stream",
     "text": [
      "김은경\n",
      "이명자\n",
      "이성진\n",
      "김은경\n",
      "이명자\n",
      "이성진\n",
      "김은경\n",
      "이명자\n",
      "이성진\n",
      "김은경\n"
     ]
    }
   ],
   "source": [
    "for _ in range(10):\n",
    "    print(next(emp_pool))"
   ]
  },
  {
   "cell_type": "markdown",
   "id": "bf574c64-dba4-470c-b1d0-2a92f4ca2d7e",
   "metadata": {},
   "source": [
    "# itertools.accumulate - 누적합 계산"
   ]
  },
  {
   "cell_type": "code",
   "execution_count": 21,
   "id": "007016d4-7d20-4f06-9c59-00debc26da29",
   "metadata": {},
   "outputs": [],
   "source": [
    "monthly_income = [1161, 1814, 1270, 2256, 1413, 1842, 2221, 2207, 2450, 2823, 2540, 2134]"
   ]
  },
  {
   "cell_type": "code",
   "execution_count": 22,
   "id": "9551de0a-a57a-4548-9239-18f9354bdbc0",
   "metadata": {},
   "outputs": [
    {
     "data": {
      "text/plain": [
       "[1161, 2975, 4245, 6501, 7914, 9756, 11977, 14184, 16634, 19457, 21997, 24131]"
      ]
     },
     "execution_count": 22,
     "metadata": {},
     "output_type": "execute_result"
    }
   ],
   "source": [
    "result = list(itertools.accumulate(monthly_income))\n",
    "result"
   ]
  },
  {
   "cell_type": "code",
   "execution_count": 23,
   "id": "ef35094a-e58c-46dd-bccb-78b59bb2833c",
   "metadata": {},
   "outputs": [
    {
     "data": {
      "text/plain": [
       "[1161, 1814, 1814, 2256, 2256, 2256, 2256, 2256, 2450, 2823, 2823, 2823]"
      ]
     },
     "execution_count": 23,
     "metadata": {},
     "output_type": "execute_result"
    }
   ],
   "source": [
    "# 월 별 누적 최댓값 보기\n",
    "result = list(itertools.accumulate(monthly_income, max))\n",
    "result"
   ]
  },
  {
   "cell_type": "markdown",
   "id": "c89fb738-4ca4-4e4e-ad4b-ecbfbcf24531",
   "metadata": {},
   "source": [
    "# itertools.groupby - 키값으로 분류"
   ]
  },
  {
   "cell_type": "code",
   "execution_count": 26,
   "id": "385ca86a-4f63-4073-8909-30da2a723b84",
   "metadata": {},
   "outputs": [
    {
     "data": {
      "text/plain": [
       "[{'name': '이민서', 'blood': 'O'},\n",
       " {'name': '이영순', 'blood': 'B'},\n",
       " {'name': '이상호', 'blood': 'AB'},\n",
       " {'name': '김지민', 'blood': 'B'},\n",
       " {'name': '최상현', 'blood': 'AB'},\n",
       " {'name': '김지아', 'blood': 'A'},\n",
       " {'name': '손우진', 'blood': 'A'},\n",
       " {'name': '박은주', 'blood': 'A'}]"
      ]
     },
     "execution_count": 26,
     "metadata": {},
     "output_type": "execute_result"
    }
   ],
   "source": [
    "data = [\n",
    "    {'name': '이민서', 'blood': 'O'},\n",
    "    {'name': '이영순', 'blood': 'B'},\n",
    "    {'name': '이상호', 'blood': 'AB'},\n",
    "    {'name': '김지민', 'blood': 'B'},\n",
    "    {'name': '최상현', 'blood': 'AB'},\n",
    "    {'name': '김지아', 'blood': 'A'},\n",
    "    {'name': '손우진', 'blood': 'A'},\n",
    "    {'name': '박은주', 'blood': 'A'}\n",
    "]\n",
    "data"
   ]
  },
  {
   "cell_type": "code",
   "execution_count": 27,
   "id": "8aae8935-5841-4c7f-913f-0fa8c707f313",
   "metadata": {},
   "outputs": [],
   "source": [
    "import operator"
   ]
  },
  {
   "cell_type": "code",
   "execution_count": 40,
   "id": "62ed6f08-6ffe-4fe4-9c32-9c8be5b6567c",
   "metadata": {},
   "outputs": [
    {
     "data": {
      "text/plain": [
       "[{'name': '김지아', 'blood': 'A'},\n",
       " {'name': '손우진', 'blood': 'A'},\n",
       " {'name': '박은주', 'blood': 'A'},\n",
       " {'name': '이상호', 'blood': 'AB'},\n",
       " {'name': '최상현', 'blood': 'AB'},\n",
       " {'name': '이영순', 'blood': 'B'},\n",
       " {'name': '김지민', 'blood': 'B'},\n",
       " {'name': '이민서', 'blood': 'O'}]"
      ]
     },
     "execution_count": 40,
     "metadata": {},
     "output_type": "execute_result"
    }
   ],
   "source": [
    "# 정렬없이 적용하면 뒤죽박죽이 됨\n",
    "data = sorted(data, key=operator.itemgetter('blood'))\n",
    "data"
   ]
  },
  {
   "cell_type": "code",
   "execution_count": 41,
   "id": "506fac5e-22e3-43ae-bbd7-1c08044f8622",
   "metadata": {},
   "outputs": [
    {
     "data": {
      "text/plain": [
       "<itertools.groupby at 0x7faf904b61d0>"
      ]
     },
     "execution_count": 41,
     "metadata": {},
     "output_type": "execute_result"
    }
   ],
   "source": [
    "grouped_data = itertools.groupby(data, key=operator.itemgetter('blood'))\n",
    "grouped_data"
   ]
  },
  {
   "cell_type": "code",
   "execution_count": 42,
   "id": "ea7f5e50-fe6a-4082-8c08-e38d9ae570e5",
   "metadata": {},
   "outputs": [
    {
     "data": {
      "text/plain": [
       "{'A': [{'name': '김지아', 'blood': 'A'},\n",
       "  {'name': '손우진', 'blood': 'A'},\n",
       "  {'name': '박은주', 'blood': 'A'}],\n",
       " 'AB': [{'name': '이상호', 'blood': 'AB'}, {'name': '최상현', 'blood': 'AB'}],\n",
       " 'B': [{'name': '이영순', 'blood': 'B'}, {'name': '김지민', 'blood': 'B'}],\n",
       " 'O': [{'name': '이민서', 'blood': 'O'}]}"
      ]
     },
     "execution_count": 42,
     "metadata": {},
     "output_type": "execute_result"
    }
   ],
   "source": [
    "result = {}\n",
    "for key, group_data in grouped_data:\n",
    "    result[key] = list(group_data)\n",
    "    \n",
    "result"
   ]
  },
  {
   "cell_type": "markdown",
   "id": "4f4b6204-7b28-4e08-a23c-5de6356bc188",
   "metadata": {},
   "source": [
    "# itertools.zip_longest - 사이즈가 큰 것을 기준으로 묶기"
   ]
  },
  {
   "cell_type": "code",
   "execution_count": 43,
   "id": "4fec9a97-153b-46b5-9058-01190be6ca60",
   "metadata": {},
   "outputs": [],
   "source": [
    "students = ['한민서', '황지민', '이영철', '이광수', '김승민']\n",
    "rewards = ['사탕', '초컬릿', '젤리']"
   ]
  },
  {
   "cell_type": "code",
   "execution_count": 45,
   "id": "17373b03-250a-4dfe-a403-2ed50d55ed79",
   "metadata": {},
   "outputs": [
    {
     "name": "stdout",
     "output_type": "stream",
     "text": [
      "[('한민서', '사탕'), ('황지민', '초컬릿'), ('이영철', '젤리')]\n"
     ]
    }
   ],
   "source": [
    "result = zip(students, rewards)\n",
    "# 갯수가 일치하지 않아 적은 것만큼 생성\n",
    "print(list(result))"
   ]
  },
  {
   "cell_type": "code",
   "execution_count": 47,
   "id": "3a03cb34-ae22-476b-b936-f2f28ec58b16",
   "metadata": {},
   "outputs": [
    {
     "data": {
      "text/plain": [
       "[('한민서', '사탕'), ('황지민', '초컬릿'), ('이영철', '젤리'), ('이광수', '새우깡'), ('김승민', '새우깡')]"
      ]
     },
     "execution_count": 47,
     "metadata": {},
     "output_type": "execute_result"
    }
   ],
   "source": [
    "result = itertools.zip_longest(students, rewards, fillvalue=\"새우깡\")\n",
    "list(result)"
   ]
  },
  {
   "cell_type": "markdown",
   "id": "79a02333-dddc-4b39-985e-b05057f9f381",
   "metadata": {},
   "source": [
    "# itertools.permutations - 순열"
   ]
  },
  {
   "cell_type": "code",
   "execution_count": 52,
   "id": "e9da64de-3b3a-4a0f-8110-fb0fd8aeb95c",
   "metadata": {},
   "outputs": [
    {
     "data": {
      "text/plain": [
       "[('1', '2'), ('1', '3'), ('2', '1'), ('2', '3'), ('3', '1'), ('3', '2')]"
      ]
     },
     "execution_count": 52,
     "metadata": {},
     "output_type": "execute_result"
    }
   ],
   "source": [
    "# 2자리 숫자의 총 경우의 수\n",
    "list(itertools.permutations(['1', '2', '3'], 2))"
   ]
  },
  {
   "cell_type": "code",
   "execution_count": 53,
   "id": "b8234737-d969-4de5-91e4-8675872cd742",
   "metadata": {},
   "outputs": [
    {
     "name": "stdout",
     "output_type": "stream",
     "text": [
      "12\n",
      "13\n",
      "21\n",
      "23\n",
      "31\n",
      "32\n"
     ]
    }
   ],
   "source": [
    "for a, b in itertools.permutations(['1', '2', '3'], 2):\n",
    "    print(a + b)"
   ]
  },
  {
   "cell_type": "code",
   "execution_count": 56,
   "id": "3142db47-c90c-4eab-bb65-3c82cc33421c",
   "metadata": {},
   "outputs": [
    {
     "data": {
      "text/plain": [
       "[('1', '2'), ('1', '3'), ('2', '3')]"
      ]
     },
     "execution_count": 56,
     "metadata": {},
     "output_type": "execute_result"
    }
   ],
   "source": [
    "# 2개의 조합을 고르는 경우의 수\n",
    "list(itertools.combinations(['1', '2', '3'], 2))"
   ]
  },
  {
   "cell_type": "markdown",
   "id": "dd207a8e-7bbe-4d49-b341-bb9df4974882",
   "metadata": {},
   "source": [
    "# itertools.combinations - 조합"
   ]
  },
  {
   "cell_type": "code",
   "execution_count": 9,
   "id": "06b9a650-0c70-4046-b426-1b0d4b28d4e7",
   "metadata": {},
   "outputs": [
    {
     "data": {
      "text/plain": [
       "8145060"
      ]
     },
     "execution_count": 9,
     "metadata": {},
     "output_type": "execute_result"
    }
   ],
   "source": [
    "# 중복 미허용\n",
    "it = itertools.combinations(range(1, 46), 6)\n",
    "len(list(it))"
   ]
  },
  {
   "cell_type": "code",
   "execution_count": 10,
   "id": "13ad7a4d-7878-425a-863a-3e7d5ee57da1",
   "metadata": {},
   "outputs": [
    {
     "data": {
      "text/plain": [
       "15890700"
      ]
     },
     "execution_count": 10,
     "metadata": {},
     "output_type": "execute_result"
    }
   ],
   "source": [
    "# 중복조합\n",
    "len(list(itertools.combinations_with_replacement(range(1, 46), 6)))"
   ]
  },
  {
   "cell_type": "markdown",
   "id": "eef4fa7d-faf6-402e-abb5-bd5c4a53294d",
   "metadata": {},
   "source": [
    "# functools.cmp_to_key - 함수로 정렬"
   ]
  },
  {
   "cell_type": "code",
   "execution_count": 11,
   "id": "5f40c764-a9f0-43db-9bc1-2533363ba707",
   "metadata": {},
   "outputs": [],
   "source": [
    "import functools"
   ]
  },
  {
   "cell_type": "code",
   "execution_count": 16,
   "id": "c65208d4-b85a-416c-9b4b-67d2241fe345",
   "metadata": {},
   "outputs": [
    {
     "name": "stdout",
     "output_type": "stream",
     "text": [
      "[(1, -1), (1, 2), (2, 2), (3, 3), (0, 4)]\n"
     ]
    }
   ],
   "source": [
    "def xy_compare(n1, n2):\n",
    "    if n1[1] > n2[1]:         # y 좌표가 크면\n",
    "        return 1\n",
    "    elif n1[1] == n2[1]:      # y 좌표가 같으면\n",
    "        if n1[0] > n2[0]:     # x 좌표가 크면\n",
    "            return 1\n",
    "        elif n1[0] == n2[0]:  # x 좌표가 같으면\n",
    "            return 0\n",
    "        else:                 # x 좌표가 작으면\n",
    "            return -1\n",
    "    else:                     # y 좌표가 작으면\n",
    "        return -1\n",
    "    \n",
    "src = [(0, 4), (1, 2), (1, -1), (2, 2), (3, 3)]\n",
    "# functools.cmp_to_key(func) 함수는 sorted와 같은 정렬 함수의 key 매개변수에 함수(func)를 전달할 때 사용하는 함수이다.\n",
    "# 단, func 함수는 두 개의 인수를 받아들이고,\n",
    "# 첫번째 인수를 기준으로 그들을 비교하여, 작으면 음수, 같으면 0, 크면 양수를 반환하는 비교 함수이어야 한다.\n",
    "result = sorted(src, key=functools.cmp_to_key(xy_compare))\n",
    "\n",
    "print(result)"
   ]
  },
  {
   "cell_type": "markdown",
   "id": "bfd89a0c-679f-4886-a758-ac9ef031370f",
   "metadata": {},
   "source": [
    "# functools.partial - 인수를 지정하여 함수 재정의"
   ]
  },
  {
   "cell_type": "code",
   "execution_count": 17,
   "id": "60193eb7-0b1e-449b-b6be-1dc8be778b72",
   "metadata": {},
   "outputs": [],
   "source": [
    "from functools import partial"
   ]
  },
  {
   "cell_type": "code",
   "execution_count": 18,
   "id": "7af069e7-9f7f-4be5-909c-4e6d0fc4d3d3",
   "metadata": {},
   "outputs": [],
   "source": [
    "def add_mul(choice, *args):\n",
    "    if choice == \"add\":\n",
    "        result = 0\n",
    "        for i in args:\n",
    "            result = result + i\n",
    "    elif choice == \"mul\":\n",
    "        result = 1\n",
    "        for i in args:\n",
    "            result = result * i\n",
    "    return result"
   ]
  },
  {
   "cell_type": "code",
   "execution_count": 20,
   "id": "4aeea3fb-9ba0-4a53-96c2-bcbd65ce03b5",
   "metadata": {},
   "outputs": [],
   "source": [
    "add = partial(add_mul, 'add')\n",
    "mul = partial(add_mul, 'mul')"
   ]
  },
  {
   "cell_type": "code",
   "execution_count": 21,
   "id": "5858e7a7-8ef6-4712-8aa4-aee3994b98d0",
   "metadata": {},
   "outputs": [
    {
     "name": "stdout",
     "output_type": "stream",
     "text": [
      "15\n"
     ]
    }
   ],
   "source": [
    "print(add(1, 2, 3, 4, 5))"
   ]
  },
  {
   "cell_type": "code",
   "execution_count": 22,
   "id": "31db14f3-8b89-4890-a823-2237cb876480",
   "metadata": {},
   "outputs": [
    {
     "name": "stdout",
     "output_type": "stream",
     "text": [
      "120\n"
     ]
    }
   ],
   "source": [
    "print(mul(1, 2, 3, 4, 5))"
   ]
  },
  {
   "cell_type": "code",
   "execution_count": 24,
   "id": "884abc52-17b0-444e-83d8-176451797a32",
   "metadata": {},
   "outputs": [
    {
     "data": {
      "text/plain": [
       "101"
      ]
     },
     "execution_count": 24,
     "metadata": {},
     "output_type": "execute_result"
    }
   ],
   "source": [
    "add = partial(add_mul, 'add', 100)\n",
    "add(1)"
   ]
  },
  {
   "cell_type": "code",
   "execution_count": 25,
   "id": "a6498043-bf54-4e34-a36e-ed887e04c9ca",
   "metadata": {},
   "outputs": [
    {
     "data": {
      "text/plain": [
       "6000"
      ]
     },
     "execution_count": 25,
     "metadata": {},
     "output_type": "execute_result"
    }
   ],
   "source": [
    "mul = partial(add_mul, 'mul', 1000)\n",
    "mul(2, 3)"
   ]
  },
  {
   "cell_type": "code",
   "execution_count": 26,
   "id": "559d394c-31ff-4d0d-b89d-545d8202c5c8",
   "metadata": {},
   "outputs": [
    {
     "name": "stdout",
     "output_type": "stream",
     "text": [
      "<function add_mul at 0x7fcf482cef70>\n"
     ]
    }
   ],
   "source": [
    "print(add.func)"
   ]
  },
  {
   "cell_type": "code",
   "execution_count": 27,
   "id": "482eced6-abe3-456a-8b63-10b455f5f92f",
   "metadata": {},
   "outputs": [
    {
     "name": "stdout",
     "output_type": "stream",
     "text": [
      "('add', 100)\n"
     ]
    }
   ],
   "source": [
    "print(add.args)"
   ]
  },
  {
   "cell_type": "markdown",
   "id": "28d3e2ee-ba96-4f50-887e-b8537583b5fb",
   "metadata": {},
   "source": [
    "# functools.reduce - 함수 적용하여 단일값으로 줄여나가기"
   ]
  },
  {
   "cell_type": "code",
   "execution_count": 29,
   "id": "1c9b38c5-2910-4f3b-ad6b-e1fe51958327",
   "metadata": {},
   "outputs": [
    {
     "data": {
      "text/plain": [
       "15"
      ]
     },
     "execution_count": 29,
     "metadata": {},
     "output_type": "execute_result"
    }
   ],
   "source": [
    "data = [1, 2, 3, 4, 5]\n",
    "# reduce에 선언된 lambda 함수를 data의 요소들에 차례대로 누적 적용하여 다음과 같이 계산된다.\n",
    "result = functools.reduce(lambda x, y: x + y, data)\n",
    "result"
   ]
  },
  {
   "cell_type": "code",
   "execution_count": 30,
   "id": "c1cde1e5-8fe6-4b75-ba20-d66d070a9e99",
   "metadata": {},
   "outputs": [
    {
     "data": {
      "text/plain": [
       "8"
      ]
     },
     "execution_count": 30,
     "metadata": {},
     "output_type": "execute_result"
    }
   ],
   "source": [
    "# 최댓값 구하기\n",
    "num_list = [3, 2, 8, 1, 6, 7]\n",
    "max_num = functools.reduce(lambda x, y: x if x > y else y, num_list)\n",
    "max_num"
   ]
  },
  {
   "cell_type": "code",
   "execution_count": 31,
   "id": "c1f6a0c7-ee9d-4d96-8f51-d6899d42d764",
   "metadata": {},
   "outputs": [
    {
     "data": {
      "text/plain": [
       "1"
      ]
     },
     "execution_count": 31,
     "metadata": {},
     "output_type": "execute_result"
    }
   ],
   "source": [
    "# 최소값 구하기\n",
    "min_num = functools.reduce(lambda x, y: x if x < y else y, num_list)\n",
    "min_num"
   ]
  },
  {
   "cell_type": "markdown",
   "id": "258cfcbd-98dc-48c6-a0db-b00a5bae8e54",
   "metadata": {},
   "source": [
    "# functools.wraps - 래퍼함수의 속성 유지\n",
    "\n",
    "@functools.wraps(wrapped)는 래퍼함수를 정의할 때 함수의 이름이나 설명문 같은 속성들을 유지할 수 있게 만들어 주는 데코레이터이다."
   ]
  },
  {
   "cell_type": "code",
   "execution_count": 32,
   "id": "a5a21b99-dd90-41c7-b2f1-ad292c3020dc",
   "metadata": {},
   "outputs": [],
   "source": [
    "import functools\n",
    "import time\n",
    "\n",
    "def elapsed(original_func):\n",
    "    @functools.wraps(original_func)  # 여기에 추가!!\n",
    "    def wrapper(*args, **kwargs):\n",
    "        start = time.time()\n",
    "        result = original_func(*args, **kwargs)\n",
    "        end = time.time()\n",
    "        print(\"함수 수행시간: %f 초\" % (end - start))\n",
    "        return result\n",
    "\n",
    "    return wrapper\n",
    "\n",
    "\n",
    "@elapsed\n",
    "def add(a, b):\n",
    "    \"\"\" 두 수 a, b를 더한값을 리턴하는 함수 \"\"\"\n",
    "    return a + b"
   ]
  },
  {
   "cell_type": "code",
   "execution_count": 34,
   "id": "72b41592-80ae-4f81-9a9c-8751762d7753",
   "metadata": {},
   "outputs": [
    {
     "name": "stdout",
     "output_type": "stream",
     "text": [
      "<function add at 0x7fcf482ce8b0>\n"
     ]
    }
   ],
   "source": [
    "print(add)"
   ]
  },
  {
   "cell_type": "code",
   "execution_count": 36,
   "id": "a9e4a6b7-6c88-464b-b69a-382a4c6df0bb",
   "metadata": {},
   "outputs": [
    {
     "name": "stdout",
     "output_type": "stream",
     "text": [
      "Help on function add in module __main__:\n",
      "\n",
      "add(a, b)\n",
      "    두 수 a, b를 더한값을 리턴하는 함수\n",
      "\n"
     ]
    }
   ],
   "source": [
    "help(add)"
   ]
  },
  {
   "cell_type": "code",
   "execution_count": 37,
   "id": "6916e61d-1da2-4292-88db-d13e800af6f1",
   "metadata": {},
   "outputs": [
    {
     "name": "stdout",
     "output_type": "stream",
     "text": [
      "함수 수행시간: 0.000001 초\n"
     ]
    },
    {
     "data": {
      "text/plain": [
       "4"
      ]
     },
     "execution_count": 37,
     "metadata": {},
     "output_type": "execute_result"
    }
   ],
   "source": [
    "add(1, 3)"
   ]
  },
  {
   "cell_type": "markdown",
   "id": "1b0b941a-26c6-4656-8c99-4da28e98f907",
   "metadata": {},
   "source": [
    "# operator.itemgetter - 다중 수준 정렬\n",
    "\n",
    "주로 sorted와 같은 함수의 key 매개변수에 적용되어 다중 수준의 정렬을 가능하게 해주는 모듈이다."
   ]
  },
  {
   "cell_type": "code",
   "execution_count": 38,
   "id": "c9c13803-1b57-4ca7-aa7a-4a114ff71cdd",
   "metadata": {},
   "outputs": [
    {
     "data": {
      "text/plain": [
       "[('jane', 22, 'A'), ('dave', 32, 'B'), ('sally', 17, 'B')]"
      ]
     },
     "execution_count": 38,
     "metadata": {},
     "output_type": "execute_result"
    }
   ],
   "source": [
    "students = [\n",
    "    (\"jane\", 22, 'A'),\n",
    "    (\"dave\", 32, 'B'),\n",
    "    (\"sally\", 17, 'B'),\n",
    "]\n",
    "students"
   ]
  },
  {
   "cell_type": "code",
   "execution_count": 40,
   "id": "a51255bd-c20c-4820-9d7a-1dd6e0e45498",
   "metadata": {},
   "outputs": [
    {
     "data": {
      "text/plain": [
       "[('sally', 17, 'B'), ('jane', 22, 'A'), ('dave', 32, 'B')]"
      ]
     },
     "execution_count": 40,
     "metadata": {},
     "output_type": "execute_result"
    }
   ],
   "source": [
    "from operator import itemgetter\n",
    "\n",
    "# itemgetter(1)은 students의 item인 튜플의 2번째 요소로 소트를 하겠다는 의미\n",
    "result = sorted(students, key=itemgetter(1))\n",
    "result"
   ]
  },
  {
   "cell_type": "code",
   "execution_count": 41,
   "id": "72be44b1-b68a-467c-af5a-7959aec2c827",
   "metadata": {},
   "outputs": [
    {
     "data": {
      "text/plain": [
       "[{'name': 'sally', 'age': 17, 'grade': 'B'},\n",
       " {'name': 'jane', 'age': 22, 'grade': 'A'},\n",
       " {'name': 'dave', 'age': 32, 'grade': 'B'}]"
      ]
     },
     "execution_count": 41,
     "metadata": {},
     "output_type": "execute_result"
    }
   ],
   "source": [
    "dict_students = [\n",
    "    {\"name\": \"jane\", \"age\": 22, \"grade\": 'A'},\n",
    "    {\"name\": \"dave\", \"age\": 32, \"grade\": 'B'},\n",
    "    {\"name\": \"sally\", \"age\": 17, \"grade\": 'B'},\n",
    "]\n",
    "\n",
    "result = sorted(dict_students, key=itemgetter('age'))\n",
    "result"
   ]
  },
  {
   "cell_type": "code",
   "execution_count": 44,
   "id": "5219f698-4c52-449d-80b5-f2f5b9a8ceb7",
   "metadata": {},
   "outputs": [],
   "source": [
    "# 만약 students 리스트의 요소가 튜플이 아닌 Student 클래스의 객체일 경우에는 다음처럼 attrgetter를 적용하여 소트해야 한다.\n",
    "from operator import attrgetter\n",
    "\n",
    "class Student:\n",
    "    def __init__(self, name, age, grade):\n",
    "        self.name = name\n",
    "        self.age = age\n",
    "        self.grade = grade\n",
    "        \n",
    "students = [\n",
    "    Student('jane', 22, 'A'),\n",
    "    Student('dave', 32, 'B'),\n",
    "    Student('sally', 17, 'B'),\n",
    "]\n",
    "\n",
    "result = sorted(students, key=attrgetter('age'))"
   ]
  },
  {
   "cell_type": "code",
   "execution_count": null,
   "id": "0ec3eb3c-c66f-4665-9a4e-58049b8372d0",
   "metadata": {},
   "outputs": [],
   "source": []
  }
 ],
 "metadata": {
  "kernelspec": {
   "display_name": "Python 3 (ipykernel)",
   "language": "python",
   "name": "python3"
  },
  "language_info": {
   "codemirror_mode": {
    "name": "ipython",
    "version": 3
   },
   "file_extension": ".py",
   "mimetype": "text/x-python",
   "name": "python",
   "nbconvert_exporter": "python",
   "pygments_lexer": "ipython3",
   "version": "3.9.7"
  }
 },
 "nbformat": 4,
 "nbformat_minor": 5
}
