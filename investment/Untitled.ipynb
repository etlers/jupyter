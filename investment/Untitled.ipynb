{
 "cells": [
  {
   "cell_type": "code",
   "execution_count": null,
   "id": "4abcb6a1-5290-4f5a-bead-37016a6f20e2",
   "metadata": {},
   "outputs": [],
   "source": [
    "# 네이버의 박은정 박사가 2015년에 발표한 “Naver Sentiment Movie Corpus v1.0\"을 이용해 긍정/부정 감성 분석을 해보자.\n",
    "# 여기에는 훈련 데이터로 15만개, 테스트 데이터로 5만개로 총 20만개의 리뷰가 있다.\n",
    "import tensorflow as tf\n",
    "# import numpy as np\n",
    "# import pandas as pd\n",
    "\n",
    "# #파일 다운로드\n",
    "# #urllib.request.urlretrieve(\"https://raw.githubusercontent.com/e9t/nsmc/master/ratings_train.txt\", filename=\"ratings_train.txt\")\n",
    "# #urllib.request.urlretrieve(\"https://raw.githubusercontent.com/e9t/nsmc/master/ratings_test.txt\", filename=\"ratings_test.txt\")\n",
    "\n",
    "# #파일 매칭\n",
    "# path_to_train_file = tf.keras.utils.get_file('train.txt', 'https://raw.githubusercontent.com/e9t/nsmc/master/ratings_train.txt')\n",
    "# path_to_test_file = tf.keras.utils.get_file('test.txt', 'https://raw.githubusercontent.com/e9t/nsmc/master/ratings_test.txt')\n",
    "\n",
    "# # 파일 주입\n",
    "# train_data = pd.read_table('ratings_train.txt')\n",
    "# test_data = pd.read_table('ratings_test.txt')\n",
    "\n",
    "# print(train_data[:5]) # 상위 5개 출력\n",
    "# print('훈련용 리뷰 개수 :',len(train_data))\n",
    "\n",
    "# train_text = open(path_to_train_file, 'rb').read().decode(encoding='utf-8')\n",
    "# test_text = open(path_to_test_file, 'rb').read().decode(encoding='utf-8')\n",
    "\n",
    "# # 텍스트가 총 몇 자인지 확인\n",
    "# print('Length of text: {} characters'.format(len(train_text)))\n",
    "# print(('Length of text: {} characters'.format(len(test_text))))\n",
    "\n",
    "# # 처음부터 500자를 확인 \n",
    "# print(train_text[:500])"
   ]
  },
  {
   "cell_type": "code",
   "execution_count": 1,
   "id": "1d62b55f-8113-4bfc-915b-7e54b7b4c217",
   "metadata": {},
   "outputs": [
    {
     "name": "stdout",
     "output_type": "stream",
     "text": [
      "Found existing installation: tensorflow 2.8.0\n",
      "Uninstalling tensorflow-2.8.0:\n",
      "  Would remove:\n",
      "    /Users/etlers/opt/anaconda3/bin/estimator_ckpt_converter\n",
      "    /Users/etlers/opt/anaconda3/bin/import_pb_to_tensorboard\n",
      "    /Users/etlers/opt/anaconda3/bin/saved_model_cli\n",
      "    /Users/etlers/opt/anaconda3/bin/tensorboard\n",
      "    /Users/etlers/opt/anaconda3/bin/tf_upgrade_v2\n",
      "    /Users/etlers/opt/anaconda3/bin/tflite_convert\n",
      "    /Users/etlers/opt/anaconda3/bin/toco\n",
      "    /Users/etlers/opt/anaconda3/bin/toco_from_protos\n",
      "    /Users/etlers/opt/anaconda3/lib/python3.9/site-packages/tensorflow-2.8.0.dist-info/*\n",
      "    /Users/etlers/opt/anaconda3/lib/python3.9/site-packages/tensorflow/*\n",
      "Proceed (Y/n)? ^C\n",
      "\u001b[31mERROR: Operation cancelled by user\u001b[0m\u001b[31m\n",
      "\u001b[0m"
     ]
    }
   ],
   "source": [
    "!pip uninstall tensorflow "
   ]
  },
  {
   "cell_type": "code",
   "execution_count": null,
   "id": "fe905f02-ae95-45b4-a038-2d7e99540fb5",
   "metadata": {},
   "outputs": [],
   "source": []
  }
 ],
 "metadata": {
  "kernelspec": {
   "display_name": "Python 3 (ipykernel)",
   "language": "python",
   "name": "python3"
  },
  "language_info": {
   "codemirror_mode": {
    "name": "ipython",
    "version": 3
   },
   "file_extension": ".py",
   "mimetype": "text/x-python",
   "name": "python",
   "nbconvert_exporter": "python",
   "pygments_lexer": "ipython3",
   "version": "3.9.7"
  }
 },
 "nbformat": 4,
 "nbformat_minor": 5
}
