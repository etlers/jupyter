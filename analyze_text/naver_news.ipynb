{
 "cells": [
  {
   "cell_type": "code",
   "execution_count": 1,
   "metadata": {},
   "outputs": [],
   "source": [
    "# 라이브러리 로드\n",
    "# requests는 작은 웹브라우저로 웹사이트 내용을 가져온다.\n",
    "import requests\n",
    "# BeautifulSoup 을 통해 읽어 온 웹페이지를 파싱한다.\n",
    "from bs4 import BeautifulSoup as bs\n",
    "# 크롤링 후 결과를 데이터프레임 형태로 보기 위해 불러온다.\n",
    "import pandas as pd\n",
    "\n",
    "from tqdm import trange"
   ]
  },
  {
   "cell_type": "code",
   "execution_count": 2,
   "metadata": {},
   "outputs": [
    {
     "data": {
      "text/plain": [
       "<Response [200]>"
      ]
     },
     "execution_count": 2,
     "metadata": {},
     "output_type": "execute_result"
    }
   ],
   "source": [
    "# 크롤링 할 사이트\n",
    "base_url = \"https://finance.naver.com/news/news_list.nhn?mode=RANK&page=2\"\n",
    "response = requests.get( base_url )\n",
    "response"
   ]
  },
  {
   "cell_type": "code",
   "execution_count": 24,
   "metadata": {},
   "outputs": [],
   "source": [
    "soup = bs(response.text, 'html.parser')\n",
    "\n",
    "content = soup.select(\"div.hotNewsList\")\n",
    "list_content = str(content).split(\"\\n\")"
   ]
  },
  {
   "cell_type": "code",
   "execution_count": 43,
   "metadata": {},
   "outputs": [
    {
     "data": {
      "text/plain": [
       "['미래에셋, 상품기준 대폭 강화…미달되면 퇴출',\n",
       " '[표]16일 채권시장 종합 - 금리동향',\n",
       " '프랑스, 야외에서는 노 마스크···20일부터 야간 통금도 해제',\n",
       " '[다시 뜨는 ISA] 삼성증권, 온라인 주식거래 수수료, 평생 걱정 끝',\n",
       " '[다시 뜨는 ISA] KB증권, 공모주 청약 200% 우대 연말까지 진행',\n",
       " '증선위, 회계처리 위반 이씨스에 검찰통보·과징금',\n",
       " '이노뎁, 18일 코스닥 신규 상장',\n",
       " '증선위, 회계처리 기준 위반 이씨스 검찰통보',\n",
       " '지엠티, 해경 선박교통관제 시스템 기술 개발',\n",
       " \"'전차' 부대 돌아오나…삼전과 현대차, 지수상승 견인\",\n",
       " \"[단독] 정유경의 신세계百, 2조원에 '휴젤' 품는다\",\n",
       " \"낸드에 파운드리까지…SK하이닉스 '덩치 키우기'\",\n",
       " \"이씨스, 회계처리기준 위반으로 '과징금 1억3000만원·검찰통보' 처분\",\n",
       " '[그래픽] 크래프톤 기업가치 얼마나 될까',\n",
       " \"코스피 '또' 사상 최고치 찍었다는데... 시장 분위기는 왜 잠잠?\",\n",
       " '외국인, 은행주 폭풍 매도 이유는',\n",
       " '[코스닥 마감]개인 매수에 소폭 상승…천스닥 2번 시도',\n",
       " '아모센스, 일반 청약 경쟁률 26.56대 1...25일 코스닥 상장',\n",
       " \"연일 최고가 코스피에 '악소리' 나는 곱버스 동학개미\",\n",
       " \"7월의 보너스 두둑···중간배당 공시 '역대 최다'\",\n",
       " '코스피 사흘째 사상 최고…외국인·기관 순매수',\n",
       " '엇갈리는 원자재 가격..또 다시 불붙는 인플레이션 논쟁',\n",
       " '[Asia오전] 내일 새벽 美 FOMC를 기다린다',\n",
       " '[Asia마감] 미국 FOMC 경계감에 하락',\n",
       " \"FSN, 7년만에 '옐로모바일' 계열 분리…최대주주 변경\",\n",
       " '증선위, 회계처리 기준 위반 이씨스...검찰 고발·과장금 1.3억 부과',\n",
       " \"이스타항공 새 주인 성정으로 '가닥'… 쌍방울 주가 하루만에 '곤두박질'\",\n",
       " \"[특징주] '이베이코리아 인수 유력' 이마트·네이버 강세\",\n",
       " '[외환마감]FOMC 발표 앞두고 미국채 상승..환율, 1110원 후반 강보합',\n",
       " '[다시 뜨는 ISA] 미래에셋증권, 가입액 500만원 이상, 백화점상품권 쏜다',\n",
       " '성정, 이스타항공 인수확정?...\"사실과 달라\"\\'>성정, 이스타항공 인수확정?...\"사실과 달라\"',\n",
       " '한국투자증권, 라임 등 부실 사모펀드 전액 선보상 결정',\n",
       " \"코스피 최고치 '우리만의 잔치'?…테이퍼링만큼 중요한 것은\",\n",
       " '한국투자밸류 벤치마킹?… 트러스톤운용에 쏠린 눈',\n",
       " \"[굿모닝 증시]'진격의 코스피 제동'…FOMC 앞두고 경계감 '관망심리'\",\n",
       " '증선위, 이씨스 검찰 고발하기로···회계처리 기준 위반',\n",
       " '솔루엠, 시스코와 ESL 통합 솔루션 구축',\n",
       " '[표]아시아 주요 증시 동향(6월 16일)',\n",
       " '\"일상서 건강 챙기세요\"…MBN 건강미박람회 개최\\'>\"일상서 건강 챙기세요\"…MBN 건강미박람회 개최',\n",
       " '콘서트 재개로 엔터주 ‘날개’ 에스엠, 3개월만에 73% ↑',\n",
       " '[다시 뜨는 ISA] 하나금융투자, `럭키7` 잡아라… 777명에 年7.7% 특판RP',\n",
       " '[다시 뜨는 ISA] 직접 투자·절세 혜택… `중개형 ISA` 비과세 국민계좌 도약',\n",
       " '\"펀드 선정 외부에 맡길 것\"… 미래에셋, 책임경영 잰걸음\\'>\"펀드 선정 외부에 맡길 것\"… 미래에셋, 책임경영 잰걸음',\n",
       " 'NH투자증권, 절세에 매매수수료 완전무료까지',\n",
       " '호날두 때문에 코카콜라 주식 4조5천억 사라져…기자회견장서 무슨 일이?',\n",
       " '묻어두면 돈 될만한 드론株 \"나요 나\"\\'>묻어두면 돈 될만한 드론株 \"나요 나\"',\n",
       " '[표]코스닥 기관·외국인·개인 순매수·도 상위종목(6월 16일-최종치)',\n",
       " '[시황종합]코스피 3278.68 사흘째 사상최고…네이버 시총 3위 복귀',\n",
       " '한투증권, 부실 사모펀드 투자금 전액보상',\n",
       " '16일 장 마감 후 주요 종목 뉴스',\n",
       " 'KB증권, 금융투자상품쿠폰 판매액 120억 돌파',\n",
       " '\"코스피는 최고치인데…내 수익률은 왜?\" 울상\\'>\"코스피는 최고치인데…내 수익률은 왜?\" 울상',\n",
       " \"조심조심하다 멈춰 선 '동학개미'…이러다 코스피 등지나\",\n",
       " '해외주식에 ETF·채권까지… 삼성 간편투자앱 O2 서비스',\n",
       " '‘긴축 불안’ 날렸다… 대형주 랠리에 코스피 사흘째 ‘新新新’',\n",
       " '[마켓뷰] 코스피, 3278.68 마감…3거래일 연속 사상 최고치',\n",
       " '[마감시황]코스피, 3일 연속 역대 최고…네이버 3위 탈환',\n",
       " '일본, 21일부터 도쿄·오사카 등 9곳 코로나19 해제한다',\n",
       " '[fn마켓워치]기업구조혁신펀드 PEF·PDF 숏리스트에 전원 포함',\n",
       " '[표]유가증권 코스닥 투자주체별 매매동향(6월 16일-최종치)',\n",
       " 'ABBC재단, 리얼리서치와 전략적 파트너십 위해 맞손',\n",
       " \"코웬이 꼽은 하반기 상승할 의류업 종목 '탑4'\",\n",
       " '[다시 뜨는 ISA] 한국투자증권, 스타일러·애플워치… 경품 놓치지마세요',\n",
       " '아워홈 지난해 첫 적자 기록…오너일가엔 760억 배당',\n",
       " '[표]유가증권 기관·외국인·개인 순매수·도 상위종목(6월 16일-최종치)',\n",
       " '장 마감 후 기업공시[6월16일]',\n",
       " '증선위, 회계위반 이씨스 검찰통보·과징금 1.3억 부과',\n",
       " '한국투자증권, 팝펀딩 등 판매책임 사모펀드 전액 보상',\n",
       " '건설주 슈퍼사이클 진입···대형 건설주 사야하는 이유는? [주코노미TV]',\n",
       " '한투, 라임 등 부실 사모펀드 투자원금 전액 보상',\n",
       " \"소리없이 강하다…상반기 수익률만 28% 찍은 '투자 전략'\",\n",
       " 'JP모건, 임지원·조윤제 위원 소수 의견 예상...\"올해 4분기 금리 인상할 것\"\\'>JP모건, 임지원·조윤제 위원 소수 의견 예상...\"올해 4분기..',\n",
       " \"[시그널] '거상'이 된 베인캐피털\",\n",
       " \"삼성증권, 편의성 보강한 새 MTS '오투' 출시\",\n",
       " '\"이달 말까지 입주권 준다\"…뒤집힌 기준에 투기 자극?\\'>\"이달 말까지 입주권 준다\"…뒤집힌 기준에 투기 자극?']"
      ]
     },
     "execution_count": 43,
     "metadata": {},
     "output_type": "execute_result"
    }
   ],
   "source": [
    "list_result = []\n",
    "\n",
    "for page in range(4):\n",
    "    base_url = f\"https://finance.naver.com/news/news_list.nhn?mode=RANK&page={page}\"\n",
    "    response = requests.get( base_url )\n",
    "    response\n",
    "    \n",
    "    soup = bs(response.text, 'html.parser')\n",
    "\n",
    "    content = soup.select(\"div.hotNewsList\")\n",
    "    list_content = str(content).split(\"\\n\")\n",
    "    \n",
    "    for str_content in list_content:\n",
    "        if \"href\" in str_content:\n",
    "            try:\n",
    "                head_line = str_content.split('title=')[1]\n",
    "            except:\n",
    "                head_line = str_content\n",
    "\n",
    "            list_result.append(head_line[1:].replace(\"&quot;\",\"\").replace(\"</a>\",\"\").split('\">')[0])\n",
    "            \n",
    "list_result = list(set(list_result))\n",
    "\n",
    "list_result"
   ]
  },
  {
   "cell_type": "code",
   "execution_count": null,
   "metadata": {},
   "outputs": [],
   "source": []
  }
 ],
 "metadata": {
  "kernelspec": {
   "display_name": "Python 3",
   "language": "python",
   "name": "python3"
  },
  "language_info": {
   "codemirror_mode": {
    "name": "ipython",
    "version": 3
   },
   "file_extension": ".py",
   "mimetype": "text/x-python",
   "name": "python",
   "nbconvert_exporter": "python",
   "pygments_lexer": "ipython3",
   "version": "3.8.5"
  }
 },
 "nbformat": 4,
 "nbformat_minor": 4
}
