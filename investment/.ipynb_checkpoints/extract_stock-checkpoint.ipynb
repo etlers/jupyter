{
 "cells": [
  {
   "cell_type": "markdown",
   "metadata": {},
   "source": [
    "# 틱: 주식 호가창 한칸의 가격 갭을 의미\n",
    "\n",
    "# EPS: 주당순이익(EPS)은 기업이 벌어들인 순이익(당기순이익)을 그 기업이 발행한 총 주식수로 나눈 값으로, 1주당 이익을 얼마나 창출하였느냐를 나타내는 지표이다. 즉 해당 회사가 1년간 올린 수익에 대한 주주의 몫을 나타내는 지표라 할 수 있다. 또한 주당순이익은 주가수익비율(PER)계산의 기초가 되기도 한다. EPS가 높을수록 주식의 투자 가치는 높다고 볼 수 있으며, 그만큼 해당 회사의 경영실적이 양호하다는 뜻이다. 따라서 배당 여력도 많으므로 주가에 긍정적인 영향을 미친다. EPS는 당기순이익 규모가 늘면 높아지게 되고, 전환사채의 주식전환이나 증자로 주식수가 많아지면 낮아지게 된다. 특히 최근 주식시장의 패턴이 기업의 수익성을 중시하는 쪽으로 바뀌면서 EPS의 크기가 중요시되고 있다.\n",
    "\n",
    "# PBR: 주가순자산비율. [주가 / 주당순자산가치] 현재 주가가 순자산에 비해서 몇배로 주식시장에 거래되는지 판단 가능. PBR이 1에 가깝거나 1 아래일수록 저평가. 단, 1일 경우는 저평가 이면서 시장에서 관심이 없는 종목이므로 조심해야 함. 'PBR = 0.1' 이라면 회사순자산은 1천만원인데 100만원에 주식시장에서 거래가 됨을 의미\n",
    "\n",
    "# PER: 주가수익비율. [주가 / 주당순이익(EPS)] 주식 1주당 만들어내는 이익의 크기로 보통 저평가주라고 사람들이 판단할때 PER이 낮은걸 주로 사는게 일반적인 방식. 현재 주가가 10만원인데 주당순이익이 1만원이면 'PER = 10'이 된다. 지금과 같은 매출, 이익을 10년동안 유재해야 지금의 주가가 타당하다. 마이너스이면 1주당 수익률 자체가 적자라 투자 위험. 10이상이면 고평가. 1에 가까울수록 저평가\n",
    "\n",
    "# ROA: 총자산 대비 얼마나 돈을 많이 버는지\n",
    "\n",
    "# ROE: 자기 자본 대비해서 얼마만큼의 이익을 내고 있는가를 보여주는 수치로 즉 10억을 가진 회사가 1만원의 이익을 내고 있다면 ROE는 낮을것이고 1억의 이익을 내는 중이라면 ROE는 높겠죠?\n",
    "\n",
    "# ROE, ROA는 좋고 PER, PBR이 낮으면 저평가 종목 가치주로 볼 수 있다."
   ]
  },
  {
   "cell_type": "code",
   "execution_count": 2,
   "metadata": {},
   "outputs": [],
   "source": [
    "import pandas as pd\n",
    "import requests\n",
    "import html5lib\n",
    "import lxml.html as lh\n",
    "from bs4 import BeautifulSoup as bs"
   ]
  },
  {
   "cell_type": "code",
   "execution_count": null,
   "metadata": {},
   "outputs": [],
   "source": [
    "!pip install lxml"
   ]
  },
  {
   "cell_type": "code",
   "execution_count": null,
   "metadata": {},
   "outputs": [],
   "source": [
    "# 종목\n",
    "df_jongmok = pd.read_csv(\"jongmok_list.csv\", encoding=\"CP949\")\n",
    "df_jongmok"
   ]
  },
  {
   "cell_type": "code",
   "execution_count": null,
   "metadata": {},
   "outputs": [],
   "source": [
    "base_url = \"https://navercomp.wisereport.co.kr/v2/company/c1010001.aspx?cmp_cd=091990\"\n",
    "response = requests.get( base_url, headers={\"User-agent\": \"Mozilla/5.0\"} )\n",
    "soup = bs(response.text, 'html.parser')"
   ]
  },
  {
   "cell_type": "code",
   "execution_count": null,
   "metadata": {},
   "outputs": [],
   "source": [
    "# 현금배당수익률, PER, PBR, EPS\n",
    "list_check = [\"현금배당수익률\", \"PER\", \"PBR\", \"EPS\"]\n",
    "list_num = [25,26,29,33]\n",
    "idx = 0\n",
    "for href in soup.find_all(\"tr\"):\n",
    "    idx += 1\n",
    "    if idx in list_num:\n",
    "        print(idx, href)"
   ]
  },
  {
   "cell_type": "code",
   "execution_count": null,
   "metadata": {},
   "outputs": [],
   "source": [
    "#Create a handle, page, to handle the contents of the website\n",
    "page = requests.get(base_url)\n",
    "#Store the contents of the website under doc\n",
    "doc = lh.fromstring(page.content)\n",
    "#Parse data that are stored between <tr>..</tr> of HTML\n",
    "tr_elements = doc.xpath('//*[@id=\"aFVlanREZS\"]/table[2]/tbody/tr[1]')\n",
    "\n",
    "# Create empty list\n",
    "col=[]\n",
    "i=0\n",
    "#For each row, store each first element (header) and an empty list\n",
    "for t in tr_elements[0]:\n",
    "    i+=1\n",
    "    name=t.text_content()\n",
    "    print(i,name)\n",
    "    col.append((name,[]))\n",
    "    \n",
    "col"
   ]
  },
  {
   "cell_type": "code",
   "execution_count": null,
   "metadata": {},
   "outputs": [],
   "source": [
    "# 시간별시세 가져오기\n",
    "# 하루에 단 두번만 매수 매도를 함.\n",
    "# https://finance.naver.com/item/sise_time.nhn?code=122630&thistime=20210405161045\n",
    "# <iframe name=\"day\" src=\"/item/sise_time.nhn?code=122630&amp;thistime=20210405161045\"</iframe>\n",
    "jongmok_code = '122630'\n",
    "page = '1'\n",
    "base_url = f\"https://finance.naver.com/item/sise_time.nhn?code={jongmok_code}&thistime=20210405161045&page={page}\"\n",
    "df_html = pd.read_html(base_url)[0]\n",
    "df_html\n",
    "\"\"\"\n",
    "response = requests.get( base_url, headers={\"User-agent\": \"Mozilla/5.0\"} )\n",
    "soup = bs(response.text, 'html.parser')\n",
    "idx = 0\n",
    "#href = soup.select(\"#content > div.section.inner_sub > iframe\")\n",
    "#print(href)\n",
    "for href in soup.find_all(\"tr\"):\n",
    "    idx += 1\n",
    "    print(idx, href)\n",
    "\"\"\""
   ]
  },
  {
   "cell_type": "code",
   "execution_count": null,
   "metadata": {},
   "outputs": [],
   "source": [
    "import random, os\n",
    "import pandas as pd"
   ]
  },
  {
   "cell_type": "code",
   "execution_count": null,
   "metadata": {},
   "outputs": [],
   "source": [
    "# 종목의 마감정보 추출\n",
    "list_title = [\"전일대비\",\"상승\",\"하락\",\"보합\",\"전일\",\"고가\",\"시가\",\"저가\"]\n",
    "list_jongmok = []\n",
    "list_jongmok_code = ['122630', '005930','352820']\n",
    "\n",
    "for jongmok_code in list_jongmok_code:\n",
    "    base_url = \"https://finance.naver.com/item/main.nhn?code=\" + jongmok_code\n",
    "    response = requests.get( base_url, headers={\"User-agent\": \"Mozilla/5.0\"} )\n",
    "    soup = bs(response.text, 'html.parser')\n",
    "    idx = 0    \n",
    "    dict_title = {32: \"종가\"}\n",
    "    for href in soup.find_all(\"span\"):\n",
    "        str_href = str(href)\n",
    "        idx += 1\n",
    "        for title in list_title:\n",
    "            if skip_tf == True: continue\n",
    "            if title in str_href:\n",
    "                dict_title[idx] = title\n",
    "    list_jongmok.append(dict_title)\n",
    "    \n",
    "for dict in list_jongmok:\n",
    "    skip_tf = False\n",
    "    for k, v in dict.items():\n",
    "        print(k, v)     "
   ]
  },
  {
   "cell_type": "code",
   "execution_count": null,
   "metadata": {},
   "outputs": [],
   "source": [
    "# 종목의 마감정보 추출\n",
    "list_jongmok_code = ['122630', '005930','352820']\n",
    "list_cols = [\"전일\", \"고가\", \"거래량\", \"시가\", \"저가\", \"거래대금\"]\n",
    "list_whole = []\n",
    "for jongmok_code in list_jongmok_code:\n",
    "    base_url = \"https://finance.naver.com/item/main.nhn?code=\" + jongmok_code\n",
    "    response = requests.get( base_url, headers={\"User-agent\": \"Mozilla/5.0\"} )\n",
    "    soup = bs(response.text, 'html.parser')\n",
    "    idx = 0\n",
    "    list_jongmok = []\n",
    "    for href in soup.find(\"div\",{\"class\":\"rate_info\"}).find_all(\"td\"):\n",
    "        list_href = str(href).split(\"\\n\")\n",
    "        idx += 1\n",
    "        key = list_href[1].replace(\"</span>\", \"\").split(\">\")[1]\n",
    "        val = list_href[3].split(\"</span>\")[0].split(\">\")[1].replace(\",\", \"\")\n",
    "        #print(jongmok_code, key, val)\n",
    "        list_jongmok.append(\"20210414\")\n",
    "        list_jongmok.append(jongmok_code)\n",
    "        list_jongmok.append(val)\n",
    "        list_whole.append(list_jongmok)\n",
    "list_whole        \n",
    "#df = pd.DataFrame(list_whole, columns=list_cols)\n",
    "#df"
   ]
  },
  {
   "cell_type": "code",
   "execution_count": 168,
   "metadata": {},
   "outputs": [
    {
     "name": "stdout",
     "output_type": "stream",
     "text": [
      "{'BUY': 35686609, 'SELL': 38588138, 'FORGN': -8586766}\n",
      "{'20210426': ['83500', '700', '0.85%', '15326171', '-997760', '2108030', '3265707442', '54.70%'], '20210423': ['82800', '400', '0.49%', '17805080', '-1135601', '-358841', '3263599412', '54.67%'], '20210422': ['82400', '200', '-0.24%', '13934746', '-1702689', '-2497598', '3263990365', '54.68%'], '20210421': ['82600', '1300', '-1.55%', '21636079', '-4724629', '-4082099', '3266494529', '54.72%'], '20210420': ['83900', '600', '0.72%', '15521965', '-542136', '1161118', '3270278628', '54.78%'], '20210419': ['83300', '600', '-0.72%', '15287311', '-1442072', '-3150668', '3269072510', '54.76%'], '20210416': ['83900', '200', '-0.24%', '15429522', '-2612523', '-80381', '3272186178', '54.81%'], '20210415': ['84100', '100', '0.12%', '16377412', '-1450831', '1370425', '3272141989', '54.81%'], '20210414': ['84000', '0', '0.00%', '13794652', '-5622', '-597118', '3270748402', '54.79%'], '20210413': ['84000', '800', '0.96%', '15238206', '-422643', '918413', '3271372520', '54.80%'], '20210412': ['83200', '400', '-0.48%', '12915282', '-2188369', '-825879', '3270329201', '54.78%'], '20210409': ['83600', '1100', '-1.30%', '18193707', '-3150053', '-2031410', '3271099802', '54.79%'], '20210408': ['84700', '900', '-1.05%', '19244259', '-3195948', '-1209545', '3273004512', '54.83%'], '20210407': ['85600', '400', '-0.47%', '17885538', '-1807298', '1288130', '3272436879', '54.82%'], '20210406': ['86000', '600', '0.70%', '19042023', '-2480700', '3210649', '3271158749', '54.80%'], '20210405': ['85400', '600', '0.71%', '16255990', '-1475274', '290365', '3267440600', '54.73%'], '20210402': ['84800', '1900', '2.29%', '22997538', '2812162', '5956557', '3267290287', '54.73%'], '20210401': ['82900', '1500', '1.84%', '18676461', '571179', '3758423', '3259535433', '54.60%'], '20210331': ['81400', '800', '-0.97%', '17240518', '-1263007', '-1650205', '3256074914', '54.54%']}\n"
     ]
    }
   ],
   "source": [
    "# https://finance.naver.com/item/frgn.nhn?code=035720\n",
    "# https://finance.naver.com/item/frgn.nhn?code=035720&page=1&trader_day=5\n",
    "base_url = \"https://finance.naver.com/item/frgn.nhn?code=005930&page=1&trader_day=5\"\n",
    "response = requests.get( base_url, headers={\"User-agent\": \"Mozilla/5.0\"} )\n",
    "soup = bs(response.text, 'html.parser')\n",
    "# list_sum = soup.findAll(\"table\", {\"summary\": \"거래원정보에 관한표이며 일자별 누적 정보를 제공합니다.\"})\n",
    "# list_day = soup.findAll(\"table\", {\"summary\": \"외국인 기관 순매매 거래량에 관한표이며 날짜별로 정보를 제공합니다.\"})\n",
    "# list_sum\n",
    "list_sum = str(soup.findAll(\"table\", {\"summary\": \"거래원정보에 관한표이며 일자별 누적 정보를 제공합니다.\"})).split('\\n')\n",
    "list_day = str(soup.findAll(\"table\", {\"summary\": \"외국인 기관 순매매 거래량에 관한표이며 날짜별로 정보를 제공합니다.\"})).split('\\n')\n",
    "\n",
    "list_cols = [\"div\", \"amount\"]\n",
    "list_rslt = []\n",
    "\n",
    "def make_df(div, amount):\n",
    "    list_vals.append(div)\n",
    "    list_vals.append(get_value)\n",
    "    list_rslt.append(list_vals)\n",
    "\n",
    "# 금액 추출\n",
    "def get_amount(in_param):\n",
    "    string_rslt = in_param.replace('<td class=\"num bg01\">', '')\n",
    "    string_rslt = string_rslt.replace('<td class=\"num bg02\">', '')\n",
    "    string_rslt = string_rslt.replace('<span class=\"tah p11\">', '')\n",
    "    string_rslt = string_rslt.replace('<span class=\"tah p11 nv01\">', '')\n",
    "    string_rslt = string_rslt.replace('<span class=\"tah p11 red01\">', '')\n",
    "    string_rslt = string_rslt.replace('</span></td>', '')\n",
    "    string_rslt = string_rslt.replace('<strong class=\"tah p11 nv01\">', '').replace('<strong class=\"tah p11 red01\">', '').replace('</strong>', '')\n",
    "    string_rslt = string_rslt.replace(\"(\",\"\").replace(\")\",\"\").replace(\",\",\"\")\n",
    "    \n",
    "    return string_rslt\n",
    "\n",
    "# 매수\n",
    "buy_amount = 0\n",
    "# 매도\n",
    "sell_amount = 0\n",
    "# \n",
    "dict_buy_sell = {}\n",
    "# 매수매도 추출\n",
    "for row in list_sum:\n",
    "    if (\"class=\" not in row or \"table\" in row or 'class=\"bg01\"' in row or 'class=\"bg02\"' in row or 'class=\"bg04' in row or 'class=\"title' in row):\n",
    "        continue\n",
    "    try:\n",
    "        get_value = int(get_amount(row))\n",
    "        list_vals = []\n",
    "        if \"bg01\" in row:\n",
    "            buy_amount += get_value\n",
    "        elif \"bg02\" in row:\n",
    "            sell_amount += get_value   \n",
    "        forgn_amount = get_value        \n",
    "    except:\n",
    "        pass\n",
    "\n",
    "dict_buy_sell[\"BUY\"] = buy_amount\n",
    "dict_buy_sell[\"SELL\"] = sell_amount\n",
    "dict_buy_sell[\"FORGN\"] = forgn_amount\n",
    "print(dict_buy_sell)\n",
    "\n",
    "idx = 0\n",
    "gap_idx = 0\n",
    "cprice_idx = 0\n",
    "skip_idx = 0\n",
    "dict_day_info = {}\n",
    "list_day_info = []\n",
    "for row in list_day:\n",
    "    idx += 1\n",
    "    row = row.strip()\n",
    "    if (\"table\" in row or \"<caption>\" in row or \"<tr\" in row or \"<th\" in row):\n",
    "        continue\n",
    "    row = row.replace(\"</tr>\", \"\").replace(\"</td>\", \"\").replace('<td class=\"num\" width=\"67\">', '').replace('</span>', '')\n",
    "    row = row.replace('<span class=\"tah p11 nv01\">','').replace('<span class=\"tah p11 red01\">','')\n",
    "    if len(row) > 0:\n",
    "        if \"하락\" in row:\n",
    "            next_idx = idx + 1\n",
    "        if 'class=\"tc\"' in row:\n",
    "            if len(list_day_info) > 0:\n",
    "                dict_day_info[dt.replace(\".\",\"\")] = list_day_info\n",
    "                list_day_info = []\n",
    "            dt = row.split('<span class=\"tah p10 gray03\">')[1]\n",
    "            cprice_idx = idx + 1            \n",
    "        if cprice_idx == idx:\n",
    "            list_day_info.append(row.split(\">\")[1].replace(\",\",\"\"))\n",
    "            gap_idx = idx + 1\n",
    "        elif gap_idx == idx:\n",
    "            list_day_info.append(int(row.replace(\",\",\"\")) * -1)\n",
    "            skip_idx = idx + 4\n",
    "        else:\n",
    "            if ('img alt' in row or '<span class=\"tah p10 gray03\">' in row): continue\n",
    "            row = row.replace(\"+\", \"\").replace('<span class=\"tah p11\">', '')\n",
    "            try:\n",
    "                row = row.split(\">\")[1]\n",
    "            except:\n",
    "                row\n",
    "            list_day_info.append(row.replace(\",\",\"\"))\n",
    "print(dict_day_info)"
   ]
  },
  {
   "cell_type": "code",
   "execution_count": 169,
   "metadata": {},
   "outputs": [
    {
     "data": {
      "text/plain": [
       "['83600',\n",
       " '1100',\n",
       " '-1.30%',\n",
       " '18193707',\n",
       " '-3150053',\n",
       " '-2031410',\n",
       " '3271099802',\n",
       " '54.79%']"
      ]
     },
     "execution_count": 169,
     "metadata": {},
     "output_type": "execute_result"
    }
   ],
   "source": [
    "dict_day_info['20210409']"
   ]
  },
  {
   "cell_type": "code",
   "execution_count": null,
   "metadata": {},
   "outputs": [],
   "source": []
  }
 ],
 "metadata": {
  "kernelspec": {
   "display_name": "Python 3",
   "language": "python",
   "name": "python3"
  },
  "language_info": {
   "codemirror_mode": {
    "name": "ipython",
    "version": 3
   },
   "file_extension": ".py",
   "mimetype": "text/x-python",
   "name": "python",
   "nbconvert_exporter": "python",
   "pygments_lexer": "ipython3",
   "version": "3.8.5"
  }
 },
 "nbformat": 4,
 "nbformat_minor": 5
}
