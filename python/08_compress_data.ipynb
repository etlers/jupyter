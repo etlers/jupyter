{
 "cells": [
  {
   "cell_type": "code",
   "execution_count": 13,
   "metadata": {},
   "outputs": [],
   "source": [
    "import zlib, bz2"
   ]
  },
  {
   "cell_type": "code",
   "execution_count": 4,
   "metadata": {},
   "outputs": [
    {
     "name": "stdout",
     "output_type": "stream",
     "text": [
      "1077\n"
     ]
    }
   ],
   "source": [
    "data = \"Life is too short, You need python.\" * 10000\n",
    "compress_data = zlib.compress(data.encode(encoding=\"UTF-8\"))\n",
    "print(len(compress_data))"
   ]
  },
  {
   "cell_type": "code",
   "execution_count": 5,
   "metadata": {},
   "outputs": [
    {
     "name": "stdout",
     "output_type": "stream",
     "text": [
      "350000\n"
     ]
    }
   ],
   "source": [
    "org_data = zlib.decompress(compress_data).decode(\"utf-8\")\n",
    "print(len(org_data))"
   ]
  },
  {
   "cell_type": "code",
   "execution_count": 12,
   "metadata": {},
   "outputs": [],
   "source": [
    "# 데이터가 동일한지 확인.\n",
    "assert data == org_data, \"Not Match\""
   ]
  },
  {
   "cell_type": "code",
   "execution_count": 14,
   "metadata": {},
   "outputs": [],
   "source": [
    "import zipfile"
   ]
  },
  {
   "cell_type": "code",
   "execution_count": 28,
   "metadata": {},
   "outputs": [],
   "source": [
    "with zipfile.ZipFile(\"mytext.zip\", \"w\") as myzip:\n",
    "    myzip.write(\"a.txt\")\n",
    "    myzip.write(\"b.txt\")\n",
    "    myzip.write(\"c.txt\")"
   ]
  },
  {
   "cell_type": "code",
   "execution_count": 29,
   "metadata": {},
   "outputs": [],
   "source": [
    "with zipfile.ZipFile(\"mytext.zip\") as myzip:\n",
    "    myzip.extractall()\n",
    "    # 큭정 파일만 해제\n",
    "#     myzip.extract(\"a.txt\")"
   ]
  },
  {
   "cell_type": "code",
   "execution_count": 23,
   "metadata": {},
   "outputs": [],
   "source": [
    "import tarfile"
   ]
  },
  {
   "cell_type": "code",
   "execution_count": 27,
   "metadata": {},
   "outputs": [],
   "source": [
    "with tarfile.open(\"mytext.tar\", \"w\") as mytar:\n",
    "    mytar.add(\"a.txt\")\n",
    "    mytar.add(\"b.txt\")\n",
    "    mytar.add(\"c.txt\")"
   ]
  },
  {
   "cell_type": "code",
   "execution_count": 32,
   "metadata": {},
   "outputs": [],
   "source": [
    "with tarfile.open(\"mytext.tar\") as mytar:\n",
    "    mytar.extractall()\n",
    "    # mytar.extract(\"a.txt\")"
   ]
  },
  {
   "cell_type": "code",
   "execution_count": null,
   "metadata": {},
   "outputs": [],
   "source": []
  }
 ],
 "metadata": {
  "kernelspec": {
   "display_name": "Python 3",
   "language": "python",
   "name": "python3"
  },
  "language_info": {
   "codemirror_mode": {
    "name": "ipython",
    "version": 3
   },
   "file_extension": ".py",
   "mimetype": "text/x-python",
   "name": "python",
   "nbconvert_exporter": "python",
   "pygments_lexer": "ipython3",
   "version": "3.8.5"
  }
 },
 "nbformat": 4,
 "nbformat_minor": 4
}
