{
 "cells": [
  {
   "cell_type": "code",
   "execution_count": 1,
   "metadata": {},
   "outputs": [],
   "source": [
    "# 라이브러리 로드\n",
    "# requests는 작은 웹브라우저로 웹사이트 내용을 가져온다.\n",
    "import requests\n",
    "# BeautifulSoup 을 통해 읽어 온 웹페이지를 파싱한다.\n",
    "from bs4 import BeautifulSoup as bs\n",
    "# 크롤링 후 결과를 데이터프레임 형태로 보기 위해 불러온다.\n",
    "import pandas as pd\n",
    "\n",
    "from tqdm import trange"
   ]
  },
  {
   "cell_type": "code",
   "execution_count": 2,
   "metadata": {},
   "outputs": [
    {
     "data": {
      "text/plain": [
       "<Response [200]>"
      ]
     },
     "execution_count": 2,
     "metadata": {},
     "output_type": "execute_result"
    }
   ],
   "source": [
    "# 크롤링 할 사이트\n",
    "base_url = \"https://finance.naver.com/news/news_list.nhn?mode=RANK&page=2\"\n",
    "response = requests.get( base_url )\n",
    "response"
   ]
  },
  {
   "cell_type": "code",
   "execution_count": 24,
   "metadata": {},
   "outputs": [],
   "source": [
    "soup = bs(response.text, 'html.parser')\n",
    "\n",
    "content = soup.select(\"div.hotNewsList\")\n",
    "list_content = str(content).split(\"\\n\")"
   ]
  },
  {
   "cell_type": "code",
   "execution_count": null,
   "metadata": {},
   "outputs": [],
   "source": [
    "list_result = []\n",
    "\n",
    "for page in range(4):\n",
    "    base_url = f\"https://finance.naver.com/news/news_list.nhn?mode=RANK&page={page+1}\"\n",
    "    response = requests.get( base_url )\n",
    "    response\n",
    "    \n",
    "    soup = bs(response.text, 'html.parser')\n",
    "\n",
    "    content = soup.select(\"div.hotNewsList\")\n",
    "    list_content = str(content).split(\"\\n\")\n",
    "    \n",
    "    for str_content in list_content:\n",
    "        if \"href\" in str_content:\n",
    "            try:\n",
    "                head_line = str_content.split('title=')[1]\n",
    "            except:\n",
    "                head_line = str_content\n",
    "\n",
    "            list_result.append(head_line[1:].replace(\"&quot;\",\"\").replace(\"</a>\",\"\").replace(\"&amp;\",\"&\").split('\">')[0])\n",
    "            \n",
    "list_result = list(set(list_result))\n",
    "\n",
    "list_result"
   ]
  },
  {
   "cell_type": "code",
   "execution_count": 7,
   "metadata": {},
   "outputs": [
    {
     "data": {
      "text/plain": [
       "'신원종합개발'"
      ]
     },
     "execution_count": 7,
     "metadata": {},
     "output_type": "execute_result"
    }
   ],
   "source": [
    "import pandas as pd\n",
    "jongmok_list_csv_file = 'C:/Users/etlers/Documents/project/CSV/jongmok_list.csv'\n",
    "\n",
    "# 종목 명 딕셔너리 생성\n",
    "dict_jongmok_nm = {}\n",
    "\n",
    "# 종목 딕셔너리 생성\n",
    "def make_jongmok_dict():\n",
    "    # CSV 데이터 DataFrame으로 추출\n",
    "    df_jongmok = pd.read_csv(jongmok_list_csv_file, encoding=\"CP949\")\n",
    "    # DataFrame에서 딕셔너리 생성\n",
    "    try:\n",
    "        df_jongmok = df_jongmok[[\"단축코드\", \"한글 종목약명\"]]\n",
    "        for index, row in df_jongmok.iterrows():\n",
    "            dict_jongmok_nm[\"A\" + row[\"단축코드\"]] = row[\"한글 종목약명\"]\n",
    "    except:\n",
    "        pass\n",
    "    \n",
    "make_jongmok_dict()\n",
    "\n",
    "dict_jongmok_nm[\"A017000\"]"
   ]
  },
  {
   "cell_type": "code",
   "execution_count": null,
   "metadata": {},
   "outputs": [],
   "source": []
  }
 ],
 "metadata": {
  "kernelspec": {
   "display_name": "Python 3",
   "language": "python",
   "name": "python3"
  },
  "language_info": {
   "codemirror_mode": {
    "name": "ipython",
    "version": 3
   },
   "file_extension": ".py",
   "mimetype": "text/x-python",
   "name": "python",
   "nbconvert_exporter": "python",
   "pygments_lexer": "ipython3",
   "version": "3.8.5"
  }
 },
 "nbformat": 4,
 "nbformat_minor": 4
}
