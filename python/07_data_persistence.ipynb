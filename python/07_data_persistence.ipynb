{
 "cells": [
  {
   "cell_type": "markdown",
   "metadata": {},
   "source": [
    "# 객체 저장하고 불러오기"
   ]
  },
  {
   "cell_type": "code",
   "execution_count": 1,
   "metadata": {},
   "outputs": [],
   "source": [
    "import pickle"
   ]
  },
  {
   "cell_type": "code",
   "execution_count": 10,
   "metadata": {},
   "outputs": [
    {
     "name": "stdout",
     "output_type": "stream",
     "text": [
      "3\n",
      "안녕 피클\n",
      "피클은 매우매우 간단합니다.\n"
     ]
    }
   ],
   "source": [
    "def get_all_data():\n",
    "    try:\n",
    "        with open(\"data.p\", \"rb\") as f:\n",
    "            return pickle.load(f)\n",
    "    except FileNotFoundError:\n",
    "        return {}\n",
    "\n",
    "# 데이터 딕셔너리로 키 값이 유일해야 함\n",
    "def add_data(no, subject, content):\n",
    "    data = get_all_data()\n",
    "    # 가정설정문. assert 조건, 메세지(False인 경우). 없으면 기존 키의 데이터를 덮어 씌움 \n",
    "    assert no not in data\n",
    "    data[no] = {'no': no, 'subject': subject, 'content': content}\n",
    "    with open(\"data.p\", \"wb\") as f:\n",
    "        pickle.dump(data, f)\n",
    "        \n",
    "def get_data(no):\n",
    "    data = get_all_data()\n",
    "    return data[no]\n",
    "\n",
    "# 데이터저장, 중복 번호로 추가가 안됨\n",
    "add_data(3, '안녕 피클', '피클은 매우매우 간단합니다.')\n",
    "\n",
    "# 데이터조회\n",
    "data = get_data(3)\n",
    "print(data['no'])\n",
    "print(data['subject'])\n",
    "print(data['content'])"
   ]
  },
  {
   "cell_type": "code",
   "execution_count": 11,
   "metadata": {},
   "outputs": [
    {
     "name": "stdout",
     "output_type": "stream",
     "text": [
      "{1: {'no': 1, 'subject': '안녕 피클', 'content': '피클은 매우 간단합니다.'}, 2: {'no': 2, 'subject': '안녕 피클', 'content': '피클은 매우 간단합니다.'}, 3: {'no': 3, 'subject': '안녕 피클', 'content': '피클은 매우매우 간단합니다.'}, 9: {'no': 9, 'subject': '안녕 피클', 'content': '피클은 매우 간단합니다.'}}\n"
     ]
    }
   ],
   "source": [
    "print(get_all_data())"
   ]
  },
  {
   "cell_type": "code",
   "execution_count": 12,
   "metadata": {},
   "outputs": [
    {
     "name": "stdout",
     "output_type": "stream",
     "text": [
      "[1, 2, 3, 4, 5]\n"
     ]
    }
   ],
   "source": [
    "import shelve\n",
    "\n",
    "\n",
    "def save(key, value):\n",
    "    with shelve.open('shelve.dat') as d:\n",
    "        d[key] = value\n",
    "\n",
    "\n",
    "def get(key):\n",
    "    with shelve.open('shelve.dat') as d:\n",
    "        return d[key]\n",
    "\n",
    "\n",
    "save('number', [1, 2, 3, 4, 5])\n",
    "print(get('number'))"
   ]
  },
  {
   "cell_type": "code",
   "execution_count": null,
   "metadata": {},
   "outputs": [],
   "source": []
  }
 ],
 "metadata": {
  "kernelspec": {
   "display_name": "Python 3",
   "language": "python",
   "name": "python3"
  },
  "language_info": {
   "codemirror_mode": {
    "name": "ipython",
    "version": 3
   },
   "file_extension": ".py",
   "mimetype": "text/x-python",
   "name": "python",
   "nbconvert_exporter": "python",
   "pygments_lexer": "ipython3",
   "version": "3.8.5"
  }
 },
 "nbformat": 4,
 "nbformat_minor": 4
}
