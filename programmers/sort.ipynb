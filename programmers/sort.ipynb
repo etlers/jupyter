{
 "cells": [
  {
   "cell_type": "code",
   "execution_count": 36,
   "metadata": {},
   "outputs": [],
   "source": [
    "# K번째 수\n",
    "\"\"\"\n",
    "array\n",
    "    [1, 5, 2, 6, 3, 7, 4]\n",
    "commands\n",
    "    [[2, 5, 3], [4, 4, 1], [1, 7, 3]]\n",
    "return\n",
    "    [5, 6, 3]\n",
    "\"\"\"\n",
    "\n",
    "def solution(array, commands):\n",
    "    answer = list(map(lambda x:sorted(array[x[0]-1:x[1]])[x[2]-1], commands))\n",
    "\n",
    "#     answer = []\n",
    "#     for list_cmd in command:\n",
    "#         istart = list_cmd[0]\n",
    "#         iend = list_cmd[1]\n",
    "#         ifind = list_cmd[2]\n",
    "#         list_nums = array[istart-1: iend]\n",
    "#         list_sorted = sorted(list_nums)\n",
    "#         answer.append(list_sorted[ifind-1])\n",
    "    \n",
    "    return answer"
   ]
  },
  {
   "cell_type": "code",
   "execution_count": 37,
   "metadata": {},
   "outputs": [
    {
     "data": {
      "text/plain": [
       "[5, 6, 3]"
      ]
     },
     "execution_count": 37,
     "metadata": {},
     "output_type": "execute_result"
    }
   ],
   "source": [
    "result = solution(\n",
    "    [1, 5, 2, 6, 3, 7, 4],\n",
    "    [[2, 5, 3], [4, 4, 1], [1, 7, 3]]\n",
    ")\n",
    "\n",
    "result"
   ]
  },
  {
   "cell_type": "code",
   "execution_count": 186,
   "metadata": {},
   "outputs": [],
   "source": [
    "# 가장 큰 수\n",
    "# \n",
    "\"\"\"\n",
    "numbers\n",
    "    [6, 10, 2]\n",
    "    [3, 30, 34, 5, 9]\n",
    "return\n",
    "    \"6210\"\n",
    "    \"9534330\"\n",
    "\"\"\"\n",
    "\n",
    "def solution(numbers):\n",
    "    list_string = list(map(lambda x:str(x), numbers))\n",
    "    list_sorted = sorted(list_string, reverse=True)\n",
    "    \n",
    "    answer = ''.join(list_sorted)\n",
    "    \n",
    "    list_cuple = []\n",
    "    for i in range(len(list_sorted)-1):\n",
    "        list_cuple.append([i, i+1])\n",
    "\n",
    "    for col in list_cuple:\n",
    "        list_answer = list_sorted.copy()\n",
    "        list_answer[col[0]] = list_sorted[col[1]]\n",
    "        list_answer[col[1]] = list_sorted[col[0]]\n",
    "        if \"\".join(list_answer) > answer:\n",
    "            answer = \"\".join(list_answer)\n",
    "    \n",
    "    return answer"
   ]
  },
  {
   "cell_type": "code",
   "execution_count": 192,
   "metadata": {},
   "outputs": [
    {
     "data": {
      "text/plain": [
       "'954244034303'"
      ]
     },
     "execution_count": 192,
     "metadata": {},
     "output_type": "execute_result"
    }
   ],
   "source": [
    "solution([3, 30, 34, 5, 9, 4, 40, 42])"
   ]
  },
  {
   "cell_type": "code",
   "execution_count": 153,
   "metadata": {},
   "outputs": [
    {
     "name": "stdout",
     "output_type": "stream",
     "text": [
      "953493093\n"
     ]
    }
   ],
   "source": [
    "list_sorted = ['9', '5', '349', '309', '3']\n",
    "answer = ''.join(list_sorted)\n",
    "list_answer = list_sorted\n",
    "for i in range(len(list_sorted)):\n",
    "    # 0,1\n",
    "    # 1,2\n",
    "\n",
    "print(answer)"
   ]
  },
  {
   "cell_type": "code",
   "execution_count": 183,
   "metadata": {},
   "outputs": [
    {
     "name": "stdout",
     "output_type": "stream",
     "text": [
      "[0, 1]\n",
      "[1, 2]\n",
      "[2, 3]\n",
      "[3, 4]\n"
     ]
    },
    {
     "data": {
      "text/plain": [
       "'9534330'"
      ]
     },
     "execution_count": 183,
     "metadata": {},
     "output_type": "execute_result"
    }
   ],
   "source": [
    "list_cuple = []\n",
    "for i in range(len(list_sorted)-1):\n",
    "    list_cuple.append([i, i+1])\n",
    "    \n",
    "list_sorted = ['9', '5', '34', '30', '3']\n",
    "answer = ''.join(list_sorted)\n",
    "for col in list_cuple:\n",
    "    print(col)\n",
    "    list_answer = list_sorted.copy()\n",
    "    list_answer[col[0]] = list_sorted[col[1]]\n",
    "    list_answer[col[1]] = list_sorted[col[0]]\n",
    "    if \"\".join(list_answer) > answer:\n",
    "        answer = \"\".join(list_answer)\n",
    "        \n",
    "answer"
   ]
  },
  {
   "cell_type": "code",
   "execution_count": 176,
   "metadata": {},
   "outputs": [],
   "source": [
    "a = ['9', '5', '349', '309', '3']\n",
    "a[0] = '5'\n",
    "a[1] = '9'"
   ]
  },
  {
   "cell_type": "code",
   "execution_count": 177,
   "metadata": {},
   "outputs": [
    {
     "data": {
      "text/plain": [
       "['5', '9', '349', '309', '3']"
      ]
     },
     "execution_count": 177,
     "metadata": {},
     "output_type": "execute_result"
    }
   ],
   "source": [
    "a"
   ]
  },
  {
   "cell_type": "code",
   "execution_count": null,
   "metadata": {},
   "outputs": [],
   "source": []
  }
 ],
 "metadata": {
  "kernelspec": {
   "display_name": "Python 3",
   "language": "python",
   "name": "python3"
  },
  "language_info": {
   "codemirror_mode": {
    "name": "ipython",
    "version": 3
   },
   "file_extension": ".py",
   "mimetype": "text/x-python",
   "name": "python",
   "nbconvert_exporter": "python",
   "pygments_lexer": "ipython3",
   "version": "3.8.5"
  }
 },
 "nbformat": 4,
 "nbformat_minor": 4
}
