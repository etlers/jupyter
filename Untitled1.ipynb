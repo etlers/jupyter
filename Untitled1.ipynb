{
 "cells": [
  {
   "cell_type": "code",
   "execution_count": 20,
   "metadata": {},
   "outputs": [],
   "source": [
    "import psutil"
   ]
  },
  {
   "cell_type": "code",
   "execution_count": 21,
   "metadata": {},
   "outputs": [],
   "source": [
    "p = psutil.Process()"
   ]
  },
  {
   "cell_type": "code",
   "execution_count": 22,
   "metadata": {},
   "outputs": [
    {
     "data": {
      "text/plain": [
       "0.0"
      ]
     },
     "execution_count": 22,
     "metadata": {},
     "output_type": "execute_result"
    }
   ],
   "source": [
    "p.cpu_percent()"
   ]
  },
  {
   "cell_type": "code",
   "execution_count": 23,
   "metadata": {},
   "outputs": [
    {
     "data": {
      "text/plain": [
       "11.9"
      ]
     },
     "execution_count": 23,
     "metadata": {},
     "output_type": "execute_result"
    }
   ],
   "source": [
    "psutil.cpu_percent()"
   ]
  },
  {
   "cell_type": "code",
   "execution_count": 6,
   "metadata": {},
   "outputs": [
    {
     "data": {
      "text/plain": [
       "scputimes(user=12.6, nice=0.0, system=6.3, idle=81.1)"
      ]
     },
     "execution_count": 6,
     "metadata": {},
     "output_type": "execute_result"
    }
   ],
   "source": [
    "psutil.cpu_times_percent()"
   ]
  },
  {
   "cell_type": "code",
   "execution_count": 7,
   "metadata": {},
   "outputs": [
    {
     "data": {
      "text/plain": [
       "97.4"
      ]
     },
     "execution_count": 7,
     "metadata": {},
     "output_type": "execute_result"
    }
   ],
   "source": [
    "cpu = psutil.cpu_times_percent()\n",
    "cpu.idle"
   ]
  },
  {
   "cell_type": "code",
   "execution_count": 8,
   "metadata": {},
   "outputs": [
    {
     "data": {
      "text/plain": [
       "2.5999999999999943"
      ]
     },
     "execution_count": 8,
     "metadata": {},
     "output_type": "execute_result"
    }
   ],
   "source": [
    "100 - cpu.idle"
   ]
  },
  {
   "cell_type": "code",
   "execution_count": 9,
   "metadata": {},
   "outputs": [
    {
     "data": {
      "text/plain": [
       "1.8"
      ]
     },
     "execution_count": 9,
     "metadata": {},
     "output_type": "execute_result"
    }
   ],
   "source": [
    "cpu.user"
   ]
  },
  {
   "cell_type": "code",
   "execution_count": 19,
   "metadata": {},
   "outputs": [
    {
     "name": "stdout",
     "output_type": "stream",
     "text": [
      "1.1% 9.53%\n"
     ]
    }
   ],
   "source": [
    "process_name = \"python\"\n",
    "current_cpu = 0.0\n",
    "current_mem = 0.0\n",
    "current_process_memory_usage_as_KB = 0.0\n",
    "for proc in psutil.process_iter():\n",
    "    if process_name in proc.name():\n",
    "        p = proc\n",
    "        #print(proc)\n",
    "        current_process = psutil.Process(proc.pid)\n",
    "        #current_process_memory_usage_as_KB += current_process.memory_info()[0] / 2.**20\n",
    "        #current_process_memory_usage_as_KB += current_process.memory_info()[0] / 1024 ** 3\n",
    "        current_mem += current_process.memory_percent()\n",
    "        current_cpu += p.cpu_percent()\n",
    "#mem = psutil.virtual_memory()\n",
    "#full_mem_size = mem.total / 1024 ** 3\n",
    "#avail = mem.available\n",
    "#avail_mem_size = avail / 1024 ** 3\n",
    "#used_mem_size = full_mem_size - avail_mem_size\n",
    "#used_mem_percent = round(avail_mem_size / full_mem_size, 4) * 100\n",
    "print(str(round(current_cpu, 2)) + \"%\", str(round(current_mem, 2)) + \"%\")"
   ]
  },
  {
   "cell_type": "code",
   "execution_count": 38,
   "metadata": {},
   "outputs": [
    {
     "name": "stdout",
     "output_type": "stream",
     "text": [
      "AFTER  CODE: Current memory KB   :     6.969 KB\n",
      "------------------------------------------------------------\n"
     ]
    }
   ],
   "source": [
    "pid = 1083\n",
    "current_process = psutil.Process(pid)\n",
    "current_process_memory_usage_as_KB = current_process.memory_info()[0] / 2.**20\n",
    "print(f\"AFTER  CODE: Current memory KB   : {current_process_memory_usage_as_KB: 9.3f} KB\")\n",
    "print(\"--\"*30)\n"
   ]
  },
  {
   "cell_type": "code",
   "execution_count": null,
   "metadata": {},
   "outputs": [],
   "source": []
  },
  {
   "cell_type": "code",
   "execution_count": 45,
   "metadata": {},
   "outputs": [
    {
     "data": {
      "text/plain": [
       "8.0"
      ]
     },
     "execution_count": 45,
     "metadata": {},
     "output_type": "execute_result"
    }
   ],
   "source": [
    "mem = psutil.virtual_memory()\n",
    "mem.total / 1024 ** 3"
   ]
  },
  {
   "cell_type": "code",
   "execution_count": 46,
   "metadata": {},
   "outputs": [
    {
     "data": {
      "text/plain": [
       "3.2651824951171875"
      ]
     },
     "execution_count": 46,
     "metadata": {},
     "output_type": "execute_result"
    }
   ],
   "source": [
    "avail = mem.available\n",
    "avail / 1024 ** 3"
   ]
  },
  {
   "cell_type": "code",
   "execution_count": 35,
   "metadata": {},
   "outputs": [
    {
     "data": {
      "text/plain": [
       "{'pid': 1247,\n",
       " 'memory_info': pmem(rss=48209920, vms=4475183104, pfaults=19984, pageins=1),\n",
       " 'username': 'etlers',\n",
       " 'name': 'python3.8'}"
      ]
     },
     "execution_count": 35,
     "metadata": {},
     "output_type": "execute_result"
    }
   ],
   "source": [
    "p = psutil.Process()\n",
    "p.as_dict(attrs=['pid','name','username','memory_info'])"
   ]
  },
  {
   "cell_type": "code",
   "execution_count": 33,
   "metadata": {},
   "outputs": [
    {
     "data": {
      "text/plain": [
       "['num_threads',\n",
       " 'terminal',\n",
       " 'connections',\n",
       " 'username',\n",
       " 'uids',\n",
       " 'cpu_times',\n",
       " 'threads',\n",
       " 'exe',\n",
       " 'memory_info',\n",
       " 'cpu_percent',\n",
       " 'pid',\n",
       " 'nice',\n",
       " 'gids',\n",
       " 'num_fds',\n",
       " 'open_files',\n",
       " 'name',\n",
       " 'ppid',\n",
       " 'cmdline',\n",
       " 'num_ctx_switches',\n",
       " 'cwd',\n",
       " 'memory_percent',\n",
       " 'status',\n",
       " 'environ',\n",
       " 'memory_full_info',\n",
       " 'create_time']"
      ]
     },
     "execution_count": 33,
     "metadata": {},
     "output_type": "execute_result"
    }
   ],
   "source": [
    "list(psutil.Process().as_dict().keys())"
   ]
  },
  {
   "cell_type": "code",
   "execution_count": 5,
   "metadata": {},
   "outputs": [],
   "source": [
    "sum = 0\n",
    "for i in range(10000000):\n",
    "    sum += i"
   ]
  },
  {
   "cell_type": "code",
   "execution_count": 47,
   "metadata": {},
   "outputs": [],
   "source": [
    "class calc:\n",
    "    def __init__(self, a, b):\n",
    "        self.a = a\n",
    "        self.b = b\n",
    "    def add(self):\n",
    "        return self.a + self.b\n",
    "\n",
    "class decorator:\n",
    "\n",
    "    def __init__(self, function):\n",
    "        self.function = function\n",
    "\n",
    "    def __call__(self, *args, **kwargs):\n",
    "        print('전처리')\n",
    "        print(self.function(*args, **kwargs))\n",
    "        print('후처리')\n",
    "        \n",
    "@decorator\n",
    "def example():\n",
    "    return '클래스'"
   ]
  },
  {
   "cell_type": "code",
   "execution_count": 43,
   "metadata": {},
   "outputs": [
    {
     "name": "stdout",
     "output_type": "stream",
     "text": [
      "전처리\n",
      "클래스\n",
      "후처리\n"
     ]
    }
   ],
   "source": [
    "example()"
   ]
  },
  {
   "cell_type": "code",
   "execution_count": null,
   "metadata": {},
   "outputs": [],
   "source": []
  }
 ],
 "metadata": {
  "kernelspec": {
   "display_name": "Python 3",
   "language": "python",
   "name": "python3"
  },
  "language_info": {
   "codemirror_mode": {
    "name": "ipython",
    "version": 3
   },
   "file_extension": ".py",
   "mimetype": "text/x-python",
   "name": "python",
   "nbconvert_exporter": "python",
   "pygments_lexer": "ipython3",
   "version": "3.8.7"
  }
 },
 "nbformat": 4,
 "nbformat_minor": 4
}
