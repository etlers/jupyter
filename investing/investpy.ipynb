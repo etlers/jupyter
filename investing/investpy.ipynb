{
 "cells": [
  {
   "cell_type": "code",
   "execution_count": 1,
   "metadata": {},
   "outputs": [
    {
     "name": "stdout",
     "output_type": "stream",
     "text": [
      "pip 20.2.4 from /opt/anaconda3/lib/python3.8/site-packages/pip (python 3.8)\n"
     ]
    }
   ],
   "source": [
    "!pip -V"
   ]
  },
  {
   "cell_type": "code",
   "execution_count": 2,
   "metadata": {},
   "outputs": [
    {
     "name": "stdout",
     "output_type": "stream",
     "text": [
      "Requirement already satisfied: investpy in /opt/anaconda3/lib/python3.8/site-packages (1.0.7)\n",
      "Requirement already satisfied: pandas>=0.25.1 in /opt/anaconda3/lib/python3.8/site-packages (from investpy) (1.1.3)\n",
      "Requirement already satisfied: lxml>=4.4.1 in /opt/anaconda3/lib/python3.8/site-packages (from investpy) (4.6.1)\n",
      "Requirement already satisfied: setuptools>=41.2.0 in /opt/anaconda3/lib/python3.8/site-packages (from investpy) (50.3.1.post20201107)\n",
      "Requirement already satisfied: requests>=2.22.0 in /opt/anaconda3/lib/python3.8/site-packages (from investpy) (2.24.0)\n",
      "Requirement already satisfied: pytz>=2019.3 in /opt/anaconda3/lib/python3.8/site-packages (from investpy) (2020.1)\n",
      "Requirement already satisfied: Unidecode>=1.1.1 in /opt/anaconda3/lib/python3.8/site-packages (from investpy) (1.3.2)\n",
      "Requirement already satisfied: numpy>=1.17.2 in /opt/anaconda3/lib/python3.8/site-packages (from investpy) (1.19.2)\n",
      "Requirement already satisfied: python-dateutil>=2.7.3 in /opt/anaconda3/lib/python3.8/site-packages (from pandas>=0.25.1->investpy) (2.8.1)\n",
      "Requirement already satisfied: chardet<4,>=3.0.2 in /opt/anaconda3/lib/python3.8/site-packages (from requests>=2.22.0->investpy) (3.0.4)\n",
      "Requirement already satisfied: idna<3,>=2.5 in /opt/anaconda3/lib/python3.8/site-packages (from requests>=2.22.0->investpy) (2.10)\n",
      "Requirement already satisfied: urllib3!=1.25.0,!=1.25.1,<1.26,>=1.21.1 in /opt/anaconda3/lib/python3.8/site-packages (from requests>=2.22.0->investpy) (1.25.11)\n",
      "Requirement already satisfied: certifi>=2017.4.17 in /opt/anaconda3/lib/python3.8/site-packages (from requests>=2.22.0->investpy) (2020.6.20)\n",
      "Requirement already satisfied: six>=1.5 in /opt/anaconda3/lib/python3.8/site-packages (from python-dateutil>=2.7.3->pandas>=0.25.1->investpy) (1.15.0)\n"
     ]
    }
   ],
   "source": [
    "!pip install investpy"
   ]
  },
  {
   "cell_type": "code",
   "execution_count": 6,
   "metadata": {},
   "outputs": [
    {
     "name": "stdout",
     "output_type": "stream",
     "text": [
      "['france', 'germany', 'italy', 'netherlands', 'sweden']\n",
      "{\"id_\": 6408, \"name\": \"Apple Inc\", \"symbol\": \"AAPL\", \"country\": \"united states\", \"tag\": \"/equities/apple-computer-inc\", \"pair_type\": \"stocks\", \"exchange\": \"NASDAQ\"}\n",
      "USD\n"
     ]
    }
   ],
   "source": [
    "import investpy\n",
    "import pandas\n",
    "from datetime import datetime\n",
    "\n",
    "countriesAvailable = investpy.get_certificate_countries()\n",
    "print(countriesAvailable)\n",
    "\n",
    "search_result = investpy.search_quotes(text='apple', products=['stocks'],\n",
    "                                       countries=['united states'], n_results=1)\n",
    "print(search_result)\n",
    "\n",
    "default_currency = search_result.retrieve_currency()\n",
    "print(default_currency)"
   ]
  },
  {
   "cell_type": "code",
   "execution_count": 88,
   "metadata": {},
   "outputs": [
    {
     "data": {
      "text/plain": [
       "{1: 'downArrow',\n",
       " 2: ['1,177.66', '-0.12', '-0.01%'],\n",
       " 3: ['전일종가', '1,177.78'],\n",
       " 4: ['매수', '1,177.48'],\n",
       " 5: ['금일변동', '1,173.91 - 1,181.7'],\n",
       " 6: ['금일시가', '1,177.7'],\n",
       " 7: ['매도', '1,177.83'],\n",
       " 8: ['52주변동폭', '1,080.02 - 1,200.9'],\n",
       " 9: ['1년변동률', '4.41%']}"
      ]
     },
     "execution_count": 88,
     "metadata": {},
     "output_type": "execute_result"
    }
   ],
   "source": [
    "import requests\n",
    "from bs4 import BeautifulSoup as bs\n",
    "\n",
    "def make_usd_index():\n",
    "    main_url = \"https://kr.investing.com/currencies/us-dollar-index\"\n",
    "    response = requests.get( main_url, headers={\"User-agent\": \"Mozilla/5.0\"} )\n",
    "    soup = bs(response.text, 'html.parser')\n",
    "\n",
    "    historical_usd_idx = soup.find(\"div\",{\"class\":\"clear overviewDataTable overviewDataTableWithTooltip\"})\n",
    "    idx = 0\n",
    "    dict_usd_idx = {}\n",
    "    for row in historical_usd_idx:\n",
    "        row_string = str(row).strip()\n",
    "        if len(row_string) == 0: continue\n",
    "        idx += 1\n",
    "        temp = str(row_string.split('<span class=\"float_lang_base_1\">')[1:]).replace(\"['\",\"\")\n",
    "        list_temp = temp.replace(\"</span><span class=\",\"\").split('\"float_lang_base_2 bold\">')\n",
    "        dict_usd_idx[idx] = [list_temp[0].replace(\" \",\"\"), list_temp[1].replace(\"</span></div>']\",\"\")]\n",
    "    \n",
    "    return dict_usd_idx\n",
    "\n",
    "def make_currency():\n",
    "    main_url = \"https://kr.investing.com/currencies/usd-krw\"\n",
    "    response = requests.get( main_url, headers={\"User-agent\": \"Mozilla/5.0\"} )\n",
    "    soup = bs(response.text, 'html.parser')\n",
    "\n",
    "    list_usd_krw = soup.find(\"div\",{\"class\":\"main-current-data\"})\n",
    "    idx = 0\n",
    "    dict_usd_krw = {}\n",
    "    for row in list_usd_krw:\n",
    "        row_string = str(row).strip()\n",
    "        if len(row_string) == 0: continue\n",
    "        idx += 1\n",
    "        if idx == 1:\n",
    "            dict_usd_krw[idx] = row_string.split('<div class=\"')[1].split(\" \")[0]\n",
    "        else:\n",
    "            list_val = []\n",
    "            for val in row_string.split(\"\\n\"):\n",
    "                if \"span class\" not in val: continue\n",
    "                list_val.append(val.split('\">')[1].replace(\"</span>\",\"\"))\n",
    "            dict_usd_krw[idx] = list_val\n",
    "            \n",
    "    list_usd_krw = soup.find(\"div\",{\"class\":\"clear overviewDataTable overviewDataTableWithTooltip\"})\n",
    "    for row in list_usd_krw:\n",
    "        row_string = str(row).strip()\n",
    "        if len(row_string) == 0: continue\n",
    "        idx += 1\n",
    "        temp = str(row_string.split('<span class=\"float_lang_base_1\">')[1:]).replace(\"['\",\"\")\n",
    "        list_temp = temp.replace(\"</span><span class=\",\"\").split('\"float_lang_base_2 bold\">')\n",
    "        dict_usd_krw[idx] = [list_temp[0].replace(\" \",\"\"), list_temp[1].replace(\"</span></div>']\",\"\")]\n",
    "    \n",
    "    return dict_usd_krw\n",
    "    \n",
    "dict_usd_idx = make_usd_index()\n",
    "dict_usd_krw = make_currency()\n",
    "\n",
    "dict_usd_krw"
   ]
  },
  {
   "cell_type": "code",
   "execution_count": 85,
   "metadata": {},
   "outputs": [
    {
     "data": {
      "text/plain": [
       "91.8675"
      ]
     },
     "execution_count": 85,
     "metadata": {},
     "output_type": "execute_result"
    }
   ],
   "source": [
    "# USD Index 52w Average\n",
    "year_avg_idx = (float(dict_usd_idx[10][1].split(\" - \")[0].replace(\",\",\"\")) + float(dict_usd_idx[10][1].split(\" - \")[1].replace(\",\",\"\"))) / 2\n",
    "year_avg_idx"
   ]
  },
  {
   "cell_type": "code",
   "execution_count": 86,
   "metadata": {},
   "outputs": [
    {
     "data": {
      "text/plain": [
       "93.738"
      ]
     },
     "execution_count": 86,
     "metadata": {},
     "output_type": "execute_result"
    }
   ],
   "source": [
    "# Now Index\n",
    "cur_idx = float(dict_usd_idx[4][1].replace(\",\",\"\"))\n",
    "cur_idx"
   ]
  },
  {
   "cell_type": "code",
   "execution_count": 87,
   "metadata": {},
   "outputs": [
    {
     "data": {
      "text/plain": [
       "1140.46"
      ]
     },
     "execution_count": 87,
     "metadata": {},
     "output_type": "execute_result"
    }
   ],
   "source": [
    "# USD KRW 52w Average\n",
    "year_avg_cur = (float(dict_usd_krw[8][1].split(\" - \")[0].replace(\",\",\"\")) + float(dict_usd_krw[8][1].split(\" - \")[1].replace(\",\",\"\"))) / 2\n",
    "year_avg_cur"
   ]
  },
  {
   "cell_type": "code",
   "execution_count": 90,
   "metadata": {},
   "outputs": [
    {
     "data": {
      "text/plain": [
       "1177.66"
      ]
     },
     "execution_count": 90,
     "metadata": {},
     "output_type": "execute_result"
    }
   ],
   "source": [
    "# Now Currency\n",
    "now_cur = float(dict_usd_krw[2][0].replace(\",\",\"\"))\n",
    "now_cur"
   ]
  },
  {
   "cell_type": "code",
   "execution_count": 92,
   "metadata": {},
   "outputs": [
    {
     "data": {
      "text/plain": [
       "7.959682760728902"
      ]
     },
     "execution_count": 92,
     "metadata": {},
     "output_type": "execute_result"
    }
   ],
   "source": [
    "# Dollar Gap Rate\n",
    "usd_gap_rate = cur_idx / now_cur * 100\n",
    "usd_gap_rate"
   ]
  },
  {
   "cell_type": "code",
   "execution_count": 93,
   "metadata": {},
   "outputs": [
    {
     "data": {
      "text/plain": [
       "8.055302246461954"
      ]
     },
     "execution_count": 93,
     "metadata": {},
     "output_type": "execute_result"
    }
   ],
   "source": [
    "# Dollar Gap Rate - 52w\n",
    "year_avg_usd_gap_rate = year_avg_idx / year_avg_cur * 100\n",
    "year_avg_usd_gap_rate"
   ]
  },
  {
   "cell_type": "code",
   "execution_count": 96,
   "metadata": {},
   "outputs": [
    {
     "data": {
      "text/plain": [
       "1163.68"
      ]
     },
     "execution_count": 96,
     "metadata": {},
     "output_type": "execute_result"
    }
   ],
   "source": [
    "# Proper USD KRW\n",
    "proper_cur = round(cur_idx / year_avg_usd_gap_rate * 100, 2)\n",
    "proper_cur"
   ]
  },
  {
   "cell_type": "code",
   "execution_count": 102,
   "metadata": {},
   "outputs": [
    {
     "name": "stdout",
     "output_type": "stream",
     "text": [
      "1177.66 1152.0432 1280.0480000000002\n",
      "Wait...\n"
     ]
    }
   ],
   "source": [
    "if now_cur < proper_cur * 0.99:\n",
    "    print(\"Buy\")\n",
    "elif now_cur > proper_cur * 1.1:\n",
    "    print(\"Sell\")\n",
    "else:\n",
    "    print(now_cur, proper_cur * 0.99, proper_cur * 1.1)\n",
    "    print(\"Wait...\")"
   ]
  },
  {
   "cell_type": "code",
   "execution_count": 99,
   "metadata": {},
   "outputs": [
    {
     "data": {
      "text/plain": [
       "1152.0432"
      ]
     },
     "execution_count": 99,
     "metadata": {},
     "output_type": "execute_result"
    }
   ],
   "source": [
    "proper_cur * 0.99"
   ]
  },
  {
   "cell_type": "code",
   "execution_count": 103,
   "metadata": {},
   "outputs": [
    {
     "name": "stdout",
     "output_type": "stream",
     "text": [
      "1 ['전일종가', '93.758']\n",
      "2 ['만기월', '2021년 12월']\n",
      "3 ['틱크기', '0.01']\n",
      "4 ['금일시가', '93.738']\n",
      "5 ['계약단위', '1,000 x 물가지수']\n",
      "6 ['틱가치', '10']\n",
      "7 ['금일변동', '93.523 - 93.782']\n",
      "8 ['결제방식', '실물인수도']\n",
      "9 ['티커', 'DX']\n",
      "10 ['52주변동폭', '89.165 - 94.57']\n",
      "11 ['결제일', '2021/12/13']\n",
      "12 ['포인트가치', '1 = $1000']\n",
      "13 ['1년변동률', '0.89%']\n",
      "14 ['최종롤오버일', '2021/09/12']\n",
      "15 ['개월', 'HMUZ']\n"
     ]
    }
   ],
   "source": [
    "for key, val in dict_usd_idx.items():\n",
    "    print(key, val)"
   ]
  },
  {
   "cell_type": "code",
   "execution_count": 13,
   "metadata": {},
   "outputs": [
    {
     "data": {
      "text/plain": [
       "<AxesSubplot:xlabel='KRW', ylabel='CALC_RT'>"
      ]
     },
     "execution_count": 13,
     "metadata": {},
     "output_type": "execute_result"
    },
    {
     "data": {
      "image/png": "[encoded data removed]",
      "text/plain": [
       "<Figure size 1224x216 with 1 Axes>"
      ]
     },
     "metadata": {
      "needs_background": "light"
     },
     "output_type": "display_data"
    }
   ],
   "source": [
    "list_curr = [\n",
    "    [1172.63, 100.6], [1172.4, 100.58], [1172.4, 100.58], [1172.31, 100.57], [1172.48, 100.59],\n",
    "    [1172.27, 100.57], [1172.35, 100.58], [1172.35, 100.58], [1172.35, 100.58], [1172.33, 100.57],\n",
    "    [1172.31, 100.57], [1172.31, 100.57], [1172.33, 100.57], [1172.19, 100.56], [1172.21, 100.56],\n",
    "    [1171.95, 100.54], [1172.26, 100.57], [1172.35, 100.58], [1172.35, 100.58], [1172.46, 100.59],\n",
    "    [1172.7, 100.61], [1172.71, 100.61]\n",
    "]\n",
    "\n",
    "df_curr = pd.DataFrame(list_curr, columns=[\"KRW\",\"IDX_RT\"])\n",
    "\n",
    "df_curr[\"CALC_RT\"] = df_curr.IDX_RT - 100\n",
    "\n",
    "plt.figure(figsize=(17, 3))\n",
    "# sns.barplot(data=df_curr, x=\"KRW\", y=\"CALC_RT\")\n",
    "sns.lineplot(data=df_curr, x=\"KRW\", y=\"CALC_RT\")"
   ]
  },
  {
   "cell_type": "code",
   "execution_count": 15,
   "metadata": {},
   "outputs": [
    {
     "data": {
      "text/plain": [
       "<AxesSubplot:xlabel='KRW', ylabel='CALC_RT'>"
      ]
     },
     "execution_count": 15,
     "metadata": {},
     "output_type": "execute_result"
    },
    {
     "data": {
      "image/png": "[encoded data removed]",
      "text/plain": [
       "<Figure size 432x288 with 1 Axes>"
      ]
     },
     "metadata": {},
     "output_type": "display_data"
    }
   ],
   "source": [
    "sns.set_style('whitegrid')\n",
    "sns.lineplot(x='KRW', y='CALC_RT', data=df_curr)"
   ]
  },
  {
   "cell_type": "code",
   "execution_count": 2,
   "metadata": {},
   "outputs": [
    {
     "data": {
      "text/plain": [
       "<Figure size 864x216 with 0 Axes>"
      ]
     },
     "execution_count": 2,
     "metadata": {},
     "output_type": "execute_result"
    },
    {
     "data": {
      "text/plain": [
       "<Figure size 864x216 with 0 Axes>"
      ]
     },
     "metadata": {},
     "output_type": "display_data"
    }
   ],
   "source": [
    "#라이브러리 임포트\n",
    "import pandas as pd \n",
    "import matplotlib.pyplot as plt \n",
    "import seaborn as sns \n",
    "\n",
    "#seaborn에서 제공하는 flights 데이터 셋을 사용\n",
    "flights = sns.load_dataset('flights')\n",
    "\n",
    "#그래프 사이즈 설정\n",
    "plt.figure(figsize=(12, 3))"
   ]
  },
  {
   "cell_type": "code",
   "execution_count": 3,
   "metadata": {},
   "outputs": [
    {
     "data": {
      "text/plain": [
       "<AxesSubplot:xlabel='year', ylabel='passengers'>"
      ]
     },
     "execution_count": 3,
     "metadata": {},
     "output_type": "execute_result"
    },
    {
     "data": {
      "image/png": "[encoded data removed]",
      "text/plain": [
       "<Figure size 432x288 with 1 Axes>"
      ]
     },
     "metadata": {
      "needs_background": "light"
     },
     "output_type": "display_data"
    }
   ],
   "source": [
    "sns.barplot(data=flights, x=\"year\", y=\"passengers\")"
   ]
  },
  {
   "cell_type": "code",
   "execution_count": 4,
   "metadata": {},
   "outputs": [
    {
     "data": {
      "text/html": [
       "<div>\n",
       "<style scoped>\n",
       "    .dataframe tbody tr th:only-of-type {\n",
       "        vertical-align: middle;\n",
       "    }\n",
       "\n",
       "    .dataframe tbody tr th {\n",
       "        vertical-align: top;\n",
       "    }\n",
       "\n",
       "    .dataframe thead th {\n",
       "        text-align: right;\n",
       "    }\n",
       "</style>\n",
       "<table border=\"1\" class=\"dataframe\">\n",
       "  <thead>\n",
       "    <tr style=\"text-align: right;\">\n",
       "      <th></th>\n",
       "      <th>year</th>\n",
       "      <th>month</th>\n",
       "      <th>passengers</th>\n",
       "    </tr>\n",
       "  </thead>\n",
       "  <tbody>\n",
       "    <tr>\n",
       "      <th>0</th>\n",
       "      <td>1949</td>\n",
       "      <td>Jan</td>\n",
       "      <td>112</td>\n",
       "    </tr>\n",
       "    <tr>\n",
       "      <th>1</th>\n",
       "      <td>1949</td>\n",
       "      <td>Feb</td>\n",
       "      <td>118</td>\n",
       "    </tr>\n",
       "    <tr>\n",
       "      <th>2</th>\n",
       "      <td>1949</td>\n",
       "      <td>Mar</td>\n",
       "      <td>132</td>\n",
       "    </tr>\n",
       "    <tr>\n",
       "      <th>3</th>\n",
       "      <td>1949</td>\n",
       "      <td>Apr</td>\n",
       "      <td>129</td>\n",
       "    </tr>\n",
       "    <tr>\n",
       "      <th>4</th>\n",
       "      <td>1949</td>\n",
       "      <td>May</td>\n",
       "      <td>121</td>\n",
       "    </tr>\n",
       "    <tr>\n",
       "      <th>...</th>\n",
       "      <td>...</td>\n",
       "      <td>...</td>\n",
       "      <td>...</td>\n",
       "    </tr>\n",
       "    <tr>\n",
       "      <th>139</th>\n",
       "      <td>1960</td>\n",
       "      <td>Aug</td>\n",
       "      <td>606</td>\n",
       "    </tr>\n",
       "    <tr>\n",
       "      <th>140</th>\n",
       "      <td>1960</td>\n",
       "      <td>Sep</td>\n",
       "      <td>508</td>\n",
       "    </tr>\n",
       "    <tr>\n",
       "      <th>141</th>\n",
       "      <td>1960</td>\n",
       "      <td>Oct</td>\n",
       "      <td>461</td>\n",
       "    </tr>\n",
       "    <tr>\n",
       "      <th>142</th>\n",
       "      <td>1960</td>\n",
       "      <td>Nov</td>\n",
       "      <td>390</td>\n",
       "    </tr>\n",
       "    <tr>\n",
       "      <th>143</th>\n",
       "      <td>1960</td>\n",
       "      <td>Dec</td>\n",
       "      <td>432</td>\n",
       "    </tr>\n",
       "  </tbody>\n",
       "</table>\n",
       "<p>144 rows × 3 columns</p>\n",
       "</div>"
      ],
      "text/plain": [
       "     year month  passengers\n",
       "0    1949   Jan         112\n",
       "1    1949   Feb         118\n",
       "2    1949   Mar         132\n",
       "3    1949   Apr         129\n",
       "4    1949   May         121\n",
       "..    ...   ...         ...\n",
       "139  1960   Aug         606\n",
       "140  1960   Sep         508\n",
       "141  1960   Oct         461\n",
       "142  1960   Nov         390\n",
       "143  1960   Dec         432\n",
       "\n",
       "[144 rows x 3 columns]"
      ]
     },
     "execution_count": 4,
     "metadata": {},
     "output_type": "execute_result"
    }
   ],
   "source": [
    "flights"
   ]
  },
  {
   "cell_type": "code",
   "execution_count": 16,
   "metadata": {},
   "outputs": [],
   "source": [
    "from matplotlib import pyplot as plt"
   ]
  },
  {
   "cell_type": "code",
   "execution_count": 20,
   "metadata": {},
   "outputs": [
    {
     "data": {
      "image/png": "[encoded data removed]",
      "text/plain": [
       "<Figure size 432x288 with 1 Axes>"
      ]
     },
     "metadata": {},
     "output_type": "display_data"
    }
   ],
   "source": [
    "list_curr = [\n",
    "    [1172.63, 100.6], [1172.4, 100.58], [1172.4, 100.58], [1172.31, 100.57], [1172.48, 100.59],\n",
    "    [1172.27, 100.57], [1172.35, 100.58], [1172.35, 100.58], [1172.35, 100.58], [1172.33, 100.57],\n",
    "    [1172.31, 100.57], [1172.31, 100.57], [1172.33, 100.57], [1172.19, 100.56], [1172.21, 100.56],\n",
    "    [1171.95, 100.54], [1172.26, 100.57], [1172.35, 100.58], [1172.35, 100.58], [1172.46, 100.59],\n",
    "    [1172.7, 100.61], [1172.71, 100.61]\n",
    "]\n",
    "\n",
    "x = []\n",
    "y = []\n",
    "for curr in list_curr:\n",
    "    x.append(float(curr[0]))\n",
    "    y.append(curr[1])\n",
    "\n",
    "plt.plot(y)\n",
    "plt.show()"
   ]
  },
  {
   "cell_type": "code",
   "execution_count": null,
   "metadata": {},
   "outputs": [],
   "source": [
    "import requests\n",
    "import sys\n",
    "import time, datetime\n",
    "from bs4 import BeautifulSoup as bs\n",
    "from matplotlib import pyplot as plt\n",
    "\n",
    "sys.path.append(\"C:/Users/etlers/Documents/project/python/common\")\n",
    "\n",
    "import send_slack_message as SSM\n",
    "import common_util as CU\n",
    "\n",
    "plt.ion()       # Enable interactive mode\n",
    "fig = plt.figure()  # Create figure\n",
    "axes = fig.add_subplot(111) # Add subplot (dont worry only one plot appears)\n",
    "\n",
    "axes.set_autoscale_on(True) # enable autoscale\n",
    "axes.autoscale_view(True,True,True)\n",
    "\n",
    "l, = plt.plot([], [], 'r-') # Plot blank data\n",
    "plt.xlabel('x')         # Set up axes\n",
    "plt.title('test')\n",
    "\n",
    "list_idx_rt = []\n",
    "list_krw = []\n",
    "\n",
    "url_index = \"https://kr.investing.com/currencies/us-dollar-index\"\n",
    "url_currency = \"https://kr.investing.com/currencies/usd-krw\"\n",
    "line_len = 75\n",
    "\n",
    "def get_soup(url):\n",
    "    response = requests.get( url, headers={\"User-agent\": \"Mozilla/5.0\"} )\n",
    "    soup = bs(response.text, 'html.parser')\n",
    "\n",
    "    return soup\n",
    "\n",
    "\n",
    "def make_usd_index():\n",
    "    soup = get_soup(url_index)\n",
    "\n",
    "    historical_usd_idx = soup.find(\"div\",{\"class\":\"clear overviewDataTable overviewDataTableWithTooltip\"})\n",
    "    idx = 0\n",
    "    dict_usd_idx = {}\n",
    "    for row in historical_usd_idx:\n",
    "        row_string = str(row).strip()\n",
    "        if len(row_string) == 0: continue\n",
    "        idx += 1\n",
    "        temp = str(row_string.split('<span class=\"float_lang_base_1\">')[1:]).replace(\"['\",\"\")\n",
    "        list_temp = temp.replace(\"</span><span class=\",\"\").split('\"float_lang_base_2 bold\">')\n",
    "        dict_usd_idx[idx] = [list_temp[0].replace(\" \",\"\"), list_temp[1].replace(\"</span></div>']\",\"\")]\n",
    "    \n",
    "    return dict_usd_idx\n",
    "\n",
    "\n",
    "def make_usd_krw():\n",
    "    soup = get_soup(url_currency)\n",
    "\n",
    "    list_usd_krw = soup.find(\"div\",{\"class\":\"main-current-data\"})\n",
    "    idx = 0\n",
    "    dict_usd_krw = {}\n",
    "    for row in list_usd_krw:\n",
    "        row_string = str(row).strip()\n",
    "        if len(row_string) == 0: continue\n",
    "        idx += 1\n",
    "        if idx == 1:\n",
    "            dict_usd_krw[idx] = row_string.split('<div class=\"')[1].split(\" \")[0]\n",
    "        else:\n",
    "            list_val = []\n",
    "            for val in row_string.split(\"\\n\"):\n",
    "                if \"span class\" not in val: continue\n",
    "                list_val.append(val.split('\">')[1].replace(\"</span>\",\"\"))\n",
    "            dict_usd_krw[idx] = list_val\n",
    "            \n",
    "    list_usd_krw = soup.find(\"div\",{\"class\":\"clear overviewDataTable overviewDataTableWithTooltip\"})\n",
    "    for row in list_usd_krw:\n",
    "        row_string = str(row).strip()\n",
    "        if len(row_string) == 0: continue\n",
    "        idx += 1\n",
    "        temp = str(row_string.split('<span class=\"float_lang_base_1\">')[1:]).replace(\"['\",\"\")\n",
    "        list_temp = temp.replace(\"</span><span class=\",\"\").split('\"float_lang_base_2 bold\">')\n",
    "        dict_usd_krw[idx] = [list_temp[0].replace(\" \",\"\"), list_temp[1].replace(\"</span></div>']\",\"\")]\n",
    "    \n",
    "    return dict_usd_krw\n",
    "\n",
    "\n",
    "def execute(run_dtm):\n",
    "    # Make Dictionary Data\n",
    "    dict_usd_idx = make_usd_index()\n",
    "    dict_usd_krw = make_usd_krw()\n",
    "    # USD Index 52w Average\n",
    "    year_avg_idx = (float(dict_usd_idx[10][1].split(\" - \")[0].replace(\",\",\"\")) + float(dict_usd_idx[10][1].split(\" - \")[1].replace(\",\",\"\"))) / 2\n",
    "    # Now Index\n",
    "    cur_idx = float(dict_usd_idx[4][1].replace(\",\",\"\"))\n",
    "    # USD KRW 52w Average\n",
    "    year_avg_cur = (float(dict_usd_krw[8][1].split(\" - \")[0].replace(\",\",\"\")) + float(dict_usd_krw[8][1].split(\" - \")[1].replace(\",\",\"\"))) / 2\n",
    "    # Now Currency\n",
    "    now_cur = float(dict_usd_krw[2][0].replace(\",\",\"\"))\n",
    "    # Dollar Gap Rate\n",
    "    usd_gap_rate = cur_idx / now_cur * 100\n",
    "    # Dollar Gap Rate - 52w\n",
    "    year_avg_usd_gap_rate = year_avg_idx / year_avg_cur * 100\n",
    "    # Proper USD KRW\n",
    "    proper_cur = round(cur_idx / year_avg_usd_gap_rate * 100, 2)\n",
    "    \n",
    "    now_rate = round((now_cur / proper_cur) * 100, 2)\n",
    "    result = f\"{proper_cur} - [{now_cur}, {now_rate}%]\"\n",
    "    list_idx_rt.append(now_rate)\n",
    "    list_krw.append(now_cur)\n",
    "#     print(result)    \n",
    "\n",
    "\n",
    "\n",
    "if __name__ == \"__main__\":\n",
    "\n",
    "    while True:\n",
    "        now_dtm = datetime.datetime.now()\n",
    "        run_dtm = now_dtm.strftime(\"%Y-%m-%d %H:%M:%S\")\n",
    "        run_hh = now_dtm.strftime(\"%H\")\n",
    "        \n",
    "        if run_hh > \"17\":\n",
    "            print(\"End Calculation for Dealing.\")\n",
    "            break\n",
    "\n",
    "        execute(run_dtm)\n",
    "        plt.plot(list_idx_rt)\n",
    "        plt.draw()\n",
    "        \n",
    "        l.set_data(list_krw, list_idx_rt) # update data\n",
    "        axes.relim()        # Recalculate limits\n",
    "        axes.autoscale_view(True,True,True) #Autoscale\n",
    "        plt.draw()      # Redraw\n",
    "        \n",
    "        time.sleep(1)"
   ]
  },
  {
   "cell_type": "code",
   "execution_count": 27,
   "metadata": {},
   "outputs": [
    {
     "ename": "NameError",
     "evalue": "name 'raw_input' is not defined",
     "output_type": "error",
     "traceback": [
      "\u001b[1;31m---------------------------------------------------------------------------\u001b[0m",
      "\u001b[1;31mNameError\u001b[0m                                 Traceback (most recent call last)",
      "\u001b[1;32m<ipython-input-27-e56297075c91>\u001b[0m in \u001b[0;36m<module>\u001b[1;34m\u001b[0m\n\u001b[0;32m     18\u001b[0m \u001b[1;33m\u001b[0m\u001b[0m\n\u001b[0;32m     19\u001b[0m \u001b[1;32mwhile\u001b[0m \u001b[1;32mTrue\u001b[0m\u001b[1;33m:\u001b[0m\u001b[1;33m\u001b[0m\u001b[1;33m\u001b[0m\u001b[0m\n\u001b[1;32m---> 20\u001b[1;33m     \u001b[0my\u001b[0m \u001b[1;33m=\u001b[0m \u001b[0mfloat\u001b[0m\u001b[1;33m(\u001b[0m\u001b[0mraw_input\u001b[0m\u001b[1;33m(\u001b[0m\u001b[1;34m\"y val :\"\u001b[0m\u001b[1;33m)\u001b[0m\u001b[1;33m)\u001b[0m \u001b[1;31m#Get new data\u001b[0m\u001b[1;33m\u001b[0m\u001b[1;33m\u001b[0m\u001b[0m\n\u001b[0m\u001b[0;32m     21\u001b[0m     \u001b[0mxdata\u001b[0m\u001b[1;33m.\u001b[0m\u001b[0mappend\u001b[0m\u001b[1;33m(\u001b[0m\u001b[0my\u001b[0m\u001b[1;33m)\u001b[0m     \u001b[1;31m# Append new data to list\u001b[0m\u001b[1;33m\u001b[0m\u001b[1;33m\u001b[0m\u001b[0m\n\u001b[0;32m     22\u001b[0m     \u001b[0mk\u001b[0m \u001b[1;33m=\u001b[0m \u001b[0mk\u001b[0m \u001b[1;33m+\u001b[0m \u001b[1;36m1\u001b[0m       \u001b[1;31m# inc x value\u001b[0m\u001b[1;33m\u001b[0m\u001b[1;33m\u001b[0m\u001b[0m\n",
      "\u001b[1;31mNameError\u001b[0m: name 'raw_input' is not defined"
     ]
    },
    {
     "data": {
      "image/png": "[encoded data removed]",
      "text/plain": [
       "<Figure size 432x288 with 1 Axes>"
      ]
     },
     "metadata": {},
     "output_type": "display_data"
    }
   ],
   "source": [
    "import numpy as np\n",
    "import matplotlib.pyplot as plt\n",
    "\n",
    "plt.ion()       # Enable interactive mode\n",
    "fig = plt.figure()  # Create figure\n",
    "axes = fig.add_subplot(111) # Add subplot (dont worry only one plot appears)\n",
    "\n",
    "axes.set_autoscale_on(True) # enable autoscale\n",
    "axes.autoscale_view(True,True,True)\n",
    "\n",
    "l, = plt.plot([], [], 'r-') # Plot blank data\n",
    "plt.xlabel('x')         # Set up axes\n",
    "plt.title('test')\n",
    "\n",
    "k = 5\n",
    "xdata=[0.5 for i in range(k+1)]     # Generate a list to hold data\n",
    "ydata=[j for j in range(k+1)]\n",
    "\n",
    "while True:\n",
    "    y = float(raw_input(\"y val :\")) #Get new data\n",
    "    xdata.append(y)     # Append new data to list\n",
    "    k = k + 1       # inc x value\n",
    "    ydata.append(k)\n",
    "    l.set_data(ydata,xdata) # update data\n",
    "#     print xdata     # Print for debug perposes\n",
    "#     print ydata\n",
    "    axes.relim()        # Recalculate limits\n",
    "    axes.autoscale_view(True,True,True) #Autoscale\n",
    "    plt.draw()      # Redraw"
   ]
  },
  {
   "cell_type": "code",
   "execution_count": null,
   "metadata": {},
   "outputs": [],
   "source": []
  }
 ],
 "metadata": {
  "kernelspec": {
   "display_name": "Python 3",
   "language": "python",
   "name": "python3"
  },
  "language_info": {
   "codemirror_mode": {
    "name": "ipython",
    "version": 3
   },
   "file_extension": ".py",
   "mimetype": "text/x-python",
   "name": "python",
   "nbconvert_exporter": "python",
   "pygments_lexer": "ipython3",
   "version": "3.8.8"
  }
 },
 "nbformat": 4,
 "nbformat_minor": 4
}
