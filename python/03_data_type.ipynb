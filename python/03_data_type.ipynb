{
 "cells": [
  {
   "cell_type": "code",
   "execution_count": 1,
   "id": "d800969a-2579-46b2-bf20-b518a1f2c182",
   "metadata": {},
   "outputs": [],
   "source": [
    "import datetime"
   ]
  },
  {
   "cell_type": "code",
   "execution_count": 2,
   "id": "e869c85d-a234-4433-998f-f42b87b4a203",
   "metadata": {},
   "outputs": [
    {
     "data": {
      "text/plain": [
       "datetime.date(2020, 12, 14)"
      ]
     },
     "execution_count": 2,
     "metadata": {},
     "output_type": "execute_result"
    }
   ],
   "source": [
    "day1 = datetime.date(2020, 12, 14)\n",
    "day1"
   ]
  },
  {
   "cell_type": "code",
   "execution_count": 6,
   "id": "a3b6e690-5858-4308-a4a3-95b885f39c83",
   "metadata": {},
   "outputs": [
    {
     "data": {
      "text/plain": [
       "datetime.date(1995, 6, 5)"
      ]
     },
     "execution_count": 6,
     "metadata": {},
     "output_type": "execute_result"
    }
   ],
   "source": [
    "day2 = datetime.date(1995, 6, 5)\n",
    "day2"
   ]
  },
  {
   "cell_type": "code",
   "execution_count": 7,
   "id": "f31ba34f-6a5c-430b-ba2b-b7d2d48ebde8",
   "metadata": {},
   "outputs": [
    {
     "data": {
      "text/plain": [
       "datetime.timedelta(days=9324)"
      ]
     },
     "execution_count": 7,
     "metadata": {},
     "output_type": "execute_result"
    }
   ],
   "source": [
    "diff = day1 - day2\n",
    "diff"
   ]
  },
  {
   "cell_type": "code",
   "execution_count": 9,
   "id": "f0970204-04eb-4f86-9d87-f987abb3de5e",
   "metadata": {},
   "outputs": [],
   "source": [
    "day3 = datetime.datetime(2020, 12, 14, 14, 10, 50)"
   ]
  },
  {
   "cell_type": "code",
   "execution_count": 10,
   "id": "9de63ef8-89d8-455d-8d52-0d133568c4ab",
   "metadata": {},
   "outputs": [
    {
     "data": {
      "text/plain": [
       "14"
      ]
     },
     "execution_count": 10,
     "metadata": {},
     "output_type": "execute_result"
    }
   ],
   "source": [
    "day3.hour"
   ]
  },
  {
   "cell_type": "code",
   "execution_count": 11,
   "id": "009d5ce0-417e-4741-b18f-0d614293ce77",
   "metadata": {},
   "outputs": [
    {
     "data": {
      "text/plain": [
       "10"
      ]
     },
     "execution_count": 11,
     "metadata": {},
     "output_type": "execute_result"
    }
   ],
   "source": [
    "day3.minute"
   ]
  },
  {
   "cell_type": "code",
   "execution_count": 12,
   "id": "5b911d31-944d-446f-bd3e-8d8f5b60bca1",
   "metadata": {},
   "outputs": [
    {
     "data": {
      "text/plain": [
       "50"
      ]
     },
     "execution_count": 12,
     "metadata": {},
     "output_type": "execute_result"
    }
   ],
   "source": [
    "day3.second"
   ]
  },
  {
   "cell_type": "code",
   "execution_count": 13,
   "id": "70bda51a-0dec-4c4a-8e01-6e38f35ba585",
   "metadata": {},
   "outputs": [
    {
     "data": {
      "text/plain": [
       "datetime.datetime(2020, 12, 14, 10, 14, 50)"
      ]
     },
     "execution_count": 13,
     "metadata": {},
     "output_type": "execute_result"
    }
   ],
   "source": [
    "day = datetime.date(2020, 12, 14)\n",
    "time = datetime.time(10, 14, 50)\n",
    "dt = datetime.datetime.combine(day, time)\n",
    "dt"
   ]
  },
  {
   "cell_type": "code",
   "execution_count": 16,
   "id": "00a78da2-58f1-490a-977c-8253f05fcc63",
   "metadata": {},
   "outputs": [
    {
     "data": {
      "text/plain": [
       "0"
      ]
     },
     "execution_count": 16,
     "metadata": {},
     "output_type": "execute_result"
    }
   ],
   "source": [
    "# 0은 월요일을 의미한다. 차례대로 1은 화요일, 2는 수요일, 6은 일요일\n",
    "day.weekday()"
   ]
  },
  {
   "cell_type": "code",
   "execution_count": 17,
   "id": "2695f43f-ab70-4d25-99ee-3e0b9aa39762",
   "metadata": {},
   "outputs": [
    {
     "data": {
      "text/plain": [
       "1"
      ]
     },
     "execution_count": 17,
     "metadata": {},
     "output_type": "execute_result"
    }
   ],
   "source": [
    "# 월요일은 1, 화요일은 2, ..., 일요일은 7을 리턴\n",
    "day.isoweekday()"
   ]
  },
  {
   "cell_type": "code",
   "execution_count": 18,
   "id": "e4877071-442b-4f4e-ac83-774f5a409712",
   "metadata": {},
   "outputs": [
    {
     "data": {
      "text/plain": [
       "datetime.date(2022, 1, 8)"
      ]
     },
     "execution_count": 18,
     "metadata": {},
     "output_type": "execute_result"
    }
   ],
   "source": [
    "today = datetime.date.today()\n",
    "today"
   ]
  },
  {
   "cell_type": "code",
   "execution_count": 20,
   "id": "a77bf5ed-fa95-49d2-9639-d0c17af92fc1",
   "metadata": {},
   "outputs": [
    {
     "data": {
      "text/plain": [
       "datetime.timedelta(days=50)"
      ]
     },
     "execution_count": 20,
     "metadata": {},
     "output_type": "execute_result"
    }
   ],
   "source": [
    "diff_days = datetime.timedelta(days=50)\n",
    "diff_days"
   ]
  },
  {
   "cell_type": "code",
   "execution_count": 21,
   "id": "69ca11b8-2f17-405a-843a-357a7f24fa6e",
   "metadata": {},
   "outputs": [
    {
     "data": {
      "text/plain": [
       "datetime.date(2022, 2, 27)"
      ]
     },
     "execution_count": 21,
     "metadata": {},
     "output_type": "execute_result"
    }
   ],
   "source": [
    "today + diff_days"
   ]
  },
  {
   "cell_type": "code",
   "execution_count": 22,
   "id": "097bbece-41e0-4397-b7b1-8060240f097a",
   "metadata": {},
   "outputs": [
    {
     "data": {
      "text/plain": [
       "datetime.date(2021, 11, 19)"
      ]
     },
     "execution_count": 22,
     "metadata": {},
     "output_type": "execute_result"
    }
   ],
   "source": [
    "today - diff_days"
   ]
  },
  {
   "cell_type": "code",
   "execution_count": 23,
   "id": "87e626dd-f7a3-48a3-a0f1-44c13fcd112f",
   "metadata": {},
   "outputs": [],
   "source": [
    "# 윤년\n",
    "import calendar"
   ]
  },
  {
   "cell_type": "code",
   "execution_count": 24,
   "id": "0b036791-acf2-4c69-a305-35fa3d3d19a3",
   "metadata": {},
   "outputs": [
    {
     "data": {
      "text/plain": [
       "True"
      ]
     },
     "execution_count": 24,
     "metadata": {},
     "output_type": "execute_result"
    }
   ],
   "source": [
    "calendar.isleap(0)"
   ]
  },
  {
   "cell_type": "code",
   "execution_count": 25,
   "id": "69f18aa4-e49b-412e-b99e-56a2c1586d8d",
   "metadata": {},
   "outputs": [
    {
     "data": {
      "text/plain": [
       "False"
      ]
     },
     "execution_count": 25,
     "metadata": {},
     "output_type": "execute_result"
    }
   ],
   "source": [
    "calendar.isleap(1)"
   ]
  },
  {
   "cell_type": "markdown",
   "id": "d608e57d-bced-446d-aaa9-e4aeaccabcff",
   "metadata": {},
   "source": [
    "# deque - 데크"
   ]
  },
  {
   "cell_type": "code",
   "execution_count": 27,
   "id": "eaa253b8-ba4d-4a4a-a02f-12a1821f23b2",
   "metadata": {},
   "outputs": [],
   "source": [
    "from collections import deque"
   ]
  },
  {
   "cell_type": "code",
   "execution_count": 31,
   "id": "4a1a1834-38c5-4c02-aa84-309c0e06afe6",
   "metadata": {},
   "outputs": [
    {
     "data": {
      "text/plain": [
       "[4, 5, 1, 2, 3]"
      ]
     },
     "execution_count": 31,
     "metadata": {},
     "output_type": "execute_result"
    }
   ],
   "source": [
    "a = [1, 2, 3, 4, 5]\n",
    "q = deque(a)\n",
    "# 우측으로 2칸 이동. 좌측은 -2\n",
    "q.rotate(2)\n",
    "result = list(q)\n",
    "result"
   ]
  },
  {
   "cell_type": "code",
   "execution_count": 33,
   "id": "69a72297-823f-4f9a-9081-4a35754d58e9",
   "metadata": {},
   "outputs": [],
   "source": [
    "a = [1, 2, 3, 4, 5]\n",
    "d = deque(a)"
   ]
  },
  {
   "cell_type": "code",
   "execution_count": 34,
   "id": "987b44a7-4db6-42ea-9920-8d5df8c17878",
   "metadata": {},
   "outputs": [
    {
     "data": {
      "text/plain": [
       "deque([1, 2, 3, 4, 5, 6])"
      ]
     },
     "execution_count": 34,
     "metadata": {},
     "output_type": "execute_result"
    }
   ],
   "source": [
    "d.append(6)\n",
    "d"
   ]
  },
  {
   "cell_type": "code",
   "execution_count": 35,
   "id": "49d0f1f1-9ddc-46a1-baff-173e7ac642f4",
   "metadata": {},
   "outputs": [
    {
     "data": {
      "text/plain": [
       "deque([0, 1, 2, 3, 4, 5, 6])"
      ]
     },
     "execution_count": 35,
     "metadata": {},
     "output_type": "execute_result"
    }
   ],
   "source": [
    "d.appendleft(0)\n",
    "d"
   ]
  },
  {
   "cell_type": "code",
   "execution_count": 36,
   "id": "fb627189-a5ba-48c7-b4ed-bf67872f91bc",
   "metadata": {},
   "outputs": [
    {
     "data": {
      "text/plain": [
       "deque([0, 1, 2, 3, 4, 5])"
      ]
     },
     "execution_count": 36,
     "metadata": {},
     "output_type": "execute_result"
    }
   ],
   "source": [
    "d.pop()\n",
    "d"
   ]
  },
  {
   "cell_type": "code",
   "execution_count": 37,
   "id": "f84ea1d6-0f12-46ca-8361-2753997b5c1d",
   "metadata": {},
   "outputs": [
    {
     "data": {
      "text/plain": [
       "deque([1, 2, 3, 4, 5])"
      ]
     },
     "execution_count": 37,
     "metadata": {},
     "output_type": "execute_result"
    }
   ],
   "source": [
    "d.popleft()\n",
    "d"
   ]
  },
  {
   "cell_type": "code",
   "execution_count": null,
   "id": "d47c432a-514d-444e-8d79-a31c0a5ad3ae",
   "metadata": {},
   "outputs": [],
   "source": []
  }
 ],
 "metadata": {
  "kernelspec": {
   "display_name": "Python 3 (ipykernel)",
   "language": "python",
   "name": "python3"
  },
  "language_info": {
   "codemirror_mode": {
    "name": "ipython",
    "version": 3
   },
   "file_extension": ".py",
   "mimetype": "text/x-python",
   "name": "python",
   "nbconvert_exporter": "python",
   "pygments_lexer": "ipython3",
   "version": "3.9.7"
  }
 },
 "nbformat": 4,
 "nbformat_minor": 5
}
