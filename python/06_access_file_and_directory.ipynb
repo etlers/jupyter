{
 "cells": [
  {
   "cell_type": "code",
   "execution_count": 39,
   "metadata": {},
   "outputs": [],
   "source": [
    "from IPython.core.interactiveshell import InteractiveShell\n",
    "InteractiveShell.ast_node_interactivity = \"last\""
   ]
  },
  {
   "cell_type": "code",
   "execution_count": 3,
   "metadata": {},
   "outputs": [],
   "source": [
    "import pathlib"
   ]
  },
  {
   "cell_type": "markdown",
   "metadata": {},
   "source": [
    "# pathlib를 사용하지 않은 코드와 사용한 코드를 비교한 표는 다음과 같다.\n",
    "\n",
    "* os.getcwd == p.cwd  \n",
    "* glob.glob == p.glob  \n",
    "* os.path.dirname == p.parent  \n",
    "* os.path.basename == p.name  \n",
    "* os.path.join == p.joinpath  \n",
    "* shutil.move == p.replace  "
   ]
  },
  {
   "cell_type": "code",
   "execution_count": null,
   "metadata": {},
   "outputs": [],
   "source": [
    "pathlib.Path.cwd()"
   ]
  },
  {
   "cell_type": "code",
   "execution_count": 29,
   "metadata": {},
   "outputs": [
    {
     "name": "stdout",
     "output_type": "stream",
     "text": [
      "C:\\Users\\etlers\\Documents\\jupyter\\python untitled.txt C:\\Users\\etlers\\Documents\\jupyter\\python\\archive\\untitled.txt\n",
      "C:\\Users\\etlers\\Documents\\jupyter\\python untitled1.txt C:\\Users\\etlers\\Documents\\jupyter\\python\\archive\\untitled1.txt\n"
     ]
    }
   ],
   "source": [
    "# 하위 경로까지 검색하고 싶으면 rglob 사용\n",
    "for p in pathlib.Path.cwd().glob(\"*.txt\"):\n",
    "    new_p = p.parent.joinpath(\"archive\", p.name)\n",
    "    print(p.parent, p.name, new_p)\n",
    "    # shutil.move와 동일한 기능. 존재하면 덮어씌움\n",
    "#     p.replace(new_p)"
   ]
  },
  {
   "cell_type": "code",
   "execution_count": 19,
   "metadata": {},
   "outputs": [
    {
     "data": {
      "text/plain": [
       "Counter({'': 2, '.ipynb': 6})"
      ]
     },
     "execution_count": 19,
     "metadata": {},
     "output_type": "execute_result"
    }
   ],
   "source": [
    "# 현재 디렉터리의 모든 파일을 조사하여 확장자별 건수 구하기\n",
    "import collections, pathlib\n",
    "# 리스트를 묶어서 개수를 돌려줌\n",
    "collections.Counter([p.suffix for p in pathlib.Path.cwd().iterdir()])"
   ]
  },
  {
   "cell_type": "code",
   "execution_count": 18,
   "metadata": {},
   "outputs": [
    {
     "data": {
      "text/plain": [
       "['', '.ipynb', '.ipynb', '.ipynb', '.ipynb', '.ipynb', '', '.ipynb']"
      ]
     },
     "execution_count": 18,
     "metadata": {},
     "output_type": "execute_result"
    }
   ],
   "source": [
    "[p.suffix for p in pathlib.Path.cwd().iterdir()]"
   ]
  },
  {
   "cell_type": "markdown",
   "metadata": {},
   "source": [
    "# 기존 모듈\n",
    "\n",
    "* os.listdir(path): path 하위의 파일(디렉터리 포함)을 리스트로 리턴한다.  \n",
    "* os.path.join(path, *paths): path와 paths에 해당되는 모든 경로를 더하여 전체 경로를 리턴한다. 이때 경로를 구분하는 구분자는 실행 OS시스템에 맞게 변경된다. (경로 구분자의 예: 유닉스는 /, 윈도우는 \\\\)  \n",
    "* os.path.isdir(path): path의 디렉터리여부를 리턴한다.  \n",
    "* os.path.isfile(path): path의 파일여부를 리턴한다.  \n",
    "* os.path.splitext(path): path를 파일명과 확장자로 구분한다. (이때 확장자에는 .이 포함된다.)"
   ]
  },
  {
   "cell_type": "code",
   "execution_count": 21,
   "metadata": {},
   "outputs": [],
   "source": [
    "def search(dirname):\n",
    "    for p in pathlib.Path(dirname).rglob(\"*.py\"):\n",
    "        print(p)"
   ]
  },
  {
   "cell_type": "code",
   "execution_count": 24,
   "metadata": {},
   "outputs": [
    {
     "name": "stdout",
     "output_type": "stream",
     "text": [
      "C:\\Users\\etlers\\Documents\\python\\auto_bot\\book_cgv.py\n",
      "C:\\Users\\etlers\\Documents\\python\\auto_bot\\book_naver.py\n",
      "C:\\Users\\etlers\\Documents\\python\\auto_bot\\pyautogui_test.py\n",
      "C:\\Users\\etlers\\Documents\\python\\common\\common_util.py\n",
      "C:\\Users\\etlers\\Documents\\python\\common\\date_util.py\n",
      "C:\\Users\\etlers\\Documents\\python\\common\\send_slack_message.py\n",
      "C:\\Users\\etlers\\Documents\\python\\img_pillow\\lecture_01.py\n",
      "C:\\Users\\etlers\\Documents\\python\\pygame\\lecture_01.py\n",
      "C:\\Users\\etlers\\Documents\\python\\test\\test_02.py\n",
      "C:\\Users\\etlers\\Documents\\python\\test\\upload_opt_value.py\n",
      "C:\\Users\\etlers\\Documents\\python\\zz_test\\auto_bot.py\n",
      "C:\\Users\\etlers\\Documents\\python\\zz_test\\deco_class.py\n",
      "C:\\Users\\etlers\\Documents\\python\\zz_test\\deco_def.py\n",
      "C:\\Users\\etlers\\Documents\\python\\zz_test\\param_args.py\n",
      "C:\\Users\\etlers\\Documents\\python\\zz_test\\read_img.py\n",
      "C:\\Users\\etlers\\Documents\\python\\zz_test\\read_nums.py\n",
      "C:\\Users\\etlers\\Documents\\python\\zz_test\\upload_opt_value.py\n",
      "C:\\Users\\etlers\\Documents\\python\\zz_test\\yield_generator.py\n"
     ]
    }
   ],
   "source": [
    "# search(\"C:\\\\Users\\\\etlers\\\\Documents\\\\python\")\n",
    "search(\"C:/Users/etlers/Documents/python\")"
   ]
  },
  {
   "cell_type": "code",
   "execution_count": 27,
   "metadata": {},
   "outputs": [
    {
     "name": "stdout",
     "output_type": "stream",
     "text": [
      "asdjf;afj;aeia;kdsa;f\n",
      "\n",
      "adksja\n",
      "\n",
      "dskweiwmcic;\n",
      "1234\n",
      "\n",
      "dseqomce\n",
      "\n",
      "akjasfjcmo  ienkjaslkc a;as\n",
      "\n",
      "dskjfaoeicmoa\n",
      "\n",
      "kdsjal\n",
      "\n",
      "\n",
      "\n",
      "akdl\n"
     ]
    }
   ],
   "source": [
    "import fileinput\n",
    "import glob\n",
    "\n",
    "with fileinput.input(glob.glob(\"*.txt\")) as f:\n",
    "    for line in f:\n",
    "        print(line)"
   ]
  },
  {
   "cell_type": "code",
   "execution_count": 30,
   "metadata": {},
   "outputs": [
    {
     "data": {
      "text/plain": [
       "<filecmp.dircmp at 0x1cafd2220a0>"
      ]
     },
     "execution_count": 30,
     "metadata": {},
     "output_type": "execute_result"
    }
   ],
   "source": [
    "import filecmp\n",
    "\n",
    "a = \"C:/Users/etlers/Documents/jupyter/python\"\n",
    "b = \"C:/Users/etlers/Documents/jupyter/python/archive\"\n",
    "fd = filecmp.dircmp(a, b)\n",
    "\n",
    "fd"
   ]
  },
  {
   "cell_type": "code",
   "execution_count": 31,
   "metadata": {},
   "outputs": [
    {
     "name": "stdout",
     "output_type": "stream",
     "text": [
      ".ipynb_checkpoints\n",
      "01_text_precessing.ipynb\n",
      "03_data_type.ipynb\n",
      "04_math_module.ipynb\n",
      "05_functional_programming_module.ipynb\n",
      "06_access_file_and_directory.ipynb\n",
      "archive\n",
      "regular_expression.ipynb\n"
     ]
    }
   ],
   "source": [
    "for a in fd.left_only:\n",
    "    print(a)"
   ]
  },
  {
   "cell_type": "code",
   "execution_count": 32,
   "metadata": {},
   "outputs": [
    {
     "name": "stdout",
     "output_type": "stream",
     "text": [
      "untitled2.txt\n"
     ]
    }
   ],
   "source": [
    "for b in fd.right_only:\n",
    "    print(b)"
   ]
  },
  {
   "cell_type": "code",
   "execution_count": 34,
   "metadata": {},
   "outputs": [
    {
     "name": "stdout",
     "output_type": "stream",
     "text": [
      "untitled.txt\n",
      "untitled1.txt\n"
     ]
    }
   ],
   "source": [
    "# 동일하게 있지만 내용이 다른 파일\n",
    "for x in fd.diff_files:\n",
    "    print(x)"
   ]
  },
  {
   "cell_type": "code",
   "execution_count": 35,
   "metadata": {},
   "outputs": [],
   "source": [
    "import random\n",
    "import tempfile"
   ]
  },
  {
   "cell_type": "code",
   "execution_count": 40,
   "metadata": {},
   "outputs": [
    {
     "name": "stdout",
     "output_type": "stream",
     "text": [
      "581\n"
     ]
    }
   ],
   "source": [
    "def sumfile(f):\n",
    "    result = 0\n",
    "    for line in f.readlines():\n",
    "        result += int(line)\n",
    "        \n",
    "    return result\n",
    "\n",
    "# NamedTemporaryFile을 사용하면 생성되는 임시파일이 파일 시스템에서 보이는 이름을 갖게 된다. \n",
    "tf = tempfile.TemporaryFile(mode=\"w+\")\n",
    "for i in range(10):\n",
    "    num = random.randint(1, 100)\n",
    "    tf.write(str(num))\n",
    "    tf.write(\"\\n\")\n",
    "    \n",
    "# 파일 offset을 처음으로 이동\n",
    "tf.seek(0)\n",
    "result = sumfile(tf)\n",
    "tf.close()\n",
    "\n",
    "print(result)"
   ]
  },
  {
   "cell_type": "code",
   "execution_count": 48,
   "metadata": {},
   "outputs": [
    {
     "name": "stdout",
     "output_type": "stream",
     "text": [
      "archive\\untitled.txt\n",
      "archive\\untitled1.txt\n",
      "archive\\untitled2.txt\n",
      "C:\\Users\\etlers\\Documents\\jupyter\\python\\untitled.txt\n",
      "C:\\Users\\etlers\\Documents\\jupyter\\python\\untitled1.txt\n",
      "C:\\Users\\etlers\\Documents\\jupyter\\python\\.ipynb_checkpoints\\untitled-checkpoint.txt\n",
      "C:\\Users\\etlers\\Documents\\jupyter\\python\\.ipynb_checkpoints\\untitled1-checkpoint.txt\n",
      "C:\\Users\\etlers\\Documents\\jupyter\\python\\archive\\untitled.txt\n",
      "C:\\Users\\etlers\\Documents\\jupyter\\python\\archive\\untitled1.txt\n",
      "C:\\Users\\etlers\\Documents\\jupyter\\python\\archive\\untitled2.txt\n"
     ]
    }
   ],
   "source": [
    "import glob\n",
    "\n",
    "for filename in glob.glob(\"**/*.txt\"):\n",
    "    print(filename)\n",
    "    \n",
    "for filename in pathlib.Path.cwd().rglob(\"*.txt\"):\n",
    "    print(filename)"
   ]
  },
  {
   "cell_type": "markdown",
   "metadata": {},
   "source": [
    "# fnmatch에 사용할 수 있는 패턴\n",
    "\n",
    "* *: 모든 것과 일치  \n",
    "* ?: 모든 단일 문자와 일치  \n",
    "* [seq]: seq의 모든 문자와 일치  \n",
    "* [!seq]: seq에 없는 모든 문자와 일치"
   ]
  },
  {
   "cell_type": "code",
   "execution_count": 49,
   "metadata": {},
   "outputs": [],
   "source": [
    "import fnmatch\n",
    "import os"
   ]
  },
  {
   "cell_type": "code",
   "execution_count": 57,
   "metadata": {},
   "outputs": [
    {
     "data": {
      "text/plain": [
       "False"
      ]
     },
     "execution_count": 57,
     "metadata": {},
     "output_type": "execute_result"
    },
    {
     "name": "stdout",
     "output_type": "stream",
     "text": [
      ".ipynb_checkpoints\n"
     ]
    },
    {
     "data": {
      "text/plain": [
       "False"
      ]
     },
     "execution_count": 57,
     "metadata": {},
     "output_type": "execute_result"
    },
    {
     "name": "stdout",
     "output_type": "stream",
     "text": [
      "01_text_precessing.ipynb\n"
     ]
    },
    {
     "data": {
      "text/plain": [
       "False"
      ]
     },
     "execution_count": 57,
     "metadata": {},
     "output_type": "execute_result"
    },
    {
     "name": "stdout",
     "output_type": "stream",
     "text": [
      "03_data_type.ipynb\n"
     ]
    },
    {
     "data": {
      "text/plain": [
       "False"
      ]
     },
     "execution_count": 57,
     "metadata": {},
     "output_type": "execute_result"
    },
    {
     "name": "stdout",
     "output_type": "stream",
     "text": [
      "04_math_module.ipynb\n"
     ]
    },
    {
     "data": {
      "text/plain": [
       "False"
      ]
     },
     "execution_count": 57,
     "metadata": {},
     "output_type": "execute_result"
    },
    {
     "name": "stdout",
     "output_type": "stream",
     "text": [
      "05_functional_programming_module.ipynb\n"
     ]
    },
    {
     "data": {
      "text/plain": [
       "False"
      ]
     },
     "execution_count": 57,
     "metadata": {},
     "output_type": "execute_result"
    },
    {
     "name": "stdout",
     "output_type": "stream",
     "text": [
      "06_access_file_and_directory.ipynb\n"
     ]
    },
    {
     "data": {
      "text/plain": [
       "False"
      ]
     },
     "execution_count": 57,
     "metadata": {},
     "output_type": "execute_result"
    },
    {
     "name": "stdout",
     "output_type": "stream",
     "text": [
      "archive\n"
     ]
    },
    {
     "data": {
      "text/plain": [
       "False"
      ]
     },
     "execution_count": 57,
     "metadata": {},
     "output_type": "execute_result"
    },
    {
     "name": "stdout",
     "output_type": "stream",
     "text": [
      "regular_expression.ipynb\n"
     ]
    },
    {
     "data": {
      "text/plain": [
       "False"
      ]
     },
     "execution_count": 57,
     "metadata": {},
     "output_type": "execute_result"
    },
    {
     "name": "stdout",
     "output_type": "stream",
     "text": [
      "untitled.txt\n"
     ]
    },
    {
     "data": {
      "text/plain": [
       "True"
      ]
     },
     "execution_count": 57,
     "metadata": {},
     "output_type": "execute_result"
    },
    {
     "name": "stdout",
     "output_type": "stream",
     "text": [
      "untitled1.txt\n"
     ]
    }
   ],
   "source": [
    "for filename in os.listdir(\".\"):\n",
    "    fnmatch.fnmatch(filename, \"u???????[0-9].txt\")\n",
    "    print(filename)"
   ]
  },
  {
   "cell_type": "markdown",
   "metadata": {},
   "source": [
    "# 파일에서 임의의 줄 가져오기"
   ]
  },
  {
   "cell_type": "code",
   "execution_count": 58,
   "metadata": {},
   "outputs": [],
   "source": [
    "import linecache"
   ]
  },
  {
   "cell_type": "code",
   "execution_count": 61,
   "metadata": {},
   "outputs": [
    {
     "name": "stdout",
     "output_type": "stream",
     "text": [
      "소 잃고 외양간 고친다\n",
      "\n"
     ]
    }
   ],
   "source": [
    "num = random.randint(1, 100)\n",
    "print(linecache.getline(\"saying.txt\", num))"
   ]
  },
  {
   "cell_type": "code",
   "execution_count": 62,
   "metadata": {},
   "outputs": [],
   "source": [
    "import shutil"
   ]
  },
  {
   "cell_type": "code",
   "execution_count": 64,
   "metadata": {},
   "outputs": [
    {
     "data": {
      "text/plain": [
       "'C:/Users/etlers/Documents/jupyter/python/archive/saying.txt.bak'"
      ]
     },
     "execution_count": 64,
     "metadata": {},
     "output_type": "execute_result"
    }
   ],
   "source": [
    "shutil.copy(\n",
    "    \"C:/Users/etlers/Documents/jupyter/python/saying.txt\", \n",
    "    \"C:/Users/etlers/Documents/jupyter/python/archive/saying.txt.bak\")"
   ]
  },
  {
   "cell_type": "code",
   "execution_count": null,
   "metadata": {},
   "outputs": [],
   "source": []
  }
 ],
 "metadata": {
  "kernelspec": {
   "display_name": "Python 3",
   "language": "python",
   "name": "python3"
  },
  "language_info": {
   "codemirror_mode": {
    "name": "ipython",
    "version": 3
   },
   "file_extension": ".py",
   "mimetype": "text/x-python",
   "name": "python",
   "nbconvert_exporter": "python",
   "pygments_lexer": "ipython3",
   "version": "3.8.5"
  }
 },
 "nbformat": 4,
 "nbformat_minor": 4
}
