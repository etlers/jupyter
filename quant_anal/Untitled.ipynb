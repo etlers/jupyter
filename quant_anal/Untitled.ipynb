{
 "cells": [
  {
   "cell_type": "markdown",
   "metadata": {},
   "source": [
    "# PER, PBR, PCR, PSR 등 다양한 지표를 통해 종목 선정, 투자하는 기법\n",
    "- PER: 수익대비주가비율. 주가 / 수익\n",
    "- PBR: 순자산대비주가비율. 주가 / 순자산\n",
    "- PCR: 주가현금흐름비율. 시가총액 / 영업현금흐름\n",
    "- PSR: 주가매출액비율. 시가통액 / 매출액\n",
    "- ROE: 자기자본대비 얼마나 돈을 잘 버는지\n",
    "- ROA: 총자산대비 얼마나 돈을 잘 버는지\n",
    "\n",
    "# 가치주란 ROE, ROA는 좋고 PER, PBR은 낮은 기업을 의미한다. 즉, 자기자본 및 총자산 대비하여 많은 돈을 벌면서 수익이나 순자산에 대비하여 주가는 낮은 기업이 해당하게 된다."
   ]
  }
 ],
 "metadata": {
  "kernelspec": {
   "display_name": "Python 3",
   "language": "python",
   "name": "python3"
  },
  "language_info": {
   "codemirror_mode": {
    "name": "ipython",
    "version": 3
   },
   "file_extension": ".py",
   "mimetype": "text/x-python",
   "name": "python",
   "nbconvert_exporter": "python",
   "pygments_lexer": "ipython3",
   "version": "3.8.5"
  }
 },
 "nbformat": 4,
 "nbformat_minor": 4
}
