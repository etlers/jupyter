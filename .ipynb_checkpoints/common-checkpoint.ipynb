{
 "cells": [
  {
   "cell_type": "code",
   "execution_count": 2,
   "id": "20899177-e5f4-4a64-ab21-0437bc2a206d",
   "metadata": {},
   "outputs": [],
   "source": [
    "# 연속 로그 출력\n",
    "from IPython.core.interactiveshell import InteractiveShell\n",
    "InteractiveShell.ast_node_interactivity = \"all\""
   ]
  },
  {
   "cell_type": "code",
   "execution_count": null,
   "id": "e8243a0b-a1e0-4124-823a-13a3cfb7901b",
   "metadata": {},
   "outputs": [],
   "source": [
    "# 표 데이터 크롤링\n",
    "url = f\"https://finance.naver.com/item/sise_day.naver?code={cd}&page={pg}\"\n",
    "headers = {\n",
    "    \"referer\" : url,    \n",
    "    \"user-agent\" : \"Mozilla/5.0 (Windows NT 10.0; Win64; x64) AppleWebKit/537.36 (KHTML, like Gecko) Chrome/97.0.4692.71 Safari/537.36\" \n",
    "}\n",
    "res = requests.get(url=url, headers=headers)\n",
    "df_sise = pd.read_html(res.text)[0].dropna().set_index(\"날짜\").reset_index()"
   ]
  }
 ],
 "metadata": {
  "kernelspec": {
   "display_name": "Python 3 (ipykernel)",
   "language": "python",
   "name": "python3"
  },
  "language_info": {
   "codemirror_mode": {
    "name": "ipython",
    "version": 3
   },
   "file_extension": ".py",
   "mimetype": "text/x-python",
   "name": "python",
   "nbconvert_exporter": "python",
   "pygments_lexer": "ipython3",
   "version": "3.9.7"
  }
 },
 "nbformat": 4,
 "nbformat_minor": 5
}
