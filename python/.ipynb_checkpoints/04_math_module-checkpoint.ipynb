{
 "cells": [
  {
   "cell_type": "markdown",
   "id": "4b313b56-48b9-479b-b19c-54b3f707c31d",
   "metadata": {},
   "source": [
    "# math.gcd - 최대공약수"
   ]
  },
  {
   "cell_type": "code",
   "execution_count": 1,
   "id": "959f90b2-5b24-47b1-8723-f81bb0dafb36",
   "metadata": {},
   "outputs": [],
   "source": [
    "import math"
   ]
  },
  {
   "cell_type": "code",
   "execution_count": 2,
   "id": "e2c44f9a-b1be-4ec1-9bf1-4403a40a30d5",
   "metadata": {},
   "outputs": [
    {
     "data": {
      "text/plain": [
       "20"
      ]
     },
     "execution_count": 2,
     "metadata": {},
     "output_type": "execute_result"
    }
   ],
   "source": [
    "math.gcd(60, 80, 100)"
   ]
  },
  {
   "cell_type": "markdown",
   "id": "0f274adf-3749-40a6-b82d-e60e8d1a38de",
   "metadata": {},
   "source": [
    "# math.lcm - 최소공배수"
   ]
  },
  {
   "cell_type": "code",
   "execution_count": 5,
   "id": "8300c78e-cdfc-41a9-875d-fd93e8c8b34f",
   "metadata": {},
   "outputs": [
    {
     "data": {
      "text/plain": [
       "75"
      ]
     },
     "execution_count": 5,
     "metadata": {},
     "output_type": "execute_result"
    }
   ],
   "source": [
    "math.lcm(15, 25)"
   ]
  },
  {
   "cell_type": "markdown",
   "id": "570bcb5a-59b7-41d1-b0bd-ea0eb4f0e68c",
   "metadata": {},
   "source": [
    "# decimal.Decimal - 정확한 소숫점 연산"
   ]
  },
  {
   "cell_type": "code",
   "execution_count": 6,
   "id": "c1fbf57d-ffc4-41c2-9ef2-42a425d441aa",
   "metadata": {},
   "outputs": [
    {
     "data": {
      "text/plain": [
       "True"
      ]
     },
     "execution_count": 6,
     "metadata": {},
     "output_type": "execute_result"
    }
   ],
   "source": [
    "# == 연산자 대신 math.isclose를 사용하는 방법\n",
    "math.isclose(0.1 * 3, 0.3)"
   ]
  },
  {
   "cell_type": "code",
   "execution_count": 7,
   "id": "15d286ed-3f9e-4a35-be57-cf8bfb1d01d0",
   "metadata": {},
   "outputs": [
    {
     "data": {
      "text/plain": [
       "True"
      ]
     },
     "execution_count": 7,
     "metadata": {},
     "output_type": "execute_result"
    }
   ],
   "source": [
    "math.isclose(1.2 - 0.1, 1.1)"
   ]
  },
  {
   "cell_type": "code",
   "execution_count": 8,
   "id": "aa4680e5-f829-47eb-b595-c29d21fa145d",
   "metadata": {},
   "outputs": [
    {
     "data": {
      "text/plain": [
       "True"
      ]
     },
     "execution_count": 8,
     "metadata": {},
     "output_type": "execute_result"
    }
   ],
   "source": [
    "math.isclose(0.1 * 0.1, 0.01)"
   ]
  },
  {
   "cell_type": "code",
   "execution_count": 9,
   "id": "653d7710-2f06-4c76-ba54-a5bdd603bafa",
   "metadata": {},
   "outputs": [],
   "source": [
    "# 십진수 연산을 사용하는 decimal.Decimal을 사용하면 이 문제를 완벽하게 해결\n",
    "from decimal import Decimal"
   ]
  },
  {
   "cell_type": "code",
   "execution_count": 13,
   "id": "8e902bea-0b16-4912-8e7f-cb857f81f4ac",
   "metadata": {},
   "outputs": [
    {
     "data": {
      "text/plain": [
       "Decimal('0.3')"
      ]
     },
     "execution_count": 13,
     "metadata": {},
     "output_type": "execute_result"
    }
   ],
   "source": [
    "Decimal('0.1') * 3"
   ]
  },
  {
   "cell_type": "code",
   "execution_count": 16,
   "id": "42a2973b-4c79-49c1-af60-76e65084d09b",
   "metadata": {},
   "outputs": [
    {
     "data": {
      "text/plain": [
       "Decimal('1.1')"
      ]
     },
     "execution_count": 16,
     "metadata": {},
     "output_type": "execute_result"
    }
   ],
   "source": [
    "Decimal('1.2') - Decimal('0.1')"
   ]
  },
  {
   "cell_type": "code",
   "execution_count": 17,
   "id": "f627a867-58d8-4239-8b3b-cbe40a2e6395",
   "metadata": {},
   "outputs": [
    {
     "data": {
      "text/plain": [
       "Decimal('0.01')"
      ]
     },
     "execution_count": 17,
     "metadata": {},
     "output_type": "execute_result"
    }
   ],
   "source": [
    "Decimal('0.1') * Decimal('0.1')"
   ]
  },
  {
   "cell_type": "code",
   "execution_count": 18,
   "id": "450ebfc7-d720-4174-9412-941e03757ae2",
   "metadata": {},
   "outputs": [
    {
     "data": {
      "text/plain": [
       "True"
      ]
     },
     "execution_count": 18,
     "metadata": {},
     "output_type": "execute_result"
    }
   ],
   "source": [
    "float(Decimal('1.2') - Decimal('0.1')) == 1.1"
   ]
  },
  {
   "cell_type": "code",
   "execution_count": 20,
   "id": "c96bd113-87d8-4f00-ab6e-294239ecd6b4",
   "metadata": {},
   "outputs": [
    {
     "ename": "TypeError",
     "evalue": "unsupported operand type(s) for *: 'decimal.Decimal' and 'float'",
     "output_type": "error",
     "traceback": [
      "\u001b[0;31m---------------------------------------------------------------------------\u001b[0m",
      "\u001b[0;31mTypeError\u001b[0m                                 Traceback (most recent call last)",
      "\u001b[0;32m/var/folders/l2/31k7fcdd2xb41np3rpzw20lh0000gn/T/ipykernel_1129/451081139.py\u001b[0m in \u001b[0;36m<module>\u001b[0;34m\u001b[0m\n\u001b[1;32m      1\u001b[0m \u001b[0;31m# Decimal 객체에는 다음처럼 정수 연산은 가능하지만 실수연산은 불가능하다.\u001b[0m\u001b[0;34m\u001b[0m\u001b[0;34m\u001b[0m\u001b[0m\n\u001b[0;32m----> 2\u001b[0;31m \u001b[0mDecimal\u001b[0m\u001b[0;34m(\u001b[0m\u001b[0;34m'1.1'\u001b[0m\u001b[0;34m)\u001b[0m \u001b[0;34m*\u001b[0m \u001b[0;36m3.0\u001b[0m\u001b[0;34m\u001b[0m\u001b[0;34m\u001b[0m\u001b[0m\n\u001b[0m",
      "\u001b[0;31mTypeError\u001b[0m: unsupported operand type(s) for *: 'decimal.Decimal' and 'float'"
     ]
    }
   ],
   "source": [
    "# Decimal 객체에는 다음처럼 정수 연산은 가능하지만 실수연산은 불가능하다.\n",
    "Decimal('1.1') * 3.0"
   ]
  },
  {
   "cell_type": "raw",
   "id": "8ed92473-e985-4685-a387-1b3bef070f07",
   "metadata": {},
   "source": [
    "Decimal은 보통 한치의 오차도 허용하지 않는 금융권 또는 재무/회계 관련 프로그램을 작성할 때 사용하는 것이 유리"
   ]
  },
  {
   "cell_type": "markdown",
   "id": "1b548e05-280d-42dc-b934-4f857c316696",
   "metadata": {},
   "source": [
    "# fractions - 유리수"
   ]
  },
  {
   "cell_type": "code",
   "execution_count": 21,
   "id": "cd1e6354-1608-43d2-a161-b45614577a94",
   "metadata": {},
   "outputs": [
    {
     "data": {
      "text/plain": [
       "0.6000000000000001"
      ]
     },
     "execution_count": 21,
     "metadata": {},
     "output_type": "execute_result"
    }
   ],
   "source": [
    "1 / 5 + 2 / 5"
   ]
  },
  {
   "cell_type": "code",
   "execution_count": 22,
   "id": "db35995b-e09f-48ea-b58b-43369e2fea7e",
   "metadata": {},
   "outputs": [],
   "source": [
    "from fractions import Fraction"
   ]
  },
  {
   "cell_type": "code",
   "execution_count": 27,
   "id": "ba1765e4-7fbd-48d7-bf58-ef105cc23934",
   "metadata": {},
   "outputs": [
    {
     "data": {
      "text/plain": [
       "Fraction(1, 5)"
      ]
     },
     "execution_count": 27,
     "metadata": {},
     "output_type": "execute_result"
    }
   ],
   "source": [
    "a = Fraction(1, 5)\n",
    "a"
   ]
  },
  {
   "cell_type": "code",
   "execution_count": 25,
   "id": "4445afa7-6f32-4ddc-a3a8-506ae821a644",
   "metadata": {},
   "outputs": [
    {
     "data": {
      "text/plain": [
       "Fraction(1, 5)"
      ]
     },
     "execution_count": 25,
     "metadata": {},
     "output_type": "execute_result"
    }
   ],
   "source": [
    "a = Fraction('1/5')\n",
    "a"
   ]
  },
  {
   "cell_type": "code",
   "execution_count": 28,
   "id": "c8e85630-99dd-4f15-b488-681c0625ce85",
   "metadata": {},
   "outputs": [
    {
     "data": {
      "text/plain": [
       "1"
      ]
     },
     "execution_count": 28,
     "metadata": {},
     "output_type": "execute_result"
    }
   ],
   "source": [
    "# 분자의 값은 numerator로 알 수 있다.\n",
    "a.numerator"
   ]
  },
  {
   "cell_type": "code",
   "execution_count": 29,
   "id": "4e5c2fa0-c6fe-4da1-b2b0-a91d63ff62da",
   "metadata": {},
   "outputs": [
    {
     "data": {
      "text/plain": [
       "5"
      ]
     },
     "execution_count": 29,
     "metadata": {},
     "output_type": "execute_result"
    }
   ],
   "source": [
    "# 분모의 값은 denominator로 알 수 있다.\n",
    "a.denominator"
   ]
  },
  {
   "cell_type": "code",
   "execution_count": 30,
   "id": "08e2506f-1cbf-4c4d-99ce-15403b8ec026",
   "metadata": {},
   "outputs": [
    {
     "data": {
      "text/plain": [
       "Fraction(3, 5)"
      ]
     },
     "execution_count": 30,
     "metadata": {},
     "output_type": "execute_result"
    }
   ],
   "source": [
    "result = Fraction(1, 5) + Fraction(2, 5)\n",
    "result"
   ]
  },
  {
   "cell_type": "code",
   "execution_count": 31,
   "id": "f4ce1af9-3cdb-42cd-bf43-af472a3dca49",
   "metadata": {},
   "outputs": [
    {
     "data": {
      "text/plain": [
       "0.6"
      ]
     },
     "execution_count": 31,
     "metadata": {},
     "output_type": "execute_result"
    }
   ],
   "source": [
    "float(result)"
   ]
  },
  {
   "cell_type": "markdown",
   "id": "519f38bf-e7ac-49e5-987d-6bf382fa5637",
   "metadata": {},
   "source": [
    "# random - 난수생성"
   ]
  },
  {
   "cell_type": "code",
   "execution_count": 32,
   "id": "fd9f1a2e-113b-47fe-9b00-cce8f89d10b0",
   "metadata": {},
   "outputs": [],
   "source": [
    "import random"
   ]
  },
  {
   "cell_type": "code",
   "execution_count": 34,
   "id": "0e5b0529-e15a-4a87-b243-837f58f8bed2",
   "metadata": {},
   "outputs": [
    {
     "name": "stdout",
     "output_type": "stream",
     "text": [
      "[13, 41, 45, 2, 6, 1]\n"
     ]
    }
   ],
   "source": [
    "result = []\n",
    "while len(result) < 6:\n",
    "    num = random.randint(1, 45)\n",
    "    if num not in result:\n",
    "        result.append(num)\n",
    "        \n",
    "print(result)"
   ]
  },
  {
   "cell_type": "code",
   "execution_count": 36,
   "id": "813ec372-7c7a-421c-9de2-1fb3456c524f",
   "metadata": {},
   "outputs": [
    {
     "data": {
      "text/plain": [
       "[3, 2, 1, 5, 4]"
      ]
     },
     "execution_count": 36,
     "metadata": {},
     "output_type": "execute_result"
    }
   ],
   "source": [
    "# 리스트의 요소를 무작위로 섞고 싶을 때는 다음처럼 random.shuffle을 사용한다.\n",
    "a = [1,2,3,4,5]\n",
    "random.shuffle(a)\n",
    "a"
   ]
  },
  {
   "cell_type": "code",
   "execution_count": 38,
   "id": "87252f42-c822-45d4-882c-bb8998b9f4cf",
   "metadata": {},
   "outputs": [
    {
     "data": {
      "text/plain": [
       "5"
      ]
     },
     "execution_count": 38,
     "metadata": {},
     "output_type": "execute_result"
    }
   ],
   "source": [
    "# 리스트의 요소중 무작위로 하나를 선택하려면 random.choice를 사용한다.\n",
    "random.choice(a)"
   ]
  },
  {
   "cell_type": "markdown",
   "id": "ddc45efc-dd38-43be-9773-14e82c8df86b",
   "metadata": {},
   "source": [
    "# statistics - 평균값과 중앙값"
   ]
  },
  {
   "cell_type": "code",
   "execution_count": 39,
   "id": "e796c87f-865b-493c-8d81-b5eb662f3220",
   "metadata": {},
   "outputs": [],
   "source": [
    "import statistics"
   ]
  },
  {
   "cell_type": "code",
   "execution_count": 40,
   "id": "96e4640c-ffdc-458d-95ac-cc116eb14823",
   "metadata": {},
   "outputs": [],
   "source": [
    "marks = [78, 93, 99, 95, 51, 71, 52, 43, 81, 78]"
   ]
  },
  {
   "cell_type": "code",
   "execution_count": 41,
   "id": "a7e7c0d7-62b4-483c-a301-694add229150",
   "metadata": {},
   "outputs": [
    {
     "data": {
      "text/plain": [
       "74.1"
      ]
     },
     "execution_count": 41,
     "metadata": {},
     "output_type": "execute_result"
    }
   ],
   "source": [
    "statistics.mean(marks)"
   ]
  },
  {
   "cell_type": "code",
   "execution_count": 42,
   "id": "d7c3e1a7-d902-4c20-8641-3ea55de0da28",
   "metadata": {},
   "outputs": [
    {
     "data": {
      "text/plain": [
       "78.0"
      ]
     },
     "execution_count": 42,
     "metadata": {},
     "output_type": "execute_result"
    }
   ],
   "source": [
    "statistics.median(marks)"
   ]
  },
  {
   "cell_type": "code",
   "execution_count": null,
   "id": "54f27660-a13c-43ff-a410-c5c213490d6e",
   "metadata": {},
   "outputs": [],
   "source": []
  }
 ],
 "metadata": {
  "kernelspec": {
   "display_name": "Python 3 (ipykernel)",
   "language": "python",
   "name": "python3"
  },
  "language_info": {
   "codemirror_mode": {
    "name": "ipython",
    "version": 3
   },
   "file_extension": ".py",
   "mimetype": "text/x-python",
   "name": "python",
   "nbconvert_exporter": "python",
   "pygments_lexer": "ipython3",
   "version": "3.9.7"
  }
 },
 "nbformat": 4,
 "nbformat_minor": 5
}
