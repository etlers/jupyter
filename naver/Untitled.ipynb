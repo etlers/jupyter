{
 "cells": [
  {
   "cell_type": "code",
   "execution_count": null,
   "id": "4fed6ee3-9576-41a4-bd63-6dff0d91a477",
   "metadata": {},
   "outputs": [],
   "source": [
    "import requests\n",
    "from bs4 import BeautifulSoup as bs\n",
    "\n",
    "\n",
    "def execute(cd):\n",
    "    base_url = f\"https://finance.naver.com/item/sise.nhn?code={cd}\"\n",
    "    response = requests.get( base_url, headers={\"User-agent\": \"Mozilla/5.0\"} )\n",
    "    soup = bs(response.text, 'html.parser')\n",
    "    \n",
    "    for row in soup.find_all(\"table\",{\"summary\":\"주요시세 정보에 관한표 입니다.\"}):\n",
    "        print(row)\n",
    "\n",
    "\n",
    "if __name__ == \"__main__\":\n",
    "    execute(\"A122630\")"
   ]
  },
  {
   "cell_type": "code",
   "execution_count": 24,
   "id": "501b57bd-a38e-4867-86ef-32afc6c260ed",
   "metadata": {},
   "outputs": [
    {
     "name": "stdout",
     "output_type": "stream",
     "text": [
      "31030 12870\n"
     ]
    }
   ],
   "source": [
    "import requests\n",
    "from bs4 import BeautifulSoup as bs\n",
    "\n",
    "\"\"\"\n",
    "<tr>\n",
    "<th class=\"title\">52주 최고</th>\n",
    "<td class=\"num\"><span class=\"tah p11\">31,030</span></td>\n",
    "<th class=\"title\">52주 최저</th>\n",
    "<td align=\"left\" class=\"num\"><span class=\"tah p11\">12,870</span></td>\n",
    "</tr>\n",
    "\"\"\"\n",
    "def execute(cd):\n",
    "    base_url = f\"https://finance.naver.com/item/sise.nhn?code=122630\"\n",
    "    response = requests.get( base_url, headers={\"User-agent\": \"Mozilla/5.0\"} )\n",
    "    soup = bs(response.text, 'html.parser')\n",
    "    content = soup.select(\"div.content_wrap\")\n",
    "    list_content = str(content).split(\"\\n\")\n",
    "    start_tf = False\n",
    "    idx = 0\n",
    "    for row in list_content:\n",
    "        if '<th class=\"title\">52주 최고</th>' in row:\n",
    "            start_tf = True\n",
    "        if start_tf:\n",
    "            if '</tr>' in row: break\n",
    "            if 'class=\"num\">' not in row: continue\n",
    "            prc = row.split('<span class=\"tah p11\">')[1].replace('</span></td>','').replace(\",\",\"\")\n",
    "            idx += 1\n",
    "            if idx == 1:\n",
    "                highest = prc\n",
    "            else:\n",
    "                lowest = prc\n",
    "            \n",
    "    print(highest, lowest)\n",
    "\n",
    "\n",
    "if __name__ == \"__main__\":\n",
    "    execute(\"A122630\")"
   ]
  },
  {
   "cell_type": "code",
   "execution_count": null,
   "id": "c4f020b4-65bc-414d-8bde-acf4c64ef892",
   "metadata": {},
   "outputs": [],
   "source": []
  },
  {
   "cell_type": "code",
   "execution_count": null,
   "id": "570b5bb1-d372-426e-8329-9e1632d3aaae",
   "metadata": {},
   "outputs": [],
   "source": [
    "import requests\n",
    "from bs4 import BeautifulSoup as bs\n",
    "\n",
    "base_url = \"https://navercomp.wisereport.co.kr/v2/company/c1010001.aspx?cmp_cd=035720&target=finsum_more\"\n",
    "response = requests.get( base_url, headers={\"User-agent\": \"Mozilla/5.0\"} )\n",
    "soup = bs(response.text, 'html.parser')\n",
    "# soup\n",
    "list_quant_high = str(soup.findAll(\"table\", {\"class\": \"gHead01 all-width\"})).split('\\n')\n",
    "list_quant_high"
   ]
  },
  {
   "cell_type": "code",
   "execution_count": 14,
   "id": "06ece386-9d45-417c-8d97-6bd84cfd4a1c",
   "metadata": {},
   "outputs": [],
   "source": [
    "base_url = f\"https://navercomp.wisereport.co.kr/v2/company/c1010001.aspx?cmp_cd=035720&target=finsum_more\"\n",
    "response = requests.get( base_url, headers={\"User-agent\": \"Mozilla/5.0\"} )\n",
    "soup = bs(response.text, 'html.parser')\n",
    "content = soup.select(\"div.Qk80WlNFN0\")\n",
    "list_content = str(content).split(\"\\n\")"
   ]
  },
  {
   "cell_type": "code",
   "execution_count": null,
   "id": "55ddc5f9-a130-42b3-b6c3-2c554b1757e2",
   "metadata": {},
   "outputs": [],
   "source": []
  }
 ],
 "metadata": {
  "kernelspec": {
   "display_name": "Python 3",
   "language": "python",
   "name": "python3"
  },
  "language_info": {
   "codemirror_mode": {
    "name": "ipython",
    "version": 3
   },
   "file_extension": ".py",
   "mimetype": "text/x-python",
   "name": "python",
   "nbconvert_exporter": "python",
   "pygments_lexer": "ipython3",
   "version": "3.8.8"
  }
 },
 "nbformat": 4,
 "nbformat_minor": 5
}
