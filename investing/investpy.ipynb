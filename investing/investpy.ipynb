{
 "cells": [
  {
   "cell_type": "code",
   "execution_count": 1,
   "metadata": {},
   "outputs": [
    {
     "name": "stdout",
     "output_type": "stream",
     "text": [
      "pip 20.2.4 from /opt/anaconda3/lib/python3.8/site-packages/pip (python 3.8)\n"
     ]
    }
   ],
   "source": [
    "!pip -V"
   ]
  },
  {
   "cell_type": "code",
   "execution_count": 2,
   "metadata": {},
   "outputs": [
    {
     "name": "stdout",
     "output_type": "stream",
     "text": [
      "Requirement already satisfied: investpy in /opt/anaconda3/lib/python3.8/site-packages (1.0.7)\n",
      "Requirement already satisfied: pandas>=0.25.1 in /opt/anaconda3/lib/python3.8/site-packages (from investpy) (1.1.3)\n",
      "Requirement already satisfied: lxml>=4.4.1 in /opt/anaconda3/lib/python3.8/site-packages (from investpy) (4.6.1)\n",
      "Requirement already satisfied: setuptools>=41.2.0 in /opt/anaconda3/lib/python3.8/site-packages (from investpy) (50.3.1.post20201107)\n",
      "Requirement already satisfied: requests>=2.22.0 in /opt/anaconda3/lib/python3.8/site-packages (from investpy) (2.24.0)\n",
      "Requirement already satisfied: pytz>=2019.3 in /opt/anaconda3/lib/python3.8/site-packages (from investpy) (2020.1)\n",
      "Requirement already satisfied: Unidecode>=1.1.1 in /opt/anaconda3/lib/python3.8/site-packages (from investpy) (1.3.2)\n",
      "Requirement already satisfied: numpy>=1.17.2 in /opt/anaconda3/lib/python3.8/site-packages (from investpy) (1.19.2)\n",
      "Requirement already satisfied: python-dateutil>=2.7.3 in /opt/anaconda3/lib/python3.8/site-packages (from pandas>=0.25.1->investpy) (2.8.1)\n",
      "Requirement already satisfied: chardet<4,>=3.0.2 in /opt/anaconda3/lib/python3.8/site-packages (from requests>=2.22.0->investpy) (3.0.4)\n",
      "Requirement already satisfied: idna<3,>=2.5 in /opt/anaconda3/lib/python3.8/site-packages (from requests>=2.22.0->investpy) (2.10)\n",
      "Requirement already satisfied: urllib3!=1.25.0,!=1.25.1,<1.26,>=1.21.1 in /opt/anaconda3/lib/python3.8/site-packages (from requests>=2.22.0->investpy) (1.25.11)\n",
      "Requirement already satisfied: certifi>=2017.4.17 in /opt/anaconda3/lib/python3.8/site-packages (from requests>=2.22.0->investpy) (2020.6.20)\n",
      "Requirement already satisfied: six>=1.5 in /opt/anaconda3/lib/python3.8/site-packages (from python-dateutil>=2.7.3->pandas>=0.25.1->investpy) (1.15.0)\n"
     ]
    }
   ],
   "source": [
    "!pip install investpy"
   ]
  },
  {
   "cell_type": "code",
   "execution_count": 6,
   "metadata": {},
   "outputs": [
    {
     "name": "stdout",
     "output_type": "stream",
     "text": [
      "['france', 'germany', 'italy', 'netherlands', 'sweden']\n",
      "{\"id_\": 6408, \"name\": \"Apple Inc\", \"symbol\": \"AAPL\", \"country\": \"united states\", \"tag\": \"/equities/apple-computer-inc\", \"pair_type\": \"stocks\", \"exchange\": \"NASDAQ\"}\n",
      "USD\n"
     ]
    }
   ],
   "source": [
    "import investpy\n",
    "import pandas\n",
    "from datetime import datetime\n",
    "\n",
    "countriesAvailable = investpy.get_certificate_countries()\n",
    "print(countriesAvailable)\n",
    "\n",
    "search_result = investpy.search_quotes(text='apple', products=['stocks'],\n",
    "                                       countries=['united states'], n_results=1)\n",
    "print(search_result)\n",
    "\n",
    "default_currency = search_result.retrieve_currency()\n",
    "print(default_currency)"
   ]
  },
  {
   "cell_type": "code",
   "execution_count": 88,
   "metadata": {},
   "outputs": [
    {
     "data": {
      "text/plain": [
       "{1: 'downArrow',\n",
       " 2: ['1,177.66', '-0.12', '-0.01%'],\n",
       " 3: ['전일종가', '1,177.78'],\n",
       " 4: ['매수', '1,177.48'],\n",
       " 5: ['금일변동', '1,173.91 - 1,181.7'],\n",
       " 6: ['금일시가', '1,177.7'],\n",
       " 7: ['매도', '1,177.83'],\n",
       " 8: ['52주변동폭', '1,080.02 - 1,200.9'],\n",
       " 9: ['1년변동률', '4.41%']}"
      ]
     },
     "execution_count": 88,
     "metadata": {},
     "output_type": "execute_result"
    }
   ],
   "source": [
    "import requests\n",
    "from bs4 import BeautifulSoup as bs\n",
    "\n",
    "def make_usd_index():\n",
    "    main_url = \"https://kr.investing.com/currencies/us-dollar-index\"\n",
    "    response = requests.get( main_url, headers={\"User-agent\": \"Mozilla/5.0\"} )\n",
    "    soup = bs(response.text, 'html.parser')\n",
    "\n",
    "    historical_usd_idx = soup.find(\"div\",{\"class\":\"clear overviewDataTable overviewDataTableWithTooltip\"})\n",
    "    idx = 0\n",
    "    dict_usd_idx = {}\n",
    "    for row in historical_usd_idx:\n",
    "        row_string = str(row).strip()\n",
    "        if len(row_string) == 0: continue\n",
    "        idx += 1\n",
    "        temp = str(row_string.split('<span class=\"float_lang_base_1\">')[1:]).replace(\"['\",\"\")\n",
    "        list_temp = temp.replace(\"</span><span class=\",\"\").split('\"float_lang_base_2 bold\">')\n",
    "        dict_usd_idx[idx] = [list_temp[0].replace(\" \",\"\"), list_temp[1].replace(\"</span></div>']\",\"\")]\n",
    "    \n",
    "    return dict_usd_idx\n",
    "\n",
    "def make_currency():\n",
    "    main_url = \"https://kr.investing.com/currencies/usd-krw\"\n",
    "    response = requests.get( main_url, headers={\"User-agent\": \"Mozilla/5.0\"} )\n",
    "    soup = bs(response.text, 'html.parser')\n",
    "\n",
    "    list_usd_krw = soup.find(\"div\",{\"class\":\"main-current-data\"})\n",
    "    idx = 0\n",
    "    dict_usd_krw = {}\n",
    "    for row in list_usd_krw:\n",
    "        row_string = str(row).strip()\n",
    "        if len(row_string) == 0: continue\n",
    "        idx += 1\n",
    "        if idx == 1:\n",
    "            dict_usd_krw[idx] = row_string.split('<div class=\"')[1].split(\" \")[0]\n",
    "        else:\n",
    "            list_val = []\n",
    "            for val in row_string.split(\"\\n\"):\n",
    "                if \"span class\" not in val: continue\n",
    "                list_val.append(val.split('\">')[1].replace(\"</span>\",\"\"))\n",
    "            dict_usd_krw[idx] = list_val\n",
    "            \n",
    "    list_usd_krw = soup.find(\"div\",{\"class\":\"clear overviewDataTable overviewDataTableWithTooltip\"})\n",
    "    for row in list_usd_krw:\n",
    "        row_string = str(row).strip()\n",
    "        if len(row_string) == 0: continue\n",
    "        idx += 1\n",
    "        temp = str(row_string.split('<span class=\"float_lang_base_1\">')[1:]).replace(\"['\",\"\")\n",
    "        list_temp = temp.replace(\"</span><span class=\",\"\").split('\"float_lang_base_2 bold\">')\n",
    "        dict_usd_krw[idx] = [list_temp[0].replace(\" \",\"\"), list_temp[1].replace(\"</span></div>']\",\"\")]\n",
    "    \n",
    "    return dict_usd_krw\n",
    "    \n",
    "dict_usd_idx = make_usd_index()\n",
    "dict_usd_krw = make_currency()\n",
    "\n",
    "dict_usd_krw"
   ]
  },
  {
   "cell_type": "code",
   "execution_count": 85,
   "metadata": {},
   "outputs": [
    {
     "data": {
      "text/plain": [
       "91.8675"
      ]
     },
     "execution_count": 85,
     "metadata": {},
     "output_type": "execute_result"
    }
   ],
   "source": [
    "# USD Index 52w Average\n",
    "year_avg_idx = (float(dict_usd_idx[10][1].split(\" - \")[0].replace(\",\",\"\")) + float(dict_usd_idx[10][1].split(\" - \")[1].replace(\",\",\"\"))) / 2\n",
    "year_avg_idx"
   ]
  },
  {
   "cell_type": "code",
   "execution_count": 86,
   "metadata": {},
   "outputs": [
    {
     "data": {
      "text/plain": [
       "93.738"
      ]
     },
     "execution_count": 86,
     "metadata": {},
     "output_type": "execute_result"
    }
   ],
   "source": [
    "# Now Index\n",
    "cur_idx = float(dict_usd_idx[4][1].replace(\",\",\"\"))\n",
    "cur_idx"
   ]
  },
  {
   "cell_type": "code",
   "execution_count": 87,
   "metadata": {},
   "outputs": [
    {
     "data": {
      "text/plain": [
       "1140.46"
      ]
     },
     "execution_count": 87,
     "metadata": {},
     "output_type": "execute_result"
    }
   ],
   "source": [
    "# USD KRW 52w Average\n",
    "year_avg_cur = (float(dict_usd_krw[8][1].split(\" - \")[0].replace(\",\",\"\")) + float(dict_usd_krw[8][1].split(\" - \")[1].replace(\",\",\"\"))) / 2\n",
    "year_avg_cur"
   ]
  },
  {
   "cell_type": "code",
   "execution_count": 90,
   "metadata": {},
   "outputs": [
    {
     "data": {
      "text/plain": [
       "1177.66"
      ]
     },
     "execution_count": 90,
     "metadata": {},
     "output_type": "execute_result"
    }
   ],
   "source": [
    "# Now Currency\n",
    "now_cur = float(dict_usd_krw[2][0].replace(\",\",\"\"))\n",
    "now_cur"
   ]
  },
  {
   "cell_type": "code",
   "execution_count": 92,
   "metadata": {},
   "outputs": [
    {
     "data": {
      "text/plain": [
       "7.959682760728902"
      ]
     },
     "execution_count": 92,
     "metadata": {},
     "output_type": "execute_result"
    }
   ],
   "source": [
    "# Dollar Gap Rate\n",
    "usd_gap_rate = cur_idx / now_cur * 100\n",
    "usd_gap_rate"
   ]
  },
  {
   "cell_type": "code",
   "execution_count": 93,
   "metadata": {},
   "outputs": [
    {
     "data": {
      "text/plain": [
       "8.055302246461954"
      ]
     },
     "execution_count": 93,
     "metadata": {},
     "output_type": "execute_result"
    }
   ],
   "source": [
    "# Dollar Gap Rate - 52w\n",
    "year_avg_usd_gap_rate = year_avg_idx / year_avg_cur * 100\n",
    "year_avg_usd_gap_rate"
   ]
  },
  {
   "cell_type": "code",
   "execution_count": 96,
   "metadata": {},
   "outputs": [
    {
     "data": {
      "text/plain": [
       "1163.68"
      ]
     },
     "execution_count": 96,
     "metadata": {},
     "output_type": "execute_result"
    }
   ],
   "source": [
    "# Proper USD KRW\n",
    "proper_cur = round(cur_idx / year_avg_usd_gap_rate * 100, 2)\n",
    "proper_cur"
   ]
  },
  {
   "cell_type": "code",
   "execution_count": 102,
   "metadata": {},
   "outputs": [
    {
     "name": "stdout",
     "output_type": "stream",
     "text": [
      "1177.66 1152.0432 1280.0480000000002\n",
      "Wait...\n"
     ]
    }
   ],
   "source": [
    "if now_cur < proper_cur * 0.99:\n",
    "    print(\"Buy\")\n",
    "elif now_cur > proper_cur * 1.1:\n",
    "    print(\"Sell\")\n",
    "else:\n",
    "    print(now_cur, proper_cur * 0.99, proper_cur * 1.1)\n",
    "    print(\"Wait...\")"
   ]
  },
  {
   "cell_type": "code",
   "execution_count": 99,
   "metadata": {},
   "outputs": [
    {
     "data": {
      "text/plain": [
       "1152.0432"
      ]
     },
     "execution_count": 99,
     "metadata": {},
     "output_type": "execute_result"
    }
   ],
   "source": [
    "proper_cur * 0.99"
   ]
  },
  {
   "cell_type": "code",
   "execution_count": 103,
   "metadata": {},
   "outputs": [
    {
     "name": "stdout",
     "output_type": "stream",
     "text": [
      "1 ['전일종가', '93.758']\n",
      "2 ['만기월', '2021년 12월']\n",
      "3 ['틱크기', '0.01']\n",
      "4 ['금일시가', '93.738']\n",
      "5 ['계약단위', '1,000 x 물가지수']\n",
      "6 ['틱가치', '10']\n",
      "7 ['금일변동', '93.523 - 93.782']\n",
      "8 ['결제방식', '실물인수도']\n",
      "9 ['티커', 'DX']\n",
      "10 ['52주변동폭', '89.165 - 94.57']\n",
      "11 ['결제일', '2021/12/13']\n",
      "12 ['포인트가치', '1 = $1000']\n",
      "13 ['1년변동률', '0.89%']\n",
      "14 ['최종롤오버일', '2021/09/12']\n",
      "15 ['개월', 'HMUZ']\n"
     ]
    }
   ],
   "source": [
    "for key, val in dict_usd_idx.items():\n",
    "    print(key, val)"
   ]
  },
  {
   "cell_type": "code",
   "execution_count": null,
   "metadata": {},
   "outputs": [],
   "source": []
  }
 ],
 "metadata": {
  "kernelspec": {
   "display_name": "Python 3",
   "language": "python",
   "name": "python3"
  },
  "language_info": {
   "codemirror_mode": {
    "name": "ipython",
    "version": 3
   },
   "file_extension": ".py",
   "mimetype": "text/x-python",
   "name": "python",
   "nbconvert_exporter": "python",
   "pygments_lexer": "ipython3",
   "version": "3.8.5"
  }
 },
 "nbformat": 4,
 "nbformat_minor": 4
}
