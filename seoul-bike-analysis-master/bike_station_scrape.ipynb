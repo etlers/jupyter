{
 "cells": [
  {
   "cell_type": "markdown",
   "metadata": {},
   "source": [
    "[![Open In Colab](https://colab.research.google.com/assets/colab-badge.svg)](https://colab.research.google.com/github/corazzon/seoul-bike-analysis/blob/master/bike_station_scrape.ipynb)"
   ]
  },
  {
   "cell_type": "markdown",
   "metadata": {},
   "source": [
    "# 위경도 데이터 수집하기\n",
    "* 따릉이 대여소 정보 가져오기\n",
    "* 수집하고자 하는 데이터 위치 : https://www.bikeseoul.com/app/station/moveStationSearchView.do?currentPageNo=1\n",
    "* colab 경로 : https://colab.research.google.com/github/corazzon/seoul-bike-analysis/blob/master/crawling.ipynb"
   ]
  },
  {
   "cell_type": "code",
   "execution_count": 1,
   "metadata": {},
   "outputs": [],
   "source": [
    "# 라이브러리 로드\n",
    "# requests는 작은 웹브라우저로 웹사이트 내용을 가져온다.\n",
    "import requests\n",
    "# BeautifulSoup 을 통해 읽어 온 웹페이지를 파싱한다.\n",
    "from bs4 import BeautifulSoup as bs\n",
    "# random은 랜덤한 시간차를 두고 가져오기 위해 사용한다.\n",
    "import random\n",
    "# time 으로 시간을 구한다.\n",
    "import time\n",
    "# 크롤링 후 결과를 데이터프레임 형태로 보기 위해 불러온다.\n",
    "import pandas as pd\n",
    "import numpy as np"
   ]
  },
  {
   "cell_type": "code",
   "execution_count": 2,
   "metadata": {},
   "outputs": [],
   "source": [
    "# 사이트 주소\n",
    "base_url = 'https://www.bikeseoul.com/app/station/moveStationSearchView.do?currentPageNo='"
   ]
  },
  {
   "cell_type": "markdown",
   "metadata": {},
   "source": [
    "### html 페이지 받아오기"
   ]
  },
  {
   "cell_type": "code",
   "execution_count": 3,
   "metadata": {
    "scrolled": false
   },
   "outputs": [],
   "source": [
    "pnum = 1\n",
    "response = requests.get( f\"{base_url}{pnum}\")\n",
    "html = bs(response.text)"
   ]
  },
  {
   "cell_type": "code",
   "execution_count": 4,
   "metadata": {},
   "outputs": [],
   "source": [
    "def requests_url(pnum):\n",
    "    response = requests.get( f\"{base_url}{pnum}\")\n",
    "    html = bs(response.text)\n",
    "    trs = html.select(\"table.psboard1 > tbody > tr\")\n",
    "    \n",
    "    if trs:\n",
    "        return trs\n",
    "    else:\n",
    "        return False"
   ]
  },
  {
   "cell_type": "code",
   "execution_count": 5,
   "metadata": {},
   "outputs": [
    {
     "data": {
      "text/plain": [
       "False"
      ]
     },
     "execution_count": 5,
     "metadata": {},
     "output_type": "execute_result"
    }
   ],
   "source": [
    "requests_url(-1)"
   ]
  },
  {
   "cell_type": "code",
   "execution_count": 6,
   "metadata": {},
   "outputs": [],
   "source": [
    "trs = requests_url(1)\n",
    "# trs"
   ]
  },
  {
   "cell_type": "code",
   "execution_count": 7,
   "metadata": {},
   "outputs": [
    {
     "data": {
      "text/plain": [
       "<tr>\n",
       "<td class=\"pl10\"><a href=\"#\" param-data=\"37.54179382,127.12474823\">1001. 광진교 남단 사거리(디지털프라자앞)</a></td>\n",
       "<td class=\"pl10\">\n",
       "                        운영중</td>\n",
       "<td class=\"tr\">15</td>\n",
       "<td class=\"tr\">0</td>\n",
       "<td class=\"tbleft mhid\"><span>서울특별시 강동구 올림픽로 674 로석빌딩 </span></td>\n",
       "</tr>"
      ]
     },
     "execution_count": 7,
     "metadata": {},
     "output_type": "execute_result"
    }
   ],
   "source": [
    "trs[0]"
   ]
  },
  {
   "cell_type": "markdown",
   "metadata": {},
   "source": [
    "### 수집하고자 하는 데이터 찾기"
   ]
  },
  {
   "cell_type": "code",
   "execution_count": 8,
   "metadata": {},
   "outputs": [
    {
     "data": {
      "text/plain": [
       "['1002. 해공공원(천호동)',\n",
       " '운영중',\n",
       " '10',\n",
       " '0',\n",
       " '서울특별시 강동구 올림픽로 702 해공도서관',\n",
       " '37.54526138,127.12594604']"
      ]
     },
     "execution_count": 8,
     "metadata": {},
     "output_type": "execute_result"
    }
   ],
   "source": [
    "def parse_tr(tr):\n",
    "    try:\n",
    "        info = []\n",
    "        tds = tr.select(\"td\")\n",
    "        for td in tds:\n",
    "            td_text = td.get_text(strip=True)\n",
    "            info.append(td_text)\n",
    "        \n",
    "        longlat = tds[0].select(\"a\")[0][\"param-data\"]\n",
    "        info.append(longlat)\n",
    "        return info\n",
    "    except:\n",
    "        return False\n",
    "    \n",
    "parse_tr(trs[1])"
   ]
  },
  {
   "cell_type": "code",
   "execution_count": 9,
   "metadata": {},
   "outputs": [
    {
     "data": {
      "text/plain": [
       "[['1001. 광진교 남단 사거리(디지털프라자앞)',\n",
       "  '운영중',\n",
       "  '15',\n",
       "  '0',\n",
       "  '서울특별시 강동구 올림픽로 674 로석빌딩',\n",
       "  '37.54179382,127.12474823'],\n",
       " ['1002. 해공공원(천호동)',\n",
       "  '운영중',\n",
       "  '10',\n",
       "  '0',\n",
       "  '서울특별시 강동구 올림픽로 702 해공도서관',\n",
       "  '37.54526138,127.12594604'],\n",
       " ['1003. 해공도서관앞',\n",
       "  '운영중',\n",
       "  '20',\n",
       "  '0',\n",
       "  '서울특별시 강동구 올림픽로 702 해공도서관',\n",
       "  '37.54395676,127.12548828'],\n",
       " ['1004. 삼성광나루아파트 버스정류장',\n",
       "  '운영중',\n",
       "  '10',\n",
       "  '4',\n",
       "  '서울특별시 강동구 올림픽로 812',\n",
       "  '37.55332947,127.12886810'],\n",
       " ['1006. 롯데캐슬 115동앞',\n",
       "  '운영중',\n",
       "  '15',\n",
       "  '0',\n",
       "  '서울특별시 강동구 고덕로 131 강동 롯데캐슬퍼스트아파트',\n",
       "  '37.55486679,127.14279938']]"
      ]
     },
     "execution_count": 9,
     "metadata": {},
     "output_type": "execute_result"
    }
   ],
   "source": [
    "def parse_table(trs):\n",
    "    stations = []\n",
    "    for tr in trs:\n",
    "        info = parse_tr(tr)\n",
    "        if info :\n",
    "            stations.append(info)\n",
    "    return stations\n",
    "\n",
    "parse_table(trs)"
   ]
  },
  {
   "cell_type": "code",
   "execution_count": 10,
   "metadata": {},
   "outputs": [],
   "source": [
    "def get_page(pnum):\n",
    "    trs = requests_url(pnum)\n",
    "    try:\n",
    "        stations = parse_table(trs)\n",
    "        return stations\n",
    "    except:\n",
    "        return False"
   ]
  },
  {
   "cell_type": "code",
   "execution_count": 11,
   "metadata": {},
   "outputs": [
    {
     "data": {
      "text/plain": [
       "False"
      ]
     },
     "execution_count": 11,
     "metadata": {},
     "output_type": "execute_result"
    }
   ],
   "source": [
    "get_page(409)"
   ]
  },
  {
   "cell_type": "code",
   "execution_count": 12,
   "metadata": {},
   "outputs": [
    {
     "name": "stderr",
     "output_type": "stream",
     "text": [
      "100%|██████████| 410/410 [08:11<00:00,  1.20s/it]\n"
     ]
    }
   ],
   "source": [
    "from tqdm import tqdm, trange\n",
    "start_page = 1\n",
    "end_page = 410\n",
    "\n",
    "station_list = []\n",
    "\n",
    "for page_no in trange(start_page, end_page+1):\n",
    "    # 0~1초 시간간격을 두고 가져옵니다.\n",
    "    sleep_time = np.random.uniform(0, 1)\n",
    "    time.sleep(sleep_time)\n",
    "    \n",
    "    stations = get_page(pnum)\n",
    "    if stations:\n",
    "        station_list.extend(stations)"
   ]
  },
  {
   "cell_type": "code",
   "execution_count": 13,
   "metadata": {},
   "outputs": [
    {
     "data": {
      "text/html": [
       "<div>\n",
       "<style scoped>\n",
       "    .dataframe tbody tr th:only-of-type {\n",
       "        vertical-align: middle;\n",
       "    }\n",
       "\n",
       "    .dataframe tbody tr th {\n",
       "        vertical-align: top;\n",
       "    }\n",
       "\n",
       "    .dataframe thead th {\n",
       "        text-align: right;\n",
       "    }\n",
       "</style>\n",
       "<table border=\"1\" class=\"dataframe\">\n",
       "  <thead>\n",
       "    <tr style=\"text-align: right;\">\n",
       "      <th></th>\n",
       "      <th>0</th>\n",
       "      <th>1</th>\n",
       "      <th>2</th>\n",
       "      <th>3</th>\n",
       "      <th>4</th>\n",
       "      <th>5</th>\n",
       "    </tr>\n",
       "  </thead>\n",
       "  <tbody>\n",
       "    <tr>\n",
       "      <th>0</th>\n",
       "      <td>1001. 광진교 남단 사거리(디지털프라자앞)</td>\n",
       "      <td>운영중</td>\n",
       "      <td>15</td>\n",
       "      <td>0</td>\n",
       "      <td>서울특별시 강동구 올림픽로 674 로석빌딩</td>\n",
       "      <td>37.54179382,127.12474823</td>\n",
       "    </tr>\n",
       "    <tr>\n",
       "      <th>1</th>\n",
       "      <td>1002. 해공공원(천호동)</td>\n",
       "      <td>운영중</td>\n",
       "      <td>10</td>\n",
       "      <td>0</td>\n",
       "      <td>서울특별시 강동구 올림픽로 702 해공도서관</td>\n",
       "      <td>37.54526138,127.12594604</td>\n",
       "    </tr>\n",
       "    <tr>\n",
       "      <th>2</th>\n",
       "      <td>1003. 해공도서관앞</td>\n",
       "      <td>운영중</td>\n",
       "      <td>20</td>\n",
       "      <td>0</td>\n",
       "      <td>서울특별시 강동구 올림픽로 702 해공도서관</td>\n",
       "      <td>37.54395676,127.12548828</td>\n",
       "    </tr>\n",
       "    <tr>\n",
       "      <th>3</th>\n",
       "      <td>1004. 삼성광나루아파트 버스정류장</td>\n",
       "      <td>운영중</td>\n",
       "      <td>10</td>\n",
       "      <td>4</td>\n",
       "      <td>서울특별시 강동구 올림픽로 812</td>\n",
       "      <td>37.55332947,127.12886810</td>\n",
       "    </tr>\n",
       "    <tr>\n",
       "      <th>4</th>\n",
       "      <td>1006. 롯데캐슬 115동앞</td>\n",
       "      <td>운영중</td>\n",
       "      <td>15</td>\n",
       "      <td>0</td>\n",
       "      <td>서울특별시 강동구 고덕로 131 강동 롯데캐슬퍼스트아파트</td>\n",
       "      <td>37.55486679,127.14279938</td>\n",
       "    </tr>\n",
       "  </tbody>\n",
       "</table>\n",
       "</div>"
      ],
      "text/plain": [
       "                           0    1   2  3                                4  \\\n",
       "0  1001. 광진교 남단 사거리(디지털프라자앞)  운영중  15  0          서울특별시 강동구 올림픽로 674 로석빌딩   \n",
       "1            1002. 해공공원(천호동)  운영중  10  0         서울특별시 강동구 올림픽로 702 해공도서관   \n",
       "2               1003. 해공도서관앞  운영중  20  0         서울특별시 강동구 올림픽로 702 해공도서관   \n",
       "3       1004. 삼성광나루아파트 버스정류장  운영중  10  4               서울특별시 강동구 올림픽로 812   \n",
       "4           1006. 롯데캐슬 115동앞  운영중  15  0  서울특별시 강동구 고덕로 131 강동 롯데캐슬퍼스트아파트   \n",
       "\n",
       "                          5  \n",
       "0  37.54179382,127.12474823  \n",
       "1  37.54526138,127.12594604  \n",
       "2  37.54395676,127.12548828  \n",
       "3  37.55332947,127.12886810  \n",
       "4  37.55486679,127.14279938  "
      ]
     },
     "execution_count": 13,
     "metadata": {},
     "output_type": "execute_result"
    }
   ],
   "source": [
    "pd.DataFrame(station_list).head()"
   ]
  },
  {
   "cell_type": "code",
   "execution_count": 14,
   "metadata": {},
   "outputs": [
    {
     "data": {
      "text/plain": [
       "(2050, 6)"
      ]
     },
     "execution_count": 14,
     "metadata": {},
     "output_type": "execute_result"
    }
   ],
   "source": [
    "header = ['대여소', '운영여부', '거치대수', '대여가능', '주소', '위경도']\n",
    "df = pd.DataFrame(station_list, columns = header)\n",
    "df.shape"
   ]
  },
  {
   "cell_type": "code",
   "execution_count": 15,
   "metadata": {
    "scrolled": true
   },
   "outputs": [
    {
     "data": {
      "text/html": [
       "<div>\n",
       "<style scoped>\n",
       "    .dataframe tbody tr th:only-of-type {\n",
       "        vertical-align: middle;\n",
       "    }\n",
       "\n",
       "    .dataframe tbody tr th {\n",
       "        vertical-align: top;\n",
       "    }\n",
       "\n",
       "    .dataframe thead th {\n",
       "        text-align: right;\n",
       "    }\n",
       "</style>\n",
       "<table border=\"1\" class=\"dataframe\">\n",
       "  <thead>\n",
       "    <tr style=\"text-align: right;\">\n",
       "      <th></th>\n",
       "      <th>대여소</th>\n",
       "      <th>운영여부</th>\n",
       "      <th>거치대수</th>\n",
       "      <th>대여가능</th>\n",
       "      <th>주소</th>\n",
       "      <th>위경도</th>\n",
       "    </tr>\n",
       "  </thead>\n",
       "  <tbody>\n",
       "    <tr>\n",
       "      <th>0</th>\n",
       "      <td>1001. 광진교 남단 사거리(디지털프라자앞)</td>\n",
       "      <td>운영중</td>\n",
       "      <td>15</td>\n",
       "      <td>0</td>\n",
       "      <td>서울특별시 강동구 올림픽로 674 로석빌딩</td>\n",
       "      <td>37.54179382,127.12474823</td>\n",
       "    </tr>\n",
       "    <tr>\n",
       "      <th>1</th>\n",
       "      <td>1002. 해공공원(천호동)</td>\n",
       "      <td>운영중</td>\n",
       "      <td>10</td>\n",
       "      <td>0</td>\n",
       "      <td>서울특별시 강동구 올림픽로 702 해공도서관</td>\n",
       "      <td>37.54526138,127.12594604</td>\n",
       "    </tr>\n",
       "    <tr>\n",
       "      <th>2</th>\n",
       "      <td>1003. 해공도서관앞</td>\n",
       "      <td>운영중</td>\n",
       "      <td>20</td>\n",
       "      <td>0</td>\n",
       "      <td>서울특별시 강동구 올림픽로 702 해공도서관</td>\n",
       "      <td>37.54395676,127.12548828</td>\n",
       "    </tr>\n",
       "    <tr>\n",
       "      <th>3</th>\n",
       "      <td>1004. 삼성광나루아파트 버스정류장</td>\n",
       "      <td>운영중</td>\n",
       "      <td>10</td>\n",
       "      <td>4</td>\n",
       "      <td>서울특별시 강동구 올림픽로 812</td>\n",
       "      <td>37.55332947,127.12886810</td>\n",
       "    </tr>\n",
       "    <tr>\n",
       "      <th>4</th>\n",
       "      <td>1006. 롯데캐슬 115동앞</td>\n",
       "      <td>운영중</td>\n",
       "      <td>15</td>\n",
       "      <td>0</td>\n",
       "      <td>서울특별시 강동구 고덕로 131 강동 롯데캐슬퍼스트아파트</td>\n",
       "      <td>37.55486679,127.14279938</td>\n",
       "    </tr>\n",
       "  </tbody>\n",
       "</table>\n",
       "</div>"
      ],
      "text/plain": [
       "                         대여소 운영여부 거치대수 대여가능                               주소  \\\n",
       "0  1001. 광진교 남단 사거리(디지털프라자앞)  운영중   15    0          서울특별시 강동구 올림픽로 674 로석빌딩   \n",
       "1            1002. 해공공원(천호동)  운영중   10    0         서울특별시 강동구 올림픽로 702 해공도서관   \n",
       "2               1003. 해공도서관앞  운영중   20    0         서울특별시 강동구 올림픽로 702 해공도서관   \n",
       "3       1004. 삼성광나루아파트 버스정류장  운영중   10    4               서울특별시 강동구 올림픽로 812   \n",
       "4           1006. 롯데캐슬 115동앞  운영중   15    0  서울특별시 강동구 고덕로 131 강동 롯데캐슬퍼스트아파트   \n",
       "\n",
       "                        위경도  \n",
       "0  37.54179382,127.12474823  \n",
       "1  37.54526138,127.12594604  \n",
       "2  37.54395676,127.12548828  \n",
       "3  37.55332947,127.12886810  \n",
       "4  37.55486679,127.14279938  "
      ]
     },
     "execution_count": 15,
     "metadata": {},
     "output_type": "execute_result"
    }
   ],
   "source": [
    "df.head()"
   ]
  },
  {
   "cell_type": "code",
   "execution_count": 16,
   "metadata": {},
   "outputs": [
    {
     "data": {
      "text/html": [
       "<div>\n",
       "<style scoped>\n",
       "    .dataframe tbody tr th:only-of-type {\n",
       "        vertical-align: middle;\n",
       "    }\n",
       "\n",
       "    .dataframe tbody tr th {\n",
       "        vertical-align: top;\n",
       "    }\n",
       "\n",
       "    .dataframe thead th {\n",
       "        text-align: right;\n",
       "    }\n",
       "</style>\n",
       "<table border=\"1\" class=\"dataframe\">\n",
       "  <thead>\n",
       "    <tr style=\"text-align: right;\">\n",
       "      <th></th>\n",
       "      <th>대여소</th>\n",
       "      <th>운영여부</th>\n",
       "      <th>거치대수</th>\n",
       "      <th>대여가능</th>\n",
       "      <th>주소</th>\n",
       "      <th>위경도</th>\n",
       "    </tr>\n",
       "  </thead>\n",
       "  <tbody>\n",
       "    <tr>\n",
       "      <th>2045</th>\n",
       "      <td>1001. 광진교 남단 사거리(디지털프라자앞)</td>\n",
       "      <td>운영중</td>\n",
       "      <td>15</td>\n",
       "      <td>0</td>\n",
       "      <td>서울특별시 강동구 올림픽로 674 로석빌딩</td>\n",
       "      <td>37.54179382,127.12474823</td>\n",
       "    </tr>\n",
       "    <tr>\n",
       "      <th>2046</th>\n",
       "      <td>1002. 해공공원(천호동)</td>\n",
       "      <td>운영중</td>\n",
       "      <td>10</td>\n",
       "      <td>0</td>\n",
       "      <td>서울특별시 강동구 올림픽로 702 해공도서관</td>\n",
       "      <td>37.54526138,127.12594604</td>\n",
       "    </tr>\n",
       "    <tr>\n",
       "      <th>2047</th>\n",
       "      <td>1003. 해공도서관앞</td>\n",
       "      <td>운영중</td>\n",
       "      <td>20</td>\n",
       "      <td>0</td>\n",
       "      <td>서울특별시 강동구 올림픽로 702 해공도서관</td>\n",
       "      <td>37.54395676,127.12548828</td>\n",
       "    </tr>\n",
       "    <tr>\n",
       "      <th>2048</th>\n",
       "      <td>1004. 삼성광나루아파트 버스정류장</td>\n",
       "      <td>운영중</td>\n",
       "      <td>10</td>\n",
       "      <td>5</td>\n",
       "      <td>서울특별시 강동구 올림픽로 812</td>\n",
       "      <td>37.55332947,127.12886810</td>\n",
       "    </tr>\n",
       "    <tr>\n",
       "      <th>2049</th>\n",
       "      <td>1006. 롯데캐슬 115동앞</td>\n",
       "      <td>운영중</td>\n",
       "      <td>15</td>\n",
       "      <td>0</td>\n",
       "      <td>서울특별시 강동구 고덕로 131 강동 롯데캐슬퍼스트아파트</td>\n",
       "      <td>37.55486679,127.14279938</td>\n",
       "    </tr>\n",
       "  </tbody>\n",
       "</table>\n",
       "</div>"
      ],
      "text/plain": [
       "                            대여소 운영여부 거치대수 대여가능  \\\n",
       "2045  1001. 광진교 남단 사거리(디지털프라자앞)  운영중   15    0   \n",
       "2046            1002. 해공공원(천호동)  운영중   10    0   \n",
       "2047               1003. 해공도서관앞  운영중   20    0   \n",
       "2048       1004. 삼성광나루아파트 버스정류장  운영중   10    5   \n",
       "2049           1006. 롯데캐슬 115동앞  운영중   15    0   \n",
       "\n",
       "                                   주소                       위경도  \n",
       "2045          서울특별시 강동구 올림픽로 674 로석빌딩  37.54179382,127.12474823  \n",
       "2046         서울특별시 강동구 올림픽로 702 해공도서관  37.54526138,127.12594604  \n",
       "2047         서울특별시 강동구 올림픽로 702 해공도서관  37.54395676,127.12548828  \n",
       "2048               서울특별시 강동구 올림픽로 812  37.55332947,127.12886810  \n",
       "2049  서울특별시 강동구 고덕로 131 강동 롯데캐슬퍼스트아파트  37.55486679,127.14279938  "
      ]
     },
     "execution_count": 16,
     "metadata": {},
     "output_type": "execute_result"
    }
   ],
   "source": [
    "df.tail()"
   ]
  },
  {
   "cell_type": "code",
   "execution_count": 17,
   "metadata": {},
   "outputs": [],
   "source": [
    "df[\"대여소번호\"] = df[\"대여소\"].str.split(\".\", expand=True)[0]\n",
    "df[\"대여소명\"] = df[\"대여소\"].str.split(\".\", expand=True)[1]"
   ]
  },
  {
   "cell_type": "code",
   "execution_count": 18,
   "metadata": {},
   "outputs": [],
   "source": [
    "df[\"위도\"] = df[\"위경도\"].str.split(\",\", expand=True)[0].astype(float)\n",
    "df[\"경도\"] = df[\"위경도\"].str.split(\",\", expand=True)[1].astype(float)"
   ]
  },
  {
   "cell_type": "code",
   "execution_count": 19,
   "metadata": {},
   "outputs": [
    {
     "data": {
      "text/html": [
       "<div>\n",
       "<style scoped>\n",
       "    .dataframe tbody tr th:only-of-type {\n",
       "        vertical-align: middle;\n",
       "    }\n",
       "\n",
       "    .dataframe tbody tr th {\n",
       "        vertical-align: top;\n",
       "    }\n",
       "\n",
       "    .dataframe thead th {\n",
       "        text-align: right;\n",
       "    }\n",
       "</style>\n",
       "<table border=\"1\" class=\"dataframe\">\n",
       "  <thead>\n",
       "    <tr style=\"text-align: right;\">\n",
       "      <th></th>\n",
       "      <th>대여소</th>\n",
       "      <th>운영여부</th>\n",
       "      <th>거치대수</th>\n",
       "      <th>대여가능</th>\n",
       "      <th>주소</th>\n",
       "      <th>위경도</th>\n",
       "      <th>대여소번호</th>\n",
       "      <th>대여소명</th>\n",
       "      <th>위도</th>\n",
       "      <th>경도</th>\n",
       "    </tr>\n",
       "  </thead>\n",
       "  <tbody>\n",
       "    <tr>\n",
       "      <th>0</th>\n",
       "      <td>1001. 광진교 남단 사거리(디지털프라자앞)</td>\n",
       "      <td>운영중</td>\n",
       "      <td>15</td>\n",
       "      <td>0</td>\n",
       "      <td>서울특별시 강동구 올림픽로 674 로석빌딩</td>\n",
       "      <td>37.54179382,127.12474823</td>\n",
       "      <td>1001</td>\n",
       "      <td>광진교 남단 사거리(디지털프라자앞)</td>\n",
       "      <td>37.541794</td>\n",
       "      <td>127.124748</td>\n",
       "    </tr>\n",
       "  </tbody>\n",
       "</table>\n",
       "</div>"
      ],
      "text/plain": [
       "                         대여소 운영여부 거치대수 대여가능                       주소  \\\n",
       "0  1001. 광진교 남단 사거리(디지털프라자앞)  운영중   15    0  서울특별시 강동구 올림픽로 674 로석빌딩   \n",
       "\n",
       "                        위경도 대여소번호                  대여소명         위도          경도  \n",
       "0  37.54179382,127.12474823  1001   광진교 남단 사거리(디지털프라자앞)  37.541794  127.124748  "
      ]
     },
     "execution_count": 19,
     "metadata": {},
     "output_type": "execute_result"
    }
   ],
   "source": [
    "df.head(1)"
   ]
  },
  {
   "cell_type": "code",
   "execution_count": 20,
   "metadata": {},
   "outputs": [],
   "source": [
    "# df = df.drop([\"대여소\", \"위경도\"], axis=1)"
   ]
  },
  {
   "cell_type": "code",
   "execution_count": 21,
   "metadata": {},
   "outputs": [
    {
     "data": {
      "text/plain": [
       "Index(['대여소', '운영여부', '거치대수', '대여가능', '주소', '위경도', '대여소번호', '대여소명', '위도',\n",
       "       '경도'],\n",
       "      dtype='object')"
      ]
     },
     "execution_count": 21,
     "metadata": {},
     "output_type": "execute_result"
    }
   ],
   "source": [
    "df.columns"
   ]
  },
  {
   "cell_type": "code",
   "execution_count": 22,
   "metadata": {},
   "outputs": [],
   "source": [
    "df = df[['대여소번호', '대여소명', '운영여부', '거치대수', '대여가능', '주소', '위도', '경도']]"
   ]
  },
  {
   "cell_type": "code",
   "execution_count": 23,
   "metadata": {},
   "outputs": [],
   "source": [
    "df.to_csv('bike_rent_station.csv', index=False)"
   ]
  },
  {
   "cell_type": "code",
   "execution_count": 24,
   "metadata": {},
   "outputs": [
    {
     "data": {
      "text/html": [
       "<div>\n",
       "<style scoped>\n",
       "    .dataframe tbody tr th:only-of-type {\n",
       "        vertical-align: middle;\n",
       "    }\n",
       "\n",
       "    .dataframe tbody tr th {\n",
       "        vertical-align: top;\n",
       "    }\n",
       "\n",
       "    .dataframe thead th {\n",
       "        text-align: right;\n",
       "    }\n",
       "</style>\n",
       "<table border=\"1\" class=\"dataframe\">\n",
       "  <thead>\n",
       "    <tr style=\"text-align: right;\">\n",
       "      <th></th>\n",
       "      <th>대여소번호</th>\n",
       "      <th>대여소명</th>\n",
       "      <th>운영여부</th>\n",
       "      <th>거치대수</th>\n",
       "      <th>대여가능</th>\n",
       "      <th>주소</th>\n",
       "      <th>위도</th>\n",
       "      <th>경도</th>\n",
       "    </tr>\n",
       "  </thead>\n",
       "  <tbody>\n",
       "    <tr>\n",
       "      <th>0</th>\n",
       "      <td>1001</td>\n",
       "      <td>광진교 남단 사거리(디지털프라자앞)</td>\n",
       "      <td>운영중</td>\n",
       "      <td>15</td>\n",
       "      <td>0</td>\n",
       "      <td>서울특별시 강동구 올림픽로 674 로석빌딩</td>\n",
       "      <td>37.541794</td>\n",
       "      <td>127.124748</td>\n",
       "    </tr>\n",
       "    <tr>\n",
       "      <th>1</th>\n",
       "      <td>1002</td>\n",
       "      <td>해공공원(천호동)</td>\n",
       "      <td>운영중</td>\n",
       "      <td>10</td>\n",
       "      <td>0</td>\n",
       "      <td>서울특별시 강동구 올림픽로 702 해공도서관</td>\n",
       "      <td>37.545261</td>\n",
       "      <td>127.125946</td>\n",
       "    </tr>\n",
       "    <tr>\n",
       "      <th>2</th>\n",
       "      <td>1003</td>\n",
       "      <td>해공도서관앞</td>\n",
       "      <td>운영중</td>\n",
       "      <td>20</td>\n",
       "      <td>0</td>\n",
       "      <td>서울특별시 강동구 올림픽로 702 해공도서관</td>\n",
       "      <td>37.543957</td>\n",
       "      <td>127.125488</td>\n",
       "    </tr>\n",
       "    <tr>\n",
       "      <th>3</th>\n",
       "      <td>1004</td>\n",
       "      <td>삼성광나루아파트 버스정류장</td>\n",
       "      <td>운영중</td>\n",
       "      <td>10</td>\n",
       "      <td>4</td>\n",
       "      <td>서울특별시 강동구 올림픽로 812</td>\n",
       "      <td>37.553329</td>\n",
       "      <td>127.128868</td>\n",
       "    </tr>\n",
       "    <tr>\n",
       "      <th>4</th>\n",
       "      <td>1006</td>\n",
       "      <td>롯데캐슬 115동앞</td>\n",
       "      <td>운영중</td>\n",
       "      <td>15</td>\n",
       "      <td>0</td>\n",
       "      <td>서울특별시 강동구 고덕로 131 강동 롯데캐슬퍼스트아파트</td>\n",
       "      <td>37.554867</td>\n",
       "      <td>127.142799</td>\n",
       "    </tr>\n",
       "  </tbody>\n",
       "</table>\n",
       "</div>"
      ],
      "text/plain": [
       "   대여소번호                  대여소명 운영여부  거치대수  대여가능  \\\n",
       "0   1001   광진교 남단 사거리(디지털프라자앞)  운영중    15     0   \n",
       "1   1002             해공공원(천호동)  운영중    10     0   \n",
       "2   1003                해공도서관앞  운영중    20     0   \n",
       "3   1004        삼성광나루아파트 버스정류장  운영중    10     4   \n",
       "4   1006            롯데캐슬 115동앞  운영중    15     0   \n",
       "\n",
       "                                주소         위도          경도  \n",
       "0          서울특별시 강동구 올림픽로 674 로석빌딩  37.541794  127.124748  \n",
       "1         서울특별시 강동구 올림픽로 702 해공도서관  37.545261  127.125946  \n",
       "2         서울특별시 강동구 올림픽로 702 해공도서관  37.543957  127.125488  \n",
       "3               서울특별시 강동구 올림픽로 812  37.553329  127.128868  \n",
       "4  서울특별시 강동구 고덕로 131 강동 롯데캐슬퍼스트아파트  37.554867  127.142799  "
      ]
     },
     "execution_count": 24,
     "metadata": {},
     "output_type": "execute_result"
    }
   ],
   "source": [
    "# 파일이 제대로 생성되었는지 확인\n",
    "pd.read_csv('bike_rent_station.csv').head()"
   ]
  },
  {
   "cell_type": "code",
   "execution_count": 25,
   "metadata": {},
   "outputs": [
    {
     "data": {
      "text/plain": [
       "(2050, 8)"
      ]
     },
     "execution_count": 25,
     "metadata": {},
     "output_type": "execute_result"
    }
   ],
   "source": [
    "pd.read_csv('bike_rent_station.csv').shape"
   ]
  },
  {
   "cell_type": "code",
   "execution_count": null,
   "metadata": {},
   "outputs": [],
   "source": []
  }
 ],
 "metadata": {
  "kernelspec": {
   "display_name": "Python 3",
   "language": "python",
   "name": "python3"
  },
  "language_info": {
   "codemirror_mode": {
    "name": "ipython",
    "version": 3
   },
   "file_extension": ".py",
   "mimetype": "text/x-python",
   "name": "python",
   "nbconvert_exporter": "python",
   "pygments_lexer": "ipython3",
   "version": "3.7.6"
  },
  "varInspector": {
   "cols": {
    "lenName": 16,
    "lenType": 16,
    "lenVar": 40
   },
   "kernels_config": {
    "python": {
     "delete_cmd_postfix": "",
     "delete_cmd_prefix": "del ",
     "library": "var_list.py",
     "varRefreshCmd": "print(var_dic_list())"
    },
    "r": {
     "delete_cmd_postfix": ") ",
     "delete_cmd_prefix": "rm(",
     "library": "var_list.r",
     "varRefreshCmd": "cat(var_dic_list()) "
    }
   },
   "types_to_exclude": [
    "module",
    "function",
    "builtin_function_or_method",
    "instance",
    "_Feature"
   ],
   "window_display": false
  }
 },
 "nbformat": 4,
 "nbformat_minor": 2
}
