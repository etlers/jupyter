{
 "cells": [
  {
   "cell_type": "code",
   "execution_count": 1,
   "metadata": {},
   "outputs": [],
   "source": [
    "# 라이브러리 로드\n",
    "# requests는 작은 웹브라우저로 웹사이트 내용을 가져온다.\n",
    "import requests\n",
    "# BeautifulSoup 을 통해 읽어 온 웹페이지를 파싱한다.\n",
    "from bs4 import BeautifulSoup as bs\n",
    "# 크롤링 후 결과를 데이터프레임 형태로 보기 위해 불러온다.\n",
    "import pandas as pd\n",
    "\n",
    "from tqdm import trange"
   ]
  },
  {
   "cell_type": "code",
   "execution_count": 2,
   "metadata": {},
   "outputs": [
    {
     "data": {
      "text/plain": [
       "<Response [200]>"
      ]
     },
     "execution_count": 2,
     "metadata": {},
     "output_type": "execute_result"
    }
   ],
   "source": [
    "# 크롤링 할 사이트\n",
    "base_url = \"https://finance.naver.com/news/news_list.nhn?mode=RANK&page=2\"\n",
    "response = requests.get( base_url )\n",
    "response"
   ]
  },
  {
   "cell_type": "code",
   "execution_count": 3,
   "metadata": {},
   "outputs": [],
   "source": [
    "soup = bs(response.text, 'html.parser')\n",
    "\n",
    "content = soup.select(\"div.hotNewsList\")\n",
    "list_content = str(content).split(\"\\n\")"
   ]
  },
  {
   "cell_type": "code",
   "execution_count": null,
   "metadata": {},
   "outputs": [],
   "source": [
    "list_result = []\n",
    "\n",
    "for page in range(10):\n",
    "    base_url = f\"https://finance.naver.com/news/news_list.nhn?mode=RANK&page={page+1}\"\n",
    "    response = requests.get( base_url )\n",
    "    response\n",
    "    \n",
    "    soup = bs(response.text, 'html.parser')\n",
    "\n",
    "    content = soup.select(\"div.hotNewsList\")\n",
    "    list_content = str(content).split(\"\\n\")\n",
    "    \n",
    "    for str_content in list_content:\n",
    "        if \"href\" in str_content:\n",
    "            try:\n",
    "                head_line = str_content.split('title=')[1]\n",
    "            except:\n",
    "                head_line = str_content\n",
    "\n",
    "            list_result.append(head_line[1:].replace(\"&quot;\",\"\").replace(\"</a>\",\"\").replace(\"&amp;\",\"&\").split('\">')[0])\n",
    "            \n",
    "list_result = list(set(list_result))\n",
    "\n",
    "list_result"
   ]
  },
  {
   "cell_type": "code",
   "execution_count": 21,
   "metadata": {},
   "outputs": [
    {
     "data": {
      "text/plain": [
       "'SK하이닉스'"
      ]
     },
     "execution_count": 21,
     "metadata": {},
     "output_type": "execute_result"
    }
   ],
   "source": [
    "import pandas as pd\n",
    "jongmok_list_csv_file = 'jongmok_list.csv'\n",
    "\n",
    "# 종목 명 딕셔너리 생성\n",
    "dict_jongmok_nm = {}\n",
    "\n",
    "# 종목 딕셔너리 생성\n",
    "def make_jongmok_dict():\n",
    "    # CSV 데이터 DataFrame으로 추출\n",
    "    df_jongmok = pd.read_csv(jongmok_list_csv_file, encoding=\"CP949\")\n",
    "    # DataFrame에서 딕셔너리 생성\n",
    "    try:\n",
    "        df_jongmok = df_jongmok[[\"단축코드\", \"한글 종목약명\"]]\n",
    "        for index, row in df_jongmok.iterrows():\n",
    "            dict_jongmok_nm[\"A\" + row[\"단축코드\"]] = row[\"한글 종목약명\"]\n",
    "    except:\n",
    "        pass\n",
    "    \n",
    "make_jongmok_dict()\n",
    "\n",
    "dict_jongmok_nm[\"A000660\"]"
   ]
  },
  {
   "cell_type": "code",
   "execution_count": null,
   "metadata": {},
   "outputs": [],
   "source": [
    "def match_full_name(row, nm):\n",
    "    row = row.replace('\"','').replace(\",\",\" \").replace(\"…\",\" \").replace(\"...\", \" \").replace(\"·\",\" \")\n",
    "    list_row = row.split(\" \")\n",
    "    for val in list_row:\n",
    "        if nm == val:\n",
    "            return True\n",
    "    return False\n",
    "\n",
    "list_whole = []\n",
    "for cd, nm in dict_jongmok_nm.items():\n",
    "    for row in list_result:\n",
    "        list_select = []\n",
    "        if nm in row:\n",
    "            if match_full_name(row, nm):\n",
    "                list_select.append(cd)\n",
    "                list_select.append(nm)\n",
    "                list_select.append(row.replace(\"]\",\"\").replace(\"[\",\"\"))\n",
    "                list_whole.append(list_select)\n",
    "                \n",
    "list_cols = [\"종목코드\", \"종목명\", \"기사\"]\n",
    "df_news = pd.DataFrame(list_whole, columns=list_cols)\n",
    "df_news = df_news.sort_values(by=[\"종목코드\"])\n",
    "df_news\n",
    "# for list_row in list_whole:\n",
    "#     print(list_row)"
   ]
  },
  {
   "cell_type": "code",
   "execution_count": null,
   "metadata": {},
   "outputs": [],
   "source": [
    "# 종목의 마감정보 추출\n",
    "list_jongmok_code = ['122630', '005930','352820']\n",
    "list_cols = [\"전일\", \"고가\", \"거래량\", \"시가\", \"저가\", \"거래대금\"]\n",
    "list_whole = []\n",
    "for jongmok_code in list_jongmok_code:\n",
    "    base_url = \"https://finance.naver.com/item/main.nhn?code=\" + jongmok_code\n",
    "    response = requests.get( base_url, headers={\"User-agent\": \"Mozilla/5.0\"} )\n",
    "    soup = bs(response.text, 'html.parser')\n",
    "    idx = 0\n",
    "    list_jongmok = []\n",
    "    for href in soup.find(\"div\",{\"class\":\"rate_info\"}).find_all(\"td\"):\n",
    "        list_href = str(href).split(\"\\n\")\n",
    "        idx += 1\n",
    "        key = list_href[1].replace(\"</span>\", \"\").split(\">\")[1]\n",
    "        val = list_href[3].split(\"</span>\")[0].split(\">\")[1].replace(\",\", \"\")\n",
    "        #print(jongmok_code, key, val)\n",
    "        list_jongmok.append(\"20210414\")\n",
    "        list_jongmok.append(jongmok_code)\n",
    "        list_jongmok.append(val)\n",
    "        list_whole.append(list_jongmok)\n",
    "list_whole   "
   ]
  },
  {
   "cell_type": "code",
   "execution_count": 34,
   "metadata": {},
   "outputs": [
    {
     "name": "stdout",
     "output_type": "stream",
     "text": [
      "A139480 이마트 ['\"이베이코리아 인수 이마트 5% 급등(종합2보)', '2021-06-25']\n",
      "A950130 엑세스바이오 ['\"엑세스바이오, 코로나19 항체 진단키트 FDA 승인...15%대 강세', '2021-06-25']\n",
      "A151910 나노스 ['\"나노스, 모더나 사용 LNP 생산 계약 소식에 급등', '2021-06-25']\n",
      "A047810 한국항공우주 ['\"한국항공우주, 공공기관 입찰 자격 1년 6개월 정지...주가 약세', '2021-06-25']\n",
      "A084180 수성이노베이션 ['\"\\'이재명 관련주\\' 수성이노베이션 강세', '2021-06-25']\n",
      "A139480 이마트 ['\"이베이코리아 인수 이마트 강세(종합)', '2021-06-25']\n",
      "A000720 현대건설 ['\"현대건설, 실적 개선 기대감에 ‘강세’', '2021-06-25']\n",
      "A203690 프로스테믹스 ['\"프로스테믹스, 윤석열 대권선언에 서울중앙지검 출신 감사 부각 강세', '2021-06-25']\n",
      "A203690 프로스테믹스 ['\"프로스테믹스, 코로나19 치료 \\'악템라\\' 효과증명...美FDA 긴급사용승인 획득↑', '2021-06-25']\n",
      "A139480 이마트 ['\"이베이코리아 인수 이마트 3%대 상승', '2021-06-25']\n",
      "A067160 아프리카TV ['\"아프리카TV, 52주 신고가…3거래일 연속 상승', '2021-06-25']\n",
      "A122450 KMH ['\"KMH, 546억 규모 자사주 취득 결정에 강세', '2021-06-25']\n",
      "A192080 더블유게임즈 ['\"더블유게임즈, 자회사 나스닥 상장 연기 소식에 \\'약세\\'', '2021-06-25']\n",
      "A035720 카카오 ['\"카카오, 차익 매물 출회에 2거래일 연속 ‘약세’', '2021-06-25']\n",
      "A204630 스튜디오산타클로스 ['\"스튜디오산타클로스, 608억원 규모 유증 추진에 \\'약세\\'', '2021-06-25']\n",
      "A120110 코오롱인더 ['\"코오롱인더, 52주 신고가…2분기 호실적 기대', '2021-06-25']\n",
      "A035720 카카오 ['\"카카오 7.3% 급락…외인·기관 순매도', '2021-06-24']\n",
      "A064550 바이오니아 ['\"바이오니아, 코로나 변이 우려 속 30분만에 검사 가능한 소형 \\'PCR\\' 출시', '2021-06-24']\n",
      "A205470 휴마시스 ['\"휴마시스, 코로나 델타변이 확산에 진단요구 증가…해외 판로 확대', '2021-06-24']\n",
      "A030790 비케이탑스 ['\"비케이탑스, 중국 폴리실리콘 기업에 수출금지 결정…전 세계 태양광 공급망 영향', '2021-06-24']\n",
      "A086900 메디톡스 ['\"메디톡스, 차세대 보톡스 임상 3상 돌입에 강세', '2021-06-24']\n",
      "A005360 모나미 ['\"모나미, 송하경 대표 윤석열 부친 수제자 부각에 강세', '2021-06-24']\n",
      "A130660 한전산업 ['\"한전산업, 탄소중립 핵심 \\'SMR\\' 620조 시장…美·中 기술확보전', '2021-06-24']\n",
      "A053690 한미글로벌 ['\"한미글로벌, 상동광산 세계최대 텅스텐 생산지 소식에 재개발 CM 수행 부각', '2021-06-24']\n",
      "A010690 화신 ['\"\\'현대차 관련주\\' 화신 강세', '2021-06-24']\n",
      "A007390 네이처셀 ['\"네이처셀, 16년 연구 결실 조인트스템 품목허가 기대…신뢰 회복 과정', '2021-06-24']\n",
      "A101140 인바이오젠 ['\"인바이오젠, 코로나 델타 플러스 변이 출현 소식에 ‘변종 치료제’ 부각', '2021-06-24']\n",
      "A043100 솔고바이오 ['\"상폐 위기 벗어난 솔고바이오, 이틀 연속 상한가', '2021-06-24']\n",
      "A069640 한세엠케이 ['\"최재형 감사원장 관련주 한세엠케이 또 상한가', '2021-06-24']\n",
      "A042510 라온시큐어 ['\"라온시큐어, 강세…국가 최초 ‘모바일 운전면허증’ 구축', '2021-06-24']\n",
      "A058630 엠게임 ['\"엠게임, ‘열혈강호 온라인’ 中 매출 호조 소식에 강세', '2021-06-24']\n",
      "A065440 이루온 ['\"이루온, 대선판에 등장한 개헌카드…최재형 지지율 2배', '2021-06-24']\n",
      "A002350 넥센타이어 ['\"넥센타이어, 수요회복·신공장 증설 전망에 \\'강세\\'', '2021-06-24']\n",
      "A043100 솔고바이오 ['\"솔고바이오, 상장 유지 결정에 이틀째 ‘上’', '2021-06-24']\n"
     ]
    }
   ],
   "source": [
    "import requests\n",
    "from bs4 import BeautifulSoup as bs\n",
    "import pandas as pd\n",
    "\n",
    "def adjust_title(headline):\n",
    "    result_string = headline.split(\"title=\")[1].split(\"</a>\")[0]\n",
    "    result_string = result_string.split('\">')[0]\n",
    "    return result_string\n",
    "\n",
    "def adjust_wdate(headline):\n",
    "    result_string = \"20\" + headline.split(\">\")[1].split(\" \")[0]\n",
    "    result_string = result_string.replace(\".\",\"-\")\n",
    "    return result_string\n",
    "\n",
    "def match_full_name(row, nm):\n",
    "    row = row.replace('\"','').replace(\",\",\" \").replace(\"…\",\" \").replace(\"...\", \" \").replace(\"·\",\" \")\n",
    "    list_row = row.split(\" \")\n",
    "    for val in list_row:\n",
    "        if nm == val:\n",
    "            return True\n",
    "    return False\n",
    "\n",
    "list_feature = []\n",
    "for page in range(10):\n",
    "    base_url = f\"https://finance.naver.com/news/market_special.nhn?&page={page+1}\"\n",
    "    response = requests.get( base_url, headers={\"User-agent\": \"Mozilla/5.0\"} )\n",
    "    soup = bs(response.text, 'html.parser')\n",
    "    end_tf = False\n",
    "    \n",
    "    list_line = []\n",
    "    for row in soup.find(\"div\",{\"class\":\"boardList2\"}).find_all(\"td\"):\n",
    "        if end_tf: break\n",
    "        list_row = str(row).split(\"\\n\")\n",
    "        for headline in list_row:\n",
    "            if \"title\" in headline:\n",
    "                list_line.append(adjust_title(headline))\n",
    "            elif \"wdate\" in headline:\n",
    "                wdate = adjust_wdate(headline)\n",
    "                if wdate < \"2021-06-24\":\n",
    "                    end_tf = True\n",
    "                    break\n",
    "                list_line.append(wdate)\n",
    "                list_feature.append(list_line)\n",
    "                list_line = []\n",
    "            else:\n",
    "                continue\n",
    "                \n",
    "for article in list_feature:\n",
    "    for cd, nm in dict_jongmok_nm.items():\n",
    "        if match_full_name(article[0], nm):\n",
    "            print(cd, nm, article)"
   ]
  },
  {
   "cell_type": "code",
   "execution_count": null,
   "metadata": {},
   "outputs": [],
   "source": []
  }
 ],
 "metadata": {
  "kernelspec": {
   "display_name": "Python 3",
   "language": "python",
   "name": "python3"
  },
  "language_info": {
   "codemirror_mode": {
    "name": "ipython",
    "version": 3
   },
   "file_extension": ".py",
   "mimetype": "text/x-python",
   "name": "python",
   "nbconvert_exporter": "python",
   "pygments_lexer": "ipython3",
   "version": "3.8.5"
  }
 },
 "nbformat": 4,
 "nbformat_minor": 4
}
