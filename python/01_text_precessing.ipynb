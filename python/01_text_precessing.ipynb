{
 "cells": [
  {
   "cell_type": "code",
   "execution_count": 1,
   "id": "1737e138-a4b7-453d-a9d7-49199a700c94",
   "metadata": {},
   "outputs": [],
   "source": [
    "import textwrap"
   ]
  },
  {
   "cell_type": "markdown",
   "id": "cdba0dfd-497e-4681-8433-39c46f13859c",
   "metadata": {},
   "source": [
    "# 문자열 축약"
   ]
  },
  {
   "cell_type": "code",
   "execution_count": 4,
   "id": "21c02a9d-edbc-4add-b974-be9db3fc7271",
   "metadata": {},
   "outputs": [
    {
     "data": {
      "text/plain": [
       "'Life is [...]'"
      ]
     },
     "execution_count": 4,
     "metadata": {},
     "output_type": "execute_result"
    }
   ],
   "source": [
    "# 길이 15자리가 넘지 않도록 말줄임하여 표시하시오. (단, 길이가 15자리가 넘지 않을 경우에는 그대로 표시)\n",
    "textwrap.shorten(\"Life is too short, you need python\", width=15)"
   ]
  },
  {
   "cell_type": "code",
   "execution_count": 5,
   "id": "b0f79d74-0025-4dee-8d1a-f7c9945538d2",
   "metadata": {},
   "outputs": [
    {
     "data": {
      "text/plain": [
       "'abc'"
      ]
     },
     "execution_count": 5,
     "metadata": {},
     "output_type": "execute_result"
    }
   ],
   "source": [
    "textwrap.shorten(\"abc\", width=15)"
   ]
  },
  {
   "cell_type": "code",
   "execution_count": 12,
   "id": "fb4daff3-c59f-4c31-b917-e80db557c727",
   "metadata": {},
   "outputs": [
    {
     "data": {
      "text/plain": [
       "'인생은 짧으니 [...]'"
      ]
     },
     "execution_count": 12,
     "metadata": {},
     "output_type": "execute_result"
    }
   ],
   "source": [
    "# 한글 문자열인 경우도 다음처럼 동일하게 수행된다. 단, 한글 1문자도 역시 길이 1로 계산된다는 점에 유의하자.\n",
    "# 문자열이 축약되더라도 문자열의 각 단어는 중간에 분리되지 않고 온전히 유지될 수 있게 축약된다.\n",
    "textwrap.shorten(\"인생은 짧으니 파이썬이 필요해\", width=15)"
   ]
  },
  {
   "cell_type": "code",
   "execution_count": 11,
   "id": "831d8cc8-74d5-4057-930f-cad110fe943e",
   "metadata": {},
   "outputs": [
    {
     "data": {
      "text/plain": [
       "'인생은 짧으니 파이썬이...'"
      ]
     },
     "execution_count": 11,
     "metadata": {},
     "output_type": "execute_result"
    }
   ],
   "source": [
    "textwrap.shorten(\"인생은 짧으니 파이썬이 필요해\", width=15, placeholder='...')"
   ]
  },
  {
   "cell_type": "markdown",
   "id": "acb550e2-ed5d-4f6d-a27a-fc8abae3a3df",
   "metadata": {},
   "source": [
    "# 문자열 줄바꿈"
   ]
  },
  {
   "cell_type": "code",
   "execution_count": 13,
   "id": "8bb11cdc-2c7e-454b-8ff6-39ac74821748",
   "metadata": {},
   "outputs": [
    {
     "data": {
      "text/plain": [
       "'Life is too short, you need python. Life is too short, you need python. Life is too short, you need python. Life is too short, you need python. Life is too short, you need python. Life is too short, you need python. Life is too short, you need python. Life is too short, you need python. Life is too short, you need python. Life is too short, you need python. '"
      ]
     },
     "execution_count": 13,
     "metadata": {},
     "output_type": "execute_result"
    }
   ],
   "source": [
    "long_text = 'Life is too short, you need python. ' * 10\n",
    "long_text"
   ]
  },
  {
   "cell_type": "code",
   "execution_count": 15,
   "id": "e5b33118-1d7d-4c78-84a7-bbd6ca5586d6",
   "metadata": {},
   "outputs": [
    {
     "data": {
      "text/plain": [
       "['Life is too short, you need python. Life is too short, you need',\n",
       " 'python. Life is too short, you need python. Life is too short, you',\n",
       " 'need python. Life is too short, you need python. Life is too short,',\n",
       " 'you need python. Life is too short, you need python. Life is too',\n",
       " 'short, you need python. Life is too short, you need python. Life is',\n",
       " 'too short, you need python.']"
      ]
     },
     "execution_count": 15,
     "metadata": {},
     "output_type": "execute_result"
    }
   ],
   "source": [
    "result = textwrap.wrap(long_text, width=70)\n",
    "result"
   ]
  },
  {
   "cell_type": "code",
   "execution_count": 18,
   "id": "c1ba579d-1b60-4e18-a586-af849726c9c1",
   "metadata": {},
   "outputs": [
    {
     "name": "stdout",
     "output_type": "stream",
     "text": [
      "Life is too short, you need python. Life is too short, you need\n",
      "python. Life is too short, you need python. Life is too short, you\n",
      "need python. Life is too short, you need python. Life is too short,\n",
      "you need python. Life is too short, you need python. Life is too\n",
      "short, you need python. Life is too short, you need python. Life is\n",
      "too short, you need python.\n"
     ]
    }
   ],
   "source": [
    "# 고정폭 문자열로 표시\n",
    "print(\"\\n\".join(result))"
   ]
  },
  {
   "cell_type": "code",
   "execution_count": 20,
   "id": "21407249-f727-4fda-970d-dfe224060d73",
   "metadata": {},
   "outputs": [
    {
     "name": "stdout",
     "output_type": "stream",
     "text": [
      "Life is too short, you need python. Life is too short, you need\n",
      "python. Life is too short, you need python. Life is too short, you\n",
      "need python. Life is too short, you need python. Life is too short,\n",
      "you need python. Life is too short, you need python. Life is too\n",
      "short, you need python. Life is too short, you need python. Life is\n",
      "too short, you need python.\n"
     ]
    }
   ],
   "source": [
    "fixed_width = textwrap.fill(long_text, width=70)\n",
    "print(fixed_width)"
   ]
  },
  {
   "cell_type": "markdown",
   "id": "72aa64b1-1548-40c8-b101-f0550483b1f1",
   "metadata": {},
   "source": [
    "# 정규식 표현"
   ]
  },
  {
   "cell_type": "code",
   "execution_count": 21,
   "id": "6b7ccedc-4e25-4fbe-a45e-2df1fd3a5547",
   "metadata": {},
   "outputs": [],
   "source": [
    "import re"
   ]
  },
  {
   "cell_type": "code",
   "execution_count": 22,
   "id": "a5ea6e0d-3f0d-429f-b017-0c61a370b963",
   "metadata": {},
   "outputs": [],
   "source": [
    "data = \"\"\"\n",
    "홍길동의 주민번호는 800905-1049118 입니다. \n",
    "그리고 고길동의 주민번호는 700905-1059119 입니다.\n",
    "그렇다면 누가 형님일까요?\n",
    "\"\"\""
   ]
  },
  {
   "cell_type": "code",
   "execution_count": 25,
   "id": "d1727726-6bb0-4ed8-b61f-944c709d4846",
   "metadata": {},
   "outputs": [],
   "source": [
    "# 숫자6 + 하이픈문자(-) + 숫자7\n",
    "# 단, 숫자6은 괄호를 사용하여 그룹으로 지정되어있다.\n",
    "pat = re.compile(\"(\\d{6})[-]\\d{7}\")"
   ]
  },
  {
   "cell_type": "code",
   "execution_count": 27,
   "id": "1d85e377-f3e0-4a81-ad39-dfc01dde86dd",
   "metadata": {},
   "outputs": [
    {
     "name": "stdout",
     "output_type": "stream",
     "text": [
      "\n",
      "홍길동의 주민번호는 800905-******* 입니다. \n",
      "그리고 고길동의 주민번호는 700905-******* 입니다.\n",
      "그렇다면 누가 형님일까요?\n",
      "\n"
     ]
    }
   ],
   "source": [
    "# '\\g<1>'의 의미는 정규표현식과 매치된 문자열중에서 첫번째 그룹을 의미\n",
    "print(pat.sub(\"\\g<1>-*******\", data))"
   ]
  },
  {
   "cell_type": "code",
   "execution_count": null,
   "id": "ec408aba-e3d5-4439-ac3f-e4c804b79fd2",
   "metadata": {},
   "outputs": [],
   "source": []
  }
 ],
 "metadata": {
  "kernelspec": {
   "display_name": "Python 3 (ipykernel)",
   "language": "python",
   "name": "python3"
  },
  "language_info": {
   "codemirror_mode": {
    "name": "ipython",
    "version": 3
   },
   "file_extension": ".py",
   "mimetype": "text/x-python",
   "name": "python",
   "nbconvert_exporter": "python",
   "pygments_lexer": "ipython3",
   "version": "3.9.7"
  }
 },
 "nbformat": 4,
 "nbformat_minor": 5
}
