{
 "cells": [
  {
   "cell_type": "code",
   "execution_count": 1,
   "id": "4afdbb22-6bc1-49e2-9cc4-0f1767e8fc19",
   "metadata": {},
   "outputs": [],
   "source": [
    "import pandas as pd"
   ]
  },
  {
   "cell_type": "code",
   "execution_count": 63,
   "id": "c96cd7c8-ed46-460c-bb30-efa24d3c712b",
   "metadata": {},
   "outputs": [],
   "source": [
    "data = [\n",
    "    [\"A\", \"a,b,c\"],\n",
    "    [\"B\", \"a\"],\n",
    "    [\"C\", \"b,c\"],\n",
    "    [\"D\", \"c\"],\n",
    "]\n",
    "df_base = pd.DataFrame(data, columns=[\"COL\", \"VAL\"])\n",
    "\n",
    "# df_base"
   ]
  },
  {
   "cell_type": "code",
   "execution_count": 109,
   "id": "ae823d1c-0883-4f7c-b1a5-f860cc10629e",
   "metadata": {},
   "outputs": [
    {
     "data": {
      "text/html": [
       "<div>\n",
       "<style scoped>\n",
       "    .dataframe tbody tr th:only-of-type {\n",
       "        vertical-align: middle;\n",
       "    }\n",
       "\n",
       "    .dataframe tbody tr th {\n",
       "        vertical-align: top;\n",
       "    }\n",
       "\n",
       "    .dataframe thead th {\n",
       "        text-align: right;\n",
       "    }\n",
       "</style>\n",
       "<table border=\"1\" class=\"dataframe\">\n",
       "  <thead>\n",
       "    <tr style=\"text-align: right;\">\n",
       "      <th></th>\n",
       "      <th>COL</th>\n",
       "      <th>VAL</th>\n",
       "    </tr>\n",
       "  </thead>\n",
       "  <tbody>\n",
       "    <tr>\n",
       "      <th>0</th>\n",
       "      <td>A</td>\n",
       "      <td>a</td>\n",
       "    </tr>\n",
       "    <tr>\n",
       "      <th>1</th>\n",
       "      <td>A</td>\n",
       "      <td>b</td>\n",
       "    </tr>\n",
       "    <tr>\n",
       "      <th>2</th>\n",
       "      <td>A</td>\n",
       "      <td>c</td>\n",
       "    </tr>\n",
       "    <tr>\n",
       "      <th>1</th>\n",
       "      <td>B</td>\n",
       "      <td>a</td>\n",
       "    </tr>\n",
       "    <tr>\n",
       "      <th>0</th>\n",
       "      <td>C</td>\n",
       "      <td>b</td>\n",
       "    </tr>\n",
       "    <tr>\n",
       "      <th>1</th>\n",
       "      <td>C</td>\n",
       "      <td>c</td>\n",
       "    </tr>\n",
       "    <tr>\n",
       "      <th>3</th>\n",
       "      <td>D</td>\n",
       "      <td>c</td>\n",
       "    </tr>\n",
       "  </tbody>\n",
       "</table>\n",
       "</div>"
      ],
      "text/plain": [
       "  COL VAL\n",
       "0   A   a\n",
       "1   A   b\n",
       "2   A   c\n",
       "1   B   a\n",
       "0   C   b\n",
       "1   C   c\n",
       "3   D   c"
      ]
     },
     "execution_count": 109,
     "metadata": {},
     "output_type": "execute_result"
    }
   ],
   "source": [
    "# 콤마로 분리해 열을 행으로 변경 재생성\n",
    "data = [\n",
    "    [\"A\", \"a,b,c\"],\n",
    "    [\"B\", \"a\"],\n",
    "    [\"C\", \"b,c\"],\n",
    "    [\"D\", \"c\"],\n",
    "]\n",
    "df_base = pd.DataFrame(data, columns=[\"COL\", \"VAL\"])\n",
    "df_deleted = df_base.copy()\n",
    "\n",
    "def del_row(key):\n",
    "    # 해당 키 삭제\n",
    "    del_idx = df_deleted[df_deleted[\"COL\"] == key].index\n",
    "    df_deleted.drop(del_idx, inplace=True)\n",
    "\n",
    "def conv_row(key, val):    \n",
    "    list_df = []\n",
    "    list_vals = val.split(\",\")    \n",
    "    for row in list_vals:\n",
    "        list_temp = []\n",
    "        list_temp.append(key)\n",
    "        list_temp.append(row)\n",
    "        list_df.append(list_temp)\n",
    "    return pd.DataFrame(list_df, columns=[\"COL\", \"VAL\"])\n",
    "\n",
    "for label, contents in df_base.iterrows():\n",
    "    if contents.VAL.count(\",\") > 0:\n",
    "        del_row(contents.COL)\n",
    "\n",
    "for label, contents in df_base.iterrows():\n",
    "    if contents.VAL.count(\",\") > 0:\n",
    "        del_row(contents.COL)\n",
    "        df_temp = conv_row(contents.COL, contents.VAL)\n",
    "        df_deleted = pd.concat([df_deleted, df_temp])\n",
    "\n",
    "df_result = df_deleted.sort_values(by=\"COL\")\n",
    "df_result"
   ]
  },
  {
   "cell_type": "code",
   "execution_count": null,
   "id": "339004a2-5fe5-4117-bdd9-92357c033327",
   "metadata": {},
   "outputs": [],
   "source": [
    "\n"
   ]
  },
  {
   "cell_type": "code",
   "execution_count": null,
   "id": "e9d65c6f-b844-44c1-8625-fe8cb676a840",
   "metadata": {},
   "outputs": [],
   "source": []
  }
 ],
 "metadata": {
  "kernelspec": {
   "display_name": "Python 3",
   "language": "python",
   "name": "python3"
  },
  "language_info": {
   "codemirror_mode": {
    "name": "ipython",
    "version": 3
   },
   "file_extension": ".py",
   "mimetype": "text/x-python",
   "name": "python",
   "nbconvert_exporter": "python",
   "pygments_lexer": "ipython3",
   "version": "3.8.8"
  }
 },
 "nbformat": 4,
 "nbformat_minor": 5
}
