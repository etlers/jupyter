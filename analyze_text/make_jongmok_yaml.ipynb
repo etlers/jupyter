{
 "cells": [
  {
   "cell_type": "code",
   "execution_count": 12,
   "id": "e6073ed7-94a6-4ec3-a9d4-09d2c15c9115",
   "metadata": {},
   "outputs": [],
   "source": [
    "import pandas as pd\n",
    "\n",
    "yaml_file = open(\"jongmok.yaml\", 'w', encoding=\"utf-8\")\n",
    "\n",
    "df_jongmok = pd.read_csv(\"jongmok_list.csv\", encoding=\"cp949\")\n",
    "df_jongmok.rename(columns={\"단축코드\": \"JONGMOK_CD\", \"한글 종목약명\": \"JONGMOK_NM\"}, inplace=True)\n",
    "df_jongmok = df_jongmok[[\"JONGMOK_CD\",\"JONGMOK_NM\"]]\n",
    "\n",
    "for key, row in df_jongmok.iterrows():\n",
    "    yaml_file.write(str(row[\"JONGMOK_CD\"]) + \": \" + row[\"JONGMOK_NM\"] + \"\\n\")"
   ]
  },
  {
   "cell_type": "code",
   "execution_count": null,
   "id": "fd64c59a-08a1-449c-9e8b-7f3a8c02f34a",
   "metadata": {},
   "outputs": [],
   "source": []
  }
 ],
 "metadata": {
  "kernelspec": {
   "display_name": "Python 3",
   "language": "python",
   "name": "python3"
  },
  "language_info": {
   "codemirror_mode": {
    "name": "ipython",
    "version": 3
   },
   "file_extension": ".py",
   "mimetype": "text/x-python",
   "name": "python",
   "nbconvert_exporter": "python",
   "pygments_lexer": "ipython3",
   "version": "3.8.8"
  }
 },
 "nbformat": 4,
 "nbformat_minor": 5
}
