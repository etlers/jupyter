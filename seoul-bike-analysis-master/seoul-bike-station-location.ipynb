{
 "cells": [
  {
   "cell_type": "markdown",
   "metadata": {},
   "source": [
    "[![Open In Colab](https://colab.research.google.com/assets/colab-badge.svg)](https://colab.research.google.com/github/corazzon/seoul-bike-analysis/blob/master/seoul-bike-station-location.ipynb)"
   ]
  },
  {
   "cell_type": "markdown",
   "metadata": {},
   "source": [
    "# 따릉이 자전거 대여소 위치\n",
    "* 크롤링한 전체 대여소 위치를 분석해 봅니다."
   ]
  },
  {
   "cell_type": "code",
   "execution_count": 4,
   "metadata": {},
   "outputs": [],
   "source": [
    "import warnings\n",
    "warnings.filterwarnings('ignore')"
   ]
  },
  {
   "cell_type": "code",
   "execution_count": 5,
   "metadata": {},
   "outputs": [],
   "source": [
    "import pandas as pd\n",
    "import seaborn as sns\n",
    "\n",
    "# 정규표현식 사용을 위해\n",
    "import re"
   ]
  },
  {
   "cell_type": "code",
   "execution_count": 6,
   "metadata": {},
   "outputs": [],
   "source": [
    "# 아나콘다에서 folium 을 사용하기 위해서는 별도의 설치가 필요\n",
    "# https://anaconda.org/conda-forge/folium\n",
    "# conda install -c conda-forge folium \n",
    "# 지도 표현을 위해\n",
    "import folium"
   ]
  },
  {
   "cell_type": "markdown",
   "metadata": {},
   "source": [
    "## 한글폰트 설정"
   ]
  },
  {
   "cell_type": "code",
   "execution_count": 7,
   "metadata": {},
   "outputs": [],
   "source": [
    "import matplotlib.pyplot as plt\n",
    "from IPython.display import set_matplotlib_formats\n",
    "# Window 의 한글 폰트 설정\n",
    "# plt.rc('font',family='Malgun Gothic')\n",
    "# Mac 의 한글 폰트 설정\n",
    "plt.rc('font', family='AppleGothic') \n",
    "plt.rc('axes', unicode_minus=False)\n",
    "\n",
    "set_matplotlib_formats('retina')\n",
    "\n",
    "%matplotlib inline"
   ]
  },
  {
   "cell_type": "markdown",
   "metadata": {},
   "source": [
    "## Colab 에서 실행을 위한 코드\n",
    "* colab : https://colab.research.google.com/github/corazzon/seoul-bike-analysis/blob/master/seoul-bike-station-location.ipynb\n",
    "* 아래의 코드는 google colaboratory 에서 실행을 위한 코드로 로컬 아나콘다에서는 주석처리한다.\n",
    "* google colaboratory 에서는 주석을 풀고 폰트 설정과 csv 파일을 불러온다."
   ]
  },
  {
   "cell_type": "code",
   "execution_count": 8,
   "metadata": {},
   "outputs": [],
   "source": [
    "# # 나눔고딕 설치\n",
    "# !apt -qq -y install fonts-nanum > /dev/null\n",
    "\n",
    "# import matplotlib.font_manager as fm\n",
    "\n",
    "# fontpath = '/usr/share/fonts/truetype/nanum/NanumBarunGothic.ttf'\n",
    "# font = fm.FontProperties(fname=fontpath, size=9)\n",
    "# fm._rebuild()\n",
    "\n",
    "# # 그래프에 retina display 적용\n",
    "# %config InlineBackend.figure_format = 'retina'\n",
    "\n",
    "# # Colab 의 한글 폰트 설정\n",
    "# plt.rc('font', family='NanumBarunGothic') "
   ]
  },
  {
   "cell_type": "code",
   "execution_count": null,
   "metadata": {},
   "outputs": [],
   "source": [
    "# # 구글 드라이브에서 csv 파일을 읽어오기 위해 gauth 인증을 한다.\n",
    "# !pip install -U -q PyDrive\n",
    "# from pydrive.auth import GoogleAuth\n",
    "# from pydrive.drive import GoogleDrive\n",
    "# from google.colab import auth\n",
    "# from oauth2client.client import GoogleCredentials\n",
    "\n",
    "# # PyDrive client 인증\n",
    "# auth.authenticate_user()\n",
    "# gauth = GoogleAuth()\n",
    "# gauth.credentials = GoogleCredentials.get_application_default()\n",
    "# drive = GoogleDrive(gauth)"
   ]
  },
  {
   "cell_type": "code",
   "execution_count": null,
   "metadata": {},
   "outputs": [],
   "source": [
    "# # 공유 가능한 링크로 파일 가져오기\n",
    "# url ='https://drive.google.com/open?id=1PbU3obWSNc7ADD2sAF2Anhb9HYH8JsDL'\n",
    "# id = url.split('=')[1]\n",
    "# print(id)\n",
    "# downloaded = drive.CreateFile({'id':id}) \n",
    "# # data폴더에 데이터를 따로 모아 관리한다.\n",
    "# %mkdir data\n",
    "# downloaded.GetContentFile('data/seoul_bike_station.csv')  "
   ]
  },
  {
   "cell_type": "markdown",
   "metadata": {},
   "source": [
    "## 파일로드"
   ]
  },
  {
   "cell_type": "code",
   "execution_count": 9,
   "metadata": {},
   "outputs": [
    {
     "data": {
      "text/plain": [
       "(1531, 6)"
      ]
     },
     "execution_count": 9,
     "metadata": {},
     "output_type": "execute_result"
    }
   ],
   "source": [
    "df = pd.read_csv('data/seoul_bike_station.csv')\n",
    "df.shape"
   ]
  },
  {
   "cell_type": "code",
   "execution_count": 10,
   "metadata": {},
   "outputs": [
    {
     "data": {
      "text/plain": [
       "대여소번호    float64\n",
       "대여소       object\n",
       "상태        object\n",
       "주소        object\n",
       "위도       float64\n",
       "경도       float64\n",
       "dtype: object"
      ]
     },
     "execution_count": 10,
     "metadata": {},
     "output_type": "execute_result"
    }
   ],
   "source": [
    "df.dtypes"
   ]
  },
  {
   "cell_type": "code",
   "execution_count": null,
   "metadata": {},
   "outputs": [],
   "source": [
    "# head 로 미리보기를 합니다. 기본값은 5입니다.\n",
    "df.head()"
   ]
  },
  {
   "cell_type": "code",
   "execution_count": null,
   "metadata": {},
   "outputs": [],
   "source": [
    "# tail로 미리보기를 합니다. 기본값은 5입니다.\n",
    "df.tail()"
   ]
  },
  {
   "cell_type": "code",
   "execution_count": null,
   "metadata": {},
   "outputs": [],
   "source": [
    "# info를 사용하면 데이터의 타입, 크기, 메모리 사용량 등을 볼 수 있습니다.\n",
    "df.info()"
   ]
  },
  {
   "cell_type": "code",
   "execution_count": null,
   "metadata": {},
   "outputs": [],
   "source": [
    "# 결측치를 봅니다.\n",
    "df.isnull().sum()"
   ]
  },
  {
   "cell_type": "code",
   "execution_count": null,
   "metadata": {},
   "outputs": [],
   "source": [
    "# 데이터프레임의 행과 열의 갯수를 출력합니다.\n",
    "df.shape"
   ]
  },
  {
   "cell_type": "code",
   "execution_count": null,
   "metadata": {},
   "outputs": [],
   "source": [
    "# value_counts 를 하게 되면 그룹화 된 데이터의 갯수를 세어줍니다.\n",
    "df['상태'].value_counts()"
   ]
  },
  {
   "cell_type": "code",
   "execution_count": null,
   "metadata": {},
   "outputs": [],
   "source": [
    "# 연산을 통해 위도가 37보다 크고, 경도가 125 보다 큰 값을 가져옵니다.\n",
    "# 위도와 경도가 잘못 들어가 있는 값을 제거하고 가져오기 위함입니다.\n",
    "geo_df = df.loc[(df['위도'] > 37) & (df['경도'] > 125)]\n",
    "geo_df.shape"
   ]
  },
  {
   "cell_type": "code",
   "execution_count": null,
   "metadata": {},
   "outputs": [],
   "source": [
    "# Pandas의 scatter plot으로 시각화를 합니다.\n",
    "geo_df.plot.scatter(x='경도', y='위도', figsize=(10, 7))"
   ]
  },
  {
   "cell_type": "code",
   "execution_count": null,
   "metadata": {},
   "outputs": [],
   "source": [
    "# 위와 같은 그래프이지만 seaborn 으로 시각화를 합니다.\n",
    "plt.figure(figsize=(10, 7))\n",
    "sns.scatterplot(data=geo_df, x=\"경도\", y=\"위도\")"
   ]
  },
  {
   "cell_type": "markdown",
   "metadata": {},
   "source": [
    "## 구별 데이터 만들기 \n",
    "* 공백으로 문자를 분리해서 1번째 인덱스에 있는 문자를 가져오도록 구를 생성하였다.\n",
    "* 그런데 두 번째 문자가 구가 아닌 경우가 있다. \n",
    "* 이런 문자들을 개선하기 위해 공백 두 개는 하나로 변경하였다.\n",
    "* 문자 앞 뒤에 공백문자가 들어가 있는 것을 strip()으로 제거한다.\n",
    "* 그래도 두 번째 문자가 구가 아닌 문자들이 있다. 해당 문자들만 모아서 '구' 컬럼에 행정구가 들어갈 수 있도록 전처리 작업을 해준다."
   ]
  },
  {
   "cell_type": "code",
   "execution_count": null,
   "metadata": {},
   "outputs": [],
   "source": [
    "df['주소'] = df['주소'].apply(lambda x : re.sub('  ', ' ', x))"
   ]
  },
  {
   "cell_type": "code",
   "execution_count": null,
   "metadata": {},
   "outputs": [],
   "source": [
    "df['구'] = df['주소'].apply(lambda x : x.strip().split(' ')[1])"
   ]
  },
  {
   "cell_type": "code",
   "execution_count": null,
   "metadata": {},
   "outputs": [],
   "source": [
    "df['구'].value_counts().head()"
   ]
  },
  {
   "cell_type": "code",
   "execution_count": null,
   "metadata": {},
   "outputs": [],
   "source": [
    "df['구'].value_counts().tail()"
   ]
  },
  {
   "cell_type": "markdown",
   "metadata": {},
   "source": [
    "* 마지막 글자가 구로 끝나지 않는 데이터를 찾아온다.\n",
    "* 마지막 글자를 찾을 때는 -1로 마지막 위치의 문자를 가져올 수도 있지만 \n",
    "* endswith를 사용해 가져오도록 한다."
   ]
  },
  {
   "cell_type": "code",
   "execution_count": null,
   "metadata": {},
   "outputs": [],
   "source": [
    "# str 메소드를 사용해서 마지막 인덱스로 끝나는 글자를 가져올 수도 있지만 endswith 를 사용할 수도 있다.\n",
    "# df_gu = df[df['구'].str[-1] != '구']\n",
    "df_gu = df[~df['구'].str.endswith('구')]\n",
    "print(df_gu.shape)\n",
    "df_gu2 = df_gu['구'].unique()\n",
    "df_gu2"
   ]
  },
  {
   "cell_type": "code",
   "execution_count": null,
   "metadata": {},
   "outputs": [],
   "source": [
    "df_not_gu = df_gu[df_gu['구'].isin(df_gu2)]\n",
    "df_not_gu.head()"
   ]
  },
  {
   "cell_type": "code",
   "execution_count": null,
   "metadata": {},
   "outputs": [],
   "source": [
    "# 주소 정보가 잘못된 데이터를 찾는다.\n",
    "df_not_gu['구'].unique()"
   ]
  },
  {
   "cell_type": "markdown",
   "metadata": {},
   "source": [
    "* 마지막 글자가 구로 끝나지 않는 주소를 가져와서 어떤 구에 속하는지를 찾는다."
   ]
  },
  {
   "cell_type": "code",
   "execution_count": null,
   "metadata": {},
   "outputs": [],
   "source": [
    "dong = {'성내동':'강동구', '상일동':'강동구'}\n",
    "dong['성내동']"
   ]
  },
  {
   "cell_type": "code",
   "execution_count": null,
   "metadata": {},
   "outputs": [],
   "source": [
    "# 구 컬럼에 추출된 정보가 어떤 구에 해당되는지 전처리 해준다.\n",
    "gu = {'성내동':'강동구', '상일동':'강동구', '명일동':'강동구', '길동':'강동구', \n",
    "      '암사동':'강동구', '고덕동':'강동구', '강일동':'강동구', '양재대로':'강동구', \n",
    "      '서울':'송파구', '중화동':'중랑구', '면목동':'중랑구', '상봉동':'중랑구', \n",
    "      '미아동':'강북구', '수유동':'강북구', '번동':'강북구', '동일로':'노원구', \n",
    "      '창동':'도봉구', '망원2빗물펌프장':'마포구', '가산동':'금천구', \n",
    "      '시흥동':'금천구', '독산동':'금천구', '사당동':'동작구', '관악로':'관악구', \n",
    "      '서초동':'서초구', '잠원동':'서초구', '신원동':'서초구', '양재동':'서초구',\n",
    "      '염곡동':'서초구', '상암동':'마포구', '진관동':'은평구', '응암동':'은평구', \n",
    "      '녹번동':'은평구', '불광로':'은평구', '불광동':'은평구', '증산동':'은평구', \n",
    "      '역촌동':'은평구', '갈현동':'은평구'}"
   ]
  },
  {
   "cell_type": "code",
   "execution_count": 2,
   "metadata": {},
   "outputs": [
    {
     "data": {
      "text/plain": [
       "'구'"
      ]
     },
     "execution_count": 2,
     "metadata": {},
     "output_type": "execute_result"
    }
   ],
   "source": [
    "# x[-1]\n",
    "\"마포구\"[-1]"
   ]
  },
  {
   "cell_type": "code",
   "execution_count": 3,
   "metadata": {},
   "outputs": [
    {
     "data": {
      "text/plain": [
       "False"
      ]
     },
     "execution_count": 3,
     "metadata": {},
     "output_type": "execute_result"
    }
   ],
   "source": [
    "\"마포구\"[-1] != '구'"
   ]
  },
  {
   "cell_type": "code",
   "execution_count": null,
   "metadata": {},
   "outputs": [],
   "source": [
    "df['구'] = df['구'].apply(lambda x : gu[x] if x[-1] != '구' else x )"
   ]
  },
  {
   "cell_type": "code",
   "execution_count": null,
   "metadata": {},
   "outputs": [],
   "source": [
    "# Pandas 로 시각화를 위해 데이터를 집계한다.\n",
    "df_gu = df['구'].value_counts()\n",
    "print(\"데이터에 있는 구의 수 : \", len(df_gu))\n",
    "df_gu"
   ]
  },
  {
   "cell_type": "markdown",
   "metadata": {},
   "source": [
    "* '구' 컬럼을 전처리한 데이터를 저장한다."
   ]
  },
  {
   "cell_type": "code",
   "execution_count": null,
   "metadata": {},
   "outputs": [],
   "source": [
    "df.to_csv('data/bike_rent_station_gu.csv', index=False)"
   ]
  },
  {
   "cell_type": "code",
   "execution_count": null,
   "metadata": {},
   "outputs": [],
   "source": [
    "# Pandas로 시각화 하기\n",
    "df_gu.plot(kind='bar', rot=30, figsize=(15, 5), title=\"구별 대여소 수\")"
   ]
  },
  {
   "cell_type": "code",
   "execution_count": null,
   "metadata": {},
   "outputs": [],
   "source": [
    "# 위와 같은 시각화를 seaborn 으로 보기\n",
    "plt.figure(figsize=(15, 5))\n",
    "plt.xticks(rotation=30)\n",
    "sns.countplot(data=df, x='구')"
   ]
  },
  {
   "cell_type": "code",
   "execution_count": null,
   "metadata": {},
   "outputs": [],
   "source": [
    "# 잘못입력된 위경도로 인해 그래프가 제대로 그려지지 않는 문제를 위해 위경도 범위를 지정\n",
    "geo_gu_df = df.loc[(df['위도'] > 37) & (df['경도'] > 125)]\n",
    "geo_gu_df.shape"
   ]
  },
  {
   "cell_type": "code",
   "execution_count": null,
   "metadata": {},
   "outputs": [],
   "source": [
    "# 위경도에 오류가 있는 데이터를 제거한 geo_gu_df를 사용해 시각화 한다.\n",
    "plt.figure(figsize=(15, 10))\n",
    "sns.scatterplot(data=geo_gu_df, x='경도', y='위도', hue='구')"
   ]
  },
  {
   "cell_type": "code",
   "execution_count": null,
   "metadata": {},
   "outputs": [],
   "source": [
    "# 위도 경도의 오류 데이터 제거를 위해 구간에 있는 데이터로 위경도의 평균을 구해온다.\n",
    "df_gu_lat_long = geo_gu_df.groupby([\"구\"])[\"위도\", \"경도\"].mean()\n",
    "df_gu_lat_long.head()"
   ]
  },
  {
   "cell_type": "code",
   "execution_count": null,
   "metadata": {},
   "outputs": [],
   "source": [
    "# 구별 대여소 수를 집계한다.\n",
    "df_gu_count = pd.DataFrame(df[\"구\"].value_counts())\n",
    "df_gu_count.columns = [\"대여소수\"]\n",
    "df_gu_count.head()"
   ]
  },
  {
   "cell_type": "code",
   "execution_count": null,
   "metadata": {},
   "outputs": [],
   "source": [
    "# 구별 대여소 수를 비교해 본다.\n",
    "plt.figure(figsize=(15, 10))\n",
    "sns.scatterplot(data=geo_gu_df, x='경도', y='위도', hue='구')\n",
    "sns.scatterplot(data=df_gu_lat_long, x=\"경도\", y=\"위도\",\n",
    "                size=df_gu_count[\"대여소수\"], hue=df_gu_count[\"대여소수\"],\n",
    "                sizes=(100, 500))"
   ]
  },
  {
   "cell_type": "markdown",
   "metadata": {},
   "source": [
    "## folium 으로 지도에 시각화 하기\n",
    "* [folium 예제 참고](http://nbviewer.jupyter.org/github/python-visualization/folium/tree/master/examples/)\n",
    "    - 맵스타일, 히트맵, 마커 등을 커스텀하게 표현한 예제"
   ]
  },
  {
   "cell_type": "code",
   "execution_count": null,
   "metadata": {},
   "outputs": [],
   "source": [
    "%time\n",
    "geo_df = geo_gu_df\n",
    "map = folium.Map(location=[geo_df['위도'].mean(), geo_df['경도'].mean()], zoom_start=12)\n",
    "\n",
    "for n in geo_df.index:\n",
    "    loc_name = geo_df.loc[n, '대여소']\n",
    "    \n",
    "    icon_color = 'green'\n",
    "    folium.Circle(\n",
    "        location=[geo_df.loc[n, '위도'], geo_df.loc[n, '경도']],\n",
    "        popup=loc_name,\n",
    "        radius=20,\n",
    "        color=icon_color,\n",
    "        fill=True,\n",
    "        fill_color=icon_color\n",
    "    ).add_to(map)\n",
    "    \n",
    "map"
   ]
  },
  {
   "cell_type": "code",
   "execution_count": null,
   "metadata": {},
   "outputs": [],
   "source": []
  },
  {
   "cell_type": "markdown",
   "metadata": {},
   "source": [
    "## 튜토리얼 만족도 설문\n",
    "\n",
    "튜토리얼에 참여해 주셔서 감사합니다. 설문을 부탁드립니다. https://forms.gle/LB4dAkaNhwFHdbTD7"
   ]
  },
  {
   "cell_type": "code",
   "execution_count": null,
   "metadata": {},
   "outputs": [],
   "source": []
  }
 ],
 "metadata": {
  "kernelspec": {
   "display_name": "Python 3",
   "language": "python",
   "name": "python3"
  },
  "language_info": {
   "codemirror_mode": {
    "name": "ipython",
    "version": 3
   },
   "file_extension": ".py",
   "mimetype": "text/x-python",
   "name": "python",
   "nbconvert_exporter": "python",
   "pygments_lexer": "ipython3",
   "version": "3.7.6"
  },
  "toc": {
   "base_numbering": 1,
   "nav_menu": {},
   "number_sections": true,
   "sideBar": true,
   "skip_h1_title": false,
   "title_cell": "Table of Contents",
   "title_sidebar": "Contents",
   "toc_cell": false,
   "toc_position": {},
   "toc_section_display": true,
   "toc_window_display": false
  },
  "varInspector": {
   "cols": {
    "lenName": 16,
    "lenType": 16,
    "lenVar": 40
   },
   "kernels_config": {
    "python": {
     "delete_cmd_postfix": "",
     "delete_cmd_prefix": "del ",
     "library": "var_list.py",
     "varRefreshCmd": "print(var_dic_list())"
    },
    "r": {
     "delete_cmd_postfix": ") ",
     "delete_cmd_prefix": "rm(",
     "library": "var_list.r",
     "varRefreshCmd": "cat(var_dic_list()) "
    }
   },
   "types_to_exclude": [
    "module",
    "function",
    "builtin_function_or_method",
    "instance",
    "_Feature"
   ],
   "window_display": false
  }
 },
 "nbformat": 4,
 "nbformat_minor": 2
}
