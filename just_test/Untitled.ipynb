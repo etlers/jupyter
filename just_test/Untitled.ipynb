{
 "cells": [
  {
   "cell_type": "code",
   "execution_count": 2,
   "id": "4afdbb22-6bc1-49e2-9cc4-0f1767e8fc19",
   "metadata": {},
   "outputs": [],
   "source": [
    "import pandas as pd"
   ]
  },
  {
   "cell_type": "code",
   "execution_count": 13,
   "id": "4e741938-8df8-450b-967c-3b763d6b8bfe",
   "metadata": {},
   "outputs": [
    {
     "data": {
      "text/plain": [
       "[['A', 'a,b,c', 1.0, 2.0, 'a,b,c', 5.0, 6.0, 'both', 'CHG'],\n",
       " ['B', 'a', 3.0, 4.0, nan, nan, nan, 'left_only', 'DEL'],\n",
       " ['C', nan, nan, nan, 'b,c', 7.0, 8.0, 'right_only', 'NEW'],\n",
       " ['D', nan, nan, nan, 'c', 9.0, 0.0, 'right_only', 'NEW']]"
      ]
     },
     "execution_count": 13,
     "metadata": {},
     "output_type": "execute_result"
    }
   ],
   "source": [
    "list_pre = [\n",
    "    [\"A\", \"a,b,c\", 1, 2],\n",
    "    [\"B\", \"a\", 3, 4],\n",
    "]\n",
    "df_pre = pd.DataFrame(list_pre, columns=[\"DAG_ID\", \"PRE_VAL\", \"PRE_SCHEDULE\", \"PRE_TAGS\"])\n",
    "\n",
    "list_now = [\n",
    "    [\"A\", \"a,b,c\", 5, 6],\n",
    "    [\"C\", \"b,c\", 7, 8],\n",
    "    [\"D\", \"c\", 9, 0],\n",
    "]\n",
    "df_now = pd.DataFrame(list_now, columns=[\"DAG_ID\", \"NOW_VAL\", \"NOW_SCHEDULE\", \"NOW_TAGS\"])\n",
    "\n",
    "df_joined = pd.merge(\n",
    "    df_pre, df_now, how=\"outer\", on=\"DAG_ID\", suffixes=(\"_L\", \"_R\"), indicator=True\n",
    ")\n",
    "\n",
    "list_compare = []\n",
    "for key, row in df_joined.iterrows():\n",
    "    list_compare.append(list(row))\n",
    "    \n",
    "list_dag_info = []\n",
    "for rows in list_compare:\n",
    "    list_row = rows\n",
    "    if rows[7] == \"right_only\":\n",
    "        list_row.append(\"NEW\")\n",
    "    elif rows[7] == \"left_only\":\n",
    "        list_row.append(\"DEL\")\n",
    "    else:\n",
    "        div_cd = \"-\"\n",
    "        for idx in range(1, 4):\n",
    "            if rows[idx != rows[idx+3]]:\n",
    "                div_cd = \"CHG\"\n",
    "                break\n",
    "        list_row.append(div_cd)\n",
    "    list_dag_info.append(list_row)\n",
    "    \n",
    "list_dag_info"
   ]
  },
  {
   "cell_type": "code",
   "execution_count": 3,
   "id": "c96cd7c8-ed46-460c-bb30-efa24d3c712b",
   "metadata": {},
   "outputs": [
    {
     "data": {
      "text/html": [
       "<div>\n",
       "<style scoped>\n",
       "    .dataframe tbody tr th:only-of-type {\n",
       "        vertical-align: middle;\n",
       "    }\n",
       "\n",
       "    .dataframe tbody tr th {\n",
       "        vertical-align: top;\n",
       "    }\n",
       "\n",
       "    .dataframe thead th {\n",
       "        text-align: right;\n",
       "    }\n",
       "</style>\n",
       "<table border=\"1\" class=\"dataframe\">\n",
       "  <thead>\n",
       "    <tr style=\"text-align: right;\">\n",
       "      <th></th>\n",
       "      <th>COL</th>\n",
       "      <th>VAL1</th>\n",
       "      <th>VAL1</th>\n",
       "      <th>VAL1</th>\n",
       "    </tr>\n",
       "  </thead>\n",
       "  <tbody>\n",
       "    <tr>\n",
       "      <th>0</th>\n",
       "      <td>A</td>\n",
       "      <td>a,b,c</td>\n",
       "      <td>1</td>\n",
       "      <td>2</td>\n",
       "    </tr>\n",
       "    <tr>\n",
       "      <th>1</th>\n",
       "      <td>B</td>\n",
       "      <td>a</td>\n",
       "      <td>3</td>\n",
       "      <td>4</td>\n",
       "    </tr>\n",
       "    <tr>\n",
       "      <th>2</th>\n",
       "      <td>C</td>\n",
       "      <td>b,c</td>\n",
       "      <td>5</td>\n",
       "      <td>6</td>\n",
       "    </tr>\n",
       "    <tr>\n",
       "      <th>3</th>\n",
       "      <td>D</td>\n",
       "      <td>c</td>\n",
       "      <td>7</td>\n",
       "      <td>8</td>\n",
       "    </tr>\n",
       "  </tbody>\n",
       "</table>\n",
       "</div>"
      ],
      "text/plain": [
       "  COL   VAL1  VAL1  VAL1\n",
       "0   A  a,b,c     1     2\n",
       "1   B      a     3     4\n",
       "2   C    b,c     5     6\n",
       "3   D      c     7     8"
      ]
     },
     "execution_count": 3,
     "metadata": {},
     "output_type": "execute_result"
    }
   ],
   "source": [
    "data = [\n",
    "    [\"A\", \"a,b,c\", 1, 2],\n",
    "    [\"B\", \"a\", 3, 4],\n",
    "    [\"C\", \"b,c\", 5, 6],\n",
    "    [\"D\", \"c\", 7, 8],\n",
    "]\n",
    "df_base = pd.DataFrame(data, columns=[\"COL\", \"VAL1\", \"VAL1\", \"VAL1\"])\n",
    "\n",
    "df_base\n",
    "\n",
    "# list(df_base.columns)\n",
    "# df_base.to_csv(\"aaa.csv\", index=False)\n",
    "# df_base"
   ]
  },
  {
   "cell_type": "code",
   "execution_count": 5,
   "id": "b2c3cbbd-e5aa-4f81-afec-202308ea8e70",
   "metadata": {},
   "outputs": [
    {
     "data": {
      "text/plain": [
       "[1, 2, 3]"
      ]
     },
     "execution_count": 5,
     "metadata": {},
     "output_type": "execute_result"
    }
   ],
   "source": [
    "list_data = [1, 1, 2, 3, 3, 3]\n",
    "list(set(list_data))"
   ]
  },
  {
   "cell_type": "code",
   "execution_count": 2,
   "id": "ae823d1c-0883-4f7c-b1a5-f860cc10629e",
   "metadata": {},
   "outputs": [
    {
     "data": {
      "text/html": [
       "<div>\n",
       "<style scoped>\n",
       "    .dataframe tbody tr th:only-of-type {\n",
       "        vertical-align: middle;\n",
       "    }\n",
       "\n",
       "    .dataframe tbody tr th {\n",
       "        vertical-align: top;\n",
       "    }\n",
       "\n",
       "    .dataframe thead th {\n",
       "        text-align: right;\n",
       "    }\n",
       "</style>\n",
       "<table border=\"1\" class=\"dataframe\">\n",
       "  <thead>\n",
       "    <tr style=\"text-align: right;\">\n",
       "      <th></th>\n",
       "      <th>COL</th>\n",
       "      <th>VAL</th>\n",
       "      <th>SERVICE_CODE</th>\n",
       "    </tr>\n",
       "  </thead>\n",
       "  <tbody>\n",
       "    <tr>\n",
       "      <th>0</th>\n",
       "      <td>A</td>\n",
       "      <td>a</td>\n",
       "      <td>Y</td>\n",
       "    </tr>\n",
       "    <tr>\n",
       "      <th>1</th>\n",
       "      <td>A</td>\n",
       "      <td>b</td>\n",
       "      <td>Y</td>\n",
       "    </tr>\n",
       "    <tr>\n",
       "      <th>2</th>\n",
       "      <td>A</td>\n",
       "      <td>c</td>\n",
       "      <td>Y</td>\n",
       "    </tr>\n",
       "    <tr>\n",
       "      <th>1</th>\n",
       "      <td>B</td>\n",
       "      <td>a</td>\n",
       "      <td>N</td>\n",
       "    </tr>\n",
       "    <tr>\n",
       "      <th>0</th>\n",
       "      <td>C</td>\n",
       "      <td>b</td>\n",
       "      <td>N</td>\n",
       "    </tr>\n",
       "    <tr>\n",
       "      <th>1</th>\n",
       "      <td>C</td>\n",
       "      <td>c</td>\n",
       "      <td>N</td>\n",
       "    </tr>\n",
       "    <tr>\n",
       "      <th>3</th>\n",
       "      <td>D</td>\n",
       "      <td>d</td>\n",
       "      <td>Y</td>\n",
       "    </tr>\n",
       "  </tbody>\n",
       "</table>\n",
       "</div>"
      ],
      "text/plain": [
       "  COL VAL SERVICE_CODE\n",
       "0   A   a            Y\n",
       "1   A   b            Y\n",
       "2   A   c            Y\n",
       "1   B   a            N\n",
       "0   C   b            N\n",
       "1   C   c            N\n",
       "3   D   d            Y"
      ]
     },
     "execution_count": 2,
     "metadata": {},
     "output_type": "execute_result"
    }
   ],
   "source": [
    "# 콤마로 분리해 열을 행으로 변경 재생성\n",
    "data = [\n",
    "    [\"A\", \"a,b,c\", \"Y\"],\n",
    "    [\"B\", \"a\", \"N\"],\n",
    "    [\"C\", \"b,c\", \"N\"],\n",
    "    [\"D\", \"d\", \"Y\"],\n",
    "]\n",
    "df_base = pd.DataFrame(data, columns=[\"COL\", \"VAL\", \"SERVICE_CODE\"])\n",
    "df_deleted = df_base.copy()\n",
    "\n",
    "def del_row(key):\n",
    "    # 해당 키 삭제\n",
    "    del_idx = df_deleted[df_deleted[\"COL\"] == key].index\n",
    "    df_deleted.drop(del_idx, inplace=True)\n",
    "\n",
    "def conv_row(key, val, service_code):    \n",
    "    list_df = []\n",
    "    list_vals = val.split(\",\")    \n",
    "    for row in list_vals:\n",
    "        list_temp = []\n",
    "        list_temp.append(key)\n",
    "        list_temp.append(row)\n",
    "        list_temp.append(service_code)\n",
    "        list_df.append(list_temp)\n",
    "    \n",
    "    return pd.DataFrame(list_df, columns=[\"COL\", \"VAL\", \"SERVICE_CODE\"])\n",
    "\n",
    "for label, contents in df_base.iterrows():\n",
    "    if contents.VAL.count(\",\") > 0:\n",
    "        del_row(contents.COL)\n",
    "\n",
    "for label, contents in df_base.iterrows():    \n",
    "    if contents.VAL.count(\",\") > 0:\n",
    "        df_temp = conv_row(contents.COL, contents.VAL, contents.SERVICE_CODE)\n",
    "        df_deleted = pd.concat([df_deleted, df_temp])\n",
    "\n",
    "df_result = df_deleted.sort_values(by=\"COL\")\n",
    "# df_result = df_result[df_result[\"SERVICE_CODE\"] == \"Y\"]\n",
    "df_result"
   ]
  },
  {
   "cell_type": "code",
   "execution_count": 11,
   "id": "3f6f306b-7bb0-4ab5-b0b2-a661c558b7f2",
   "metadata": {},
   "outputs": [
    {
     "data": {
      "text/plain": [
       "\"Index(['COL', 'VAL', 'SERVICE_CODE'], dtype='object')\""
      ]
     },
     "execution_count": 11,
     "metadata": {},
     "output_type": "execute_result"
    }
   ],
   "source": [
    "list_cols = df_result.columns\n",
    "str(df_result.columns)\n",
    "# for col in list_cols:\n",
    "#     print(col)"
   ]
  },
  {
   "cell_type": "code",
   "execution_count": 8,
   "id": "339004a2-5fe5-4117-bdd9-92357c033327",
   "metadata": {},
   "outputs": [],
   "source": [
    "import json\n",
    "import random"
   ]
  },
  {
   "cell_type": "code",
   "execution_count": 33,
   "id": "e9d65c6f-b844-44c1-8625-fe8cb676a840",
   "metadata": {},
   "outputs": [],
   "source": [
    "def make_json(idx, num):\n",
    "    \n",
    "    try:\n",
    "        with open('./subdag_param.json','r') as f:\n",
    "            dict_params = json.load(f)\n",
    "        \n",
    "        list_keys = dict_params[\"key2\"]\n",
    "        list_keys.append(num)\n",
    "        dict_params[\"key2\"] = list_keys\n",
    "    except:\n",
    "        dict_params = {\n",
    "            \"key1\": idx,\n",
    "            \"key2\": [num],\n",
    "            \"key3\": 1234\n",
    "        }\n",
    "    \n",
    "    with open('./subdag_param.json','w') as f:\n",
    "        json.dump(dict_params,f)\n",
    "\n",
    "for idx in range(5):\n",
    "    make_json(idx, random.randint(1, 20))"
   ]
  },
  {
   "cell_type": "code",
   "execution_count": 23,
   "id": "913b9fe5-e516-4854-8347-42513705c357",
   "metadata": {},
   "outputs": [
    {
     "name": "stdout",
     "output_type": "stream",
     "text": [
      "1\n",
      "2\n",
      "3\n"
     ]
    }
   ],
   "source": [
    "dict_params = {\n",
    "    \"key1\": idx,\n",
    "    \"key2\": [1,2,3],\n",
    "    \"key3\": 1234\n",
    "}\n",
    "\n",
    "list_keys = dict_params[\"key2\"]\n",
    "for key in list_keys:\n",
    "    print(key)"
   ]
  },
  {
   "cell_type": "code",
   "execution_count": 37,
   "id": "2e7e2e05-4f29-475d-af96-1a0c2fbe6fa0",
   "metadata": {},
   "outputs": [
    {
     "data": {
      "text/plain": [
       "\"('2021-08-01', '2021-08-02', '2021-08-03', '2021-08-04')\""
      ]
     },
     "execution_count": 37,
     "metadata": {},
     "output_type": "execute_result"
    }
   ],
   "source": [
    "list_dt = [\"2021-08-01\", \"2021-08-02\", \"2021-08-03\", \"2021-08-04\"]\n",
    "\n",
    "msg = \"(\"\n",
    "for dt in list_dt:\n",
    "    msg += \"'\" + dt + \"', \"\n",
    "msg = msg + \")\"\n",
    "msg = msg.replace(\", )\",\")\")\n",
    "msg"
   ]
  },
  {
   "cell_type": "code",
   "execution_count": 7,
   "id": "58269d88-f723-4609-a598-574d40868863",
   "metadata": {},
   "outputs": [
    {
     "name": "stdout",
     "output_type": "stream",
     "text": [
      "2021-02-12 17:35:41.042509\n"
     ]
    }
   ],
   "source": [
    "from datetime import datetime\n",
    "from dateutil.relativedelta import relativedelta\n",
    "edt = datetime.now() - relativedelta(months=6)\n",
    "print(edt)"
   ]
  },
  {
   "cell_type": "code",
   "execution_count": 3,
   "id": "1831f303-94f0-40a6-83f0-c6ee21ec8a99",
   "metadata": {},
   "outputs": [
    {
     "data": {
      "text/plain": [
       "'aaa'"
      ]
     },
     "execution_count": 3,
     "metadata": {},
     "output_type": "execute_result"
    }
   ],
   "source": [
    "import os\n",
    "\n",
    "os.path.basename(\"C:/ProgramData/AhnLab/AIS/aaa.yaml\").split(\".\")[0]"
   ]
  },
  {
   "cell_type": "code",
   "execution_count": 42,
   "id": "d9634057-c0cd-40e2-857f-c0524aa8e5c4",
   "metadata": {},
   "outputs": [
    {
     "ename": "SyntaxError",
     "evalue": "invalid syntax (<ipython-input-42-168f62ac9790>, line 1)",
     "output_type": "error",
     "traceback": [
      "\u001b[1;36m  File \u001b[1;32m\"<ipython-input-42-168f62ac9790>\"\u001b[1;36m, line \u001b[1;32m1\u001b[0m\n\u001b[1;33m    print(!(1 == 1))\u001b[0m\n\u001b[1;37m          ^\u001b[0m\n\u001b[1;31mSyntaxError\u001b[0m\u001b[1;31m:\u001b[0m invalid syntax\n"
     ]
    }
   ],
   "source": [
    "print(!(1 == 1))"
   ]
  },
  {
   "cell_type": "code",
   "execution_count": null,
   "id": "fae2f242-ddf8-4959-8d95-6336ade778e8",
   "metadata": {},
   "outputs": [],
   "source": []
  }
 ],
 "metadata": {
  "kernelspec": {
   "display_name": "Python 3",
   "language": "python",
   "name": "python3"
  },
  "language_info": {
   "codemirror_mode": {
    "name": "ipython",
    "version": 3
   },
   "file_extension": ".py",
   "mimetype": "text/x-python",
   "name": "python",
   "nbconvert_exporter": "python",
   "pygments_lexer": "ipython3",
   "version": "3.8.8"
  }
 },
 "nbformat": 4,
 "nbformat_minor": 5
}
