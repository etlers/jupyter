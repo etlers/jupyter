{
 "cells": [
  {
   "cell_type": "code",
   "execution_count": 11,
   "id": "74afb651-8775-4f30-9a44-feb6de7494c8",
   "metadata": {},
   "outputs": [
    {
     "name": "stdout",
     "output_type": "stream",
     "text": [
      "####################################################################################################\n",
      "Elapsed Seconds: 239.40289878845215\n"
     ]
    }
   ],
   "source": [
    "import pandas as pd\n",
    "from urllib.parse import unquote, quote\n",
    "import requests\n",
    "import sys\n",
    "import time, datetime\n",
    "from bs4 import BeautifulSoup as bs\n",
    "\n",
    "start = time.time()\n",
    "\n",
    "list_cols = [\"NM\", \"NEWS\"]\n",
    "\n",
    "def get_soup(url):\n",
    "    response = requests.get( url, headers={\"User-agent\": \"Mozilla/5.0\"} )\n",
    "    soup = bs(response.text, 'html.parser')\n",
    "\n",
    "    return soup\n",
    "\n",
    "list_news = []\n",
    "\n",
    "def execute(nm):\n",
    "    \n",
    "    for idx in range(5):\n",
    "        pgno = idx * 10 + 1\n",
    "        url = f\"https://search.naver.com/search.naver?where=news&ie=utf8&sm=nws_hty&query={quote(nm)}&start={pgno}\"\n",
    "\n",
    "        soup = get_soup(url)\n",
    "\n",
    "        list_news_desc = str(soup.find(\"div\",{\"class\":\"group_news\"})).split('<div class=\"news_area\">')\n",
    "\n",
    "        for news in list_news_desc:\n",
    "            if (\"title\" not in news) or (\"장례식장\" in news): continue\n",
    "            filtered_string = news.split(\"title=\")[1].replace(\"<mark>\",\"\").replace(\"</mark>\",\"\").split(\"</a>\")\n",
    "            for desc in filtered_string:\n",
    "                if \"<img\" in desc: continue\n",
    "                try:\n",
    "                    list_news.append([nm, desc.split('target=\"_blank\">')[1].replace(\"©\",\"\").strip()])\n",
    "                except:\n",
    "                    pass\n",
    "                \n",
    "\n",
    "df_base = pd.read_csv(\"./csv/balance_sheet.csv\", encoding=\"utf-8-sig\")\n",
    "\n",
    "for idx, row in df_base.iterrows():\n",
    "    execute(row.NM)\n",
    "    \n",
    "df_news = pd.DataFrame(data=list_news, columns=list_cols).drop_duplicates()\n",
    "df_news.to_csv(\"./csv/jongmok_news.csv\", encoding=\"utf-8-sig\", index=False)\n",
    "\n",
    "end = time.time()\n",
    "\n",
    "print(\"#\" * 100)\n",
    "print(f\"Elapsed Seconds: {end - start}\")"
   ]
  },
  {
   "cell_type": "code",
   "execution_count": 10,
   "id": "25103bb0-5c16-4b91-9338-81695e6748fa",
   "metadata": {},
   "outputs": [
    {
     "data": {
      "text/html": [
       "<div>\n",
       "<style scoped>\n",
       "    .dataframe tbody tr th:only-of-type {\n",
       "        vertical-align: middle;\n",
       "    }\n",
       "\n",
       "    .dataframe tbody tr th {\n",
       "        vertical-align: top;\n",
       "    }\n",
       "\n",
       "    .dataframe thead th {\n",
       "        text-align: right;\n",
       "    }\n",
       "</style>\n",
       "<table border=\"1\" class=\"dataframe\">\n",
       "  <thead>\n",
       "    <tr style=\"text-align: right;\">\n",
       "      <th></th>\n",
       "      <th>NM</th>\n",
       "      <th>NEWS</th>\n",
       "      <th>POSITIVE</th>\n",
       "      <th>NEGATIVE</th>\n",
       "    </tr>\n",
       "  </thead>\n",
       "  <tbody>\n",
       "    <tr>\n",
       "      <th>0</th>\n",
       "      <td>BGF리테일</td>\n",
       "      <td>하나금융투자가 17일 BGF리테일에 대해 투자의견 '매수'를 유지하고, 목표주가를 ...</td>\n",
       "      <td></td>\n",
       "      <td></td>\n",
       "    </tr>\n",
       "    <tr>\n",
       "      <th>1</th>\n",
       "      <td>BGF리테일</td>\n",
       "      <td>○반등하는 편의점주 BGF리테일은 18일 1.43% 오른 17만7500원에 거래를 ...</td>\n",
       "      <td></td>\n",
       "      <td></td>\n",
       "    </tr>\n",
       "    <tr>\n",
       "      <th>2</th>\n",
       "      <td>BGF리테일</td>\n",
       "      <td>하나금투는 편의점 CU를 운영하는 BGF리테일도 찍었다. 신규 점포 확대, 상품믹스...</td>\n",
       "      <td></td>\n",
       "      <td></td>\n",
       "    </tr>\n",
       "    <tr>\n",
       "      <th>3</th>\n",
       "      <td>BGF리테일</td>\n",
       "      <td>BGF리테일의 목표주가가 높아졌다. 2022년 편의점 업황이 회복될 것으로 전망됐다...</td>\n",
       "      <td></td>\n",
       "      <td></td>\n",
       "    </tr>\n",
       "    <tr>\n",
       "      <th>4</th>\n",
       "      <td>BGF리테일</td>\n",
       "      <td>한화투자증권은 BGF리테일(282330)에 대해 올해에도 실적 성장세가 이어질 것으...</td>\n",
       "      <td></td>\n",
       "      <td></td>\n",
       "    </tr>\n",
       "  </tbody>\n",
       "</table>\n",
       "</div>"
      ],
      "text/plain": [
       "       NM                                               NEWS POSITIVE NEGATIVE\n",
       "0  BGF리테일  하나금융투자가 17일 BGF리테일에 대해 투자의견 '매수'를 유지하고, 목표주가를 ...                  \n",
       "1  BGF리테일  ○반등하는 편의점주 BGF리테일은 18일 1.43% 오른 17만7500원에 거래를 ...                  \n",
       "2  BGF리테일  하나금투는 편의점 CU를 운영하는 BGF리테일도 찍었다. 신규 점포 확대, 상품믹스...                  \n",
       "3  BGF리테일  BGF리테일의 목표주가가 높아졌다. 2022년 편의점 업황이 회복될 것으로 전망됐다...                  \n",
       "4  BGF리테일  한화투자증권은 BGF리테일(282330)에 대해 올해에도 실적 성장세가 이어질 것으...                  "
      ]
     },
     "execution_count": 10,
     "metadata": {},
     "output_type": "execute_result"
    }
   ],
   "source": [
    "df_news[\"POSITIVE\"] = \"\"\n",
    "df_news[\"NEGATIVE\"] = \"\"\n",
    "\n",
    "df_news.head()"
   ]
  },
  {
   "cell_type": "code",
   "execution_count": 45,
   "id": "7d82d169-b0ea-4bf4-b930-63b7d190a7ff",
   "metadata": {},
   "outputs": [
    {
     "name": "stdout",
     "output_type": "stream",
     "text": [
      "Requirement already satisfied: konlpy in /Users/etlers/opt/anaconda3/lib/python3.9/site-packages (0.6.0)\n",
      "Requirement already satisfied: lxml>=4.1.0 in /Users/etlers/opt/anaconda3/lib/python3.9/site-packages (from konlpy) (4.6.3)\n",
      "Requirement already satisfied: JPype1>=0.7.0 in /Users/etlers/opt/anaconda3/lib/python3.9/site-packages (from konlpy) (1.3.0)\n",
      "Requirement already satisfied: numpy>=1.6 in /Users/etlers/opt/anaconda3/lib/python3.9/site-packages (from konlpy) (1.22.3)\n"
     ]
    }
   ],
   "source": [
    "!python3 -m pip install konlpy"
   ]
  },
  {
   "cell_type": "code",
   "execution_count": 1,
   "id": "dc2cd836-8f92-4672-aa74-a1ff319a4ade",
   "metadata": {},
   "outputs": [
    {
     "data": {
      "text/plain": [
       "[1, 2, 3, 4, 5]"
      ]
     },
     "execution_count": 1,
     "metadata": {},
     "output_type": "execute_result"
    }
   ],
   "source": [
    "list_a = [1, 2, 3, 4, 5]\n",
    "list_a"
   ]
  },
  {
   "cell_type": "code",
   "execution_count": 7,
   "id": "443d944d-827b-48b6-a8fc-8a3e97e03680",
   "metadata": {},
   "outputs": [
    {
     "data": {
      "text/plain": [
       "3.0"
      ]
     },
     "execution_count": 7,
     "metadata": {},
     "output_type": "execute_result"
    }
   ],
   "source": [
    "np.mean(list_a)"
   ]
  },
  {
   "cell_type": "code",
   "execution_count": 6,
   "id": "50e38616-7b59-403f-8c9a-7db4a176537e",
   "metadata": {},
   "outputs": [],
   "source": [
    "import numpy as np"
   ]
  },
  {
   "cell_type": "code",
   "execution_count": null,
   "id": "2f19887d-d675-49e8-8484-180f5c9243e2",
   "metadata": {},
   "outputs": [],
   "source": []
  }
 ],
 "metadata": {
  "kernelspec": {
   "display_name": "Python 3 (ipykernel)",
   "language": "python",
   "name": "python3"
  },
  "language_info": {
   "codemirror_mode": {
    "name": "ipython",
    "version": 3
   },
   "file_extension": ".py",
   "mimetype": "text/x-python",
   "name": "python",
   "nbconvert_exporter": "python",
   "pygments_lexer": "ipython3",
   "version": "3.9.12"
  }
 },
 "nbformat": 4,
 "nbformat_minor": 5
}
