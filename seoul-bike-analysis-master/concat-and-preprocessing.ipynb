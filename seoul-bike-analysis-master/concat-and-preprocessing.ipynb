{
 "cells": [
  {
   "cell_type": "markdown",
   "metadata": {},
   "source": [
    "# 서울특별시 공공자전거 따릉이 대여이력 연도별 전처리\n",
    "* 데이터 출처 : [데이터셋> 데이터 이용하기 | 서울열린데이터광장](http://data.seoul.go.kr/dataList/datasetView.do?infId=OA-15182&srvType=F&serviceKind=1&currentPageNo=1)\n",
    "* 전체 데이터를 가져와서 연도별로 병합(concat)을 해줍니다."
   ]
  },
  {
   "cell_type": "code",
   "execution_count": 2,
   "metadata": {},
   "outputs": [],
   "source": [
    "import pandas as pd\n",
    "import numpy as np\n",
    "import os"
   ]
  },
  {
   "cell_type": "code",
   "execution_count": null,
   "metadata": {},
   "outputs": [],
   "source": [
    "%ls data/"
   ]
  },
  {
   "cell_type": "code",
   "execution_count": null,
   "metadata": {},
   "outputs": [],
   "source": [
    "def preprocessing(df):\n",
    "    # 컬럼에 있는 '를 제거한다.\n",
    "    df.columns = df.columns.str.strip(\"'\")\n",
    "    # 불필요하게 '가 들어가 있다. 스트링 타입으로 되어있는 데이터에서 '을 제거하자.\n",
    "    df = df.apply(lambda x: x.str.strip(\"'\") if x.dtype == np.dtype('object') else x)\n",
    "    return df"
   ]
  },
  {
   "cell_type": "code",
   "execution_count": 3,
   "metadata": {},
   "outputs": [
    {
     "data": {
      "text/plain": [
       "11"
      ]
     },
     "execution_count": 3,
     "metadata": {},
     "output_type": "execute_result"
    }
   ],
   "source": [
    "# 컬럼명이 2017년을 기점으로 달라지기 때문에 최근 컬럼에 맞게 컬럼명을 변경해 준다.\n",
    "# 우선 최근 컬럼명을 가져온다.\n",
    "df_for_columns = pd.read_csv(\"data/서울특별시 공공자전거 대여이력 정보_2018년_2분기_4.csv\", \n",
    "                             encoding=\"cp949\")\n",
    "df_for_columns.columns = df_for_columns.columns.str.strip(\"'\")\n",
    "cols = df_for_columns.columns\n",
    "len(cols)"
   ]
  },
  {
   "cell_type": "code",
   "execution_count": 5,
   "metadata": {},
   "outputs": [
    {
     "data": {
      "text/html": [
       "<div>\n",
       "<style scoped>\n",
       "    .dataframe tbody tr th:only-of-type {\n",
       "        vertical-align: middle;\n",
       "    }\n",
       "\n",
       "    .dataframe tbody tr th {\n",
       "        vertical-align: top;\n",
       "    }\n",
       "\n",
       "    .dataframe thead th {\n",
       "        text-align: right;\n",
       "    }\n",
       "</style>\n",
       "<table border=\"1\" class=\"dataframe\">\n",
       "  <thead>\n",
       "    <tr style=\"text-align: right;\">\n",
       "      <th></th>\n",
       "      <th>자전거번호</th>\n",
       "      <th>대여일시</th>\n",
       "      <th>대여대여소번호</th>\n",
       "      <th>대여대여소명</th>\n",
       "      <th>대여거치대</th>\n",
       "      <th>반납일시</th>\n",
       "      <th>반납대여소번호</th>\n",
       "      <th>반납대여소명</th>\n",
       "      <th>반납거치대</th>\n",
       "      <th>이용시간(분)</th>\n",
       "      <th>이용거리(M)</th>\n",
       "    </tr>\n",
       "  </thead>\n",
       "  <tbody>\n",
       "    <tr>\n",
       "      <th>0</th>\n",
       "      <td>'SPB-11906'</td>\n",
       "      <td>'2018-06-16 00:00:07'</td>\n",
       "      <td>'932'</td>\n",
       "      <td>' 예일여중'</td>\n",
       "      <td>1</td>\n",
       "      <td>'2018-06-16 00:16:41'</td>\n",
       "      <td>'934'</td>\n",
       "      <td>' 신사동 성당'</td>\n",
       "      <td>11</td>\n",
       "      <td>15</td>\n",
       "      <td>2160</td>\n",
       "    </tr>\n",
       "    <tr>\n",
       "      <th>1</th>\n",
       "      <td>'SPB-16954'</td>\n",
       "      <td>'2018-06-16 00:00:07'</td>\n",
       "      <td>'272'</td>\n",
       "      <td>' 당산육갑문'</td>\n",
       "      <td>16</td>\n",
       "      <td>'2018-06-16 02:00:36'</td>\n",
       "      <td>'1827'</td>\n",
       "      <td>' 독산보도육교 앞 자전거 보관소'</td>\n",
       "      <td>9</td>\n",
       "      <td>120</td>\n",
       "      <td>18100</td>\n",
       "    </tr>\n",
       "    <tr>\n",
       "      <th>2</th>\n",
       "      <td>'SPB-09676'</td>\n",
       "      <td>'2018-06-16 00:00:11'</td>\n",
       "      <td>'1036'</td>\n",
       "      <td>' 고덕동 주양쇼핑'</td>\n",
       "      <td>7</td>\n",
       "      <td>'2018-06-16 00:24:05'</td>\n",
       "      <td>'1038'</td>\n",
       "      <td>' 강일 다솜 어린이 공원'</td>\n",
       "      <td>9</td>\n",
       "      <td>23</td>\n",
       "      <td>3350</td>\n",
       "    </tr>\n",
       "    <tr>\n",
       "      <th>3</th>\n",
       "      <td>'SPB-07143'</td>\n",
       "      <td>'2018-06-16 00:00:15'</td>\n",
       "      <td>'1726'</td>\n",
       "      <td>' 삼익세라믹아파트교차로'</td>\n",
       "      <td>7</td>\n",
       "      <td>'2018-06-16 00:15:31'</td>\n",
       "      <td>'1706'</td>\n",
       "      <td>' 기업은행 앞'</td>\n",
       "      <td>9</td>\n",
       "      <td>14</td>\n",
       "      <td>1480</td>\n",
       "    </tr>\n",
       "    <tr>\n",
       "      <th>4</th>\n",
       "      <td>'SPB-13007'</td>\n",
       "      <td>'2018-06-16 00:00:16'</td>\n",
       "      <td>'2058'</td>\n",
       "      <td>' 노량진동 맥도널드앞'</td>\n",
       "      <td>10</td>\n",
       "      <td>'2018-06-16 00:14:25'</td>\n",
       "      <td>'258'</td>\n",
       "      <td>' 신길역3번출구'</td>\n",
       "      <td>8</td>\n",
       "      <td>13</td>\n",
       "      <td>2920</td>\n",
       "    </tr>\n",
       "    <tr>\n",
       "      <th>...</th>\n",
       "      <td>...</td>\n",
       "      <td>...</td>\n",
       "      <td>...</td>\n",
       "      <td>...</td>\n",
       "      <td>...</td>\n",
       "      <td>...</td>\n",
       "      <td>...</td>\n",
       "      <td>...</td>\n",
       "      <td>...</td>\n",
       "      <td>...</td>\n",
       "      <td>...</td>\n",
       "    </tr>\n",
       "    <tr>\n",
       "      <th>586299</th>\n",
       "      <td>'SPB-15985'</td>\n",
       "      <td>'2018-06-30 23:59:55'</td>\n",
       "      <td>'505'</td>\n",
       "      <td>' 자양사거리 광진아크로텔 앞'</td>\n",
       "      <td>9</td>\n",
       "      <td>'2018-07-01 00:09:38'</td>\n",
       "      <td>'593'</td>\n",
       "      <td>'자양중앙나들목'</td>\n",
       "      <td>5</td>\n",
       "      <td>9</td>\n",
       "      <td>1230</td>\n",
       "    </tr>\n",
       "    <tr>\n",
       "      <th>586300</th>\n",
       "      <td>'SPB-15081'</td>\n",
       "      <td>'2018-06-30 23:59:55'</td>\n",
       "      <td>'1328'</td>\n",
       "      <td>' 월곡역 3번출구'</td>\n",
       "      <td>7</td>\n",
       "      <td>'2018-07-01 00:18:02'</td>\n",
       "      <td>'647'</td>\n",
       "      <td>' 신이문역 1번출구'</td>\n",
       "      <td>7</td>\n",
       "      <td>17</td>\n",
       "      <td>3600</td>\n",
       "    </tr>\n",
       "    <tr>\n",
       "      <th>586301</th>\n",
       "      <td>'SPB-13677'</td>\n",
       "      <td>'2018-06-30 23:59:57'</td>\n",
       "      <td>'2376'</td>\n",
       "      <td>' 수서역 6번출구 앞'</td>\n",
       "      <td>2</td>\n",
       "      <td>'2018-07-01 00:20:38'</td>\n",
       "      <td>'2387'</td>\n",
       "      <td>' 래미안강남힐즈 사거리'</td>\n",
       "      <td>5</td>\n",
       "      <td>20</td>\n",
       "      <td>2590</td>\n",
       "    </tr>\n",
       "    <tr>\n",
       "      <th>586302</th>\n",
       "      <td>'SPB-06577'</td>\n",
       "      <td>'2018-06-30 23:59:57'</td>\n",
       "      <td>'1251'</td>\n",
       "      <td>' 석촌역 2번출구'</td>\n",
       "      <td>2</td>\n",
       "      <td>'2018-07-01 00:57:29'</td>\n",
       "      <td>'1245'</td>\n",
       "      <td>' 문정 법조단지9'</td>\n",
       "      <td>4</td>\n",
       "      <td>57</td>\n",
       "      <td>6640</td>\n",
       "    </tr>\n",
       "    <tr>\n",
       "      <th>586303</th>\n",
       "      <td>'SPB-03842'</td>\n",
       "      <td>'2018-06-30 23:59:58'</td>\n",
       "      <td>'2169'</td>\n",
       "      <td>' 봉천역 2번출구'</td>\n",
       "      <td>6</td>\n",
       "      <td>'2018-07-01 00:08:05'</td>\n",
       "      <td>'2112'</td>\n",
       "      <td>' 서울대입구역 마에스트로'</td>\n",
       "      <td>7</td>\n",
       "      <td>7</td>\n",
       "      <td>910</td>\n",
       "    </tr>\n",
       "  </tbody>\n",
       "</table>\n",
       "<p>586304 rows × 11 columns</p>\n",
       "</div>"
      ],
      "text/plain": [
       "              자전거번호                   대여일시 대여대여소번호             대여대여소명  대여거치대  \\\n",
       "0       'SPB-11906'  '2018-06-16 00:00:07'   '932'            ' 예일여중'      1   \n",
       "1       'SPB-16954'  '2018-06-16 00:00:07'   '272'           ' 당산육갑문'     16   \n",
       "2       'SPB-09676'  '2018-06-16 00:00:11'  '1036'        ' 고덕동 주양쇼핑'      7   \n",
       "3       'SPB-07143'  '2018-06-16 00:00:15'  '1726'     ' 삼익세라믹아파트교차로'      7   \n",
       "4       'SPB-13007'  '2018-06-16 00:00:16'  '2058'      ' 노량진동 맥도널드앞'     10   \n",
       "...             ...                    ...     ...                ...    ...   \n",
       "586299  'SPB-15985'  '2018-06-30 23:59:55'   '505'  ' 자양사거리 광진아크로텔 앞'      9   \n",
       "586300  'SPB-15081'  '2018-06-30 23:59:55'  '1328'        ' 월곡역 3번출구'      7   \n",
       "586301  'SPB-13677'  '2018-06-30 23:59:57'  '2376'      ' 수서역 6번출구 앞'      2   \n",
       "586302  'SPB-06577'  '2018-06-30 23:59:57'  '1251'        ' 석촌역 2번출구'      2   \n",
       "586303  'SPB-03842'  '2018-06-30 23:59:58'  '2169'        ' 봉천역 2번출구'      6   \n",
       "\n",
       "                         반납일시 반납대여소번호               반납대여소명  반납거치대  이용시간(분)  \\\n",
       "0       '2018-06-16 00:16:41'   '934'            ' 신사동 성당'     11       15   \n",
       "1       '2018-06-16 02:00:36'  '1827'  ' 독산보도육교 앞 자전거 보관소'      9      120   \n",
       "2       '2018-06-16 00:24:05'  '1038'      ' 강일 다솜 어린이 공원'      9       23   \n",
       "3       '2018-06-16 00:15:31'  '1706'            ' 기업은행 앞'      9       14   \n",
       "4       '2018-06-16 00:14:25'   '258'           ' 신길역3번출구'      8       13   \n",
       "...                       ...     ...                  ...    ...      ...   \n",
       "586299  '2018-07-01 00:09:38'   '593'            '자양중앙나들목'      5        9   \n",
       "586300  '2018-07-01 00:18:02'   '647'         ' 신이문역 1번출구'      7       17   \n",
       "586301  '2018-07-01 00:20:38'  '2387'       ' 래미안강남힐즈 사거리'      5       20   \n",
       "586302  '2018-07-01 00:57:29'  '1245'          ' 문정 법조단지9'      4       57   \n",
       "586303  '2018-07-01 00:08:05'  '2112'      ' 서울대입구역 마에스트로'      7        7   \n",
       "\n",
       "        이용거리(M)  \n",
       "0          2160  \n",
       "1         18100  \n",
       "2          3350  \n",
       "3          1480  \n",
       "4          2920  \n",
       "...         ...  \n",
       "586299     1230  \n",
       "586300     3600  \n",
       "586301     2590  \n",
       "586302     6640  \n",
       "586303      910  \n",
       "\n",
       "[586304 rows x 11 columns]"
      ]
     },
     "execution_count": 5,
     "metadata": {},
     "output_type": "execute_result"
    }
   ],
   "source": [
    "df_for_columns"
   ]
  },
  {
   "cell_type": "code",
   "execution_count": null,
   "metadata": {},
   "outputs": [],
   "source": [
    "df = pd.read_excel('data/서울특별시 공공자전거 대여정보_201807_01.xlsx', encoding='cp949')\n",
    "df.head()"
   ]
  },
  {
   "cell_type": "code",
   "execution_count": null,
   "metadata": {},
   "outputs": [],
   "source": [
    "def get_file_list_by_year(year):\n",
    "    file_list = []\n",
    "    for root, dirs, files in os.walk(\"data/\"):\n",
    "        for filename in files:\n",
    "            if filename.startswith(f'서울특별시 공공자전거 대여이력 정보_{year}년'):\n",
    "                file_list.append(filename)\n",
    "            elif filename.startswith(f'서울특별시 공공자전거 대여정보_{year}'):\n",
    "                file_list.append(filename)\n",
    "    return sorted(file_list)\n",
    "\n",
    "get_file_list_by_year(2019)"
   ]
  },
  {
   "cell_type": "code",
   "execution_count": null,
   "metadata": {},
   "outputs": [],
   "source": [
    "def concat_data(year):\n",
    "    df_lists = []\n",
    "    # 파일별로 데이터를 가져온다.\n",
    "    files = get_file_list_by_year(year)\n",
    "    for filename in sorted(files):\n",
    "        # 파일을 읽어온다. csv와 xlsx 파일을 구분해 불러온다.\n",
    "        df_temp = read_file(filename, year)\n",
    "        print(df_temp)\n",
    "        # 해당 데이터프레임이 비어있지 않다면 병합하기 위해 리스트에 담는다.\n",
    "        if not df_temp.empty :\n",
    "            print(filename, df_temp.shape)\n",
    "            df_lists.append(df_temp)\n",
    "    # 리스트가 비어있지 않다면 데이터프레임을 합쳐준다.       \n",
    "    if df_lists :    \n",
    "        df = pd.concat(df_lists)\n",
    "    return df        "
   ]
  },
  {
   "cell_type": "code",
   "execution_count": null,
   "metadata": {},
   "outputs": [],
   "source": [
    "def read_file(filename, year):\n",
    "    folder_path = 'data/'\n",
    "    if filename.startswith(f'서울특별시 공공자전거 대여이력 정보_{year}년'):\n",
    "        # 서울시 정보소통광장에서 다운로드 받은 데이터의 인코딩이 cp949이기 때문에 인코딩을 지정해 주어야 한다.\n",
    "        df_temp = pd.read_csv(folder_path+filename, encoding='cp949', low_memory=False)\n",
    "        # 데이터에 불필요한 따옴표(')가 들어가 있다. 제거해 준다.\n",
    "        df_temp = preprocessing(df_temp)\n",
    "        # 2017년 중간에 컬럼명이 변경되었다. 2018년 이전 데이터에 대해서 최근 컬럼으로 컬럼명을 변경해 준다. \n",
    "        # 최근 컬럼명 cols는 위 셀에서 구한 것을 사용한다.\n",
    "        if year < 2018 :\n",
    "            df_temp.columns = cols\n",
    "    elif filename.startswith(f'서울특별시 공공자전거 대여정보_{year}') and filename.endswith(f'xlsx'):\n",
    "        df_temp = pd.read_excel(folder_path+filename, encoding='cp949')\n",
    "        df_temp.columns = cols\n",
    "        \n",
    "    elif filename.startswith(f'서울특별시 공공자전거 대여정보_{year}') and filename.endswith(f'csv'):\n",
    "        df_temp = pd.read_csv(folder_path+filename, encoding='cp949')\n",
    "        df_temp.columns = cols\n",
    "    else:\n",
    "        df_temp = pd.DataFrame([])\n",
    "    return  df_temp"
   ]
  },
  {
   "cell_type": "code",
   "execution_count": null,
   "metadata": {},
   "outputs": [],
   "source": [
    "%time df_2016 = concat_data(2016)\n",
    "print(df_2016.shape)"
   ]
  },
  {
   "cell_type": "code",
   "execution_count": null,
   "metadata": {},
   "outputs": [],
   "source": [
    "%time df_2017 = concat_data(2017)\n",
    "print(df_2017.shape)"
   ]
  },
  {
   "cell_type": "code",
   "execution_count": null,
   "metadata": {},
   "outputs": [],
   "source": [
    "%time df_2018 = concat_data(2018)\n",
    "print(df_2018.shape)"
   ]
  },
  {
   "cell_type": "code",
   "execution_count": null,
   "metadata": {},
   "outputs": [],
   "source": [
    "filename = \"서울특별시 공공자전거 대여정보_201905.csv\"\n",
    "year = 2019\n",
    "read_file(filename, year).head()"
   ]
  },
  {
   "cell_type": "code",
   "execution_count": null,
   "metadata": {},
   "outputs": [],
   "source": [
    "filename.startswith(f'서울특별시 공공자전거 대여정보_{year}')\n",
    "# filename.endswith(f'csv')"
   ]
  },
  {
   "cell_type": "code",
   "execution_count": null,
   "metadata": {
    "scrolled": false
   },
   "outputs": [],
   "source": [
    "%time df_2019 = concat_data(2019)\n",
    "print(df_2019.shape)"
   ]
  },
  {
   "cell_type": "code",
   "execution_count": null,
   "metadata": {},
   "outputs": [],
   "source": [
    "df_2019.head()"
   ]
  },
  {
   "cell_type": "code",
   "execution_count": null,
   "metadata": {},
   "outputs": [],
   "source": [
    "df_2019[\"자전거번호SPB\"] = df_2019[\"자전거번호\"].apply(lambda x: x.split(\"-\")[0])\n",
    "df_2019[\"자전거번호No\"] = df_2019[\"자전거번호\"].apply(lambda x: x.split(\"-\")[1])"
   ]
  },
  {
   "cell_type": "code",
   "execution_count": null,
   "metadata": {},
   "outputs": [],
   "source": [
    "df_2019[\"자전거번호SPB\"].unique()"
   ]
  },
  {
   "cell_type": "code",
   "execution_count": null,
   "metadata": {},
   "outputs": [],
   "source": [
    "df_2019[\"대여대여소명\"].isnull().sum()"
   ]
  },
  {
   "cell_type": "code",
   "execution_count": null,
   "metadata": {},
   "outputs": [],
   "source": [
    "df_2019[\"반납대여소명\"].isnull().sum()"
   ]
  },
  {
   "cell_type": "code",
   "execution_count": null,
   "metadata": {},
   "outputs": [],
   "source": [
    "df_2016.head()"
   ]
  },
  {
   "cell_type": "code",
   "execution_count": null,
   "metadata": {},
   "outputs": [],
   "source": [
    "df_2017.head()"
   ]
  },
  {
   "cell_type": "code",
   "execution_count": null,
   "metadata": {},
   "outputs": [],
   "source": [
    "df_2018.head()"
   ]
  },
  {
   "cell_type": "code",
   "execution_count": null,
   "metadata": {},
   "outputs": [],
   "source": [
    "years = [2016, 2017, 2018, 2019]\n",
    "for year in years:\n",
    "    df = eval('df_'+str(year))\n",
    "    df.to_csv('data/seoul-bike-{}.csv'.format(year), index=False)   \n",
    "    print(df.shape)"
   ]
  },
  {
   "cell_type": "code",
   "execution_count": null,
   "metadata": {},
   "outputs": [],
   "source": [
    "# 파일이 제대로 생성되었는지 확인한다.\n",
    "%ls data/seoul-bike*"
   ]
  },
  {
   "cell_type": "code",
   "execution_count": null,
   "metadata": {},
   "outputs": [],
   "source": [
    "# 생성된 파일 안에 내용이 제대로 들어가 있는지 확인한다.\n",
    "df_2018 = pd.read_csv('data/seoul-bike-2018.csv', low_memory=False)\n",
    "print(df_2018.shape)\n",
    "df_2018.head()"
   ]
  },
  {
   "cell_type": "code",
   "execution_count": null,
   "metadata": {},
   "outputs": [],
   "source": []
  }
 ],
 "metadata": {
  "kernelspec": {
   "display_name": "Python 3",
   "language": "python",
   "name": "python3"
  },
  "language_info": {
   "codemirror_mode": {
    "name": "ipython",
    "version": 3
   },
   "file_extension": ".py",
   "mimetype": "text/x-python",
   "name": "python",
   "nbconvert_exporter": "python",
   "pygments_lexer": "ipython3",
   "version": "3.7.6"
  },
  "toc": {
   "base_numbering": 1,
   "nav_menu": {},
   "number_sections": true,
   "sideBar": true,
   "skip_h1_title": false,
   "title_cell": "Table of Contents",
   "title_sidebar": "Contents",
   "toc_cell": false,
   "toc_position": {},
   "toc_section_display": true,
   "toc_window_display": false
  },
  "varInspector": {
   "cols": {
    "lenName": 16,
    "lenType": 16,
    "lenVar": 40
   },
   "kernels_config": {
    "python": {
     "delete_cmd_postfix": "",
     "delete_cmd_prefix": "del ",
     "library": "var_list.py",
     "varRefreshCmd": "print(var_dic_list())"
    },
    "r": {
     "delete_cmd_postfix": ") ",
     "delete_cmd_prefix": "rm(",
     "library": "var_list.r",
     "varRefreshCmd": "cat(var_dic_list()) "
    }
   },
   "types_to_exclude": [
    "module",
    "function",
    "builtin_function_or_method",
    "instance",
    "_Feature"
   ],
   "window_display": false
  }
 },
 "nbformat": 4,
 "nbformat_minor": 2
}
