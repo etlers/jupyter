{
 "cells": [
  {
   "cell_type": "code",
   "execution_count": 1,
   "metadata": {},
   "outputs": [],
   "source": [
    "import pandas as pd"
   ]
  },
  {
   "cell_type": "code",
   "execution_count": 5,
   "metadata": {},
   "outputs": [
    {
     "data": {
      "text/plain": [
       "(1531, 6)"
      ]
     },
     "execution_count": 5,
     "metadata": {},
     "output_type": "execute_result"
    }
   ],
   "source": [
    "# 크롤링해 온 자전거 대여소 정보를 확인한다.\n",
    "stations = pd.read_csv(\"data/seoul_bike_station.csv\")\n",
    "stations.shape"
   ]
  },
  {
   "cell_type": "code",
   "execution_count": 6,
   "metadata": {},
   "outputs": [
    {
     "data": {
      "text/html": [
       "<div>\n",
       "<style scoped>\n",
       "    .dataframe tbody tr th:only-of-type {\n",
       "        vertical-align: middle;\n",
       "    }\n",
       "\n",
       "    .dataframe tbody tr th {\n",
       "        vertical-align: top;\n",
       "    }\n",
       "\n",
       "    .dataframe thead th {\n",
       "        text-align: right;\n",
       "    }\n",
       "</style>\n",
       "<table border=\"1\" class=\"dataframe\">\n",
       "  <thead>\n",
       "    <tr style=\"text-align: right;\">\n",
       "      <th></th>\n",
       "      <th>대여소번호</th>\n",
       "      <th>대여소</th>\n",
       "      <th>상태</th>\n",
       "      <th>주소</th>\n",
       "      <th>위도</th>\n",
       "      <th>경도</th>\n",
       "    </tr>\n",
       "  </thead>\n",
       "  <tbody>\n",
       "    <tr>\n",
       "      <th>93</th>\n",
       "      <td>113.0</td>\n",
       "      <td>홍대입구역 2번출구 앞</td>\n",
       "      <td>운영중</td>\n",
       "      <td>서울특별시 마포구 양화로 165 156-8</td>\n",
       "      <td>37.557499</td>\n",
       "      <td>126.923805</td>\n",
       "    </tr>\n",
       "    <tr>\n",
       "      <th>101</th>\n",
       "      <td>114.0</td>\n",
       "      <td>홍대입구역 8번출구 앞</td>\n",
       "      <td>운영중</td>\n",
       "      <td>서울특별시 마포구 양화로18길 3 192-5</td>\n",
       "      <td>37.557060</td>\n",
       "      <td>126.924423</td>\n",
       "    </tr>\n",
       "  </tbody>\n",
       "</table>\n",
       "</div>"
      ],
      "text/plain": [
       "     대여소번호           대여소   상태                        주소         위도          경도\n",
       "93   113.0  홍대입구역 2번출구 앞  운영중   서울특별시 마포구 양화로 165 156-8  37.557499  126.923805\n",
       "101  114.0  홍대입구역 8번출구 앞  운영중  서울특별시 마포구 양화로18길 3 192-5  37.557060  126.924423"
      ]
     },
     "execution_count": 6,
     "metadata": {},
     "output_type": "execute_result"
    }
   ],
   "source": [
    "stations[stations[\"대여소\"].str.contains('홍대입구')]"
   ]
  },
  {
   "cell_type": "code",
   "execution_count": 9,
   "metadata": {},
   "outputs": [
    {
     "data": {
      "text/html": [
       "<div>\n",
       "<style scoped>\n",
       "    .dataframe tbody tr th:only-of-type {\n",
       "        vertical-align: middle;\n",
       "    }\n",
       "\n",
       "    .dataframe tbody tr th {\n",
       "        vertical-align: top;\n",
       "    }\n",
       "\n",
       "    .dataframe thead th {\n",
       "        text-align: right;\n",
       "    }\n",
       "</style>\n",
       "<table border=\"1\" class=\"dataframe\">\n",
       "  <thead>\n",
       "    <tr style=\"text-align: right;\">\n",
       "      <th></th>\n",
       "      <th>대여소번호</th>\n",
       "      <th>대여소</th>\n",
       "      <th>상태</th>\n",
       "      <th>주소</th>\n",
       "      <th>위도</th>\n",
       "      <th>경도</th>\n",
       "    </tr>\n",
       "  </thead>\n",
       "  <tbody>\n",
       "    <tr>\n",
       "      <th>561</th>\n",
       "      <td>183.0</td>\n",
       "      <td>하늘채코오롱아파트 건너편</td>\n",
       "      <td>운영중</td>\n",
       "      <td>서울특별시 마포구 연남로 30 하늘채코오롱아파트 건너편</td>\n",
       "      <td>37.565166</td>\n",
       "      <td>126.919395</td>\n",
       "    </tr>\n",
       "  </tbody>\n",
       "</table>\n",
       "</div>"
      ],
      "text/plain": [
       "     대여소번호            대여소   상태                              주소         위도  \\\n",
       "561  183.0  하늘채코오롱아파트 건너편  운영중  서울특별시 마포구 연남로 30 하늘채코오롱아파트 건너편  37.565166   \n",
       "\n",
       "             경도  \n",
       "561  126.919395  "
      ]
     },
     "execution_count": 9,
     "metadata": {},
     "output_type": "execute_result"
    }
   ],
   "source": [
    "stations[stations[\"대여소\"].str.contains('하늘채코오롱')]"
   ]
  },
  {
   "cell_type": "code",
   "execution_count": 11,
   "metadata": {},
   "outputs": [
    {
     "data": {
      "text/plain": [
       "(1548, 2)"
      ]
     },
     "execution_count": 11,
     "metadata": {},
     "output_type": "execute_result"
    }
   ],
   "source": [
    "# 크롤링해 온 정보와 전처리한 정보가 맞는지 확인한다.\n",
    "station_no_name = pd.read_csv(\"data/bike-station-no-name.csv\")\n",
    "station_no_name.shape"
   ]
  },
  {
   "cell_type": "code",
   "execution_count": 12,
   "metadata": {},
   "outputs": [
    {
     "data": {
      "text/html": [
       "<div>\n",
       "<style scoped>\n",
       "    .dataframe tbody tr th:only-of-type {\n",
       "        vertical-align: middle;\n",
       "    }\n",
       "\n",
       "    .dataframe tbody tr th {\n",
       "        vertical-align: top;\n",
       "    }\n",
       "\n",
       "    .dataframe thead th {\n",
       "        text-align: right;\n",
       "    }\n",
       "</style>\n",
       "<table border=\"1\" class=\"dataframe\">\n",
       "  <thead>\n",
       "    <tr style=\"text-align: right;\">\n",
       "      <th></th>\n",
       "      <th>대여소번호</th>\n",
       "      <th>대여소명</th>\n",
       "    </tr>\n",
       "  </thead>\n",
       "  <tbody>\n",
       "    <tr>\n",
       "      <th>81</th>\n",
       "      <td>183</td>\n",
       "      <td>하늘채코오롱아파트 건너편</td>\n",
       "    </tr>\n",
       "  </tbody>\n",
       "</table>\n",
       "</div>"
      ],
      "text/plain": [
       "    대여소번호           대여소명\n",
       "81    183  하늘채코오롱아파트 건너편"
      ]
     },
     "execution_count": 12,
     "metadata": {},
     "output_type": "execute_result"
    }
   ],
   "source": [
    "station_no_name[station_no_name[\"대여소명\"].str.contains('하늘채코오롱')]"
   ]
  },
  {
   "cell_type": "code",
   "execution_count": 17,
   "metadata": {},
   "outputs": [
    {
     "data": {
      "text/plain": [
       "(4975954, 7)"
      ]
     },
     "execution_count": 17,
     "metadata": {},
     "output_type": "execute_result"
    }
   ],
   "source": [
    "df_2017 = pd.read_csv(\"data/seoul-bike-2017-reduce.csv\", low_memory=False)\n",
    "df_2017.shape"
   ]
  },
  {
   "cell_type": "code",
   "execution_count": 18,
   "metadata": {},
   "outputs": [
    {
     "data": {
      "text/plain": [
       "(9988088, 7)"
      ]
     },
     "execution_count": 18,
     "metadata": {},
     "output_type": "execute_result"
    }
   ],
   "source": [
    "df_2018 = pd.read_csv(\"data/seoul-bike-2018-reduce.csv\", low_memory=False)\n",
    "df_2018.shape"
   ]
  },
  {
   "cell_type": "code",
   "execution_count": 19,
   "metadata": {},
   "outputs": [
    {
     "data": {
      "text/plain": [
       "(5471294, 7)"
      ]
     },
     "execution_count": 19,
     "metadata": {},
     "output_type": "execute_result"
    }
   ],
   "source": [
    "df_2019 = pd.read_csv(\"data/seoul-bike-2019-reduce.csv\", low_memory=False)\n",
    "df_2019.shape"
   ]
  },
  {
   "cell_type": "code",
   "execution_count": 23,
   "metadata": {},
   "outputs": [],
   "source": [
    "# 대여소 번호가 int, object 타입으로 섞여 있다.\n",
    "def get_station(df, station_no):\n",
    "    return df[(df[\"대여대여소번호\"].isin([station_no, str(station_no)])) ]"
   ]
  },
  {
   "cell_type": "code",
   "execution_count": 24,
   "metadata": {},
   "outputs": [],
   "source": [
    "station_no = 183"
   ]
  },
  {
   "cell_type": "code",
   "execution_count": 25,
   "metadata": {},
   "outputs": [
    {
     "data": {
      "text/plain": [
       "(18262, 7)"
      ]
     },
     "execution_count": 25,
     "metadata": {},
     "output_type": "execute_result"
    }
   ],
   "source": [
    "df_2017_207 = get_station(df_2017, station_no)\n",
    "df_2017_207.shape"
   ]
  },
  {
   "cell_type": "code",
   "execution_count": 26,
   "metadata": {},
   "outputs": [
    {
     "data": {
      "text/plain": [
       "(25271, 7)"
      ]
     },
     "execution_count": 26,
     "metadata": {},
     "output_type": "execute_result"
    }
   ],
   "source": [
    "df_2018_207 = get_station(df_2018, station_no)\n",
    "df_2018_207.shape"
   ]
  },
  {
   "cell_type": "code",
   "execution_count": 27,
   "metadata": {},
   "outputs": [
    {
     "data": {
      "text/plain": [
       "(10657, 7)"
      ]
     },
     "execution_count": 27,
     "metadata": {},
     "output_type": "execute_result"
    }
   ],
   "source": [
    "df_2019_207 = get_station(df_2019, station_no)\n",
    "df_2019_207.shape"
   ]
  },
  {
   "cell_type": "code",
   "execution_count": 28,
   "metadata": {},
   "outputs": [],
   "source": [
    "df_207 = pd.concat([df_2017_207, df_2018_207, df_2019_207])"
   ]
  },
  {
   "cell_type": "code",
   "execution_count": 29,
   "metadata": {},
   "outputs": [
    {
     "data": {
      "text/html": [
       "<div>\n",
       "<style scoped>\n",
       "    .dataframe tbody tr th:only-of-type {\n",
       "        vertical-align: middle;\n",
       "    }\n",
       "\n",
       "    .dataframe tbody tr th {\n",
       "        vertical-align: top;\n",
       "    }\n",
       "\n",
       "    .dataframe thead th {\n",
       "        text-align: right;\n",
       "    }\n",
       "</style>\n",
       "<table border=\"1\" class=\"dataframe\">\n",
       "  <thead>\n",
       "    <tr style=\"text-align: right;\">\n",
       "      <th></th>\n",
       "      <th>자전거번호SPB</th>\n",
       "      <th>대여일시</th>\n",
       "      <th>대여대여소번호</th>\n",
       "      <th>반납일시</th>\n",
       "      <th>반납대여소번호</th>\n",
       "      <th>이용시간(분)</th>\n",
       "      <th>이용거리(M)</th>\n",
       "    </tr>\n",
       "  </thead>\n",
       "  <tbody>\n",
       "    <tr>\n",
       "      <th>343</th>\n",
       "      <td>3042</td>\n",
       "      <td>2017-01-01 7:24</td>\n",
       "      <td>183</td>\n",
       "      <td>2017-01-01 8:19</td>\n",
       "      <td>700</td>\n",
       "      <td>54</td>\n",
       "      <td>6030.0</td>\n",
       "    </tr>\n",
       "    <tr>\n",
       "      <th>344</th>\n",
       "      <td>4006</td>\n",
       "      <td>2017-01-01 7:25</td>\n",
       "      <td>183</td>\n",
       "      <td>2017-01-01 8:18</td>\n",
       "      <td>700</td>\n",
       "      <td>53</td>\n",
       "      <td>6150.0</td>\n",
       "    </tr>\n",
       "    <tr>\n",
       "      <th>366</th>\n",
       "      <td>3329</td>\n",
       "      <td>2017-01-01 7:53</td>\n",
       "      <td>183</td>\n",
       "      <td>2017-01-01 7:59</td>\n",
       "      <td>113</td>\n",
       "      <td>5</td>\n",
       "      <td>1240.0</td>\n",
       "    </tr>\n",
       "    <tr>\n",
       "      <th>489</th>\n",
       "      <td>3524</td>\n",
       "      <td>2017-01-01 10:19</td>\n",
       "      <td>183</td>\n",
       "      <td>2017-01-01 10:23</td>\n",
       "      <td>113</td>\n",
       "      <td>4</td>\n",
       "      <td>1080.0</td>\n",
       "    </tr>\n",
       "    <tr>\n",
       "      <th>937</th>\n",
       "      <td>4901</td>\n",
       "      <td>2017-01-01 14:26</td>\n",
       "      <td>183</td>\n",
       "      <td>2017-01-01 14:33</td>\n",
       "      <td>113</td>\n",
       "      <td>6</td>\n",
       "      <td>1080.0</td>\n",
       "    </tr>\n",
       "  </tbody>\n",
       "</table>\n",
       "</div>"
      ],
      "text/plain": [
       "     자전거번호SPB              대여일시 대여대여소번호              반납일시 반납대여소번호  이용시간(분)  \\\n",
       "343      3042   2017-01-01 7:24     183   2017-01-01 8:19     700       54   \n",
       "344      4006   2017-01-01 7:25     183   2017-01-01 8:18     700       53   \n",
       "366      3329   2017-01-01 7:53     183   2017-01-01 7:59     113        5   \n",
       "489      3524  2017-01-01 10:19     183  2017-01-01 10:23     113        4   \n",
       "937      4901  2017-01-01 14:26     183  2017-01-01 14:33     113        6   \n",
       "\n",
       "     이용거리(M)  \n",
       "343   6030.0  \n",
       "344   6150.0  \n",
       "366   1240.0  \n",
       "489   1080.0  \n",
       "937   1080.0  "
      ]
     },
     "execution_count": 29,
     "metadata": {},
     "output_type": "execute_result"
    }
   ],
   "source": [
    "df_207.head()"
   ]
  },
  {
   "cell_type": "code",
   "execution_count": 30,
   "metadata": {},
   "outputs": [
    {
     "data": {
      "text/html": [
       "<div>\n",
       "<style scoped>\n",
       "    .dataframe tbody tr th:only-of-type {\n",
       "        vertical-align: middle;\n",
       "    }\n",
       "\n",
       "    .dataframe tbody tr th {\n",
       "        vertical-align: top;\n",
       "    }\n",
       "\n",
       "    .dataframe thead th {\n",
       "        text-align: right;\n",
       "    }\n",
       "</style>\n",
       "<table border=\"1\" class=\"dataframe\">\n",
       "  <thead>\n",
       "    <tr style=\"text-align: right;\">\n",
       "      <th></th>\n",
       "      <th>자전거번호SPB</th>\n",
       "      <th>대여일시</th>\n",
       "      <th>대여대여소번호</th>\n",
       "      <th>반납일시</th>\n",
       "      <th>반납대여소번호</th>\n",
       "      <th>이용시간(분)</th>\n",
       "      <th>이용거리(M)</th>\n",
       "    </tr>\n",
       "  </thead>\n",
       "  <tbody>\n",
       "    <tr>\n",
       "      <th>5471044</th>\n",
       "      <td>17978</td>\n",
       "      <td>2019-05-31 23:12:19</td>\n",
       "      <td>183</td>\n",
       "      <td>2019-06-01 00:48:07</td>\n",
       "      <td>183</td>\n",
       "      <td>95</td>\n",
       "      <td>12380.0</td>\n",
       "    </tr>\n",
       "    <tr>\n",
       "      <th>5471046</th>\n",
       "      <td>4581</td>\n",
       "      <td>2019-05-31 23:09:59</td>\n",
       "      <td>183</td>\n",
       "      <td>2019-06-01 00:48:17</td>\n",
       "      <td>183</td>\n",
       "      <td>97</td>\n",
       "      <td>12430.0</td>\n",
       "    </tr>\n",
       "    <tr>\n",
       "      <th>5471100</th>\n",
       "      <td>23559</td>\n",
       "      <td>2019-05-31 23:57:57</td>\n",
       "      <td>183</td>\n",
       "      <td>2019-06-01 00:57:11</td>\n",
       "      <td>113</td>\n",
       "      <td>54</td>\n",
       "      <td>7470.0</td>\n",
       "    </tr>\n",
       "    <tr>\n",
       "      <th>5471101</th>\n",
       "      <td>7718</td>\n",
       "      <td>2019-05-31 23:59:31</td>\n",
       "      <td>183</td>\n",
       "      <td>2019-06-01 00:57:15</td>\n",
       "      <td>113</td>\n",
       "      <td>56</td>\n",
       "      <td>6440.0</td>\n",
       "    </tr>\n",
       "    <tr>\n",
       "      <th>5471286</th>\n",
       "      <td>5379</td>\n",
       "      <td>2019-05-31 22:25:49</td>\n",
       "      <td>183</td>\n",
       "      <td>2019-06-01 03:58:09</td>\n",
       "      <td>183</td>\n",
       "      <td>331</td>\n",
       "      <td>39340.0</td>\n",
       "    </tr>\n",
       "  </tbody>\n",
       "</table>\n",
       "</div>"
      ],
      "text/plain": [
       "         자전거번호SPB                 대여일시 대여대여소번호                 반납일시 반납대여소번호  \\\n",
       "5471044     17978  2019-05-31 23:12:19     183  2019-06-01 00:48:07     183   \n",
       "5471046      4581  2019-05-31 23:09:59     183  2019-06-01 00:48:17     183   \n",
       "5471100     23559  2019-05-31 23:57:57     183  2019-06-01 00:57:11     113   \n",
       "5471101      7718  2019-05-31 23:59:31     183  2019-06-01 00:57:15     113   \n",
       "5471286      5379  2019-05-31 22:25:49     183  2019-06-01 03:58:09     183   \n",
       "\n",
       "         이용시간(분)  이용거리(M)  \n",
       "5471044       95  12380.0  \n",
       "5471046       97  12430.0  \n",
       "5471100       54   7470.0  \n",
       "5471101       56   6440.0  \n",
       "5471286      331  39340.0  "
      ]
     },
     "execution_count": 30,
     "metadata": {},
     "output_type": "execute_result"
    }
   ],
   "source": [
    "df_207.tail()"
   ]
  },
  {
   "cell_type": "code",
   "execution_count": 31,
   "metadata": {},
   "outputs": [],
   "source": [
    "df_207.to_csv(\"data/bike-station-183.csv\", index=False)"
   ]
  },
  {
   "cell_type": "code",
   "execution_count": 32,
   "metadata": {},
   "outputs": [
    {
     "data": {
      "text/html": [
       "<div>\n",
       "<style scoped>\n",
       "    .dataframe tbody tr th:only-of-type {\n",
       "        vertical-align: middle;\n",
       "    }\n",
       "\n",
       "    .dataframe tbody tr th {\n",
       "        vertical-align: top;\n",
       "    }\n",
       "\n",
       "    .dataframe thead th {\n",
       "        text-align: right;\n",
       "    }\n",
       "</style>\n",
       "<table border=\"1\" class=\"dataframe\">\n",
       "  <thead>\n",
       "    <tr style=\"text-align: right;\">\n",
       "      <th></th>\n",
       "      <th>자전거번호SPB</th>\n",
       "      <th>대여일시</th>\n",
       "      <th>대여대여소번호</th>\n",
       "      <th>반납일시</th>\n",
       "      <th>반납대여소번호</th>\n",
       "      <th>이용시간(분)</th>\n",
       "      <th>이용거리(M)</th>\n",
       "    </tr>\n",
       "  </thead>\n",
       "  <tbody>\n",
       "    <tr>\n",
       "      <th>0</th>\n",
       "      <td>3042</td>\n",
       "      <td>2017-01-01 7:24</td>\n",
       "      <td>183</td>\n",
       "      <td>2017-01-01 8:19</td>\n",
       "      <td>700</td>\n",
       "      <td>54</td>\n",
       "      <td>6030.0</td>\n",
       "    </tr>\n",
       "    <tr>\n",
       "      <th>1</th>\n",
       "      <td>4006</td>\n",
       "      <td>2017-01-01 7:25</td>\n",
       "      <td>183</td>\n",
       "      <td>2017-01-01 8:18</td>\n",
       "      <td>700</td>\n",
       "      <td>53</td>\n",
       "      <td>6150.0</td>\n",
       "    </tr>\n",
       "    <tr>\n",
       "      <th>2</th>\n",
       "      <td>3329</td>\n",
       "      <td>2017-01-01 7:53</td>\n",
       "      <td>183</td>\n",
       "      <td>2017-01-01 7:59</td>\n",
       "      <td>113</td>\n",
       "      <td>5</td>\n",
       "      <td>1240.0</td>\n",
       "    </tr>\n",
       "    <tr>\n",
       "      <th>3</th>\n",
       "      <td>3524</td>\n",
       "      <td>2017-01-01 10:19</td>\n",
       "      <td>183</td>\n",
       "      <td>2017-01-01 10:23</td>\n",
       "      <td>113</td>\n",
       "      <td>4</td>\n",
       "      <td>1080.0</td>\n",
       "    </tr>\n",
       "    <tr>\n",
       "      <th>4</th>\n",
       "      <td>4901</td>\n",
       "      <td>2017-01-01 14:26</td>\n",
       "      <td>183</td>\n",
       "      <td>2017-01-01 14:33</td>\n",
       "      <td>113</td>\n",
       "      <td>6</td>\n",
       "      <td>1080.0</td>\n",
       "    </tr>\n",
       "  </tbody>\n",
       "</table>\n",
       "</div>"
      ],
      "text/plain": [
       "   자전거번호SPB              대여일시  대여대여소번호              반납일시  반납대여소번호  이용시간(분)  \\\n",
       "0      3042   2017-01-01 7:24      183   2017-01-01 8:19      700       54   \n",
       "1      4006   2017-01-01 7:25      183   2017-01-01 8:18      700       53   \n",
       "2      3329   2017-01-01 7:53      183   2017-01-01 7:59      113        5   \n",
       "3      3524  2017-01-01 10:19      183  2017-01-01 10:23      113        4   \n",
       "4      4901  2017-01-01 14:26      183  2017-01-01 14:33      113        6   \n",
       "\n",
       "   이용거리(M)  \n",
       "0   6030.0  \n",
       "1   6150.0  \n",
       "2   1240.0  \n",
       "3   1080.0  \n",
       "4   1080.0  "
      ]
     },
     "execution_count": 32,
     "metadata": {},
     "output_type": "execute_result"
    }
   ],
   "source": [
    "pd.read_csv(\"data/bike-station-183.csv\").head()"
   ]
  },
  {
   "cell_type": "code",
   "execution_count": null,
   "metadata": {},
   "outputs": [],
   "source": [
    "# (122745, 7)\n",
    "pd.read_csv(\"data/bike-station-207.csv\").shape"
   ]
  },
  {
   "cell_type": "code",
   "execution_count": null,
   "metadata": {},
   "outputs": [],
   "source": []
  }
 ],
 "metadata": {
  "kernelspec": {
   "display_name": "Python 3",
   "language": "python",
   "name": "python3"
  },
  "language_info": {
   "codemirror_mode": {
    "name": "ipython",
    "version": 3
   },
   "file_extension": ".py",
   "mimetype": "text/x-python",
   "name": "python",
   "nbconvert_exporter": "python",
   "pygments_lexer": "ipython3",
   "version": "3.6.1"
  },
  "varInspector": {
   "cols": {
    "lenName": 16,
    "lenType": 16,
    "lenVar": 40
   },
   "kernels_config": {
    "python": {
     "delete_cmd_postfix": "",
     "delete_cmd_prefix": "del ",
     "library": "var_list.py",
     "varRefreshCmd": "print(var_dic_list())"
    },
    "r": {
     "delete_cmd_postfix": ") ",
     "delete_cmd_prefix": "rm(",
     "library": "var_list.r",
     "varRefreshCmd": "cat(var_dic_list()) "
    }
   },
   "types_to_exclude": [
    "module",
    "function",
    "builtin_function_or_method",
    "instance",
    "_Feature"
   ],
   "window_display": false
  }
 },
 "nbformat": 4,
 "nbformat_minor": 2
}
