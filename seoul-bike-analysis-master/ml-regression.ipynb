{
 "cells": [
  {
   "cell_type": "markdown",
   "metadata": {},
   "source": [
    "[![Open In Colab](https://colab.research.google.com/assets/colab-badge.svg)](https://colab.research.google.com/github/corazzon/seoul-bike-analysis/blob/master/ml-regression.ipynb)"
   ]
  },
  {
   "cell_type": "markdown",
   "metadata": {},
   "source": [
    "# 여의나루역(대여소 번호 207)에서 대여하고 반납한 자전거의 이력을 분석\n",
    "* 여의나루역은 같은 대여소에서 대여반납이 가장 많은 지역\n",
    "* 대여와 반납이 여의나루역인 데이터\n",
    "* 2017년 1월부터 2019년 5월까지의 데이터를 사용"
   ]
  },
  {
   "cell_type": "code",
   "execution_count": 1,
   "metadata": {},
   "outputs": [],
   "source": [
    "import pandas as pd\n",
    "import numpy as np\n",
    "import seaborn as sns\n",
    "import matplotlib as mpl\n",
    "import matplotlib.pyplot as plt\n",
    "\n",
    "# Window 의 한글 폰트 설정\n",
    "# plt.rc('font',family='Malgun Gothic')\n",
    "# Mac 의 한글 폰트 설정\n",
    "plt.rc('font', family='AppleGothic') \n",
    "plt.rc('axes', unicode_minus=False)\n",
    "\n",
    "%matplotlib inline"
   ]
  },
  {
   "cell_type": "markdown",
   "metadata": {},
   "source": [
    "## Colab 에서 실행을 위한 코드\n",
    "* colab : https://colab.research.google.com/github/corazzon/seoul-bike-analysis/blob/master/ml-regression.ipynb\n",
    "* 아래의 코드는 google colaboratory 에서 실행을 위한 코드로 로컬 아나콘다에서는 주석처리한다.\n",
    "* google colaboratory 에서는 주석을 풀고 폰트 설정과 csv 파일을 불러온다."
   ]
  },
  {
   "cell_type": "code",
   "execution_count": 2,
   "metadata": {},
   "outputs": [],
   "source": [
    "# # 나눔고딕 설치\n",
    "# !apt -qq -y install fonts-nanum > /dev/null\n",
    "\n",
    "# import matplotlib.font_manager as fm\n",
    "\n",
    "# fontpath = '/usr/share/fonts/truetype/nanum/NanumBarunGothic.ttf'\n",
    "# font = fm.FontProperties(fname=fontpath, size=9)\n",
    "# fm._rebuild()\n",
    "\n",
    "# # 그래프에 retina display 적용\n",
    "# %config InlineBackend.figure_format = 'retina'\n",
    "\n",
    "# # Colab 의 한글 폰트 설정\n",
    "# plt.rc('font', family='NanumBarunGothic') "
   ]
  },
  {
   "cell_type": "code",
   "execution_count": 3,
   "metadata": {},
   "outputs": [],
   "source": [
    "# # 구글 드라이브에서 csv 파일을 읽어오기 위해 gauth 인증을 한다.\n",
    "# !pip install -U -q PyDrive\n",
    "# from pydrive.auth import GoogleAuth\n",
    "# from pydrive.drive import GoogleDrive\n",
    "# from google.colab import auth\n",
    "# from oauth2client.client import GoogleCredentials\n",
    "\n",
    "# # PyDrive client 인증\n",
    "# auth.authenticate_user()\n",
    "# gauth = GoogleAuth()\n",
    "# gauth.credentials = GoogleCredentials.get_application_default()\n",
    "# drive = GoogleDrive(gauth)"
   ]
  },
  {
   "cell_type": "code",
   "execution_count": 4,
   "metadata": {},
   "outputs": [],
   "source": [
    "# # 공유 가능한 링크로 파일 가져오기\n",
    "# url ='https://drive.google.com/open?id=1ngU6y2Fl0cz6ckCuWvXSHKs5aLsh48TH'\n",
    "# id = url.split('=')[1]\n",
    "# print(id)\n",
    "# downloaded = drive.CreateFile({'id':id}) \n",
    "# # data 폴더에 파일을 관리하며, 폴더가 없다면 만들어서 파일을 관리하도록 한다.\n",
    "# %mkdir data\n",
    "# downloaded.GetContentFile('data/bike-station-207.csv')  "
   ]
  },
  {
   "cell_type": "code",
   "execution_count": 5,
   "metadata": {},
   "outputs": [
    {
     "data": {
      "text/plain": [
       "(259149, 7)"
      ]
     },
     "execution_count": 5,
     "metadata": {},
     "output_type": "execute_result"
    }
   ],
   "source": [
    "df = pd.read_csv(\"data/bike-station-207.csv\", low_memory=False)\n",
    "\n",
    "df.shape"
   ]
  },
  {
   "cell_type": "code",
   "execution_count": 6,
   "metadata": {},
   "outputs": [],
   "source": [
    "# 반납, 대여 모두 같은 207로 데이터 크기를 줄여서 예측한다.\n",
    "df = df[(df[\"대여대여소번호\"] == 207) & (df[\"반납대여소번호\"] == 207)].copy()"
   ]
  },
  {
   "cell_type": "code",
   "execution_count": 7,
   "metadata": {},
   "outputs": [
    {
     "data": {
      "text/plain": [
       "(48508, 7)"
      ]
     },
     "execution_count": 7,
     "metadata": {},
     "output_type": "execute_result"
    }
   ],
   "source": [
    "df.shape"
   ]
  },
  {
   "cell_type": "code",
   "execution_count": 8,
   "metadata": {
    "scrolled": true
   },
   "outputs": [
    {
     "data": {
      "text/html": [
       "<div>\n",
       "<style scoped>\n",
       "    .dataframe tbody tr th:only-of-type {\n",
       "        vertical-align: middle;\n",
       "    }\n",
       "\n",
       "    .dataframe tbody tr th {\n",
       "        vertical-align: top;\n",
       "    }\n",
       "\n",
       "    .dataframe thead th {\n",
       "        text-align: right;\n",
       "    }\n",
       "</style>\n",
       "<table border=\"1\" class=\"dataframe\">\n",
       "  <thead>\n",
       "    <tr style=\"text-align: right;\">\n",
       "      <th></th>\n",
       "      <th>자전거번호SPB</th>\n",
       "      <th>대여일시</th>\n",
       "      <th>대여대여소번호</th>\n",
       "      <th>반납일시</th>\n",
       "      <th>반납대여소번호</th>\n",
       "      <th>이용시간(분)</th>\n",
       "      <th>이용거리(M)</th>\n",
       "    </tr>\n",
       "  </thead>\n",
       "  <tbody>\n",
       "    <tr>\n",
       "      <th>4</th>\n",
       "      <td>4563</td>\n",
       "      <td>2017-01-01 12:54</td>\n",
       "      <td>207</td>\n",
       "      <td>2017-01-01 13:42</td>\n",
       "      <td>207</td>\n",
       "      <td>47</td>\n",
       "      <td>2700.0</td>\n",
       "    </tr>\n",
       "    <tr>\n",
       "      <th>5</th>\n",
       "      <td>1886</td>\n",
       "      <td>2017-01-01 12:57</td>\n",
       "      <td>207</td>\n",
       "      <td>2017-01-01 13:42</td>\n",
       "      <td>207</td>\n",
       "      <td>44</td>\n",
       "      <td>3340.0</td>\n",
       "    </tr>\n",
       "    <tr>\n",
       "      <th>11</th>\n",
       "      <td>2166</td>\n",
       "      <td>2017-01-01 16:46</td>\n",
       "      <td>207</td>\n",
       "      <td>2017-01-01 17:37</td>\n",
       "      <td>207</td>\n",
       "      <td>50</td>\n",
       "      <td>6730.0</td>\n",
       "    </tr>\n",
       "  </tbody>\n",
       "</table>\n",
       "</div>"
      ],
      "text/plain": [
       "    자전거번호SPB              대여일시  대여대여소번호              반납일시  반납대여소번호  이용시간(분)  \\\n",
       "4       4563  2017-01-01 12:54      207  2017-01-01 13:42      207       47   \n",
       "5       1886  2017-01-01 12:57      207  2017-01-01 13:42      207       44   \n",
       "11      2166  2017-01-01 16:46      207  2017-01-01 17:37      207       50   \n",
       "\n",
       "    이용거리(M)  \n",
       "4    2700.0  \n",
       "5    3340.0  \n",
       "11   6730.0  "
      ]
     },
     "execution_count": 8,
     "metadata": {},
     "output_type": "execute_result"
    }
   ],
   "source": [
    "df.head(3)"
   ]
  },
  {
   "cell_type": "code",
   "execution_count": 9,
   "metadata": {},
   "outputs": [
    {
     "data": {
      "text/html": [
       "<div>\n",
       "<style scoped>\n",
       "    .dataframe tbody tr th:only-of-type {\n",
       "        vertical-align: middle;\n",
       "    }\n",
       "\n",
       "    .dataframe tbody tr th {\n",
       "        vertical-align: top;\n",
       "    }\n",
       "\n",
       "    .dataframe thead th {\n",
       "        text-align: right;\n",
       "    }\n",
       "</style>\n",
       "<table border=\"1\" class=\"dataframe\">\n",
       "  <thead>\n",
       "    <tr style=\"text-align: right;\">\n",
       "      <th></th>\n",
       "      <th>자전거번호SPB</th>\n",
       "      <th>대여일시</th>\n",
       "      <th>대여대여소번호</th>\n",
       "      <th>반납일시</th>\n",
       "      <th>반납대여소번호</th>\n",
       "      <th>이용시간(분)</th>\n",
       "      <th>이용거리(M)</th>\n",
       "    </tr>\n",
       "  </thead>\n",
       "  <tbody>\n",
       "    <tr>\n",
       "      <th>259106</th>\n",
       "      <td>23431</td>\n",
       "      <td>2019-05-31 22:43:05</td>\n",
       "      <td>207</td>\n",
       "      <td>2019-05-31 23:39:24</td>\n",
       "      <td>207</td>\n",
       "      <td>54</td>\n",
       "      <td>7200.0</td>\n",
       "    </tr>\n",
       "    <tr>\n",
       "      <th>259144</th>\n",
       "      <td>18210</td>\n",
       "      <td>2019-05-31 23:34:38</td>\n",
       "      <td>207</td>\n",
       "      <td>2019-06-01 00:59:53</td>\n",
       "      <td>207</td>\n",
       "      <td>84</td>\n",
       "      <td>10080.0</td>\n",
       "    </tr>\n",
       "    <tr>\n",
       "      <th>259145</th>\n",
       "      <td>13394</td>\n",
       "      <td>2019-05-31 23:34:11</td>\n",
       "      <td>207</td>\n",
       "      <td>2019-06-01 01:00:16</td>\n",
       "      <td>207</td>\n",
       "      <td>85</td>\n",
       "      <td>10070.0</td>\n",
       "    </tr>\n",
       "  </tbody>\n",
       "</table>\n",
       "</div>"
      ],
      "text/plain": [
       "        자전거번호SPB                 대여일시  대여대여소번호                 반납일시  반납대여소번호  \\\n",
       "259106     23431  2019-05-31 22:43:05      207  2019-05-31 23:39:24      207   \n",
       "259144     18210  2019-05-31 23:34:38      207  2019-06-01 00:59:53      207   \n",
       "259145     13394  2019-05-31 23:34:11      207  2019-06-01 01:00:16      207   \n",
       "\n",
       "        이용시간(분)  이용거리(M)  \n",
       "259106       54   7200.0  \n",
       "259144       84  10080.0  \n",
       "259145       85  10070.0  "
      ]
     },
     "execution_count": 9,
     "metadata": {},
     "output_type": "execute_result"
    }
   ],
   "source": [
    "df.tail(3)"
   ]
  },
  {
   "cell_type": "code",
   "execution_count": 10,
   "metadata": {
    "scrolled": true
   },
   "outputs": [
    {
     "name": "stdout",
     "output_type": "stream",
     "text": [
      "<class 'pandas.core.frame.DataFrame'>\n",
      "Int64Index: 48508 entries, 4 to 259145\n",
      "Data columns (total 7 columns):\n",
      "자전거번호SPB    48508 non-null int64\n",
      "대여일시        48508 non-null object\n",
      "대여대여소번호     48508 non-null int64\n",
      "반납일시        48508 non-null object\n",
      "반납대여소번호     48508 non-null int64\n",
      "이용시간(분)     48508 non-null int64\n",
      "이용거리(M)     48508 non-null float64\n",
      "dtypes: float64(1), int64(4), object(2)\n",
      "memory usage: 3.0+ MB\n"
     ]
    }
   ],
   "source": [
    "df.info()"
   ]
  },
  {
   "cell_type": "code",
   "execution_count": 11,
   "metadata": {},
   "outputs": [
    {
     "data": {
      "text/plain": [
       "대여일시    datetime64[ns]\n",
       "반납일시    datetime64[ns]\n",
       "dtype: object"
      ]
     },
     "execution_count": 11,
     "metadata": {},
     "output_type": "execute_result"
    }
   ],
   "source": [
    "# object 타입에는 .dt accessor를 사용할 수 없기 때문에\n",
    "# 대여일시와 반납일시를 datetime 형태로 변환해 줍니다.\n",
    "df[\"대여일시\"] = pd.to_datetime(df[\"대여일시\"])\n",
    "df[\"반납일시\"] = pd.to_datetime(df[\"반납일시\"])\n",
    "\n",
    "df[[\"대여일시\", \"반납일시\"]].dtypes"
   ]
  },
  {
   "cell_type": "code",
   "execution_count": 12,
   "metadata": {},
   "outputs": [
    {
     "data": {
      "text/html": [
       "<div>\n",
       "<style scoped>\n",
       "    .dataframe tbody tr th:only-of-type {\n",
       "        vertical-align: middle;\n",
       "    }\n",
       "\n",
       "    .dataframe tbody tr th {\n",
       "        vertical-align: top;\n",
       "    }\n",
       "\n",
       "    .dataframe thead th {\n",
       "        text-align: right;\n",
       "    }\n",
       "</style>\n",
       "<table border=\"1\" class=\"dataframe\">\n",
       "  <thead>\n",
       "    <tr style=\"text-align: right;\">\n",
       "      <th></th>\n",
       "      <th>자전거번호SPB</th>\n",
       "      <th>대여일시</th>\n",
       "      <th>대여대여소번호</th>\n",
       "      <th>반납일시</th>\n",
       "      <th>반납대여소번호</th>\n",
       "      <th>이용시간(분)</th>\n",
       "      <th>이용거리(M)</th>\n",
       "      <th>대여연도</th>\n",
       "      <th>대여월</th>\n",
       "      <th>대여일</th>\n",
       "      <th>대여시간</th>\n",
       "      <th>대여요일</th>\n",
       "      <th>대여일자</th>\n",
       "    </tr>\n",
       "  </thead>\n",
       "  <tbody>\n",
       "    <tr>\n",
       "      <th>138868</th>\n",
       "      <td>10382</td>\n",
       "      <td>2018-07-06 11:54:32</td>\n",
       "      <td>207</td>\n",
       "      <td>2018-07-06 12:51:27</td>\n",
       "      <td>207</td>\n",
       "      <td>56</td>\n",
       "      <td>27040.0</td>\n",
       "      <td>2018</td>\n",
       "      <td>7</td>\n",
       "      <td>6</td>\n",
       "      <td>11</td>\n",
       "      <td>4</td>\n",
       "      <td>2018-07-06</td>\n",
       "    </tr>\n",
       "  </tbody>\n",
       "</table>\n",
       "</div>"
      ],
      "text/plain": [
       "        자전거번호SPB                대여일시  대여대여소번호                반납일시  반납대여소번호  \\\n",
       "138868     10382 2018-07-06 11:54:32      207 2018-07-06 12:51:27      207   \n",
       "\n",
       "        이용시간(분)  이용거리(M)  대여연도  대여월  대여일  대여시간  대여요일        대여일자  \n",
       "138868       56  27040.0  2018    7    6    11     4  2018-07-06  "
      ]
     },
     "execution_count": 12,
     "metadata": {},
     "output_type": "execute_result"
    }
   ],
   "source": [
    "df[\"대여연도\"] = df[\"대여일시\"].dt.year\n",
    "df[\"대여월\"] = df[\"대여일시\"].dt.month\n",
    "df[\"대여일\"] = df[\"대여일시\"].dt.day\n",
    "df[\"대여시간\"] = df[\"대여일시\"].dt.hour\n",
    "df[\"대여요일\"] = df[\"대여일시\"].dt.dayofweek\n",
    "df[\"대여일자\"] = df[\"대여일시\"].dt.date\n",
    "\n",
    "df.sample()"
   ]
  },
  {
   "cell_type": "code",
   "execution_count": 13,
   "metadata": {},
   "outputs": [
    {
     "data": {
      "text/html": [
       "<div>\n",
       "<style scoped>\n",
       "    .dataframe tbody tr th:only-of-type {\n",
       "        vertical-align: middle;\n",
       "    }\n",
       "\n",
       "    .dataframe tbody tr th {\n",
       "        vertical-align: top;\n",
       "    }\n",
       "\n",
       "    .dataframe thead th {\n",
       "        text-align: right;\n",
       "    }\n",
       "</style>\n",
       "<table border=\"1\" class=\"dataframe\">\n",
       "  <thead>\n",
       "    <tr style=\"text-align: right;\">\n",
       "      <th></th>\n",
       "      <th>자전거번호SPB</th>\n",
       "      <th>대여일시</th>\n",
       "      <th>대여대여소번호</th>\n",
       "      <th>반납일시</th>\n",
       "      <th>반납대여소번호</th>\n",
       "      <th>이용시간(분)</th>\n",
       "      <th>이용거리(M)</th>\n",
       "      <th>대여연도</th>\n",
       "      <th>대여월</th>\n",
       "      <th>대여일</th>\n",
       "      <th>대여시간</th>\n",
       "      <th>대여요일</th>\n",
       "      <th>대여일자</th>\n",
       "      <th>반납연도</th>\n",
       "      <th>반납월</th>\n",
       "      <th>반납일</th>\n",
       "      <th>반납시간</th>\n",
       "      <th>반납요일</th>\n",
       "      <th>반납일자</th>\n",
       "    </tr>\n",
       "  </thead>\n",
       "  <tbody>\n",
       "    <tr>\n",
       "      <th>13105</th>\n",
       "      <td>727</td>\n",
       "      <td>2017-04-22 14:40:54</td>\n",
       "      <td>207</td>\n",
       "      <td>2017-04-22 16:24:19</td>\n",
       "      <td>207</td>\n",
       "      <td>103</td>\n",
       "      <td>7130.0</td>\n",
       "      <td>2017</td>\n",
       "      <td>4</td>\n",
       "      <td>22</td>\n",
       "      <td>14</td>\n",
       "      <td>5</td>\n",
       "      <td>2017-04-22</td>\n",
       "      <td>2017</td>\n",
       "      <td>4</td>\n",
       "      <td>22</td>\n",
       "      <td>16</td>\n",
       "      <td>5</td>\n",
       "      <td>2017-04-22</td>\n",
       "    </tr>\n",
       "  </tbody>\n",
       "</table>\n",
       "</div>"
      ],
      "text/plain": [
       "       자전거번호SPB                대여일시  대여대여소번호                반납일시  반납대여소번호  \\\n",
       "13105       727 2017-04-22 14:40:54      207 2017-04-22 16:24:19      207   \n",
       "\n",
       "       이용시간(분)  이용거리(M)  대여연도  대여월  대여일  대여시간  대여요일        대여일자  반납연도  반납월  \\\n",
       "13105      103   7130.0  2017    4   22    14     5  2017-04-22  2017    4   \n",
       "\n",
       "       반납일  반납시간  반납요일        반납일자  \n",
       "13105   22    16     5  2017-04-22  "
      ]
     },
     "execution_count": 13,
     "metadata": {},
     "output_type": "execute_result"
    }
   ],
   "source": [
    "df[\"반납연도\"] = df[\"반납일시\"].dt.year\n",
    "df[\"반납월\"] = df[\"반납일시\"].dt.month\n",
    "df[\"반납일\"] = df[\"반납일시\"].dt.day\n",
    "df[\"반납시간\"] = df[\"반납일시\"].dt.hour\n",
    "df[\"반납요일\"] = df[\"반납일시\"].dt.dayofweek\n",
    "df[\"반납일자\"] = df[\"반납일시\"].dt.date\n",
    "\n",
    "df.sample()"
   ]
  },
  {
   "cell_type": "code",
   "execution_count": 14,
   "metadata": {},
   "outputs": [
    {
     "data": {
      "text/plain": [
       "Index(['자전거번호SPB', '대여일시', '대여대여소번호', '반납일시', '반납대여소번호', '이용시간(분)', '이용거리(M)',\n",
       "       '대여연도', '대여월', '대여일', '대여시간', '대여요일', '대여일자', '반납연도', '반납월', '반납일',\n",
       "       '반납시간', '반납요일', '반납일자'],\n",
       "      dtype='object')"
      ]
     },
     "execution_count": 14,
     "metadata": {},
     "output_type": "execute_result"
    }
   ],
   "source": [
    "df.columns"
   ]
  },
  {
   "cell_type": "markdown",
   "metadata": {},
   "source": [
    "# 학습과 예측에 사용할 컬럼 만들기"
   ]
  },
  {
   "cell_type": "code",
   "execution_count": 15,
   "metadata": {},
   "outputs": [
    {
     "data": {
      "text/plain": [
       "['자전거번호SPB',\n",
       " '대여대여소번호',\n",
       " '반납대여소번호',\n",
       " '이용시간(분)',\n",
       " '대여연도',\n",
       " '대여월',\n",
       " '대여일',\n",
       " '대여시간',\n",
       " '대여요일',\n",
       " '반납연도',\n",
       " '반납월',\n",
       " '반납일',\n",
       " '반납시간',\n",
       " '반납요일']"
      ]
     },
     "execution_count": 15,
     "metadata": {},
     "output_type": "execute_result"
    }
   ],
   "source": [
    "# 학습과 예측에 사용할 컬럼\n",
    "# 이용거리를 피처에 추가하고 제외해 본다.\n",
    "feature_columns = ['자전거번호SPB', '대여대여소번호', '반납대여소번호','이용시간(분)',\n",
    "       '대여연도', '대여월', '대여일', '대여시간', '대여요일', '반납연도', '반납월', '반납일',\n",
    "       '반납시간', '반납요일']\n",
    "feature_columns"
   ]
  },
  {
   "cell_type": "code",
   "execution_count": 16,
   "metadata": {},
   "outputs": [
    {
     "data": {
      "text/plain": [
       "'이용거리(M)'"
      ]
     },
     "execution_count": 16,
     "metadata": {},
     "output_type": "execute_result"
    }
   ],
   "source": [
    "label_column = \"이용거리(M)\"\n",
    "label_column"
   ]
  },
  {
   "cell_type": "markdown",
   "metadata": {},
   "source": [
    "# 학습과 예측에 사용할 데이터 세트 나누기"
   ]
  },
  {
   "cell_type": "code",
   "execution_count": 17,
   "metadata": {},
   "outputs": [
    {
     "data": {
      "text/plain": [
       "count     48508.000000\n",
       "mean       7130.801847\n",
       "std        8845.805091\n",
       "min           0.000000\n",
       "25%        3620.000000\n",
       "50%        5850.000000\n",
       "75%        8540.000000\n",
       "max      253750.000000\n",
       "Name: 이용거리(M), dtype: float64"
      ]
     },
     "execution_count": 17,
     "metadata": {},
     "output_type": "execute_result"
    }
   ],
   "source": [
    "df[label_column].describe()"
   ]
  },
  {
   "cell_type": "code",
   "execution_count": 18,
   "metadata": {},
   "outputs": [
    {
     "data": {
      "text/html": [
       "<div>\n",
       "<style scoped>\n",
       "    .dataframe tbody tr th:only-of-type {\n",
       "        vertical-align: middle;\n",
       "    }\n",
       "\n",
       "    .dataframe tbody tr th {\n",
       "        vertical-align: top;\n",
       "    }\n",
       "\n",
       "    .dataframe thead th {\n",
       "        text-align: right;\n",
       "    }\n",
       "</style>\n",
       "<table border=\"1\" class=\"dataframe\">\n",
       "  <thead>\n",
       "    <tr style=\"text-align: right;\">\n",
       "      <th></th>\n",
       "      <th>자전거번호SPB</th>\n",
       "      <th>대여일시</th>\n",
       "      <th>대여대여소번호</th>\n",
       "      <th>반납일시</th>\n",
       "      <th>반납대여소번호</th>\n",
       "      <th>이용시간(분)</th>\n",
       "      <th>이용거리(M)</th>\n",
       "      <th>대여연도</th>\n",
       "      <th>대여월</th>\n",
       "      <th>대여일</th>\n",
       "      <th>대여시간</th>\n",
       "      <th>대여요일</th>\n",
       "      <th>대여일자</th>\n",
       "      <th>반납연도</th>\n",
       "      <th>반납월</th>\n",
       "      <th>반납일</th>\n",
       "      <th>반납시간</th>\n",
       "      <th>반납요일</th>\n",
       "      <th>반납일자</th>\n",
       "    </tr>\n",
       "  </thead>\n",
       "  <tbody>\n",
       "    <tr>\n",
       "      <th>197881</th>\n",
       "      <td>13645</td>\n",
       "      <td>2018-11-13 12:31:27</td>\n",
       "      <td>207</td>\n",
       "      <td>2018-11-13 12:47:55</td>\n",
       "      <td>207</td>\n",
       "      <td>16</td>\n",
       "      <td>253750.0</td>\n",
       "      <td>2018</td>\n",
       "      <td>11</td>\n",
       "      <td>13</td>\n",
       "      <td>12</td>\n",
       "      <td>1</td>\n",
       "      <td>2018-11-13</td>\n",
       "      <td>2018</td>\n",
       "      <td>11</td>\n",
       "      <td>13</td>\n",
       "      <td>12</td>\n",
       "      <td>1</td>\n",
       "      <td>2018-11-13</td>\n",
       "    </tr>\n",
       "  </tbody>\n",
       "</table>\n",
       "</div>"
      ],
      "text/plain": [
       "        자전거번호SPB                대여일시  대여대여소번호                반납일시  반납대여소번호  \\\n",
       "197881     13645 2018-11-13 12:31:27      207 2018-11-13 12:47:55      207   \n",
       "\n",
       "        이용시간(분)   이용거리(M)  대여연도  대여월  대여일  대여시간  대여요일        대여일자  반납연도  반납월  \\\n",
       "197881       16  253750.0  2018   11   13    12     1  2018-11-13  2018   11   \n",
       "\n",
       "        반납일  반납시간  반납요일        반납일자  \n",
       "197881   13    12     1  2018-11-13  "
      ]
     },
     "execution_count": 18,
     "metadata": {},
     "output_type": "execute_result"
    }
   ],
   "source": [
    "df[df[label_column] == df[label_column].max()]"
   ]
  },
  {
   "cell_type": "code",
   "execution_count": 19,
   "metadata": {},
   "outputs": [
    {
     "data": {
      "text/plain": [
       "43657"
      ]
     },
     "execution_count": 19,
     "metadata": {},
     "output_type": "execute_result"
    }
   ],
   "source": [
    "# 90% 는 학습에 사용하고 10%는 예측에 사용합니다.\n",
    "split_index = round(df.shape[0] * 0.9)\n",
    "split_index"
   ]
  },
  {
   "cell_type": "code",
   "execution_count": 20,
   "metadata": {},
   "outputs": [
    {
     "name": "stdout",
     "output_type": "stream",
     "text": [
      "학습 데이터 크기 (43657, 19)\n",
      "테스트 데이터 크기 (4851, 19)\n"
     ]
    }
   ],
   "source": [
    "# 데이터를 학습과 예측에 사용할 용도로 나눕니다.\n",
    "# 파이썬의 슬라이싱 기능을 활용해서 나눕니다.\n",
    "train = df[:split_index].copy()\n",
    "test = df[split_index:].copy()\n",
    "\n",
    "print(\"학습 데이터 크기\", train.shape)\n",
    "print(\"테스트 데이터 크기\", test.shape)"
   ]
  },
  {
   "cell_type": "code",
   "execution_count": 21,
   "metadata": {},
   "outputs": [
    {
     "name": "stdout",
     "output_type": "stream",
     "text": [
      "학습에 사용할 피처 크기 (43657, 14)\n",
      "예측에 사용할 피처 크기 (4851, 14)\n"
     ]
    }
   ],
   "source": [
    "# 학습, 예측에 사용할 컬럼만 추출\n",
    "X_train = train[feature_columns].copy()\n",
    "X_test = test[feature_columns].copy()\n",
    "\n",
    "print(\"학습에 사용할 피처 크기\", X_train.shape)\n",
    "print(\"예측에 사용할 피처 크기\", X_test.shape)"
   ]
  },
  {
   "cell_type": "code",
   "execution_count": 22,
   "metadata": {},
   "outputs": [
    {
     "data": {
      "text/plain": [
       "4     2700.0\n",
       "5     3340.0\n",
       "11    6730.0\n",
       "12    7120.0\n",
       "13    9960.0\n",
       "Name: 이용거리(M), dtype: float64"
      ]
     },
     "execution_count": 22,
     "metadata": {},
     "output_type": "execute_result"
    }
   ],
   "source": [
    "y_train = train[label_column]\n",
    "y_train.head()"
   ]
  },
  {
   "cell_type": "markdown",
   "metadata": {},
   "source": [
    "# 머신러닝 모델을 사용해서 학습과 예측하기"
   ]
  },
  {
   "cell_type": "markdown",
   "metadata": {},
   "source": [
    "## 랜덤포레스트 사용하기"
   ]
  },
  {
   "cell_type": "code",
   "execution_count": 23,
   "metadata": {},
   "outputs": [
    {
     "data": {
      "text/plain": [
       "RandomForestRegressor(bootstrap=True, criterion='mse', max_depth=None,\n",
       "                      max_features='auto', max_leaf_nodes=None,\n",
       "                      min_impurity_decrease=0.0, min_impurity_split=None,\n",
       "                      min_samples_leaf=1, min_samples_split=2,\n",
       "                      min_weight_fraction_leaf=0.0, n_estimators=10, n_jobs=-1,\n",
       "                      oob_score=False, random_state=42, verbose=0,\n",
       "                      warm_start=False)"
      ]
     },
     "execution_count": 23,
     "metadata": {},
     "output_type": "execute_result"
    }
   ],
   "source": [
    "from sklearn.ensemble import RandomForestRegressor\n",
    "\n",
    "# n_estimators 는 트리의 갯수를 의미하며\n",
    "# random_state 는 옵션값을 고정해서 동일 조건에서 같은 값을 반환하도록 한다.\n",
    "# n_jobs 는 사용할 CPU의 코어수를 지정하는데 -1로 지정하면 장비에 있는 CPU코어를 모두 사용하게 한다.\n",
    "\n",
    "# 모델 선언\n",
    "rfr = RandomForestRegressor(n_estimators=10, random_state=42, n_jobs=-1)\n",
    "# 학습\n",
    "rfr.fit(X_train, y_train)"
   ]
  },
  {
   "cell_type": "code",
   "execution_count": 24,
   "metadata": {},
   "outputs": [
    {
     "data": {
      "text/plain": [
       "array([  422., 52347., 21229.,  7231.,  7244.])"
      ]
     },
     "execution_count": 24,
     "metadata": {},
     "output_type": "execute_result"
    }
   ],
   "source": [
    "# 예측\n",
    "y_predict_rfr = rfr.predict(X_test)\n",
    "y_predict_rfr[:5]"
   ]
  },
  {
   "cell_type": "code",
   "execution_count": 25,
   "metadata": {},
   "outputs": [],
   "source": [
    "# 예측값을 정답값과 비교하기 위해 test 데이터프레임에 담아준다.\n",
    "test[\"예측거리(M)(RF)\"] = y_predict_rfr"
   ]
  },
  {
   "cell_type": "code",
   "execution_count": 26,
   "metadata": {},
   "outputs": [],
   "source": [
    "# 실제값과 예측값을 비교하기 위해 예측의 정답값을 가져온다.\n",
    "y_test = test[label_column]"
   ]
  },
  {
   "cell_type": "markdown",
   "metadata": {},
   "source": [
    "### 평가 지표(Evaluation Metrics)"
   ]
  },
  {
   "cell_type": "code",
   "execution_count": 27,
   "metadata": {},
   "outputs": [],
   "source": [
    "# 성능 평가 비교를 위해 score 변수를 만든다.\n",
    "score = {}\n",
    "score[\"RF\"] = {}"
   ]
  },
  {
   "cell_type": "code",
   "execution_count": 28,
   "metadata": {},
   "outputs": [
    {
     "data": {
      "text/plain": [
       "4954.956002198859"
      ]
     },
     "execution_count": 28,
     "metadata": {},
     "output_type": "execute_result"
    }
   ],
   "source": [
    "# MAE - Mean Absolute Error\n",
    "# 실제값과 예측값의 차이에 절대값을 씌운 후 평균을 구한다.\n",
    "score[\"RF\"][\"MAE\"] = abs(y_predict_rfr - y_test).mean()\n",
    "score[\"RF\"][\"MAE\"]"
   ]
  },
  {
   "cell_type": "code",
   "execution_count": 29,
   "metadata": {},
   "outputs": [
    {
     "data": {
      "text/plain": [
       "12615.591804084097"
      ]
     },
     "execution_count": 29,
     "metadata": {},
     "output_type": "execute_result"
    }
   ],
   "source": [
    "# RMSE - Root Mean Square Error\n",
    "# 실제값과 예측값의 차이에 제곱을 해서 음수를 양수로 만들고 평균값을 구한 후 루트를 씌워준다.\n",
    "score[\"RF\"][\"RMSE\"] = np.sqrt(\n",
    "    ((y_predict_rfr - y_test)**2).mean()\n",
    ")\n",
    "score[\"RF\"][\"RMSE\"]"
   ]
  },
  {
   "cell_type": "code",
   "execution_count": 30,
   "metadata": {},
   "outputs": [
    {
     "data": {
      "text/html": [
       "<div>\n",
       "<style scoped>\n",
       "    .dataframe tbody tr th:only-of-type {\n",
       "        vertical-align: middle;\n",
       "    }\n",
       "\n",
       "    .dataframe tbody tr th {\n",
       "        vertical-align: top;\n",
       "    }\n",
       "\n",
       "    .dataframe thead th {\n",
       "        text-align: right;\n",
       "    }\n",
       "</style>\n",
       "<table border=\"1\" class=\"dataframe\">\n",
       "  <thead>\n",
       "    <tr style=\"text-align: right;\">\n",
       "      <th></th>\n",
       "      <th>이용거리(M)</th>\n",
       "      <th>예측거리(M)(RF)</th>\n",
       "    </tr>\n",
       "  </thead>\n",
       "  <tbody>\n",
       "    <tr>\n",
       "      <th>232594</th>\n",
       "      <td>530.0</td>\n",
       "      <td>422.0</td>\n",
       "    </tr>\n",
       "    <tr>\n",
       "      <th>232598</th>\n",
       "      <td>6680.0</td>\n",
       "      <td>52347.0</td>\n",
       "    </tr>\n",
       "    <tr>\n",
       "      <th>232599</th>\n",
       "      <td>6560.0</td>\n",
       "      <td>21229.0</td>\n",
       "    </tr>\n",
       "    <tr>\n",
       "      <th>232602</th>\n",
       "      <td>8670.0</td>\n",
       "      <td>7231.0</td>\n",
       "    </tr>\n",
       "    <tr>\n",
       "      <th>232603</th>\n",
       "      <td>8600.0</td>\n",
       "      <td>7244.0</td>\n",
       "    </tr>\n",
       "  </tbody>\n",
       "</table>\n",
       "</div>"
      ],
      "text/plain": [
       "        이용거리(M)  예측거리(M)(RF)\n",
       "232594    530.0        422.0\n",
       "232598   6680.0      52347.0\n",
       "232599   6560.0      21229.0\n",
       "232602   8670.0       7231.0\n",
       "232603   8600.0       7244.0"
      ]
     },
     "execution_count": 30,
     "metadata": {},
     "output_type": "execute_result"
    }
   ],
   "source": [
    "test[[label_column, \"예측거리(M)(RF)\"]].head()"
   ]
  },
  {
   "cell_type": "markdown",
   "metadata": {},
   "source": [
    "# Lgbm 사용하기"
   ]
  },
  {
   "cell_type": "code",
   "execution_count": 31,
   "metadata": {},
   "outputs": [],
   "source": [
    "import lightgbm as lgbm\n",
    "\n",
    "def runLGBM(X_train, y_train, X_test, seed_val=42):\n",
    "    params = {\n",
    "        'boosting_type': 'gbdt', 'objective': 'regression', 'nthread': -1, 'verbose': 0,\n",
    "        'num_leaves': 31, 'learning_rate': 0.05, 'max_depth': -1,\n",
    "        'subsample': 0.8, 'subsample_freq': 1, 'colsample_bytree': 0.6, \n",
    "        'reg_alpha': 1, 'reg_lambda': 0.001, 'metric': 'rmse',\n",
    "        'min_split_gain': 0.5, 'min_child_weight': 1, 'min_child_samples': 10, 'scale_pos_weight': 1}\n",
    "    \n",
    "    pred_test_y = np.zeros(X_test.shape[0])\n",
    "    \n",
    "    train_set = lgbm.Dataset(X_train, y_train, silent=True)\n",
    "        \n",
    "    model = lgbm.train(params, train_set=train_set, num_boost_round=300)\n",
    "    pred_test_y = model.predict(X_test, num_iteration = model.best_iteration)\n",
    "        \n",
    "    return pred_test_y , model"
   ]
  },
  {
   "cell_type": "code",
   "execution_count": 32,
   "metadata": {},
   "outputs": [],
   "source": [
    "y_predict_lgbm, model = runLGBM(X_train, y_train, X_test, seed_val=42)"
   ]
  },
  {
   "cell_type": "code",
   "execution_count": 33,
   "metadata": {},
   "outputs": [],
   "source": [
    "test[\"예측거리(M)(LGBM)\"] = y_predict_lgbm"
   ]
  },
  {
   "cell_type": "markdown",
   "metadata": {},
   "source": [
    "### 평가 지표(Evaluation Metrics)"
   ]
  },
  {
   "cell_type": "code",
   "execution_count": 34,
   "metadata": {},
   "outputs": [],
   "source": [
    "score[\"LGBM\"] = {}"
   ]
  },
  {
   "cell_type": "code",
   "execution_count": 35,
   "metadata": {},
   "outputs": [
    {
     "data": {
      "text/plain": [
       "4003.4398880101353"
      ]
     },
     "execution_count": 35,
     "metadata": {},
     "output_type": "execute_result"
    }
   ],
   "source": [
    "# MAE - Mean Absolute Error\n",
    "# 실제값과 예측값의 차이에 절대값을 씌운 후 평균을 구한다.\n",
    "score[\"LGBM\"][\"MAE\"] = abs(y_predict_lgbm - y_test).mean()\n",
    "score[\"LGBM\"][\"MAE\"]"
   ]
  },
  {
   "cell_type": "code",
   "execution_count": 36,
   "metadata": {},
   "outputs": [
    {
     "data": {
      "text/plain": [
       "11677.048295651486"
      ]
     },
     "execution_count": 36,
     "metadata": {},
     "output_type": "execute_result"
    }
   ],
   "source": [
    "# RMSE - Root Mean Square Error\n",
    "# 실제값과 예측값의 차이에 제곱을 해서 음수를 양수로 만들고 평균값을 구한 후 루트를 씌워준다.\n",
    "score[\"LGBM\"][\"RMSE\"] = np.sqrt(\n",
    "    ((y_predict_lgbm - y_test)**2).mean()\n",
    ")\n",
    "score[\"LGBM\"][\"RMSE\"]"
   ]
  },
  {
   "cell_type": "code",
   "execution_count": 37,
   "metadata": {},
   "outputs": [
    {
     "data": {
      "text/plain": [
       "{'LGBM': {'MAE': 4003.4398880101353, 'RMSE': 11677.048295651486},\n",
       " 'RF': {'MAE': 4954.956002198859, 'RMSE': 12615.591804084097}}"
      ]
     },
     "execution_count": 37,
     "metadata": {},
     "output_type": "execute_result"
    }
   ],
   "source": [
    "score"
   ]
  },
  {
   "cell_type": "markdown",
   "metadata": {},
   "source": [
    "### 실제값과 예측값을 시각화\n",
    "* KDE 플롯으로 이용거리에 대한 분포를 그린다."
   ]
  },
  {
   "cell_type": "code",
   "execution_count": 38,
   "metadata": {},
   "outputs": [
    {
     "data": {
      "text/plain": [
       "<matplotlib.axes._subplots.AxesSubplot at 0x124e802b0>"
      ]
     },
     "execution_count": 38,
     "metadata": {},
     "output_type": "execute_result"
    },
    {
     "data": {
      "image/png": "[encoded data removed]",
      "text/plain": [
       "<Figure size 1080x360 with 1 Axes>"
      ]
     },
     "metadata": {},
     "output_type": "display_data"
    }
   ],
   "source": [
    "plt.figure(figsize=(15, 5))\n",
    "sns.distplot(test[label_column], label=label_column, hist=False)\n",
    "sns.distplot(test[\"예측거리(M)(RF)\"], label=\"예측거리(M)(RF)\", hist=False)\n",
    "sns.distplot(test[\"예측거리(M)(LGBM)\"], label=\"예측거리(M)(LGBM)\", hist=False)"
   ]
  },
  {
   "cell_type": "code",
   "execution_count": null,
   "metadata": {},
   "outputs": [],
   "source": []
  },
  {
   "cell_type": "markdown",
   "metadata": {},
   "source": [
    "## 튜토리얼 만족도 설문\n",
    "\n",
    "튜토리얼에 참여해 주셔서 감사합니다. 설문을 부탁드립니다. https://forms.gle/DPgkHozJNyGFACSv6"
   ]
  },
  {
   "cell_type": "code",
   "execution_count": null,
   "metadata": {},
   "outputs": [],
   "source": []
  }
 ],
 "metadata": {
  "kernelspec": {
   "display_name": "Python 3",
   "language": "python",
   "name": "python3"
  },
  "language_info": {
   "codemirror_mode": {
    "name": "ipython",
    "version": 3
   },
   "file_extension": ".py",
   "mimetype": "text/x-python",
   "name": "python",
   "nbconvert_exporter": "python",
   "pygments_lexer": "ipython3",
   "version": "3.6.1"
  },
  "varInspector": {
   "cols": {
    "lenName": 16,
    "lenType": 16,
    "lenVar": 40
   },
   "kernels_config": {
    "python": {
     "delete_cmd_postfix": "",
     "delete_cmd_prefix": "del ",
     "library": "var_list.py",
     "varRefreshCmd": "print(var_dic_list())"
    },
    "r": {
     "delete_cmd_postfix": ") ",
     "delete_cmd_prefix": "rm(",
     "library": "var_list.r",
     "varRefreshCmd": "cat(var_dic_list()) "
    }
   },
   "types_to_exclude": [
    "module",
    "function",
    "builtin_function_or_method",
    "instance",
    "_Feature"
   ],
   "window_display": false
  }
 },
 "nbformat": 4,
 "nbformat_minor": 2
}
